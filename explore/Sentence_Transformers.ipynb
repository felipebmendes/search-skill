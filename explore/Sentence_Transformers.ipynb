{
 "cells": [
  {
   "cell_type": "markdown",
   "metadata": {
    "colab_type": "text",
    "id": "wEwQofmxF_wq"
   },
   "source": [
    "Source: https://github.com/UKPLab/sentence-transformers"
   ]
  },
  {
   "cell_type": "code",
   "execution_count": 7,
   "metadata": {
    "colab": {
     "base_uri": "https://localhost:8080/",
     "height": 1000
    },
    "colab_type": "code",
    "collapsed": true,
    "id": "7Xk8N84dF8p4",
    "jupyter": {
     "outputs_hidden": true
    },
    "outputId": "c2fc59ba-9479-4607-b4e8-278699fc3bc1"
   },
   "outputs": [
    {
     "name": "stdout",
     "output_type": "stream",
     "text": [
      "Requirement already satisfied: pycarol in /Users/felipe/opt/miniconda3/envs/bert/lib/python3.6/site-packages (2.33.3)\n",
      "Requirement already satisfied: gcsfs>=0.3.0 in /Users/felipe/opt/miniconda3/envs/bert/lib/python3.6/site-packages (from pycarol) (0.6.2)\n",
      "Requirement already satisfied: deprecated in /Users/felipe/opt/miniconda3/envs/bert/lib/python3.6/site-packages (from pycarol) (1.2.10)\n",
      "Requirement already satisfied: dash-cytoscape in /Users/felipe/opt/miniconda3/envs/bert/lib/python3.6/site-packages (from pycarol) (0.1.1)\n",
      "Requirement already satisfied: joblib==0.11 in /Users/felipe/opt/miniconda3/envs/bert/lib/python3.6/site-packages (from pycarol) (0.11)\n",
      "Requirement already satisfied: fastparquet in /Users/felipe/opt/miniconda3/envs/bert/lib/python3.6/site-packages (from pycarol) (0.4.0)\n",
      "Requirement already satisfied: toolz in /Users/felipe/opt/miniconda3/envs/bert/lib/python3.6/site-packages (from pycarol) (0.10.0)\n",
      "Requirement already satisfied: google-cloud-storage in /Users/felipe/opt/miniconda3/envs/bert/lib/python3.6/site-packages (from pycarol) (1.28.1)\n",
      "Requirement already satisfied: pyarrow>=0.15.1 in /Users/felipe/opt/miniconda3/envs/bert/lib/python3.6/site-packages (from pycarol) (0.17.1)\n",
      "Requirement already satisfied: urllib3 in /Users/felipe/opt/miniconda3/envs/bert/lib/python3.6/site-packages (from pycarol) (1.25.9)\n",
      "Requirement already satisfied: pandas==0.23.4 in /Users/felipe/opt/miniconda3/envs/bert/lib/python3.6/site-packages (from pycarol) (0.23.4)\n",
      "Requirement already satisfied: luigi in /Users/felipe/opt/miniconda3/envs/bert/lib/python3.6/site-packages (from pycarol) (2.8.13)\n",
      "Requirement already satisfied: dask[complete] in /Users/felipe/opt/miniconda3/envs/bert/lib/python3.6/site-packages (from pycarol) (2.16.0)\n",
      "Requirement already satisfied: python-dotenv in /Users/felipe/opt/miniconda3/envs/bert/lib/python3.6/site-packages (from pycarol) (0.13.0)\n",
      "Requirement already satisfied: numpy==1.16.3 in /Users/felipe/opt/miniconda3/envs/bert/lib/python3.6/site-packages (from pycarol) (1.16.3)\n",
      "Requirement already satisfied: google-cloud-core>=1.3.0 in /Users/felipe/opt/miniconda3/envs/bert/lib/python3.6/site-packages (from pycarol) (1.3.0)\n",
      "Requirement already satisfied: bumpversion in /Users/felipe/opt/miniconda3/envs/bert/lib/python3.6/site-packages (from pycarol) (0.6.0)\n",
      "Requirement already satisfied: dash in /Users/felipe/opt/miniconda3/envs/bert/lib/python3.6/site-packages (from pycarol) (1.12.0)\n",
      "Requirement already satisfied: pytest in /Users/felipe/opt/miniconda3/envs/bert/lib/python3.6/site-packages (from pycarol) (5.4.2)\n",
      "Requirement already satisfied: tqdm in /Users/felipe/opt/miniconda3/envs/bert/lib/python3.6/site-packages (from pycarol) (4.46.0)\n",
      "Requirement already satisfied: click==7.0 in /Users/felipe/opt/miniconda3/envs/bert/lib/python3.6/site-packages (from pycarol) (7.0)\n",
      "Requirement already satisfied: google-auth-httplib2 in /Users/felipe/opt/miniconda3/envs/bert/lib/python3.6/site-packages (from pycarol) (0.0.3)\n",
      "Requirement already satisfied: redis==2.10.6 in /Users/felipe/opt/miniconda3/envs/bert/lib/python3.6/site-packages (from pycarol) (2.10.6)\n",
      "Requirement already satisfied: colorcet in /Users/felipe/opt/miniconda3/envs/bert/lib/python3.6/site-packages (from pycarol) (2.0.2)\n",
      "Requirement already satisfied: google-auth in /Users/felipe/opt/miniconda3/envs/bert/lib/python3.6/site-packages (from pycarol) (1.15.0)\n",
      "Requirement already satisfied: requests in /Users/felipe/opt/miniconda3/envs/bert/lib/python3.6/site-packages (from pycarol) (2.23.0)\n",
      "Requirement already satisfied: flask==1.0.2 in /Users/felipe/opt/miniconda3/envs/bert/lib/python3.6/site-packages (from pycarol) (1.0.2)\n",
      "Requirement already satisfied: pykube in /Users/felipe/opt/miniconda3/envs/bert/lib/python3.6/site-packages (from pycarol) (0.15.0)\n",
      "Requirement already satisfied: papermill in /Users/felipe/opt/miniconda3/envs/bert/lib/python3.6/site-packages (from pycarol) (2.1.1)\n",
      "Requirement already satisfied: decorator in /Users/felipe/opt/miniconda3/envs/bert/lib/python3.6/site-packages (from gcsfs>=0.3.0->pycarol) (4.4.2)\n",
      "Requirement already satisfied: google-auth-oauthlib in /Users/felipe/opt/miniconda3/envs/bert/lib/python3.6/site-packages (from gcsfs>=0.3.0->pycarol) (0.4.1)\n",
      "Requirement already satisfied: fsspec>=0.6.0 in /Users/felipe/opt/miniconda3/envs/bert/lib/python3.6/site-packages (from gcsfs>=0.3.0->pycarol) (0.7.4)\n",
      "Requirement already satisfied: wrapt<2,>=1.10 in /Users/felipe/opt/miniconda3/envs/bert/lib/python3.6/site-packages (from deprecated->pycarol) (1.12.1)\n",
      "Requirement already satisfied: dash-html-components in /Users/felipe/opt/miniconda3/envs/bert/lib/python3.6/site-packages (from dash-cytoscape->pycarol) (1.0.3)\n",
      "Requirement already satisfied: dash-renderer in /Users/felipe/opt/miniconda3/envs/bert/lib/python3.6/site-packages (from dash-cytoscape->pycarol) (1.4.1)\n",
      "Requirement already satisfied: thrift>=0.11.0 in /Users/felipe/opt/miniconda3/envs/bert/lib/python3.6/site-packages (from fastparquet->pycarol) (0.13.0)\n",
      "Requirement already satisfied: six in /Users/felipe/opt/miniconda3/envs/bert/lib/python3.6/site-packages (from fastparquet->pycarol) (1.14.0)\n",
      "Requirement already satisfied: numba>=0.28 in /Users/felipe/opt/miniconda3/envs/bert/lib/python3.6/site-packages (from fastparquet->pycarol) (0.49.1)\n",
      "Requirement already satisfied: google-resumable-media<0.6dev,>=0.5.0 in /Users/felipe/opt/miniconda3/envs/bert/lib/python3.6/site-packages (from google-cloud-storage->pycarol) (0.5.0)\n",
      "Requirement already satisfied: pytz>=2011k in /Users/felipe/opt/miniconda3/envs/bert/lib/python3.6/site-packages (from pandas==0.23.4->pycarol) (2020.1)\n",
      "Requirement already satisfied: python-dateutil>=2.5.0 in /Users/felipe/opt/miniconda3/envs/bert/lib/python3.6/site-packages (from pandas==0.23.4->pycarol) (2.8.1)\n",
      "Requirement already satisfied: python-daemon in /Users/felipe/opt/miniconda3/envs/bert/lib/python3.6/site-packages (from luigi->pycarol) (2.2.4)\n",
      "Requirement already satisfied: tornado<6,>=4.0 in /Users/felipe/opt/miniconda3/envs/bert/lib/python3.6/site-packages (from luigi->pycarol) (5.1.1)\n",
      "Requirement already satisfied: bokeh>=1.0.0; extra == \"complete\" in /Users/felipe/opt/miniconda3/envs/bert/lib/python3.6/site-packages (from dask[complete]->pycarol) (2.0.2)\n",
      "Requirement already satisfied: cloudpickle>=0.2.2; extra == \"complete\" in /Users/felipe/opt/miniconda3/envs/bert/lib/python3.6/site-packages (from dask[complete]->pycarol) (1.4.1)\n",
      "Requirement already satisfied: partd>=0.3.10; extra == \"complete\" in /Users/felipe/opt/miniconda3/envs/bert/lib/python3.6/site-packages (from dask[complete]->pycarol) (1.1.0)\n",
      "Requirement already satisfied: distributed>=2.0; extra == \"complete\" in /Users/felipe/opt/miniconda3/envs/bert/lib/python3.6/site-packages (from dask[complete]->pycarol) (2.16.0)\n",
      "Requirement already satisfied: PyYaml; extra == \"complete\" in /Users/felipe/opt/miniconda3/envs/bert/lib/python3.6/site-packages (from dask[complete]->pycarol) (5.3.1)\n",
      "Requirement already satisfied: google-api-core<2.0.0dev,>=1.16.0 in /Users/felipe/opt/miniconda3/envs/bert/lib/python3.6/site-packages (from google-cloud-core>=1.3.0->pycarol) (1.17.0)\n",
      "Requirement already satisfied: bump2version in /Users/felipe/opt/miniconda3/envs/bert/lib/python3.6/site-packages (from bumpversion->pycarol) (1.0.0)\n",
      "Requirement already satisfied: plotly in /Users/felipe/opt/miniconda3/envs/bert/lib/python3.6/site-packages (from dash->pycarol) (4.7.1)\n",
      "Requirement already satisfied: dash-table==4.7.0 in /Users/felipe/opt/miniconda3/envs/bert/lib/python3.6/site-packages (from dash->pycarol) (4.7.0)\n",
      "Requirement already satisfied: dash-core-components==1.10.0 in /Users/felipe/opt/miniconda3/envs/bert/lib/python3.6/site-packages (from dash->pycarol) (1.10.0)\n",
      "Requirement already satisfied: flask-compress in /Users/felipe/opt/miniconda3/envs/bert/lib/python3.6/site-packages (from dash->pycarol) (1.5.0)\n",
      "Requirement already satisfied: future in /Users/felipe/opt/miniconda3/envs/bert/lib/python3.6/site-packages (from dash->pycarol) (0.18.2)\n",
      "Requirement already satisfied: more-itertools>=4.0.0 in /Users/felipe/opt/miniconda3/envs/bert/lib/python3.6/site-packages (from pytest->pycarol) (8.3.0)\n",
      "Requirement already satisfied: importlib-metadata>=0.12; python_version < \"3.8\" in /Users/felipe/opt/miniconda3/envs/bert/lib/python3.6/site-packages (from pytest->pycarol) (1.6.0)\n",
      "Requirement already satisfied: attrs>=17.4.0 in /Users/felipe/opt/miniconda3/envs/bert/lib/python3.6/site-packages (from pytest->pycarol) (19.3.0)\n",
      "Requirement already satisfied: py>=1.5.0 in /Users/felipe/opt/miniconda3/envs/bert/lib/python3.6/site-packages (from pytest->pycarol) (1.8.1)\n",
      "Requirement already satisfied: wcwidth in /Users/felipe/opt/miniconda3/envs/bert/lib/python3.6/site-packages (from pytest->pycarol) (0.1.9)\n",
      "Requirement already satisfied: pluggy<1.0,>=0.12 in /Users/felipe/opt/miniconda3/envs/bert/lib/python3.6/site-packages (from pytest->pycarol) (0.13.1)\n",
      "Requirement already satisfied: packaging in /Users/felipe/opt/miniconda3/envs/bert/lib/python3.6/site-packages (from pytest->pycarol) (20.3)\n",
      "Requirement already satisfied: httplib2>=0.9.1 in /Users/felipe/opt/miniconda3/envs/bert/lib/python3.6/site-packages (from google-auth-httplib2->pycarol) (0.18.1)\n",
      "Requirement already satisfied: param>=1.7.0 in /Users/felipe/opt/miniconda3/envs/bert/lib/python3.6/site-packages (from colorcet->pycarol) (1.9.3)\n",
      "Requirement already satisfied: pyct>=0.4.4 in /Users/felipe/opt/miniconda3/envs/bert/lib/python3.6/site-packages (from colorcet->pycarol) (0.4.6)\n",
      "Requirement already satisfied: setuptools>=40.3.0 in /Users/felipe/opt/miniconda3/envs/bert/lib/python3.6/site-packages (from google-auth->pycarol) (46.3.0.post20200513)\n",
      "Requirement already satisfied: rsa<4.1,>=3.1.4 in /Users/felipe/opt/miniconda3/envs/bert/lib/python3.6/site-packages (from google-auth->pycarol) (4.0)\n",
      "Requirement already satisfied: pyasn1-modules>=0.2.1 in /Users/felipe/opt/miniconda3/envs/bert/lib/python3.6/site-packages (from google-auth->pycarol) (0.2.8)\n",
      "Requirement already satisfied: cachetools<5.0,>=2.0.0 in /Users/felipe/opt/miniconda3/envs/bert/lib/python3.6/site-packages (from google-auth->pycarol) (4.1.0)\n",
      "Requirement already satisfied: chardet<4,>=3.0.2 in /Users/felipe/opt/miniconda3/envs/bert/lib/python3.6/site-packages (from requests->pycarol) (3.0.4)\n",
      "Requirement already satisfied: certifi>=2017.4.17 in /Users/felipe/opt/miniconda3/envs/bert/lib/python3.6/site-packages (from requests->pycarol) (2020.4.5.1)\n",
      "Requirement already satisfied: idna<3,>=2.5 in /Users/felipe/opt/miniconda3/envs/bert/lib/python3.6/site-packages (from requests->pycarol) (2.9)\n",
      "Requirement already satisfied: Werkzeug>=0.14 in /Users/felipe/opt/miniconda3/envs/bert/lib/python3.6/site-packages (from flask==1.0.2->pycarol) (0.16.1)\n",
      "Requirement already satisfied: itsdangerous>=0.24 in /Users/felipe/opt/miniconda3/envs/bert/lib/python3.6/site-packages (from flask==1.0.2->pycarol) (1.1.0)\n",
      "Requirement already satisfied: Jinja2>=2.10 in /Users/felipe/opt/miniconda3/envs/bert/lib/python3.6/site-packages (from flask==1.0.2->pycarol) (2.11.2)\n",
      "Requirement already satisfied: tzlocal in /Users/felipe/opt/miniconda3/envs/bert/lib/python3.6/site-packages (from pykube->pycarol) (2.1)\n",
      "Requirement already satisfied: oauth2client in /Users/felipe/opt/miniconda3/envs/bert/lib/python3.6/site-packages (from pykube->pycarol) (4.1.3)\n",
      "Requirement already satisfied: requests-oauthlib in /Users/felipe/opt/miniconda3/envs/bert/lib/python3.6/site-packages (from pykube->pycarol) (1.3.0)\n",
      "Requirement already satisfied: black in /Users/felipe/opt/miniconda3/envs/bert/lib/python3.6/site-packages (from papermill->pycarol) (19.10b0)\n",
      "Requirement already satisfied: nbformat in /Users/felipe/opt/miniconda3/envs/bert/lib/python3.6/site-packages (from papermill->pycarol) (5.0.6)\n",
      "Requirement already satisfied: tenacity in /Users/felipe/opt/miniconda3/envs/bert/lib/python3.6/site-packages (from papermill->pycarol) (6.2.0)\n",
      "Requirement already satisfied: jupyter-client in /Users/felipe/opt/miniconda3/envs/bert/lib/python3.6/site-packages (from papermill->pycarol) (6.1.3)\n",
      "Requirement already satisfied: ansiwrap in /Users/felipe/opt/miniconda3/envs/bert/lib/python3.6/site-packages (from papermill->pycarol) (0.8.4)\n",
      "Requirement already satisfied: nbclient>=0.2.0 in /Users/felipe/opt/miniconda3/envs/bert/lib/python3.6/site-packages (from papermill->pycarol) (0.3.1)\n",
      "Requirement already satisfied: entrypoints in /Users/felipe/opt/miniconda3/envs/bert/lib/python3.6/site-packages (from papermill->pycarol) (0.3)\n",
      "Requirement already satisfied: llvmlite<=0.33.0.dev0,>=0.31.0.dev0 in /Users/felipe/opt/miniconda3/envs/bert/lib/python3.6/site-packages (from numba>=0.28->fastparquet->pycarol) (0.32.1)\n",
      "Requirement already satisfied: docutils in /Users/felipe/opt/miniconda3/envs/bert/lib/python3.6/site-packages (from python-daemon->luigi->pycarol) (0.15.2)\n",
      "Requirement already satisfied: lockfile>=0.10 in /Users/felipe/opt/miniconda3/envs/bert/lib/python3.6/site-packages (from python-daemon->luigi->pycarol) (0.12.2)\n",
      "Requirement already satisfied: typing-extensions>=3.7.4 in /Users/felipe/opt/miniconda3/envs/bert/lib/python3.6/site-packages (from bokeh>=1.0.0; extra == \"complete\"->dask[complete]->pycarol) (3.7.4.2)\n",
      "Requirement already satisfied: pillow>=4.0 in /Users/felipe/opt/miniconda3/envs/bert/lib/python3.6/site-packages (from bokeh>=1.0.0; extra == \"complete\"->dask[complete]->pycarol) (7.1.2)\n",
      "Requirement already satisfied: locket in /Users/felipe/opt/miniconda3/envs/bert/lib/python3.6/site-packages (from partd>=0.3.10; extra == \"complete\"->dask[complete]->pycarol) (0.2.0)\n",
      "Requirement already satisfied: tblib>=1.6.0 in /Users/felipe/opt/miniconda3/envs/bert/lib/python3.6/site-packages (from distributed>=2.0; extra == \"complete\"->dask[complete]->pycarol) (1.6.0)\n",
      "Requirement already satisfied: sortedcontainers!=2.0.0,!=2.0.1 in /Users/felipe/opt/miniconda3/envs/bert/lib/python3.6/site-packages (from distributed>=2.0; extra == \"complete\"->dask[complete]->pycarol) (2.1.0)\n",
      "Requirement already satisfied: zict>=0.1.3 in /Users/felipe/opt/miniconda3/envs/bert/lib/python3.6/site-packages (from distributed>=2.0; extra == \"complete\"->dask[complete]->pycarol) (2.0.0)\n",
      "Requirement already satisfied: psutil>=5.0 in /Users/felipe/opt/miniconda3/envs/bert/lib/python3.6/site-packages (from distributed>=2.0; extra == \"complete\"->dask[complete]->pycarol) (5.7.0)\n",
      "Requirement already satisfied: msgpack>=0.6.0 in /Users/felipe/opt/miniconda3/envs/bert/lib/python3.6/site-packages (from distributed>=2.0; extra == \"complete\"->dask[complete]->pycarol) (1.0.0)\n",
      "Requirement already satisfied: contextvars; python_version < \"3.7\" in /Users/felipe/opt/miniconda3/envs/bert/lib/python3.6/site-packages (from distributed>=2.0; extra == \"complete\"->dask[complete]->pycarol) (2.4)\n",
      "Requirement already satisfied: googleapis-common-protos<2.0dev,>=1.6.0 in /Users/felipe/opt/miniconda3/envs/bert/lib/python3.6/site-packages (from google-api-core<2.0.0dev,>=1.16.0->google-cloud-core>=1.3.0->pycarol) (1.51.0)\n",
      "Requirement already satisfied: protobuf>=3.4.0 in /Users/felipe/opt/miniconda3/envs/bert/lib/python3.6/site-packages (from google-api-core<2.0.0dev,>=1.16.0->google-cloud-core>=1.3.0->pycarol) (3.11.4)\n",
      "Requirement already satisfied: retrying>=1.3.3 in /Users/felipe/opt/miniconda3/envs/bert/lib/python3.6/site-packages (from plotly->dash->pycarol) (1.3.3)\n",
      "Requirement already satisfied: brotli in /Users/felipe/opt/miniconda3/envs/bert/lib/python3.6/site-packages (from flask-compress->dash->pycarol) (1.0.7)\n",
      "Requirement already satisfied: zipp>=0.5 in /Users/felipe/opt/miniconda3/envs/bert/lib/python3.6/site-packages (from importlib-metadata>=0.12; python_version < \"3.8\"->pytest->pycarol) (3.1.0)\n",
      "Requirement already satisfied: pyparsing>=2.0.2 in /Users/felipe/opt/miniconda3/envs/bert/lib/python3.6/site-packages (from packaging->pytest->pycarol) (2.4.7)\n",
      "Requirement already satisfied: pyasn1>=0.1.3 in /Users/felipe/opt/miniconda3/envs/bert/lib/python3.6/site-packages (from rsa<4.1,>=3.1.4->google-auth->pycarol) (0.4.8)\n",
      "Requirement already satisfied: MarkupSafe>=0.23 in /Users/felipe/opt/miniconda3/envs/bert/lib/python3.6/site-packages (from Jinja2>=2.10->flask==1.0.2->pycarol) (1.1.1)\n",
      "Requirement already satisfied: oauthlib>=3.0.0 in /Users/felipe/opt/miniconda3/envs/bert/lib/python3.6/site-packages (from requests-oauthlib->pykube->pycarol) (3.1.0)\n",
      "Requirement already satisfied: typed-ast>=1.4.0 in /Users/felipe/opt/miniconda3/envs/bert/lib/python3.6/site-packages (from black->papermill->pycarol) (1.4.1)\n",
      "Requirement already satisfied: appdirs in /Users/felipe/opt/miniconda3/envs/bert/lib/python3.6/site-packages (from black->papermill->pycarol) (1.4.4)\n",
      "Requirement already satisfied: pathspec<1,>=0.6 in /Users/felipe/opt/miniconda3/envs/bert/lib/python3.6/site-packages (from black->papermill->pycarol) (0.8.0)\n",
      "Requirement already satisfied: toml>=0.9.4 in /Users/felipe/opt/miniconda3/envs/bert/lib/python3.6/site-packages (from black->papermill->pycarol) (0.10.1)\n",
      "Requirement already satisfied: regex in /Users/felipe/opt/miniconda3/envs/bert/lib/python3.6/site-packages (from black->papermill->pycarol) (2020.5.14)\n",
      "Requirement already satisfied: ipython-genutils in /Users/felipe/opt/miniconda3/envs/bert/lib/python3.6/site-packages (from nbformat->papermill->pycarol) (0.2.0)\n",
      "Requirement already satisfied: traitlets>=4.1 in /Users/felipe/opt/miniconda3/envs/bert/lib/python3.6/site-packages (from nbformat->papermill->pycarol) (4.3.3)\n",
      "Requirement already satisfied: jsonschema!=2.5.0,>=2.4 in /Users/felipe/opt/miniconda3/envs/bert/lib/python3.6/site-packages (from nbformat->papermill->pycarol) (3.2.0)\n",
      "Requirement already satisfied: jupyter-core in /Users/felipe/opt/miniconda3/envs/bert/lib/python3.6/site-packages (from nbformat->papermill->pycarol) (4.6.3)\n",
      "Requirement already satisfied: pyzmq>=13 in /Users/felipe/opt/miniconda3/envs/bert/lib/python3.6/site-packages (from jupyter-client->papermill->pycarol) (19.0.1)\n",
      "Requirement already satisfied: textwrap3>=0.9.2 in /Users/felipe/opt/miniconda3/envs/bert/lib/python3.6/site-packages (from ansiwrap->papermill->pycarol) (0.9.2)\n",
      "Requirement already satisfied: async-generator in /Users/felipe/opt/miniconda3/envs/bert/lib/python3.6/site-packages (from nbclient>=0.2.0->papermill->pycarol) (1.10)\n",
      "Requirement already satisfied: nest-asyncio in /Users/felipe/opt/miniconda3/envs/bert/lib/python3.6/site-packages (from nbclient>=0.2.0->papermill->pycarol) (1.3.3)\n",
      "Requirement already satisfied: heapdict in /Users/felipe/opt/miniconda3/envs/bert/lib/python3.6/site-packages (from zict>=0.1.3->distributed>=2.0; extra == \"complete\"->dask[complete]->pycarol) (1.0.1)\n",
      "Requirement already satisfied: immutables>=0.9 in /Users/felipe/opt/miniconda3/envs/bert/lib/python3.6/site-packages (from contextvars; python_version < \"3.7\"->distributed>=2.0; extra == \"complete\"->dask[complete]->pycarol) (0.14)\n",
      "Requirement already satisfied: pyrsistent>=0.14.0 in /Users/felipe/opt/miniconda3/envs/bert/lib/python3.6/site-packages (from jsonschema!=2.5.0,>=2.4->nbformat->papermill->pycarol) (0.16.0)\n"
     ]
    }
   ],
   "source": [
    "!pip install pycarol"
   ]
  },
  {
   "cell_type": "code",
   "execution_count": null,
   "metadata": {},
   "outputs": [],
   "source": [
    "!pip install -U sentence-transformers"
   ]
  },
  {
   "cell_type": "code",
   "execution_count": 13,
   "metadata": {
    "colab": {},
    "colab_type": "code",
    "id": "_tMy4TDqczHh"
   },
   "outputs": [],
   "source": [
    "from pycarol import Carol, Staging, ApiKeyAuth, Storage, PwdAuth\n",
    "import pandas as pd\n",
    "import pickle\n",
    "import numpy as np\n",
    "import re\n",
    "import math"
   ]
  },
  {
   "cell_type": "code",
   "execution_count": 14,
   "metadata": {
    "colab": {},
    "colab_type": "code",
    "id": "RFV1IftLeD-1"
   },
   "outputs": [],
   "source": [
    "login_dont = Carol(domain='monitoriaqa',\n",
    "app_name=' ',\n",
    "organization='totvs',\n",
    "auth=PwdAuth('fmendes@totvs.com.br', 'Intxdx70248821*'))"
   ]
  },
  {
   "cell_type": "code",
   "execution_count": 15,
   "metadata": {
    "colab": {
     "base_uri": "https://localhost:8080/",
     "height": 34
    },
    "colab_type": "code",
    "id": "vFmEL3xUecDu",
    "outputId": "64d03f39-e900-448f-bbe5-b234bf3e108f"
   },
   "outputs": [
    {
     "name": "stderr",
     "output_type": "stream",
     "text": [
      "100%|██████████| 157/157 [03:27<00:00,  1.32s/it]\n"
     ]
    }
   ],
   "source": [
    "df = Staging(login_dont).fetch_parquet(staging_name='articles',\n",
    "                        connector_name='carol_connect_zerado',\n",
    "                        cds=True\n",
    "                        )"
   ]
  },
  {
   "cell_type": "code",
   "execution_count": 16,
   "metadata": {},
   "outputs": [],
   "source": [
    "df = df.astype(str)"
   ]
  },
  {
   "cell_type": "code",
   "execution_count": 17,
   "metadata": {
    "colab": {
     "base_uri": "https://localhost:8080/",
     "height": 34
    },
    "colab_type": "code",
    "id": "qR35FD4ulmR4",
    "outputId": "5b3d5070-d840-469f-be09-6b848147f1d7"
   },
   "outputs": [
    {
     "data": {
      "text/plain": [
       "(37290, 26)"
      ]
     },
     "execution_count": 17,
     "metadata": {},
     "output_type": "execute_result"
    }
   ],
   "source": [
    "df.shape"
   ]
  },
  {
   "cell_type": "code",
   "execution_count": 18,
   "metadata": {},
   "outputs": [],
   "source": [
    "df = df[df['title'].str.contains('CST - LGPD')]"
   ]
  },
  {
   "cell_type": "code",
   "execution_count": 19,
   "metadata": {},
   "outputs": [
    {
     "data": {
      "text/plain": [
       "(53, 26)"
      ]
     },
     "execution_count": 19,
     "metadata": {},
     "output_type": "execute_result"
    }
   ],
   "source": [
    "df.shape"
   ]
  },
  {
   "cell_type": "code",
   "execution_count": 32,
   "metadata": {},
   "outputs": [
    {
     "data": {
      "text/plain": [
       "'<p><strong>Dúvida</strong><strong><br></strong><span data-sheets-value=\\'{\"1\":2,\"2\":\"Quais os canais disponíveis para o cliente se comunicar com a TOTVS em assuntos relacionados à LGPD?\"}\\' data-sheets-userformat=\\'{\"2\":949,\"3\":{\"1\":0},\"5\":{\"1\":[{\"1\":2,\"2\":0,\"5\":{\"1\":2,\"2\":0}},{\"1\":0,\"2\":0,\"3\":3},{\"1\":1,\"2\":0,\"4\":2}]},\"7\":{\"1\":[{\"1\":2,\"2\":0,\"5\":{\"1\":2,\"2\":0}},{\"1\":0,\"2\":0,\"3\":3},{\"1\":1,\"2\":0,\"4\":1}]},\"8\":{\"1\":[{\"1\":2,\"2\":0,\"5\":{\"1\":2,\"2\":0}},{\"1\":0,\"2\":0,\"3\":3},{\"1\":1,\"2\":0,\"4\":1}]},\"10\":1,\"11\":4,\"12\":0}\\'>Qual o objetivo do canal de atendimento para direitos dos titulares?</span><br> <br> <strong>Ambiente</strong><strong><br></strong>Centro de Serviço - Lei Geral de Proteção de Dados - Todos<br><br><strong>Solução</strong><strong><br></strong>O canal de atendimento para direitos dos titulares, visa demonstrar o compromisso que a TOTVS possui com acesso aos dados pessoais seja de clientes, fornecedores, funcionários, ex-funcionários, visitantes, entre outros.<br><br>O titular pode a qualquer momento solicitar à TOTVS informações sobre o tratamento dos seus respectivos dados pessoais, e a correção ou eliminação destes.<br>Em caso de eliminação, o titular deve compreender que apenas poderá ter os seus dados pessoais eliminados se porventura não tenha nenhuma obrigação legal ou direito vigente envolvido, o qual impede a TOTVS de excluí-lo. <br><br>Nos casos de eliminação dos dados a TOTVS não usará qualquer serviço que requeira a utilização dos seus dados pessoais. Isso mostra o compromisso da TOTVS na adequação a LGPD adotando as melhores medidas de segurança para privacidade dos dados.</p>'"
      ]
     },
     "execution_count": 32,
     "metadata": {},
     "output_type": "execute_result"
    }
   ],
   "source": [
    "df.iloc[45].body"
   ]
  },
  {
   "cell_type": "code",
   "execution_count": 33,
   "metadata": {},
   "outputs": [
    {
     "data": {
      "text/plain": [
       "array(['CST - LGPD - Atualização de dados de Parceiros',\n",
       "       'CST - LGPD - Acesso aos dados de fornecedores inativos',\n",
       "       'CST - LGPD - Solicitar exclusão, anonimização e/ou bloqueio de dados de Fornecedor Inativo',\n",
       "       'CST - LGPD - Tempo de armazenamento de dados posterior ao cancelamento de contrato',\n",
       "       'CST - LGPD - Anonimização, bloqueio ou exclusão dados Parceiro',\n",
       "       'CST - LGPD - Acesso aos meus dados pessoais  cadastrados na TOTVS',\n",
       "       'CST - LGPD - Armazenamento de dados após desligamento',\n",
       "       'CST - LGPD - Dados de candidatura das vagas na TOTVS',\n",
       "       'CST - LGPD - Bloqueio de dados com processo judicial em andamento',\n",
       "       'CST - LGPD - Compartilhamento de dados pessoais',\n",
       "       'CST - LGPD - Acesso aos dados pessoais cadastrados na TOTVS',\n",
       "       'CST - LGPD - Solicitar anonimização por funcionário ativo',\n",
       "       'CST - LGPD - Utilização de dados pessoais dos dependentes de funcionários',\n",
       "       'CST - LGPD - Tratativas de dados pessoais de colaboradores',\n",
       "       'CST - LGPD - Atualização de dados de ex-funcionário',\n",
       "       'CST - LGPD - Anonimização, bloqueio ou exclusão dos dados no cliente',\n",
       "       'CST - LGPD - Atualização de dados pessoais do cliente',\n",
       "       'CST - LGPD - Acesso aos dados de Ex-funcionário',\n",
       "       'CST - LGPD - Portabilidade de dados do cliente',\n",
       "       'CST - LGPD - Exclusão, anonimização ou bloqueio de dados de aposentado',\n",
       "       'CST - LGPD - Solicitar exclusão de dados dos arquivos da TOTVS',\n",
       "       'CST - LGPD - Solicitar anonimização dos dados de Ex-funcionário TOTVS',\n",
       "       'CST - LGPD - Bloqueio de dados de Ex-Funcionário',\n",
       "       'CST - LGPD - Anonimização, bloqueio ou exclusão dos dados de fornecedor',\n",
       "       'CST - LGPD - Acesso aos dados de fornecedores',\n",
       "       'CST - LGPD - Exclusão, anonimização ou bloqueio dos dados de visitante',\n",
       "       'CST - LGPD - Dados de visitantes utilizados no tratamento',\n",
       "       'CST - LGPD - Revogação de dados pessoais de cliente inativo',\n",
       "       'CST - LGPD - Solicitar anonimização de dados de cliente inativo com processo judicial',\n",
       "       'CST - LGPD - Atualizar cadastro de Clientes Inativos',\n",
       "       'CST - LGPD - Tempo de armazenamento de dados de Clientes Inativos',\n",
       "       'CST - LGPD - Dados pessoais após a visita na TOTVS',\n",
       "       'CST - LGPD - Prazo de tratamento dos dados de visitante',\n",
       "       'CST - LGPD - Atualização de dados de fornecedores',\n",
       "       'CST - LGPD - Acesso aos dados de clientes inativos na TOTVS',\n",
       "       'CST - LGPD - Exclusão, anonimização ou bloqueio de dados de clientes inativos',\n",
       "       'CST - LGPD - Adequação dos produtos em relação a LGPD',\n",
       "       'CST - LGPD - Solicitar anonimização, bloqueio ou exclusão dos dados do cliente',\n",
       "       'CST - LGPD - Revogação de dados do cliente com a TOTVS',\n",
       "       'CST - LGPD - Direitos dos titulares',\n",
       "       'CST - LGPD - Atualização de dados pessoais',\n",
       "       'CST - LGPD - Consentimento no direito dos titulares',\n",
       "       'CST - LGPD - Papéis dentro da LGPD',\n",
       "       'CST - LGPD - Resumo da política da Lei Geral de Proteção de Dados',\n",
       "       'CST - LGPD - Dados pessoais e dados pessoais sensíveis',\n",
       "       'CST - LGPD - Canal de atendimento para direitos dos titulares',\n",
       "       'CST - LGPD - Dados que a TOTVS possui',\n",
       "       'CST - LGPD - Objetivo da Política Geral de Proteção de Dados Pessoais',\n",
       "       'CST - LGPD - Extensão do tratamento de dados pessoais',\n",
       "       'CST - LGPD - Pilares de tratamento',\n",
       "       'CST - LGPD - Processo de Anonimização',\n",
       "       'CST - LGPD - Direitos de anonimização, bloqueio ou eliminação dos dados pessoais',\n",
       "       'CST - LGPD - Revogar o consentimento'], dtype=object)"
      ]
     },
     "execution_count": 33,
     "metadata": {},
     "output_type": "execute_result"
    }
   ],
   "source": [
    "df.title.unique()"
   ]
  },
  {
   "cell_type": "code",
   "execution_count": 34,
   "metadata": {
    "colab": {},
    "colab_type": "code",
    "id": "5io2Da-NlgiZ"
   },
   "outputs": [],
   "source": [
    "df = df.replace('', np.nan)"
   ]
  },
  {
   "cell_type": "code",
   "execution_count": 35,
   "metadata": {
    "colab": {},
    "colab_type": "code",
    "id": "mqVg5el0enBX"
   },
   "outputs": [],
   "source": [
    "df = df[(df.source_locale == 'pt-br') & (~df.body.isnull())]"
   ]
  },
  {
   "cell_type": "code",
   "execution_count": 36,
   "metadata": {
    "colab": {},
    "colab_type": "code",
    "id": "m0sYADvPczHq"
   },
   "outputs": [],
   "source": [
    "def remove_html_tags(text):\n",
    "    \"\"\"Remove html tags from a string\"\"\"\n",
    "    clean = re.compile('<.*?>')\n",
    "    text = re.sub(clean, '', text)\n",
    "    return \" \".join(re.sub(r'\\s([?.!\"](?:\\s|$))', r'\\1', text).strip().split())"
   ]
  },
  {
   "cell_type": "code",
   "execution_count": 37,
   "metadata": {
    "colab": {},
    "colab_type": "code",
    "id": "Q4b9-kItgVvd"
   },
   "outputs": [],
   "source": [
    "def get_question(body):\n",
    "    \n",
    "    body = body.replace('\\n', '').replace('<br>', '')\n",
    "\n",
    "    m = re.search('(?<=<strong>D(ú|u)vida).*?(?=<strong>Ambiente)', body, re.IGNORECASE)\n",
    "    if m:\n",
    "        return remove_html_tags(m.group(0))\n",
    "        \n",
    "    m = re.search('(?<=<strong>Ocorr(ê|e)ncia).*?(?=<strong>Ambiente)', body, re.IGNORECASE)\n",
    "    if m:\n",
    "        return remove_html_tags(m.group(0))\n",
    "    \n",
    "    return np.nan"
   ]
  },
  {
   "cell_type": "code",
   "execution_count": 38,
   "metadata": {
    "colab": {},
    "colab_type": "code",
    "id": "IsCB__H7gYSy"
   },
   "outputs": [],
   "source": [
    "def get_question_type(body):\n",
    "    \n",
    "    body = body.replace('\\n', '').replace('<br>', '')\n",
    "\n",
    "    m = re.search('(?<=<strong>D(ú|u)vida).*?(?=<strong>Ambiente)', body, re.IGNORECASE)\n",
    "    if m:\n",
    "        return 'question'\n",
    "\n",
    "    m = re.search('(?<=<strong>Ocorr(ê|e)ncia).*?(?=<strong>Ambiente)', body, re.IGNORECASE)\n",
    "    if m:\n",
    "        return 'occurrence'\n",
    "    \n",
    "    return np.nan"
   ]
  },
  {
   "cell_type": "code",
   "execution_count": 39,
   "metadata": {
    "colab": {},
    "colab_type": "code",
    "id": "gwYQfTcLga--"
   },
   "outputs": [],
   "source": [
    "def get_environment(body):\n",
    "    \n",
    "    body = body.replace('\\n', '').replace('<br>', '')\n",
    "\n",
    "    m = re.search('(?=<strong>Ambiente).*?(?=<strong>Solu(ç|c)(ã|a)o)', body, re.IGNORECASE)\n",
    "    if not m:\n",
    "        return np.nan\n",
    "    return remove_html_tags(m.group(0))"
   ]
  },
  {
   "cell_type": "code",
   "execution_count": 40,
   "metadata": {
    "colab": {},
    "colab_type": "code",
    "id": "VPkw5F9ogd7A"
   },
   "outputs": [],
   "source": [
    "def get_solution(body):\n",
    "    \n",
    "    body = body.replace('\\n', '').replace('<br>', '')\n",
    "\n",
    "    m = re.search('(?<=<strong>Solu(ç|c)(ã|a)o)(?s)(.*$)', body, re.IGNORECASE)\n",
    "    if not m:\n",
    "        return np.nan\n",
    "    return m.group(0)"
   ]
  },
  {
   "cell_type": "code",
   "execution_count": 41,
   "metadata": {
    "colab": {},
    "colab_type": "code",
    "id": "f3cCEN-ZhGr-"
   },
   "outputs": [],
   "source": [
    "def get_sanitized_solution(body):\n",
    "    \n",
    "    body = body.replace('\\n', '').replace('<br>', '')\n",
    "\n",
    "    m = re.search('(?<=<strong>Solu(ç|c)(ã|a)o)(?s)(.*$)', body, re.IGNORECASE)\n",
    "    if not m:\n",
    "        return np.nan\n",
    "    return re.sub('\\.(?!\\s)(?!$)(?!com)', '. ', remove_html_tags(m.group(0)))"
   ]
  },
  {
   "cell_type": "code",
   "execution_count": 42,
   "metadata": {
    "colab": {
     "base_uri": "https://localhost:8080/",
     "height": 51
    },
    "colab_type": "code",
    "id": "ruNHNLegghpQ",
    "outputId": "0b08873d-9c53-4413-b60a-bb8fc73d1d7a"
   },
   "outputs": [],
   "source": [
    "df['question'] = df.body.apply(get_question)\n",
    "df['question_type'] = df.body.apply(get_question_type)\n",
    "df['environment'] = df.body.apply(get_environment)\n",
    "df['solution'] = df.body.apply(get_solution)\n",
    "df['sanitized_solution'] = df.body.apply(get_sanitized_solution)"
   ]
  },
  {
   "cell_type": "code",
   "execution_count": 43,
   "metadata": {
    "colab": {},
    "colab_type": "code",
    "id": "X2dwj6g5xPGV"
   },
   "outputs": [],
   "source": [
    "df = df.replace('', np.nan)"
   ]
  },
  {
   "cell_type": "code",
   "execution_count": 44,
   "metadata": {
    "colab": {
     "base_uri": "https://localhost:8080/",
     "height": 479
    },
    "colab_type": "code",
    "id": "tE2oKqyrczHr",
    "outputId": "2d87799f-3c09-44ed-817e-d4d412d12d84"
   },
   "outputs": [
    {
     "data": {
      "text/html": [
       "<div>\n",
       "<style scoped>\n",
       "    .dataframe tbody tr th:only-of-type {\n",
       "        vertical-align: middle;\n",
       "    }\n",
       "\n",
       "    .dataframe tbody tr th {\n",
       "        vertical-align: top;\n",
       "    }\n",
       "\n",
       "    .dataframe thead th {\n",
       "        text-align: right;\n",
       "    }\n",
       "</style>\n",
       "<table border=\"1\" class=\"dataframe\">\n",
       "  <thead>\n",
       "    <tr style=\"text-align: right;\">\n",
       "      <th></th>\n",
       "      <th>__v</th>\n",
       "      <th>author_id</th>\n",
       "      <th>body</th>\n",
       "      <th>brand_id</th>\n",
       "      <th>brand_name</th>\n",
       "      <th>comments_disabled</th>\n",
       "      <th>created_at</th>\n",
       "      <th>draft</th>\n",
       "      <th>edited_at</th>\n",
       "      <th>html_url</th>\n",
       "      <th>...</th>\n",
       "      <th>updated</th>\n",
       "      <th>updated_at</th>\n",
       "      <th>url</th>\n",
       "      <th>vote_count</th>\n",
       "      <th>vote_sum</th>\n",
       "      <th>question</th>\n",
       "      <th>question_type</th>\n",
       "      <th>environment</th>\n",
       "      <th>solution</th>\n",
       "      <th>sanitized_solution</th>\n",
       "    </tr>\n",
       "  </thead>\n",
       "  <tbody>\n",
       "    <tr>\n",
       "      <th>4502</th>\n",
       "      <td>0</td>\n",
       "      <td>6689975327.0</td>\n",
       "      <td>&lt;p&gt;&lt;strong&gt;Dúvida&lt;/strong&gt;&lt;strong&gt;&lt;br&gt;&lt;/strong...</td>\n",
       "      <td>1509248</td>\n",
       "      <td>TOTVS</td>\n",
       "      <td>True</td>\n",
       "      <td>2020-06-09T17:56:30.000Z</td>\n",
       "      <td>True</td>\n",
       "      <td>2020-06-09T17:56:30.000Z</td>\n",
       "      <td>https://centraldeatendimento.totvs.com/hc/pt-b...</td>\n",
       "      <td>...</td>\n",
       "      <td>True</td>\n",
       "      <td>2020-06-09T17:56:30.000Z</td>\n",
       "      <td>https://totvsexterno.zendesk.com/api/v2/help_c...</td>\n",
       "      <td>0</td>\n",
       "      <td>0</td>\n",
       "      <td>Tenho cadastro na TOTVS e gostaria de atualiza...</td>\n",
       "      <td>question</td>\n",
       "      <td>AmbienteCentro de Serviço - Lei Geral de Prote...</td>\n",
       "      <td>&lt;/strong&gt;&lt;strong&gt;&lt;/strong&gt;Como a TOTVS apenas ...</td>\n",
       "      <td>Como a TOTVS apenas trabalha com Parceiros sen...</td>\n",
       "    </tr>\n",
       "    <tr>\n",
       "      <th>4504</th>\n",
       "      <td>0</td>\n",
       "      <td>6689975327.0</td>\n",
       "      <td>&lt;p&gt;&lt;strong&gt;Dúvida&lt;/strong&gt;&lt;strong&gt;&lt;br&gt;&lt;/strong...</td>\n",
       "      <td>1509248</td>\n",
       "      <td>TOTVS</td>\n",
       "      <td>False</td>\n",
       "      <td>2020-06-09T17:52:01.000Z</td>\n",
       "      <td>True</td>\n",
       "      <td>2020-06-09T17:52:01.000Z</td>\n",
       "      <td>https://centraldeatendimento.totvs.com/hc/pt-b...</td>\n",
       "      <td>...</td>\n",
       "      <td>True</td>\n",
       "      <td>2020-06-09T17:52:01.000Z</td>\n",
       "      <td>https://totvsexterno.zendesk.com/api/v2/help_c...</td>\n",
       "      <td>0</td>\n",
       "      <td>0</td>\n",
       "      <td>Como posso obter acesso aos meus dados pessoai...</td>\n",
       "      <td>question</td>\n",
       "      <td>AmbienteCentro de Serviço - Lei Geral de Prote...</td>\n",
       "      <td>&lt;/strong&gt;&lt;strong&gt;&lt;/strong&gt;Será necessário aber...</td>\n",
       "      <td>Será necessário abertura do ticket para o time...</td>\n",
       "    </tr>\n",
       "    <tr>\n",
       "      <th>4507</th>\n",
       "      <td>0</td>\n",
       "      <td>6689975327.0</td>\n",
       "      <td>&lt;p&gt;&lt;strong&gt;Dúvida&lt;/strong&gt;&lt;strong&gt;&lt;br&gt;&lt;/strong...</td>\n",
       "      <td>1509248</td>\n",
       "      <td>TOTVS</td>\n",
       "      <td>False</td>\n",
       "      <td>2020-06-09T17:47:59.000Z</td>\n",
       "      <td>True</td>\n",
       "      <td>2020-06-09T17:47:59.000Z</td>\n",
       "      <td>https://centraldeatendimento.totvs.com/hc/pt-b...</td>\n",
       "      <td>...</td>\n",
       "      <td>True</td>\n",
       "      <td>2020-06-09T17:47:59.000Z</td>\n",
       "      <td>https://totvsexterno.zendesk.com/api/v2/help_c...</td>\n",
       "      <td>0</td>\n",
       "      <td>0</td>\n",
       "      <td>Como posso solicitar exclusão, anonimização e/...</td>\n",
       "      <td>question</td>\n",
       "      <td>AmbienteCentro de Serviço - Lei Geral de Prote...</td>\n",
       "      <td>&lt;/strong&gt;&lt;strong&gt;&lt;/strong&gt;&lt;span data-sheets-va...</td>\n",
       "      <td>Não será possível solicitar exclusão, anonimiz...</td>\n",
       "    </tr>\n",
       "    <tr>\n",
       "      <th>4508</th>\n",
       "      <td>0</td>\n",
       "      <td>6689975327.0</td>\n",
       "      <td>&lt;p&gt;&lt;strong&gt;Dúvida&lt;/strong&gt;&lt;strong&gt;&lt;br&gt;&lt;/strong...</td>\n",
       "      <td>1509248</td>\n",
       "      <td>TOTVS</td>\n",
       "      <td>False</td>\n",
       "      <td>2020-06-09T17:45:45.000Z</td>\n",
       "      <td>True</td>\n",
       "      <td>2020-06-09T17:48:37.000Z</td>\n",
       "      <td>https://centraldeatendimento.totvs.com/hc/pt-b...</td>\n",
       "      <td>...</td>\n",
       "      <td>True</td>\n",
       "      <td>2020-06-09T17:48:37.000Z</td>\n",
       "      <td>https://totvsexterno.zendesk.com/api/v2/help_c...</td>\n",
       "      <td>0</td>\n",
       "      <td>0</td>\n",
       "      <td>Por quanto tempo a TOTVS armazena os dados pes...</td>\n",
       "      <td>question</td>\n",
       "      <td>AmbienteCentro de Serviço - Lei Geral de Prote...</td>\n",
       "      <td>&lt;/strong&gt;&lt;strong&gt;&lt;/strong&gt;Os dados utilizados ...</td>\n",
       "      <td>Os dados utilizados para cadastro continuam se...</td>\n",
       "    </tr>\n",
       "    <tr>\n",
       "      <th>4540</th>\n",
       "      <td>0</td>\n",
       "      <td>6689975327.0</td>\n",
       "      <td>&lt;p&gt;&lt;strong&gt;Dúvida&lt;/strong&gt;&lt;strong&gt;&lt;br&gt;&lt;/strong...</td>\n",
       "      <td>1509248</td>\n",
       "      <td>TOTVS</td>\n",
       "      <td>False</td>\n",
       "      <td>2020-06-09T19:25:09.000Z</td>\n",
       "      <td>True</td>\n",
       "      <td>2020-06-09T19:25:09.000Z</td>\n",
       "      <td>https://centraldeatendimento.totvs.com/hc/pt-b...</td>\n",
       "      <td>...</td>\n",
       "      <td>True</td>\n",
       "      <td>2020-06-09T19:25:09.000Z</td>\n",
       "      <td>https://totvsexterno.zendesk.com/api/v2/help_c...</td>\n",
       "      <td>0</td>\n",
       "      <td>0</td>\n",
       "      <td>Posso solicitar anonimização, bloqueio ou excl...</td>\n",
       "      <td>question</td>\n",
       "      <td>AmbienteCentro de Serviço - Lei Geral de Prote...</td>\n",
       "      <td>&lt;/strong&gt;&lt;strong&gt;&lt;/strong&gt;&lt;span data-sheets-va...</td>\n",
       "      <td>Não será possível solicitar anonimização, bloq...</td>\n",
       "    </tr>\n",
       "  </tbody>\n",
       "</table>\n",
       "<p>5 rows × 31 columns</p>\n",
       "</div>"
      ],
      "text/plain": [
       "     __v     author_id                                               body  \\\n",
       "4502   0  6689975327.0  <p><strong>Dúvida</strong><strong><br></strong...   \n",
       "4504   0  6689975327.0  <p><strong>Dúvida</strong><strong><br></strong...   \n",
       "4507   0  6689975327.0  <p><strong>Dúvida</strong><strong><br></strong...   \n",
       "4508   0  6689975327.0  <p><strong>Dúvida</strong><strong><br></strong...   \n",
       "4540   0  6689975327.0  <p><strong>Dúvida</strong><strong><br></strong...   \n",
       "\n",
       "     brand_id brand_name comments_disabled                created_at draft  \\\n",
       "4502  1509248      TOTVS              True  2020-06-09T17:56:30.000Z  True   \n",
       "4504  1509248      TOTVS             False  2020-06-09T17:52:01.000Z  True   \n",
       "4507  1509248      TOTVS             False  2020-06-09T17:47:59.000Z  True   \n",
       "4508  1509248      TOTVS             False  2020-06-09T17:45:45.000Z  True   \n",
       "4540  1509248      TOTVS             False  2020-06-09T19:25:09.000Z  True   \n",
       "\n",
       "                     edited_at  \\\n",
       "4502  2020-06-09T17:56:30.000Z   \n",
       "4504  2020-06-09T17:52:01.000Z   \n",
       "4507  2020-06-09T17:47:59.000Z   \n",
       "4508  2020-06-09T17:48:37.000Z   \n",
       "4540  2020-06-09T19:25:09.000Z   \n",
       "\n",
       "                                               html_url  \\\n",
       "4502  https://centraldeatendimento.totvs.com/hc/pt-b...   \n",
       "4504  https://centraldeatendimento.totvs.com/hc/pt-b...   \n",
       "4507  https://centraldeatendimento.totvs.com/hc/pt-b...   \n",
       "4508  https://centraldeatendimento.totvs.com/hc/pt-b...   \n",
       "4540  https://centraldeatendimento.totvs.com/hc/pt-b...   \n",
       "\n",
       "                            ...                         updated  \\\n",
       "4502                        ...                            True   \n",
       "4504                        ...                            True   \n",
       "4507                        ...                            True   \n",
       "4508                        ...                            True   \n",
       "4540                        ...                            True   \n",
       "\n",
       "                    updated_at  \\\n",
       "4502  2020-06-09T17:56:30.000Z   \n",
       "4504  2020-06-09T17:52:01.000Z   \n",
       "4507  2020-06-09T17:47:59.000Z   \n",
       "4508  2020-06-09T17:48:37.000Z   \n",
       "4540  2020-06-09T19:25:09.000Z   \n",
       "\n",
       "                                                    url vote_count vote_sum  \\\n",
       "4502  https://totvsexterno.zendesk.com/api/v2/help_c...          0        0   \n",
       "4504  https://totvsexterno.zendesk.com/api/v2/help_c...          0        0   \n",
       "4507  https://totvsexterno.zendesk.com/api/v2/help_c...          0        0   \n",
       "4508  https://totvsexterno.zendesk.com/api/v2/help_c...          0        0   \n",
       "4540  https://totvsexterno.zendesk.com/api/v2/help_c...          0        0   \n",
       "\n",
       "                                               question question_type  \\\n",
       "4502  Tenho cadastro na TOTVS e gostaria de atualiza...      question   \n",
       "4504  Como posso obter acesso aos meus dados pessoai...      question   \n",
       "4507  Como posso solicitar exclusão, anonimização e/...      question   \n",
       "4508  Por quanto tempo a TOTVS armazena os dados pes...      question   \n",
       "4540  Posso solicitar anonimização, bloqueio ou excl...      question   \n",
       "\n",
       "                                            environment  \\\n",
       "4502  AmbienteCentro de Serviço - Lei Geral de Prote...   \n",
       "4504  AmbienteCentro de Serviço - Lei Geral de Prote...   \n",
       "4507  AmbienteCentro de Serviço - Lei Geral de Prote...   \n",
       "4508  AmbienteCentro de Serviço - Lei Geral de Prote...   \n",
       "4540  AmbienteCentro de Serviço - Lei Geral de Prote...   \n",
       "\n",
       "                                               solution  \\\n",
       "4502  </strong><strong></strong>Como a TOTVS apenas ...   \n",
       "4504  </strong><strong></strong>Será necessário aber...   \n",
       "4507  </strong><strong></strong><span data-sheets-va...   \n",
       "4508  </strong><strong></strong>Os dados utilizados ...   \n",
       "4540  </strong><strong></strong><span data-sheets-va...   \n",
       "\n",
       "                                     sanitized_solution  \n",
       "4502  Como a TOTVS apenas trabalha com Parceiros sen...  \n",
       "4504  Será necessário abertura do ticket para o time...  \n",
       "4507  Não será possível solicitar exclusão, anonimiz...  \n",
       "4508  Os dados utilizados para cadastro continuam se...  \n",
       "4540  Não será possível solicitar anonimização, bloq...  \n",
       "\n",
       "[5 rows x 31 columns]"
      ]
     },
     "execution_count": 44,
     "metadata": {},
     "output_type": "execute_result"
    }
   ],
   "source": [
    "df.head()"
   ]
  },
  {
   "cell_type": "code",
   "execution_count": 45,
   "metadata": {
    "colab": {},
    "colab_type": "code",
    "id": "X2OAA_3JhVtB"
   },
   "outputs": [],
   "source": [
    "df = df.dropna(subset=['question', 'question_type', 'environment', 'solution'])"
   ]
  },
  {
   "cell_type": "code",
   "execution_count": 46,
   "metadata": {},
   "outputs": [],
   "source": [
    "df = df.reset_index(drop=True)"
   ]
  },
  {
   "cell_type": "code",
   "execution_count": 47,
   "metadata": {
    "colab": {
     "base_uri": "https://localhost:8080/",
     "height": 34
    },
    "colab_type": "code",
    "id": "xd30dGG6czHs",
    "outputId": "c27aec52-995d-4034-9275-1609790fa0f5"
   },
   "outputs": [
    {
     "data": {
      "text/plain": [
       "53"
      ]
     },
     "execution_count": 47,
     "metadata": {},
     "output_type": "execute_result"
    }
   ],
   "source": [
    "df['question'].count()"
   ]
  },
  {
   "cell_type": "code",
   "execution_count": 48,
   "metadata": {},
   "outputs": [
    {
     "data": {
      "text/plain": [
       "'Para verificar o acesso aos seus dados pessoais, você pode entrar em contato conosco através deste Portal, no site da totvs.com para saber mais sobre os seus dados.'"
      ]
     },
     "execution_count": 48,
     "metadata": {},
     "output_type": "execute_result"
    }
   ],
   "source": [
    "df.iloc[5].sanitized_solution"
   ]
  },
  {
   "cell_type": "code",
   "execution_count": 49,
   "metadata": {},
   "outputs": [],
   "source": [
    "df['id'] = df['id'].apply(lambda x: x.replace('.0', ''))"
   ]
  },
  {
   "cell_type": "code",
   "execution_count": 50,
   "metadata": {},
   "outputs": [
    {
     "data": {
      "text/plain": [
       "'360049262914'"
      ]
     },
     "execution_count": 50,
     "metadata": {},
     "output_type": "execute_result"
    }
   ],
   "source": [
    "df.iloc[0].id"
   ]
  },
  {
   "cell_type": "raw",
   "metadata": {},
   "source": [
    "dupl = df[df.duplicated(['question'])]"
   ]
  },
  {
   "cell_type": "raw",
   "metadata": {},
   "source": [
    "dupl[['question', 'brand_id', 'label_names', 'title', 'html_url']].to_excel('articles_with_duplicate_questions.xlsx', index=False)"
   ]
  },
  {
   "cell_type": "raw",
   "metadata": {},
   "source": [
    "dupl.head()[['question', 'brand_id', 'label_names', 'title']]"
   ]
  },
  {
   "cell_type": "raw",
   "metadata": {},
   "source": [
    "dupl.iloc[1].html_url"
   ]
  },
  {
   "cell_type": "raw",
   "metadata": {
    "colab": {},
    "colab_type": "code",
    "id": "M06IFXViczHu"
   },
   "source": [
    "hifen = df[df.question.str.contains('((?:\\w+-)+\\w+)', regex=True)]"
   ]
  },
  {
   "cell_type": "raw",
   "metadata": {},
   "source": [
    "hifen.shape"
   ]
  },
  {
   "cell_type": "raw",
   "metadata": {},
   "source": [
    "hifen.sample(5)[['question']]"
   ]
  },
  {
   "cell_type": "raw",
   "metadata": {},
   "source": [
    "hifen.iloc[3].question"
   ]
  },
  {
   "cell_type": "raw",
   "metadata": {},
   "source": [
    "hifen[['question', 'brand_id', 'label_names', 'title', 'html_url']].to_excel('articles_with_hyphenated_words_in_questions.xlsx', index=False)"
   ]
  },
  {
   "cell_type": "code",
   "execution_count": 51,
   "metadata": {},
   "outputs": [],
   "source": [
    "target = Carol(domain='mendes',\n",
    "app_name='searchlgpd',\n",
    "organization='datascience',\n",
    "auth=ApiKeyAuth('bf56760357424b60ae9558bcf9f090c2'),\n",
    "connector_id='175e781f1cce470eb0457323430f1407')"
   ]
  },
  {
   "cell_type": "code",
   "execution_count": 52,
   "metadata": {},
   "outputs": [],
   "source": [
    "target_stag = Staging(target)"
   ]
  },
  {
   "cell_type": "code",
   "execution_count": 53,
   "metadata": {},
   "outputs": [
    {
     "name": "stdout",
     "output_type": "stream",
     "text": [
      "fetched crosswalk  ['idinternalmdb']\n",
      "53/53 sent\r"
     ]
    }
   ],
   "source": [
    "target_stag.send_data(staging_name='lgpd_articles', connector_id='175e781f1cce470eb0457323430f1407', data=df,)\n",
    "#                             crosswalk_auto_create=['idinternalmdb'], auto_create_schema=True)"
   ]
  },
  {
   "cell_type": "raw",
   "metadata": {},
   "source": [
    "target_stag.send_data(staging_name='articles', connector_id='175e781f1cce470eb0457323430f1407', data=df,\n",
    "                      crosswalk_auto_create=['idinternalmdb'], auto_create_schema=True)"
   ]
  },
  {
   "cell_type": "markdown",
   "metadata": {},
   "source": [
    "### Get sentence embeddings"
   ]
  },
  {
   "cell_type": "code",
   "execution_count": 2,
   "metadata": {
    "colab": {},
    "colab_type": "code",
    "id": "_z9RFgyqHAek"
   },
   "outputs": [],
   "source": [
    "from sentence_transformers import SentenceTransformer"
   ]
  },
  {
   "cell_type": "code",
   "execution_count": 3,
   "metadata": {},
   "outputs": [],
   "source": [
    "# Load Sentence model (based on BERT) from URL\n",
    "model = SentenceTransformer('distiluse-base-multilingual-cased')"
   ]
  },
  {
   "cell_type": "code",
   "execution_count": 30,
   "metadata": {
    "colab": {
     "base_uri": "https://localhost:8080/",
     "height": 1000
    },
    "colab_type": "code",
    "id": "KADDlQLjGpmj",
    "outputId": "df5d8794-4574-4995-a2f8-e52855bc7be1"
   },
   "outputs": [],
   "source": [
    "# Embed a list of sentences\n",
    "sentence_embeddings = model.encode(df.question.values)"
   ]
  },
  {
   "cell_type": "code",
   "execution_count": 32,
   "metadata": {},
   "outputs": [
    {
     "data": {
      "text/plain": [
       "14"
      ]
     },
     "execution_count": 32,
     "metadata": {},
     "output_type": "execute_result"
    }
   ],
   "source": [
    "len(sentence_embeddings)"
   ]
  },
  {
   "cell_type": "code",
   "execution_count": 33,
   "metadata": {},
   "outputs": [],
   "source": [
    "id_list = df['id'].values"
   ]
  },
  {
   "cell_type": "code",
   "execution_count": 34,
   "metadata": {},
   "outputs": [
    {
     "data": {
      "text/plain": [
       "14"
      ]
     },
     "execution_count": 34,
     "metadata": {},
     "output_type": "execute_result"
    }
   ],
   "source": [
    "len(id_list)"
   ]
  },
  {
   "cell_type": "code",
   "execution_count": 35,
   "metadata": {},
   "outputs": [],
   "source": [
    "index_to_question_id_mapping = dict(enumerate(id_list))\n",
    "question_id_to_index_mapping = {j: i for i,j in index_to_question_id_mapping.items()} "
   ]
  },
  {
   "cell_type": "markdown",
   "metadata": {},
   "source": [
    "### Save objects in Storage"
   ]
  },
  {
   "cell_type": "code",
   "execution_count": 36,
   "metadata": {},
   "outputs": [],
   "source": [
    "stg = Storage(target)"
   ]
  },
  {
   "cell_type": "code",
   "execution_count": 37,
   "metadata": {},
   "outputs": [],
   "source": [
    "def save_object_to_storage(obj, filename):\n",
    "    with open(filename, \"bw\") as f:\n",
    "        pickle.dump(obj, f)\n",
    "    stg.save(filename, obj, format='pickle')"
   ]
  },
  {
   "cell_type": "code",
   "execution_count": 38,
   "metadata": {},
   "outputs": [],
   "source": [
    "save_object_to_storage(sentence_embeddings, 'sentence_embeddings')"
   ]
  },
  {
   "cell_type": "code",
   "execution_count": 39,
   "metadata": {},
   "outputs": [],
   "source": [
    "save_object_to_storage(index_to_question_id_mapping, 'index_to_question_id_mapping')"
   ]
  },
  {
   "cell_type": "code",
   "execution_count": 40,
   "metadata": {},
   "outputs": [],
   "source": [
    "save_object_to_storage(question_id_to_index_mapping, 'question_id_to_index_mapping')"
   ]
  },
  {
   "cell_type": "code",
   "execution_count": 1,
   "metadata": {},
   "outputs": [
    {
     "name": "stdout",
     "output_type": "stream",
     "text": [
      "Python 3.8.2\n"
     ]
    }
   ],
   "source": [
    "!python --version"
   ]
  },
  {
   "cell_type": "code",
   "execution_count": 1,
   "metadata": {
    "colab": {},
    "colab_type": "code",
    "id": "_z9RFgyqHAek"
   },
   "outputs": [],
   "source": [
    "from sentence_transformers import SentenceTransformer, LoggingHandler"
   ]
  },
  {
   "cell_type": "code",
   "execution_count": 2,
   "metadata": {},
   "outputs": [],
   "source": [
    "# Load Sentence model (based on BERT) from URL\n",
    "model = SentenceTransformer('distiluse-base-multilingual-cased')"
   ]
  },
  {
   "cell_type": "code",
   "execution_count": 21,
   "metadata": {},
   "outputs": [],
   "source": [
    "import pickle"
   ]
  },
  {
   "cell_type": "code",
   "execution_count": 5,
   "metadata": {},
   "outputs": [
    {
     "name": "stderr",
     "output_type": "stream",
     "text": [
      "/Users/felipe/opt/miniconda3/envs/recommendation/lib/python3.8/site-packages/torch/storage.py:34: FutureWarning: pickle support for Storage will be removed in 1.5. Use `torch.save` instead\n",
      "  warnings.warn(\"pickle support for Storage will be removed in 1.5. Use `torch.save` instead\", FutureWarning)\n"
     ]
    }
   ],
   "source": [
    "with open('encoder', \"bw\") as f:\n",
    "    pickle.dump(model, f)"
   ]
  },
  {
   "cell_type": "raw",
   "metadata": {
    "colab": {
     "base_uri": "https://localhost:8080/",
     "height": 1000
    },
    "colab_type": "code",
    "id": "KADDlQLjGpmj",
    "outputId": "df5d8794-4574-4995-a2f8-e52855bc7be1"
   },
   "source": [
    "# Embed a list of sentences\n",
    "sentence_embeddings = model.encode(questions)\n",
    "\n",
    "# The result is a list of sentence embeddings as numpy arrays\n",
    "for sentence, embedding in zip(questions[:1], sentence_embeddings[:1]):\n",
    "    print(\"Sentence:\", sentence)\n",
    "    print(\"Embedding:\", embedding)\n",
    "    print(\"\")"
   ]
  },
  {
   "cell_type": "code",
   "execution_count": 22,
   "metadata": {},
   "outputs": [
    {
     "ename": "FileNotFoundError",
     "evalue": "[Errno 2] No such file or directory: 'sentence_embeddings'",
     "output_type": "error",
     "traceback": [
      "\u001b[0;31m---------------------------------------------------------------------------\u001b[0m",
      "\u001b[0;31mFileNotFoundError\u001b[0m                         Traceback (most recent call last)",
      "\u001b[0;32m<ipython-input-22-e075ecec752f>\u001b[0m in \u001b[0;36m<module>\u001b[0;34m\u001b[0m\n\u001b[0;32m----> 1\u001b[0;31m \u001b[0msentence_embeddings\u001b[0m \u001b[0;34m=\u001b[0m \u001b[0mpickle\u001b[0m\u001b[0;34m.\u001b[0m\u001b[0mload\u001b[0m\u001b[0;34m(\u001b[0m\u001b[0mopen\u001b[0m\u001b[0;34m(\u001b[0m\u001b[0;34m\"sentence_embeddings\"\u001b[0m\u001b[0;34m,\u001b[0m \u001b[0;34m\"rb\"\u001b[0m\u001b[0;34m)\u001b[0m\u001b[0;34m)\u001b[0m\u001b[0;34m\u001b[0m\u001b[0;34m\u001b[0m\u001b[0m\n\u001b[0m",
      "\u001b[0;31mFileNotFoundError\u001b[0m: [Errno 2] No such file or directory: 'sentence_embeddings'"
     ]
    }
   ],
   "source": [
    "sentence_embeddings = pickle.load(open(\"sentence_embeddings\", \"rb\"))"
   ]
  },
  {
   "cell_type": "code",
   "execution_count": 23,
   "metadata": {},
   "outputs": [
    {
     "ename": "NameError",
     "evalue": "name 'sentence_embeddings' is not defined",
     "output_type": "error",
     "traceback": [
      "\u001b[0;31m---------------------------------------------------------------------------\u001b[0m",
      "\u001b[0;31mNameError\u001b[0m                                 Traceback (most recent call last)",
      "\u001b[0;32m<ipython-input-23-ba31ee6c517b>\u001b[0m in \u001b[0;36m<module>\u001b[0;34m\u001b[0m\n\u001b[0;32m----> 1\u001b[0;31m \u001b[0msentence_embeddings\u001b[0m\u001b[0;34m[\u001b[0m\u001b[0;34m:\u001b[0m\u001b[0;36m10\u001b[0m\u001b[0;34m]\u001b[0m\u001b[0;34m\u001b[0m\u001b[0;34m\u001b[0m\u001b[0m\n\u001b[0m",
      "\u001b[0;31mNameError\u001b[0m: name 'sentence_embeddings' is not defined"
     ]
    }
   ],
   "source": [
    "sentence_embeddings[:10]"
   ]
  },
  {
   "cell_type": "code",
   "execution_count": null,
   "metadata": {},
   "outputs": [],
   "source": [
    "df.index"
   ]
  },
  {
   "cell_type": "code",
   "execution_count": 28,
   "metadata": {},
   "outputs": [
    {
     "data": {
      "text/plain": [
       "\"Após configurar HTTPS no fluig, ao acessá-lo pelo aplicativo fluig Mobile e informar servidor de conexão é apresentado o erro 'Falha na comunicação'.\""
      ]
     },
     "execution_count": 28,
     "metadata": {},
     "output_type": "execute_result"
    }
   ],
   "source": [
    "df.iloc[12].question"
   ]
  },
  {
   "cell_type": "raw",
   "metadata": {
    "colab": {},
    "colab_type": "code",
    "id": "18qUpSfGXoIg"
   },
   "source": [
    "query = 'erro de falha de comunicação ao acessar o aplicativo fluig mobile'"
   ]
  },
  {
   "cell_type": "raw",
   "metadata": {},
   "source": [
    "query_vec = model.encode([query])"
   ]
  },
  {
   "cell_type": "raw",
   "metadata": {
    "colab": {},
    "colab_type": "code",
    "id": "5aTNaRWeG69x"
   },
   "source": [
    "# compute normalized dot product as score\n",
    "score = np.sum(query_vec[0] * sentence_embeddings, axis=1) / np.linalg.norm(sentence_embeddings, axis=1)\n",
    "topk_idx = np.argsort(score)[::-1]"
   ]
  },
  {
   "cell_type": "code",
   "execution_count": 144,
   "metadata": {
    "colab": {},
    "colab_type": "code",
    "id": "5aTNaRWeG69x"
   },
   "outputs": [],
   "source": [
    "def get_most_similar_question(query):\n",
    "\n",
    "    query_vec = model.encode([query])\n",
    "    k = 5\n",
    "\n",
    "    # compute normalized dot product as score\n",
    "    score = np.sum(query_vec[0] * sentence_embeddings, axis=1) / np.linalg.norm(sentence_embeddings, axis=1)\n",
    "    topk_scores = np.sort(score)[::-1]\n",
    "    topk_idx = np.argsort(score)[::-1]\n",
    "    return topk_idx[:k], topk_scores[:k]"
   ]
  },
  {
   "cell_type": "code",
   "execution_count": 119,
   "metadata": {},
   "outputs": [],
   "source": [
    "#size = np.int32(np.floor(0.2 * questions.shape[0]))\n",
    "size = 100\n",
    "\n",
    "indices = np.random.choice(\n",
    "    df.question.index, \n",
    "    replace=False,\n",
    "    size=size\n",
    ").tolist()"
   ]
  },
  {
   "cell_type": "code",
   "execution_count": 71,
   "metadata": {},
   "outputs": [],
   "source": [
    "questions = []"
   ]
  },
  {
   "cell_type": "code",
   "execution_count": 93,
   "metadata": {},
   "outputs": [
    {
     "data": {
      "text/plain": [
       "'Solicito uma função para conversão de um arquivo .doc para .PDF'"
      ]
     },
     "execution_count": 93,
     "metadata": {},
     "output_type": "execute_result"
    }
   ],
   "source": [
    "df.iloc[indices[9]].question"
   ]
  },
  {
   "cell_type": "code",
   "execution_count": 94,
   "metadata": {},
   "outputs": [],
   "source": [
    "questions.append('função para converter arquivo doc para pdf')"
   ]
  },
  {
   "cell_type": "code",
   "execution_count": 97,
   "metadata": {},
   "outputs": [
    {
     "data": {
      "text/plain": [
       "10"
      ]
     },
     "execution_count": 97,
     "metadata": {},
     "output_type": "execute_result"
    }
   ],
   "source": [
    "len(questions)"
   ]
  },
  {
   "cell_type": "raw",
   "metadata": {},
   "source": [
    "with open('questions', \"bw\") as f:\n",
    "        pickle.dump(questions, f)"
   ]
  },
  {
   "cell_type": "code",
   "execution_count": 145,
   "metadata": {},
   "outputs": [
    {
     "data": {
      "text/plain": [
       "(array([ 4270, 23653, 14174, 26242, 27618]),\n",
       " array([0.64584833, 0.60263   , 0.5729962 , 0.54728776, 0.54643303],\n",
       "       dtype=float32))"
      ]
     },
     "execution_count": 145,
     "metadata": {},
     "output_type": "execute_result"
    }
   ],
   "source": [
    "get_most_similar_question('adicionar transportadora nas notas fiscais geradas na rotina 1322')"
   ]
  },
  {
   "cell_type": "code",
   "execution_count": 150,
   "metadata": {},
   "outputs": [
    {
     "data": {
      "text/plain": [
       "'Como inserir transportadora em notas fiscais geradas pela rotina 1322 - Simples Remessa Baixando Estoque.'"
      ]
     },
     "execution_count": 150,
     "metadata": {},
     "output_type": "execute_result"
    }
   ],
   "source": [
    "df.iloc[4270].question"
   ]
  },
  {
   "cell_type": "code",
   "execution_count": 126,
   "metadata": {
    "colab": {
     "base_uri": "https://localhost:8080/",
     "height": 51
    },
    "colab_type": "code",
    "id": "ar5LKi8BX52w",
    "outputId": "94f86a9e-5b1f-4913-8d49-f323da4964a2"
   },
   "outputs": [
    {
     "name": "stdout",
     "output_type": "stream",
     "text": [
      "0.645848274230957 - 0.645848274230957\n",
      "0.6026300191879272 - 0.6026300191879272\n",
      "0.5729961395263672 - 0.5729961395263672\n",
      "0.5472877025604248 - 0.5472877025604248\n",
      "0.5464330315589905 - 0.5464330315589905\n",
      "0.5448733568191528 - 0.5448733568191528\n",
      "0.5358591079711914 - 0.5358591079711914\n",
      "0.531542956829071 - 0.531542956829071\n",
      "0.5271217823028564 - 0.5271217823028564\n",
      "0.5169530510902405 - 0.5169530510902405\n",
      "adicionar transportadora nas notas fiscais geradas na rotina 1322\n",
      "17835 - Por que um determinado lançamento não é apresentado na rotina 723?\n",
      "4270 - Como inserir transportadora em notas fiscais geradas pela rotina 1322 - Simples Remessa Baixando Estoque.\n",
      "0.5572085976600647 - 0.5572085976600647\n",
      "0.5351568460464478 - 0.5351568460464478\n",
      "0.5280529856681824 - 0.5280529856681824\n",
      "0.5269234776496887 - 0.5269234776496887\n",
      "0.5140586495399475 - 0.5140586495399475\n",
      "0.5049834847450256 - 0.5049834847450256\n",
      "0.49780139327049255 - 0.49780139327049255\n",
      "0.4954758882522583 - 0.4954758882522583\n",
      "0.49390849471092224 - 0.49390849471092224\n",
      "0.48328182101249695 - 0.48328182101249695\n",
      "preciso do meu relatório de clientes\n",
      "3300 - Como realizar uma copia de Sindicato entre coligadas?\n",
      "3884 - Como gerar um relatório que faça a listagem dos clientes cadastrados?\n",
      "0.7459278702735901 - 0.7459278702735901\n",
      "0.4588412046432495 - 0.4588412046432495\n",
      "0.4499703347682953 - 0.4499703347682953\n",
      "0.4455932676792145 - 0.4455932676792145\n",
      "0.4353722333908081 - 0.4353722333908081\n",
      "0.4294399321079254 - 0.4294399321079254\n",
      "0.42894628643989563 - 0.42894628643989563\n",
      "0.42738378047943115 - 0.42738378047943115\n",
      "0.42620596289634705 - 0.42620596289634705\n",
      "0.4254598021507263 - 0.4254598021507263\n",
      "preciso deletar a data de fechamento do inventário no software LF0201\n",
      "16271 - Como Cadastar/Excluir uma Categoria?\n",
      "26436 - Como apagar a data de fechamento do Inventário no programa LF0201?\n",
      "0.5240232348442078 - 0.5240232348442078\n",
      "0.49790653586387634 - 0.49790653586387634\n",
      "0.49504104256629944 - 0.49504104256629944\n",
      "0.4725293219089508 - 0.4725293219089508\n",
      "0.4682658910751343 - 0.4682658910751343\n",
      "0.4564697742462158 - 0.4564697742462158\n",
      "0.456234872341156 - 0.456234872341156\n",
      "0.45521220564842224 - 0.45521220564842224\n",
      "0.4498310089111328 - 0.4498310089111328\n",
      "0.44310253858566284 - 0.44310253858566284\n",
      "explicação sobre a rotina 2039\n",
      "10075 - Durante a inclusão de movimentos no sistema, ocorre o erro \"Nao existe nenhuma Glosa vinculada a classe de erro:\" juntamente com o código da classe de erro que gerou esta situação. Conforme o exemplo mencionado abaixo, onde o código 153 representa a classe de erro e o código 10101012 o código do procedimento:\"Nao existe nenhuma Glosa vinculada a classe de erro: 153 API/rcapi021 10101012\"\n",
      "17518 - Como utilizar a rotina 2024?\n",
      "0.5963812470436096 - 0.5963812470436096\n",
      "0.5896818041801453 - 0.5896818041801453\n",
      "0.5710474252700806 - 0.5710474252700806\n",
      "0.5683428645133972 - 0.5683428645133972\n",
      "0.5636336803436279 - 0.5636336803436279\n",
      "0.5483050346374512 - 0.5483050346374512\n",
      "0.5437726378440857 - 0.5437726378440857\n",
      "0.5405083894729614 - 0.5405083894729614\n",
      "0.5369815230369568 - 0.5369815230369568\n",
      "0.535049319267273 - 0.535049319267273\n",
      "erro ao imprimir nota fiscal danfe na rotina 1452\n",
      "10148 - eSocial - Simplificação: eSocial substitui informações para RAIS e CAGED - o que muda no Protheus?\n",
      "31953 - O que fazer quando a rotina 1452 não imprimir as notas e não apresentar mensagem de erro?\n",
      "0.7325006723403931 - 0.7325006723403931\n",
      "0.5225950479507446 - 0.5225950479507446\n",
      "0.5141765475273132 - 0.5141765475273132\n",
      "0.4801000654697418 - 0.4801000654697418\n",
      "0.4477766752243042 - 0.4477766752243042\n",
      "0.44772058725357056 - 0.44772058725357056\n",
      "0.4392022490501404 - 0.4392022490501404\n",
      "0.43122681975364685 - 0.43122681975364685\n",
      "0.42909207940101624 - 0.42909207940101624\n",
      "0.4216732084751129 - 0.4216732084751129\n",
      "erro de indica na tabela sn3\n",
      "24389 - Como permitir o desdobramento/agrupamento de títulos de clientes diferentes?\n",
      "10759 - Ocorre erro referente ao índice na tabela SN3, o que fazer?\n",
      "0.6059661507606506 - 0.6059661507606506\n",
      "0.5131093263626099 - 0.5131093263626099\n",
      "0.5028874278068542 - 0.5028874278068542\n",
      "0.48428472876548767 - 0.48428472876548767\n",
      "0.46297475695610046 - 0.46297475695610046\n",
      "0.46197637915611267 - 0.46197637915611267\n",
      "0.4592832922935486 - 0.4592832922935486\n",
      "0.4443565607070923 - 0.4443565607070923\n",
      "0.43510228395462036 - 0.43510228395462036\n",
      "0.433514267206192 - 0.433514267206192\n",
      "transferencia de bens na mesma empresa\n",
      "31190 - Como é realizada a contabilização de uma Nota Fiscal de Devolução a Fornecedor?\n",
      "17132 - Como efetuar a transferência de bens entre empresas?\n",
      "0.6349358558654785 - 0.6349358558654785\n",
      "0.6232276558876038 - 0.6232276558876038\n",
      "0.5543155670166016 - 0.5543155670166016\n",
      "0.5448984503746033 - 0.5448984503746033\n",
      "0.5292785167694092 - 0.5292785167694092\n",
      "0.5072128772735596 - 0.5072128772735596\n",
      "0.5046584606170654 - 0.5046584606170654\n",
      "0.49342983961105347 - 0.49342983961105347\n",
      "0.48716461658477783 - 0.48716461658477783\n",
      "0.4842483401298523 - 0.4842483401298523\n",
      "pedir frete no pedido de vendida da rotina 4116\n",
      "14416 - Como realizar entrada Tipo N na rotina 3010?\n",
      "26802 - Como solicitar frete na digitação do pedido de venda na rotina 4116?\n",
      "0.869260311126709 - 0.869260311126709\n",
      "0.4508129060268402 - 0.4508129060268402\n",
      "0.4208657145500183 - 0.4208657145500183\n",
      "0.41203629970550537 - 0.41203629970550537\n",
      "0.39657139778137207 - 0.39657139778137207\n",
      "0.39282217621803284 - 0.39282217621803284\n",
      "0.3922751247882843 - 0.3922751247882843\n",
      "0.38762524724006653 - 0.38762524724006653\n",
      "0.38596463203430176 - 0.38596463203430176\n",
      "0.3761090040206909 - 0.3761090040206909\n",
      "preencher automaticamente o endereço na FNRH\n",
      "28683 - Como corrigir o erro \"Parameter buffer for p- table in externos/ems5/triggers/twemprdz.p not matched by caller.\" exibido ao realizar alguma alteração no programa Exercício Contábil (bas_exerc_ctbl)?\n",
      "15121 - Preenchimento automático do endereço na FNRH\n",
      "0.8911898732185364 - 0.8911898732185364\n",
      "0.7036350965499878 - 0.7036350965499878\n",
      "0.6305792331695557 - 0.6305792331695557\n",
      "0.5921000242233276 - 0.5921000242233276\n",
      "0.5817390084266663 - 0.5817390084266663\n",
      "0.5606629848480225 - 0.5606629848480225\n",
      "0.5563789010047913 - 0.5563789010047913\n",
      "0.5478231906890869 - 0.5478231906890869\n",
      "0.5377299189567566 - 0.5377299189567566\n",
      "0.5292876958847046 - 0.5292876958847046\n",
      "função para converter arquivo doc para pdf\n",
      "19514 - Ao gerar o SPEDFISCAL com a opção BLOCO K = SIM ocorre o erro:array out of bounds ( 1 of 0 ) on BLOCOK(SPEDXFUN.PRW)\n",
      "17717 - Solicito uma função para conversão de um arquivo .doc para .PDF\n"
     ]
    }
   ],
   "source": [
    "for i, query in enumerate(questions):\n",
    "    raw_query = df.iloc[indices[i]].question\n",
    "    most_similar = get_most_similar_question(query)\n",
    "    if most_similar != i:\n",
    "        print(f'{query}')\n",
    "        print(f'{indices[i]} - {raw_query}')\n",
    "        print(f'{most_similar} - {df.iloc[most_similar].question}')"
   ]
  },
  {
   "cell_type": "code",
   "execution_count": 115,
   "metadata": {},
   "outputs": [
    {
     "data": {
      "text/plain": [
       "'https://centraldeatendimento.totvs.com/hc/pt-br/articles/360035902474-LG-PAT-Formas-de-transfer%C3%AAncia-de-um-bem-para-outro-na-mesma-empresa'"
      ]
     },
     "execution_count": 115,
     "metadata": {},
     "output_type": "execute_result"
    }
   ],
   "source": [
    "df.iloc[23587].html_url"
   ]
  },
  {
   "cell_type": "code",
   "execution_count": 114,
   "metadata": {},
   "outputs": [
    {
     "data": {
      "text/plain": [
       "'https://centraldeatendimento.totvs.com/hc/pt-br/articles/360025943751-LG-PAT-Como-efetuar-a-transfer%C3%AAncia-de-bens-entre-empresas'"
      ]
     },
     "execution_count": 114,
     "metadata": {},
     "output_type": "execute_result"
    }
   ],
   "source": [
    "df.iloc[17132].html_url"
   ]
  },
  {
   "cell_type": "code",
   "execution_count": 112,
   "metadata": {},
   "outputs": [
    {
     "data": {
      "text/plain": [
       "'https://centraldeatendimento.totvs.com/hc/pt-br/articles/360045420414-WINT-Como-utilizar-a-rotina-2039-Cadastro-de-Finalizadora'"
      ]
     },
     "execution_count": 112,
     "metadata": {},
     "output_type": "execute_result"
    }
   ],
   "source": [
    "df.iloc[1527].html_url"
   ]
  },
  {
   "cell_type": "code",
   "execution_count": 32,
   "metadata": {},
   "outputs": [],
   "source": [
    "from pycarol import Query"
   ]
  },
  {
   "cell_type": "code",
   "execution_count": 33,
   "metadata": {},
   "outputs": [],
   "source": [
    "from pycarol.filter import Filter, TYPE_FILTER, TERMS_FILTER"
   ]
  },
  {
   "cell_type": "code",
   "execution_count": 30,
   "metadata": {},
   "outputs": [],
   "source": [
    "def get_similar_questions(model, sentence_embeddings, query, k):\n",
    "    query_vec = model.encode([query])\n",
    "    score = np.sum(query_vec[0] * sentence_embeddings, axis=1) / np.linalg.norm(sentence_embeddings, axis=1)\n",
    "    print(score[:100])\n",
    "    topk_scores = np.sort(score)[::-1]\n",
    "    topk_idx = np.argsort(score)[::-1]\n",
    "    print(topk_idx[:k], topk_scores[:k])\n",
    "    return list(topk_idx[:k]), list(topk_scores[:k])"
   ]
  },
  {
   "cell_type": "code",
   "execution_count": 31,
   "metadata": {},
   "outputs": [],
   "source": [
    "def get_questions_by_ids(question_ids):\n",
    "    dm_name = 'articles'\n",
    "    query_filter = Filter.Builder().must(TYPE_FILTER(value=f'{dm_name}Golden')) \\\n",
    "        .must(TERMS_FILTER(key='mdmGoldenFieldAndValues.id.raw', value=question_ids)).build().to_json()\n",
    "    page_size=1000\n",
    "    return Query(target, page_size=page_size).query(query_filter).go().results"
   ]
  },
  {
   "cell_type": "code",
   "execution_count": 34,
   "metadata": {},
   "outputs": [],
   "source": [
    "def query(query):\n",
    "    k = 5\n",
    "    topk_idx, topk_scores = get_similar_questions(model, sentence_embeddings, query, k)\n",
    "    question_ids = [index_to_question_id_mapping[idx] for idx in topk_idx]\n",
    "    results = get_questions_by_ids(question_ids)\n",
    "    response = ''\n",
    "    for i, question_id in enumerate(question_ids):\n",
    "        result = [result for result in results if result['id'] == question_id][0]\n",
    "        response = response + 'Pergunta similar: ' + result['question'] + '\\n'\n",
    "        response = response + 'Resposta: ' + result['solution'] + '\\n'\n",
    "        response = response + 'Score: ' + str(topk_scores[topk_idx.index(question_id_to_index_mapping[question_id])])\n",
    "        if i != 4:\n",
    "            response = response +  '\\n\\n'\n",
    "    # for i, idx in enumerate(topk_idx):\n",
    "    #     question_id = index_to_question_id_mapping[idx]\n",
    "    #     question = get_question_by_id(question_id)[0]\n",
    "    #     response = response + 'Pergunta similar: ' + question.question + '\\n'\n",
    "    #     response = response + 'Resposta: ' + question.solution + '\\n'\n",
    "    #     response = response + 'Score: ' + topk_scores[i]\n",
    "    #     if i != 4:\n",
    "    #         response = response +  '\\n\\n'\n",
    "    return {'response': response}"
   ]
  },
  {
   "cell_type": "code",
   "execution_count": 35,
   "metadata": {},
   "outputs": [
    {
     "name": "stdout",
     "output_type": "stream",
     "text": [
      "[ 0.02887835 -0.00526772 -0.02707283 -0.03857228  0.03806132  0.04284458\n",
      "  0.0201705   0.06050855  0.05173742  0.03805823  0.02416999  0.04116369\n",
      " -0.06460869  0.09727325  0.08634991  0.01915933  0.08498693 -0.05493666\n",
      "  0.02492339 -0.00886754  0.10098135  0.06362017  0.0776341  -0.02791644\n",
      "  0.01163275  0.0192889  -0.01115312 -0.02294862 -0.00829241 -0.03112706\n",
      "  0.0017001  -0.04119982 -0.01010577 -0.00929159  0.05805634  0.00259353\n",
      " -0.02442231 -0.040168    0.00310044 -0.05039007 -0.00759398 -0.03024388\n",
      " -0.05424359  0.11716861  0.05606491  0.02613153  0.07075207 -0.02040705\n",
      "  0.00579199  0.05455872 -0.05031964  0.01694646  0.04972199  0.01136606\n",
      "  0.01005764 -0.02961715  0.05143109  0.02394645 -0.05122325 -0.06841542\n",
      " -0.0735998  -0.02130548  0.04605877 -0.08823569 -0.0147755   0.09354758\n",
      "  0.02888806 -0.02228448  0.09114084  0.04604091  0.07873157 -0.05889153\n",
      "  0.09564672  0.12373262 -0.00022965 -0.04361885  0.00578425 -0.03231039\n",
      "  0.00238829  0.0007079   0.11109977 -0.00406435  0.06321399  0.00227856\n",
      "  0.06531525 -0.02090733  0.02192954 -0.00389169 -0.01301247  0.01293307\n",
      "  0.16006744  0.05068972  0.06261808  0.03625499 -0.00513152  0.1324801\n",
      "  0.00259368  0.08164401 -0.00678477 -0.02514509]\n",
      "[ 4208 23173 32963 13854 25704] [0.64584833 0.60263    0.6007777  0.5729962  0.54728776]\n"
     ]
    },
    {
     "ename": "NameError",
     "evalue": "name 'index_to_question_id_mapping' is not defined",
     "output_type": "error",
     "traceback": [
      "\u001b[0;31m---------------------------------------------------------------------------\u001b[0m",
      "\u001b[0;31mNameError\u001b[0m                                 Traceback (most recent call last)",
      "\u001b[0;32m<ipython-input-35-e0dcf09d1731>\u001b[0m in \u001b[0;36m<module>\u001b[0;34m\u001b[0m\n\u001b[0;32m----> 1\u001b[0;31m \u001b[0mquery\u001b[0m\u001b[0;34m(\u001b[0m\u001b[0;34m'adicionar transportadora nas notas fiscais geradas na rotina 1322'\u001b[0m\u001b[0;34m)\u001b[0m\u001b[0;34m\u001b[0m\u001b[0;34m\u001b[0m\u001b[0m\n\u001b[0m",
      "\u001b[0;32m<ipython-input-34-b1d82c4daabd>\u001b[0m in \u001b[0;36mquery\u001b[0;34m(query)\u001b[0m\n\u001b[1;32m      2\u001b[0m     \u001b[0mk\u001b[0m \u001b[0;34m=\u001b[0m \u001b[0;36m5\u001b[0m\u001b[0;34m\u001b[0m\u001b[0;34m\u001b[0m\u001b[0m\n\u001b[1;32m      3\u001b[0m     \u001b[0mtopk_idx\u001b[0m\u001b[0;34m,\u001b[0m \u001b[0mtopk_scores\u001b[0m \u001b[0;34m=\u001b[0m \u001b[0mget_similar_questions\u001b[0m\u001b[0;34m(\u001b[0m\u001b[0mmodel\u001b[0m\u001b[0;34m,\u001b[0m \u001b[0msentence_embeddings\u001b[0m\u001b[0;34m,\u001b[0m \u001b[0mquery\u001b[0m\u001b[0;34m,\u001b[0m \u001b[0mk\u001b[0m\u001b[0;34m)\u001b[0m\u001b[0;34m\u001b[0m\u001b[0;34m\u001b[0m\u001b[0m\n\u001b[0;32m----> 4\u001b[0;31m     \u001b[0mquestion_ids\u001b[0m \u001b[0;34m=\u001b[0m \u001b[0;34m[\u001b[0m\u001b[0mindex_to_question_id_mapping\u001b[0m\u001b[0;34m[\u001b[0m\u001b[0midx\u001b[0m\u001b[0;34m]\u001b[0m \u001b[0;32mfor\u001b[0m \u001b[0midx\u001b[0m \u001b[0;32min\u001b[0m \u001b[0mtopk_idx\u001b[0m\u001b[0;34m]\u001b[0m\u001b[0;34m\u001b[0m\u001b[0;34m\u001b[0m\u001b[0m\n\u001b[0m\u001b[1;32m      5\u001b[0m     \u001b[0mresults\u001b[0m \u001b[0;34m=\u001b[0m \u001b[0mget_questions_by_ids\u001b[0m\u001b[0;34m(\u001b[0m\u001b[0mquestion_ids\u001b[0m\u001b[0;34m)\u001b[0m\u001b[0;34m\u001b[0m\u001b[0;34m\u001b[0m\u001b[0m\n\u001b[1;32m      6\u001b[0m     \u001b[0mresponse\u001b[0m \u001b[0;34m=\u001b[0m \u001b[0;34m''\u001b[0m\u001b[0;34m\u001b[0m\u001b[0;34m\u001b[0m\u001b[0m\n",
      "\u001b[0;32m<ipython-input-34-b1d82c4daabd>\u001b[0m in \u001b[0;36m<listcomp>\u001b[0;34m(.0)\u001b[0m\n\u001b[1;32m      2\u001b[0m     \u001b[0mk\u001b[0m \u001b[0;34m=\u001b[0m \u001b[0;36m5\u001b[0m\u001b[0;34m\u001b[0m\u001b[0;34m\u001b[0m\u001b[0m\n\u001b[1;32m      3\u001b[0m     \u001b[0mtopk_idx\u001b[0m\u001b[0;34m,\u001b[0m \u001b[0mtopk_scores\u001b[0m \u001b[0;34m=\u001b[0m \u001b[0mget_similar_questions\u001b[0m\u001b[0;34m(\u001b[0m\u001b[0mmodel\u001b[0m\u001b[0;34m,\u001b[0m \u001b[0msentence_embeddings\u001b[0m\u001b[0;34m,\u001b[0m \u001b[0mquery\u001b[0m\u001b[0;34m,\u001b[0m \u001b[0mk\u001b[0m\u001b[0;34m)\u001b[0m\u001b[0;34m\u001b[0m\u001b[0;34m\u001b[0m\u001b[0m\n\u001b[0;32m----> 4\u001b[0;31m     \u001b[0mquestion_ids\u001b[0m \u001b[0;34m=\u001b[0m \u001b[0;34m[\u001b[0m\u001b[0mindex_to_question_id_mapping\u001b[0m\u001b[0;34m[\u001b[0m\u001b[0midx\u001b[0m\u001b[0;34m]\u001b[0m \u001b[0;32mfor\u001b[0m \u001b[0midx\u001b[0m \u001b[0;32min\u001b[0m \u001b[0mtopk_idx\u001b[0m\u001b[0;34m]\u001b[0m\u001b[0;34m\u001b[0m\u001b[0;34m\u001b[0m\u001b[0m\n\u001b[0m\u001b[1;32m      5\u001b[0m     \u001b[0mresults\u001b[0m \u001b[0;34m=\u001b[0m \u001b[0mget_questions_by_ids\u001b[0m\u001b[0;34m(\u001b[0m\u001b[0mquestion_ids\u001b[0m\u001b[0;34m)\u001b[0m\u001b[0;34m\u001b[0m\u001b[0;34m\u001b[0m\u001b[0m\n\u001b[1;32m      6\u001b[0m     \u001b[0mresponse\u001b[0m \u001b[0;34m=\u001b[0m \u001b[0;34m''\u001b[0m\u001b[0;34m\u001b[0m\u001b[0;34m\u001b[0m\u001b[0m\n",
      "\u001b[0;31mNameError\u001b[0m: name 'index_to_question_id_mapping' is not defined"
     ]
    }
   ],
   "source": [
    "query('adicionar transportadora nas notas fiscais geradas na rotina 1322')"
   ]
  },
  {
   "cell_type": "code",
   "execution_count": 4,
   "metadata": {},
   "outputs": [],
   "source": [
    "import requests"
   ]
  },
  {
   "cell_type": "code",
   "execution_count": 11,
   "metadata": {},
   "outputs": [],
   "source": [
    "query = 'adicionar transportadora nas notas fiscais geradas na rotina 1322'"
   ]
  },
  {
   "cell_type": "code",
   "execution_count": 9,
   "metadata": {},
   "outputs": [],
   "source": [
    "query = 'qual a politica da LGPD?'"
   ]
  },
  {
   "cell_type": "code",
   "execution_count": 12,
   "metadata": {},
   "outputs": [
    {
     "name": "stdout",
     "output_type": "stream",
     "text": [
      "<Response [200]>\n",
      "{\"response\":[],\"session_id\":1}\n",
      "\n"
     ]
    },
    {
     "data": {
      "text/plain": [
       "{'response': [], 'session_id': 1}"
      ]
     },
     "execution_count": 12,
     "metadata": {},
     "output_type": "execute_result"
    }
   ],
   "source": [
    "data = {\n",
    "    'query': query,\n",
    "    'k': '3',\n",
    "    'threshold': '65'\n",
    "}\n",
    "\n",
    "response = requests.post(url='https://mendes-searchlgpd.apps.carol.ai/query',\n",
    "                                 json=data)\n",
    "print(response)\n",
    "print(response.text)\n",
    "response.json()"
   ]
  },
  {
   "cell_type": "code",
   "execution_count": null,
   "metadata": {},
   "outputs": [],
   "source": []
  }
 ],
 "metadata": {
  "colab": {
   "collapsed_sections": [],
   "name": "Sentence Transformers.ipynb",
   "provenance": []
  },
  "kernelspec": {
   "display_name": "bert",
   "language": "python",
   "name": "bert"
  },
  "language_info": {
   "codemirror_mode": {
    "name": "ipython",
    "version": 3
   },
   "file_extension": ".py",
   "mimetype": "text/x-python",
   "name": "python",
   "nbconvert_exporter": "python",
   "pygments_lexer": "ipython3",
   "version": "3.6.10"
  }
 },
 "nbformat": 4,
 "nbformat_minor": 4
}
