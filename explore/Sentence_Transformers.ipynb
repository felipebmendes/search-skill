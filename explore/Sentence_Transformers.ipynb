{
 "cells": [
  {
   "cell_type": "markdown",
   "metadata": {
    "colab_type": "text",
    "id": "wEwQofmxF_wq"
   },
   "source": [
    "Source: https://github.com/UKPLab/sentence-transformers"
   ]
  },
  {
   "cell_type": "code",
   "execution_count": 1,
   "metadata": {
    "colab": {
     "base_uri": "https://localhost:8080/",
     "height": 1000
    },
    "colab_type": "code",
    "collapsed": true,
    "id": "7Xk8N84dF8p4",
    "jupyter": {
     "outputs_hidden": true
    },
    "outputId": "c2fc59ba-9479-4607-b4e8-278699fc3bc1"
   },
   "outputs": [
    {
     "name": "stdout",
     "output_type": "stream",
     "text": [
      "Requirement already satisfied: pycarol in /Users/felipe/opt/miniconda3/envs/recommendation/lib/python3.8/site-packages (2.32.1)\n",
      "Requirement already satisfied: pyarrow>=0.15.1 in /Users/felipe/opt/miniconda3/envs/recommendation/lib/python3.8/site-packages (from pycarol) (0.16.0)\n",
      "Requirement already satisfied: google-auth in /Users/felipe/opt/miniconda3/envs/recommendation/lib/python3.8/site-packages (from pycarol) (1.13.1)\n",
      "Requirement already satisfied: google-auth-httplib2 in /Users/felipe/opt/miniconda3/envs/recommendation/lib/python3.8/site-packages (from pycarol) (0.0.3)\n",
      "Requirement already satisfied: tqdm in /Users/felipe/opt/miniconda3/envs/recommendation/lib/python3.8/site-packages (from pycarol) (4.45.0)\n",
      "Requirement already satisfied: gcsfs>=0.3.0 in /Users/felipe/opt/miniconda3/envs/recommendation/lib/python3.8/site-packages (from pycarol) (0.6.1)\n",
      "Requirement already satisfied: google-cloud-storage in /Users/felipe/opt/miniconda3/envs/recommendation/lib/python3.8/site-packages (from pycarol) (1.27.0)\n",
      "Requirement already satisfied: dash in /Users/felipe/opt/miniconda3/envs/recommendation/lib/python3.8/site-packages (from pycarol) (1.10.0)\n",
      "Requirement already satisfied: python-dotenv in /Users/felipe/opt/miniconda3/envs/recommendation/lib/python3.8/site-packages (from pycarol) (0.12.0)\n",
      "Requirement already satisfied: redis==2.10.6 in /Users/felipe/opt/miniconda3/envs/recommendation/lib/python3.8/site-packages (from pycarol) (2.10.6)\n",
      "Requirement already satisfied: deprecated in /Users/felipe/opt/miniconda3/envs/recommendation/lib/python3.8/site-packages (from pycarol) (1.2.8)\n",
      "Requirement already satisfied: bumpversion in /Users/felipe/opt/miniconda3/envs/recommendation/lib/python3.8/site-packages (from pycarol) (0.5.3)\n",
      "Requirement already satisfied: colorcet in /Users/felipe/opt/miniconda3/envs/recommendation/lib/python3.8/site-packages (from pycarol) (2.0.2)\n",
      "Requirement already satisfied: google-cloud-core>=1.3.0 in /Users/felipe/opt/miniconda3/envs/recommendation/lib/python3.8/site-packages (from pycarol) (1.3.0)\n",
      "Requirement already satisfied: dask[complete] in /Users/felipe/opt/miniconda3/envs/recommendation/lib/python3.8/site-packages (from pycarol) (2.14.0)\n",
      "Requirement already satisfied: urllib3 in /Users/felipe/opt/miniconda3/envs/recommendation/lib/python3.8/site-packages (from pycarol) (1.25.8)\n",
      "Requirement already satisfied: numpy==1.16.3 in /Users/felipe/opt/miniconda3/envs/recommendation/lib/python3.8/site-packages (from pycarol) (1.16.3)\n",
      "Requirement already satisfied: pytest in /Users/felipe/opt/miniconda3/envs/recommendation/lib/python3.8/site-packages (from pycarol) (5.4.1)\n",
      "Requirement already satisfied: requests in /Users/felipe/opt/miniconda3/envs/recommendation/lib/python3.8/site-packages (from pycarol) (2.23.0)\n",
      "Requirement already satisfied: papermill in /Users/felipe/opt/miniconda3/envs/recommendation/lib/python3.8/site-packages (from pycarol) (2.1.0)\n",
      "Requirement already satisfied: flask==1.0.2 in /Users/felipe/opt/miniconda3/envs/recommendation/lib/python3.8/site-packages (from pycarol) (1.0.2)\n",
      "Requirement already satisfied: joblib==0.11 in /Users/felipe/opt/miniconda3/envs/recommendation/lib/python3.8/site-packages (from pycarol) (0.11)\n",
      "Requirement already satisfied: click==7.0 in /Users/felipe/opt/miniconda3/envs/recommendation/lib/python3.8/site-packages (from pycarol) (7.0)\n",
      "Requirement already satisfied: pandas==0.23.4 in /Users/felipe/opt/miniconda3/envs/recommendation/lib/python3.8/site-packages (from pycarol) (0.23.4)\n",
      "Requirement already satisfied: dash-cytoscape in /Users/felipe/opt/miniconda3/envs/recommendation/lib/python3.8/site-packages (from pycarol) (0.1.1)\n",
      "Requirement already satisfied: pykube in /Users/felipe/opt/miniconda3/envs/recommendation/lib/python3.8/site-packages (from pycarol) (0.15.0)\n",
      "Requirement already satisfied: luigi in /Users/felipe/opt/miniconda3/envs/recommendation/lib/python3.8/site-packages (from pycarol) (2.8.12)\n",
      "Requirement already satisfied: fastparquet in /Users/felipe/opt/miniconda3/envs/recommendation/lib/python3.8/site-packages (from pycarol) (0.3.3)\n",
      "Requirement already satisfied: toolz in /Users/felipe/opt/miniconda3/envs/recommendation/lib/python3.8/site-packages (from pycarol) (0.10.0)\n",
      "Requirement already satisfied: six>=1.0.0 in /Users/felipe/opt/miniconda3/envs/recommendation/lib/python3.8/site-packages (from pyarrow>=0.15.1->pycarol) (1.14.0)\n",
      "Requirement already satisfied: setuptools>=40.3.0 in /Users/felipe/opt/miniconda3/envs/recommendation/lib/python3.8/site-packages (from google-auth->pycarol) (46.1.3.post20200325)\n",
      "Requirement already satisfied: rsa<4.1,>=3.1.4 in /Users/felipe/opt/miniconda3/envs/recommendation/lib/python3.8/site-packages (from google-auth->pycarol) (4.0)\n",
      "Requirement already satisfied: cachetools<5.0,>=2.0.0 in /Users/felipe/opt/miniconda3/envs/recommendation/lib/python3.8/site-packages (from google-auth->pycarol) (4.0.0)\n",
      "Requirement already satisfied: pyasn1-modules>=0.2.1 in /Users/felipe/opt/miniconda3/envs/recommendation/lib/python3.8/site-packages (from google-auth->pycarol) (0.2.8)\n",
      "Requirement already satisfied: httplib2>=0.9.1 in /Users/felipe/opt/miniconda3/envs/recommendation/lib/python3.8/site-packages (from google-auth-httplib2->pycarol) (0.17.1)\n",
      "Requirement already satisfied: google-auth-oauthlib in /Users/felipe/opt/miniconda3/envs/recommendation/lib/python3.8/site-packages (from gcsfs>=0.3.0->pycarol) (0.4.1)\n",
      "Requirement already satisfied: decorator in /Users/felipe/opt/miniconda3/envs/recommendation/lib/python3.8/site-packages (from gcsfs>=0.3.0->pycarol) (4.4.2)\n",
      "Requirement already satisfied: fsspec>=0.6.0 in /Users/felipe/opt/miniconda3/envs/recommendation/lib/python3.8/site-packages (from gcsfs>=0.3.0->pycarol) (0.7.1)\n",
      "Requirement already satisfied: google-resumable-media<0.6dev,>=0.5.0 in /Users/felipe/opt/miniconda3/envs/recommendation/lib/python3.8/site-packages (from google-cloud-storage->pycarol) (0.5.0)\n",
      "Requirement already satisfied: flask-compress in /Users/felipe/opt/miniconda3/envs/recommendation/lib/python3.8/site-packages (from dash->pycarol) (1.4.0)\n",
      "Requirement already satisfied: plotly in /Users/felipe/opt/miniconda3/envs/recommendation/lib/python3.8/site-packages (from dash->pycarol) (4.6.0)\n",
      "Requirement already satisfied: dash-html-components==1.0.3 in /Users/felipe/opt/miniconda3/envs/recommendation/lib/python3.8/site-packages (from dash->pycarol) (1.0.3)\n",
      "Requirement already satisfied: dash-table==4.6.2 in /Users/felipe/opt/miniconda3/envs/recommendation/lib/python3.8/site-packages (from dash->pycarol) (4.6.2)\n",
      "Requirement already satisfied: dash-renderer==1.3.0 in /Users/felipe/opt/miniconda3/envs/recommendation/lib/python3.8/site-packages (from dash->pycarol) (1.3.0)\n",
      "Requirement already satisfied: future in /Users/felipe/opt/miniconda3/envs/recommendation/lib/python3.8/site-packages (from dash->pycarol) (0.18.2)\n",
      "Requirement already satisfied: dash-core-components==1.9.0 in /Users/felipe/opt/miniconda3/envs/recommendation/lib/python3.8/site-packages (from dash->pycarol) (1.9.0)\n",
      "Requirement already satisfied: wrapt<2,>=1.10 in /Users/felipe/opt/miniconda3/envs/recommendation/lib/python3.8/site-packages (from deprecated->pycarol) (1.12.1)\n",
      "Requirement already satisfied: pyct>=0.4.4 in /Users/felipe/opt/miniconda3/envs/recommendation/lib/python3.8/site-packages (from colorcet->pycarol) (0.4.6)\n",
      "Requirement already satisfied: param>=1.7.0 in /Users/felipe/opt/miniconda3/envs/recommendation/lib/python3.8/site-packages (from colorcet->pycarol) (1.9.3)\n",
      "Requirement already satisfied: google-api-core<2.0.0dev,>=1.16.0 in /Users/felipe/opt/miniconda3/envs/recommendation/lib/python3.8/site-packages (from google-cloud-core>=1.3.0->pycarol) (1.16.0)\n",
      "Requirement already satisfied: partd>=0.3.10; extra == \"complete\" in /Users/felipe/opt/miniconda3/envs/recommendation/lib/python3.8/site-packages (from dask[complete]->pycarol) (1.1.0)\n",
      "Requirement already satisfied: PyYaml; extra == \"complete\" in /Users/felipe/opt/miniconda3/envs/recommendation/lib/python3.8/site-packages (from dask[complete]->pycarol) (5.3.1)\n",
      "Requirement already satisfied: cloudpickle>=0.2.2; extra == \"complete\" in /Users/felipe/opt/miniconda3/envs/recommendation/lib/python3.8/site-packages (from dask[complete]->pycarol) (1.3.0)\n",
      "Requirement already satisfied: bokeh>=1.0.0; extra == \"complete\" in /Users/felipe/opt/miniconda3/envs/recommendation/lib/python3.8/site-packages (from dask[complete]->pycarol) (2.0.1)\n",
      "Requirement already satisfied: distributed>=2.0; extra == \"complete\" in /Users/felipe/opt/miniconda3/envs/recommendation/lib/python3.8/site-packages (from dask[complete]->pycarol) (2.14.0)\n",
      "Requirement already satisfied: attrs>=17.4.0 in /Users/felipe/opt/miniconda3/envs/recommendation/lib/python3.8/site-packages (from pytest->pycarol) (19.3.0)\n",
      "Requirement already satisfied: wcwidth in /Users/felipe/opt/miniconda3/envs/recommendation/lib/python3.8/site-packages (from pytest->pycarol) (0.1.9)\n",
      "Requirement already satisfied: py>=1.5.0 in /Users/felipe/opt/miniconda3/envs/recommendation/lib/python3.8/site-packages (from pytest->pycarol) (1.8.1)\n",
      "Requirement already satisfied: more-itertools>=4.0.0 in /Users/felipe/opt/miniconda3/envs/recommendation/lib/python3.8/site-packages (from pytest->pycarol) (8.2.0)\n",
      "Requirement already satisfied: pluggy<1.0,>=0.12 in /Users/felipe/opt/miniconda3/envs/recommendation/lib/python3.8/site-packages (from pytest->pycarol) (0.13.1)\n",
      "Requirement already satisfied: packaging in /Users/felipe/opt/miniconda3/envs/recommendation/lib/python3.8/site-packages (from pytest->pycarol) (20.3)\n",
      "Requirement already satisfied: certifi>=2017.4.17 in /Users/felipe/opt/miniconda3/envs/recommendation/lib/python3.8/site-packages (from requests->pycarol) (2020.4.5.1)\n",
      "Requirement already satisfied: chardet<4,>=3.0.2 in /Users/felipe/opt/miniconda3/envs/recommendation/lib/python3.8/site-packages (from requests->pycarol) (3.0.4)\n",
      "Requirement already satisfied: idna<3,>=2.5 in /Users/felipe/opt/miniconda3/envs/recommendation/lib/python3.8/site-packages (from requests->pycarol) (2.9)\n",
      "Requirement already satisfied: black in /Users/felipe/opt/miniconda3/envs/recommendation/lib/python3.8/site-packages (from papermill->pycarol) (19.10b0)\n",
      "Requirement already satisfied: ansiwrap in /Users/felipe/opt/miniconda3/envs/recommendation/lib/python3.8/site-packages (from papermill->pycarol) (0.8.4)\n",
      "Requirement already satisfied: jupyter-client in /Users/felipe/opt/miniconda3/envs/recommendation/lib/python3.8/site-packages (from papermill->pycarol) (6.1.2)\n",
      "Requirement already satisfied: entrypoints in /Users/felipe/opt/miniconda3/envs/recommendation/lib/python3.8/site-packages (from papermill->pycarol) (0.3)\n",
      "Requirement already satisfied: tenacity in /Users/felipe/opt/miniconda3/envs/recommendation/lib/python3.8/site-packages (from papermill->pycarol) (6.1.0)\n",
      "Requirement already satisfied: nbclient>=0.2.0 in /Users/felipe/opt/miniconda3/envs/recommendation/lib/python3.8/site-packages (from papermill->pycarol) (0.2.0)\n",
      "Requirement already satisfied: nbformat in /Users/felipe/opt/miniconda3/envs/recommendation/lib/python3.8/site-packages (from papermill->pycarol) (5.0.5)\n",
      "Requirement already satisfied: Jinja2>=2.10 in /Users/felipe/opt/miniconda3/envs/recommendation/lib/python3.8/site-packages (from flask==1.0.2->pycarol) (2.11.1)\n",
      "Requirement already satisfied: Werkzeug>=0.14 in /Users/felipe/opt/miniconda3/envs/recommendation/lib/python3.8/site-packages (from flask==1.0.2->pycarol) (1.0.1)\n",
      "Requirement already satisfied: itsdangerous>=0.24 in /Users/felipe/opt/miniconda3/envs/recommendation/lib/python3.8/site-packages (from flask==1.0.2->pycarol) (1.1.0)\n",
      "Requirement already satisfied: python-dateutil>=2.5.0 in /Users/felipe/opt/miniconda3/envs/recommendation/lib/python3.8/site-packages (from pandas==0.23.4->pycarol) (2.8.1)\n",
      "Requirement already satisfied: pytz>=2011k in /Users/felipe/opt/miniconda3/envs/recommendation/lib/python3.8/site-packages (from pandas==0.23.4->pycarol) (2019.3)\n",
      "Requirement already satisfied: oauth2client in /Users/felipe/opt/miniconda3/envs/recommendation/lib/python3.8/site-packages (from pykube->pycarol) (4.1.3)\n",
      "Requirement already satisfied: requests-oauthlib in /Users/felipe/opt/miniconda3/envs/recommendation/lib/python3.8/site-packages (from pykube->pycarol) (1.3.0)\n",
      "Requirement already satisfied: tzlocal in /Users/felipe/opt/miniconda3/envs/recommendation/lib/python3.8/site-packages (from pykube->pycarol) (2.0.0)\n",
      "Requirement already satisfied: python-daemon in /Users/felipe/opt/miniconda3/envs/recommendation/lib/python3.8/site-packages (from luigi->pycarol) (2.2.4)\n",
      "Requirement already satisfied: tornado<6,>=4.0 in /Users/felipe/opt/miniconda3/envs/recommendation/lib/python3.8/site-packages (from luigi->pycarol) (5.1.1)\n",
      "Requirement already satisfied: thrift>=0.11.0 in /Users/felipe/opt/miniconda3/envs/recommendation/lib/python3.8/site-packages (from fastparquet->pycarol) (0.13.0)\n",
      "Requirement already satisfied: numba>=0.28 in /Users/felipe/opt/miniconda3/envs/recommendation/lib/python3.8/site-packages (from fastparquet->pycarol) (0.48.0)\n",
      "Requirement already satisfied: pyasn1>=0.1.3 in /Users/felipe/opt/miniconda3/envs/recommendation/lib/python3.8/site-packages (from rsa<4.1,>=3.1.4->google-auth->pycarol) (0.4.8)\n",
      "Requirement already satisfied: retrying>=1.3.3 in /Users/felipe/opt/miniconda3/envs/recommendation/lib/python3.8/site-packages (from plotly->dash->pycarol) (1.3.3)\n",
      "Requirement already satisfied: googleapis-common-protos<2.0dev,>=1.6.0 in /Users/felipe/opt/miniconda3/envs/recommendation/lib/python3.8/site-packages (from google-api-core<2.0.0dev,>=1.16.0->google-cloud-core>=1.3.0->pycarol) (1.51.0)\n",
      "Requirement already satisfied: protobuf>=3.4.0 in /Users/felipe/opt/miniconda3/envs/recommendation/lib/python3.8/site-packages (from google-api-core<2.0.0dev,>=1.16.0->google-cloud-core>=1.3.0->pycarol) (3.11.3)\n",
      "Requirement already satisfied: locket in /Users/felipe/opt/miniconda3/envs/recommendation/lib/python3.8/site-packages (from partd>=0.3.10; extra == \"complete\"->dask[complete]->pycarol) (0.2.0)\n",
      "Requirement already satisfied: pillow>=4.0 in /Users/felipe/opt/miniconda3/envs/recommendation/lib/python3.8/site-packages (from bokeh>=1.0.0; extra == \"complete\"->dask[complete]->pycarol) (7.1.1)\n",
      "Requirement already satisfied: typing-extensions>=3.7.4 in /Users/felipe/opt/miniconda3/envs/recommendation/lib/python3.8/site-packages (from bokeh>=1.0.0; extra == \"complete\"->dask[complete]->pycarol) (3.7.4.2)\n",
      "Requirement already satisfied: sortedcontainers!=2.0.0,!=2.0.1 in /Users/felipe/opt/miniconda3/envs/recommendation/lib/python3.8/site-packages (from distributed>=2.0; extra == \"complete\"->dask[complete]->pycarol) (2.1.0)\n",
      "Requirement already satisfied: zict>=0.1.3 in /Users/felipe/opt/miniconda3/envs/recommendation/lib/python3.8/site-packages (from distributed>=2.0; extra == \"complete\"->dask[complete]->pycarol) (2.0.0)\n",
      "Requirement already satisfied: msgpack>=0.6.0 in /Users/felipe/opt/miniconda3/envs/recommendation/lib/python3.8/site-packages (from distributed>=2.0; extra == \"complete\"->dask[complete]->pycarol) (1.0.0)\n",
      "Requirement already satisfied: tblib>=1.6.0 in /Users/felipe/opt/miniconda3/envs/recommendation/lib/python3.8/site-packages (from distributed>=2.0; extra == \"complete\"->dask[complete]->pycarol) (1.6.0)\n",
      "Requirement already satisfied: psutil>=5.0 in /Users/felipe/opt/miniconda3/envs/recommendation/lib/python3.8/site-packages (from distributed>=2.0; extra == \"complete\"->dask[complete]->pycarol) (5.7.0)\n",
      "Requirement already satisfied: pyparsing>=2.0.2 in /Users/felipe/opt/miniconda3/envs/recommendation/lib/python3.8/site-packages (from packaging->pytest->pycarol) (2.4.7)\n",
      "Requirement already satisfied: regex in /Users/felipe/opt/miniconda3/envs/recommendation/lib/python3.8/site-packages (from black->papermill->pycarol) (2020.4.4)\n",
      "Requirement already satisfied: appdirs in /Users/felipe/opt/miniconda3/envs/recommendation/lib/python3.8/site-packages (from black->papermill->pycarol) (1.4.3)\n",
      "Requirement already satisfied: typed-ast>=1.4.0 in /Users/felipe/opt/miniconda3/envs/recommendation/lib/python3.8/site-packages (from black->papermill->pycarol) (1.4.1)\n",
      "Requirement already satisfied: pathspec<1,>=0.6 in /Users/felipe/opt/miniconda3/envs/recommendation/lib/python3.8/site-packages (from black->papermill->pycarol) (0.7.0)\n",
      "Requirement already satisfied: toml>=0.9.4 in /Users/felipe/opt/miniconda3/envs/recommendation/lib/python3.8/site-packages (from black->papermill->pycarol) (0.10.0)\n",
      "Requirement already satisfied: textwrap3>=0.9.2 in /Users/felipe/opt/miniconda3/envs/recommendation/lib/python3.8/site-packages (from ansiwrap->papermill->pycarol) (0.9.2)\n",
      "Requirement already satisfied: jupyter-core>=4.6.0 in /Users/felipe/opt/miniconda3/envs/recommendation/lib/python3.8/site-packages (from jupyter-client->papermill->pycarol) (4.6.3)\n",
      "Requirement already satisfied: pyzmq>=13 in /Users/felipe/opt/miniconda3/envs/recommendation/lib/python3.8/site-packages (from jupyter-client->papermill->pycarol) (19.0.0)\n",
      "Requirement already satisfied: traitlets in /Users/felipe/opt/miniconda3/envs/recommendation/lib/python3.8/site-packages (from jupyter-client->papermill->pycarol) (4.3.3)\n",
      "Requirement already satisfied: async-generator in /Users/felipe/opt/miniconda3/envs/recommendation/lib/python3.8/site-packages (from nbclient>=0.2.0->papermill->pycarol) (1.10)\n",
      "Requirement already satisfied: nest-asyncio in /Users/felipe/opt/miniconda3/envs/recommendation/lib/python3.8/site-packages (from nbclient>=0.2.0->papermill->pycarol) (1.3.2)\n",
      "Requirement already satisfied: jsonschema!=2.5.0,>=2.4 in /Users/felipe/opt/miniconda3/envs/recommendation/lib/python3.8/site-packages (from nbformat->papermill->pycarol) (3.2.0)\n",
      "Requirement already satisfied: ipython-genutils in /Users/felipe/opt/miniconda3/envs/recommendation/lib/python3.8/site-packages (from nbformat->papermill->pycarol) (0.2.0)\n",
      "Requirement already satisfied: MarkupSafe>=0.23 in /Users/felipe/opt/miniconda3/envs/recommendation/lib/python3.8/site-packages (from Jinja2>=2.10->flask==1.0.2->pycarol) (1.1.1)\n",
      "Requirement already satisfied: oauthlib>=3.0.0 in /Users/felipe/opt/miniconda3/envs/recommendation/lib/python3.8/site-packages (from requests-oauthlib->pykube->pycarol) (3.1.0)\n",
      "Requirement already satisfied: docutils in /Users/felipe/opt/miniconda3/envs/recommendation/lib/python3.8/site-packages (from python-daemon->luigi->pycarol) (0.16)\n",
      "Requirement already satisfied: lockfile>=0.10 in /Users/felipe/opt/miniconda3/envs/recommendation/lib/python3.8/site-packages (from python-daemon->luigi->pycarol) (0.12.2)\n",
      "Requirement already satisfied: llvmlite<0.32.0,>=0.31.0dev0 in /Users/felipe/opt/miniconda3/envs/recommendation/lib/python3.8/site-packages (from numba>=0.28->fastparquet->pycarol) (0.31.0)\n",
      "Requirement already satisfied: heapdict in /Users/felipe/opt/miniconda3/envs/recommendation/lib/python3.8/site-packages (from zict>=0.1.3->distributed>=2.0; extra == \"complete\"->dask[complete]->pycarol) (1.0.1)\n",
      "Requirement already satisfied: pyrsistent>=0.14.0 in /Users/felipe/opt/miniconda3/envs/recommendation/lib/python3.8/site-packages (from jsonschema!=2.5.0,>=2.4->nbformat->papermill->pycarol) (0.16.0)\n",
      "Requirement already up-to-date: sentence-transformers in /Users/felipe/opt/miniconda3/envs/recommendation/lib/python3.8/site-packages (0.2.6.1)\n",
      "Requirement already satisfied, skipping upgrade: numpy in /Users/felipe/opt/miniconda3/envs/recommendation/lib/python3.8/site-packages (from sentence-transformers) (1.16.3)\n",
      "Requirement already satisfied, skipping upgrade: transformers>=2.8.0 in /Users/felipe/opt/miniconda3/envs/recommendation/lib/python3.8/site-packages (from sentence-transformers) (2.9.1)\n",
      "Requirement already satisfied, skipping upgrade: torch>=1.0.1 in /Users/felipe/opt/miniconda3/envs/recommendation/lib/python3.8/site-packages (from sentence-transformers) (1.5.0)\n",
      "Requirement already satisfied, skipping upgrade: tqdm in /Users/felipe/opt/miniconda3/envs/recommendation/lib/python3.8/site-packages (from sentence-transformers) (4.45.0)\n",
      "Requirement already satisfied, skipping upgrade: scipy in /Users/felipe/opt/miniconda3/envs/recommendation/lib/python3.8/site-packages (from sentence-transformers) (1.4.1)\n",
      "Requirement already satisfied, skipping upgrade: nltk in /Users/felipe/opt/miniconda3/envs/recommendation/lib/python3.8/site-packages (from sentence-transformers) (3.5)\n",
      "Requirement already satisfied, skipping upgrade: scikit-learn in /Users/felipe/opt/miniconda3/envs/recommendation/lib/python3.8/site-packages (from sentence-transformers) (0.22.2.post1)\n",
      "Requirement already satisfied, skipping upgrade: regex!=2019.12.17 in /Users/felipe/opt/miniconda3/envs/recommendation/lib/python3.8/site-packages (from transformers>=2.8.0->sentence-transformers) (2020.4.4)\n",
      "Requirement already satisfied, skipping upgrade: sentencepiece in /Users/felipe/opt/miniconda3/envs/recommendation/lib/python3.8/site-packages (from transformers>=2.8.0->sentence-transformers) (0.1.90)\n",
      "Requirement already satisfied, skipping upgrade: sacremoses in /Users/felipe/opt/miniconda3/envs/recommendation/lib/python3.8/site-packages (from transformers>=2.8.0->sentence-transformers) (0.0.43)\n",
      "Requirement already satisfied, skipping upgrade: filelock in /Users/felipe/opt/miniconda3/envs/recommendation/lib/python3.8/site-packages (from transformers>=2.8.0->sentence-transformers) (3.0.12)\n",
      "Requirement already satisfied, skipping upgrade: tokenizers==0.7.0 in /Users/felipe/opt/miniconda3/envs/recommendation/lib/python3.8/site-packages (from transformers>=2.8.0->sentence-transformers) (0.7.0)\n",
      "Requirement already satisfied, skipping upgrade: requests in /Users/felipe/opt/miniconda3/envs/recommendation/lib/python3.8/site-packages (from transformers>=2.8.0->sentence-transformers) (2.23.0)\n",
      "Requirement already satisfied, skipping upgrade: future in /Users/felipe/opt/miniconda3/envs/recommendation/lib/python3.8/site-packages (from torch>=1.0.1->sentence-transformers) (0.18.2)\n",
      "Requirement already satisfied, skipping upgrade: joblib in /Users/felipe/opt/miniconda3/envs/recommendation/lib/python3.8/site-packages (from nltk->sentence-transformers) (0.11)\n",
      "Requirement already satisfied, skipping upgrade: click in /Users/felipe/opt/miniconda3/envs/recommendation/lib/python3.8/site-packages (from nltk->sentence-transformers) (7.0)\n",
      "Requirement already satisfied, skipping upgrade: six in /Users/felipe/opt/miniconda3/envs/recommendation/lib/python3.8/site-packages (from sacremoses->transformers>=2.8.0->sentence-transformers) (1.14.0)\n",
      "Requirement already satisfied, skipping upgrade: chardet<4,>=3.0.2 in /Users/felipe/opt/miniconda3/envs/recommendation/lib/python3.8/site-packages (from requests->transformers>=2.8.0->sentence-transformers) (3.0.4)\n",
      "Requirement already satisfied, skipping upgrade: certifi>=2017.4.17 in /Users/felipe/opt/miniconda3/envs/recommendation/lib/python3.8/site-packages (from requests->transformers>=2.8.0->sentence-transformers) (2020.4.5.1)\n",
      "Requirement already satisfied, skipping upgrade: urllib3!=1.25.0,!=1.25.1,<1.26,>=1.21.1 in /Users/felipe/opt/miniconda3/envs/recommendation/lib/python3.8/site-packages (from requests->transformers>=2.8.0->sentence-transformers) (1.25.8)\n",
      "Requirement already satisfied, skipping upgrade: idna<3,>=2.5 in /Users/felipe/opt/miniconda3/envs/recommendation/lib/python3.8/site-packages (from requests->transformers>=2.8.0->sentence-transformers) (2.9)\n"
     ]
    }
   ],
   "source": [
    "!pip install pycarol\n",
    "!pip install -U sentence-transformers"
   ]
  },
  {
   "cell_type": "code",
   "execution_count": 4,
   "metadata": {
    "colab": {},
    "colab_type": "code",
    "id": "_tMy4TDqczHh"
   },
   "outputs": [],
   "source": [
    "from pycarol import Carol, Staging, ApiKeyAuth, Storage, PwdAuth\n",
    "import pandas as pd\n",
    "import pickle\n",
    "import numpy as np\n",
    "import re\n",
    "import math"
   ]
  },
  {
   "cell_type": "code",
   "execution_count": 5,
   "metadata": {
    "colab": {},
    "colab_type": "code",
    "id": "RFV1IftLeD-1"
   },
   "outputs": [],
   "source": [
    "login_dont = Carol(domain='monitoriaqa',\n",
    "app_name=' ',\n",
    "organization='totvs',\n",
    "auth=PwdAuth('fmendes@totvs.com.br', 'Intxdx70248821*'))"
   ]
  },
  {
   "cell_type": "code",
   "execution_count": 67,
   "metadata": {
    "colab": {
     "base_uri": "https://localhost:8080/",
     "height": 34
    },
    "colab_type": "code",
    "id": "vFmEL3xUecDu",
    "outputId": "64d03f39-e900-448f-bbe5-b234bf3e108f"
   },
   "outputs": [
    {
     "name": "stderr",
     "output_type": "stream",
     "text": [
      "100%|██████████| 71/71 [01:31<00:00,  1.28s/it]\n"
     ]
    }
   ],
   "source": [
    "df = Staging(login_dont).fetch_parquet(staging_name='articles',\n",
    "                        connector_name='carol_connect_zerado',\n",
    "                        cds=True\n",
    "                        )"
   ]
  },
  {
   "cell_type": "code",
   "execution_count": 68,
   "metadata": {},
   "outputs": [],
   "source": [
    "df = df.astype(str)"
   ]
  },
  {
   "cell_type": "code",
   "execution_count": 69,
   "metadata": {
    "colab": {
     "base_uri": "https://localhost:8080/",
     "height": 34
    },
    "colab_type": "code",
    "id": "qR35FD4ulmR4",
    "outputId": "5b3d5070-d840-469f-be09-6b848147f1d7"
   },
   "outputs": [
    {
     "data": {
      "text/plain": [
       "(36332, 26)"
      ]
     },
     "execution_count": 69,
     "metadata": {},
     "output_type": "execute_result"
    }
   ],
   "source": [
    "df.shape"
   ]
  },
  {
   "cell_type": "code",
   "execution_count": 70,
   "metadata": {
    "colab": {},
    "colab_type": "code",
    "id": "5io2Da-NlgiZ"
   },
   "outputs": [],
   "source": [
    "df = df.replace('', np.nan)"
   ]
  },
  {
   "cell_type": "code",
   "execution_count": 71,
   "metadata": {
    "colab": {},
    "colab_type": "code",
    "id": "mqVg5el0enBX"
   },
   "outputs": [],
   "source": [
    "df = df[(df.source_locale == 'pt-br') & (~df.body.isnull())]"
   ]
  },
  {
   "cell_type": "code",
   "execution_count": 72,
   "metadata": {
    "colab": {},
    "colab_type": "code",
    "id": "m0sYADvPczHq"
   },
   "outputs": [],
   "source": [
    "def remove_html_tags(text):\n",
    "    \"\"\"Remove html tags from a string\"\"\"\n",
    "    clean = re.compile('<.*?>')\n",
    "    text = re.sub(clean, '', text)\n",
    "    return \" \".join(re.sub(r'\\s([?.!\"](?:\\s|$))', r'\\1', text).strip().split())"
   ]
  },
  {
   "cell_type": "code",
   "execution_count": 73,
   "metadata": {
    "colab": {},
    "colab_type": "code",
    "id": "Q4b9-kItgVvd"
   },
   "outputs": [],
   "source": [
    "def get_question(body):\n",
    "    \n",
    "    body = body.replace('\\n', '').replace('<br>', '')\n",
    "\n",
    "    m = re.search('(?<=<strong>D(ú|u)vida).*?(?=<strong>Ambiente)', body, re.IGNORECASE)\n",
    "    if m:\n",
    "        return remove_html_tags(m.group(0))\n",
    "        \n",
    "    m = re.search('(?<=<strong>Ocorr(ê|e)ncia).*?(?=<strong>Ambiente)', body, re.IGNORECASE)\n",
    "    if m:\n",
    "        return remove_html_tags(m.group(0))\n",
    "    \n",
    "    return np.nan"
   ]
  },
  {
   "cell_type": "code",
   "execution_count": 74,
   "metadata": {
    "colab": {},
    "colab_type": "code",
    "id": "IsCB__H7gYSy"
   },
   "outputs": [],
   "source": [
    "def get_question_type(body):\n",
    "    \n",
    "    body = body.replace('\\n', '').replace('<br>', '')\n",
    "\n",
    "    m = re.search('(?<=<strong>D(ú|u)vida).*?(?=<strong>Ambiente)', body, re.IGNORECASE)\n",
    "    if m:\n",
    "        return 'question'\n",
    "\n",
    "    m = re.search('(?<=<strong>Ocorr(ê|e)ncia).*?(?=<strong>Ambiente)', body, re.IGNORECASE)\n",
    "    if m:\n",
    "        return 'occurrence'\n",
    "    \n",
    "    return np.nan"
   ]
  },
  {
   "cell_type": "code",
   "execution_count": 75,
   "metadata": {
    "colab": {},
    "colab_type": "code",
    "id": "gwYQfTcLga--"
   },
   "outputs": [],
   "source": [
    "def get_environment(body):\n",
    "    \n",
    "    body = body.replace('\\n', '').replace('<br>', '')\n",
    "\n",
    "    m = re.search('(?=<strong>Ambiente).*?(?=<strong>Solu(ç|c)(ã|a)o)', body, re.IGNORECASE)\n",
    "    if not m:\n",
    "        return np.nan\n",
    "    return remove_html_tags(m.group(0))"
   ]
  },
  {
   "cell_type": "code",
   "execution_count": 76,
   "metadata": {
    "colab": {},
    "colab_type": "code",
    "id": "VPkw5F9ogd7A"
   },
   "outputs": [],
   "source": [
    "def get_solution(body):\n",
    "    \n",
    "    body = body.replace('\\n', '').replace('<br>', '')\n",
    "\n",
    "    m = re.search('(?<=<strong>Solu(ç|c)(ã|a)o)(?s)(.*$)', body, re.IGNORECASE)\n",
    "    if not m:\n",
    "        return np.nan\n",
    "    return m.group(0)"
   ]
  },
  {
   "cell_type": "code",
   "execution_count": 77,
   "metadata": {
    "colab": {},
    "colab_type": "code",
    "id": "f3cCEN-ZhGr-"
   },
   "outputs": [],
   "source": [
    "def get_sanitized_solution(body):\n",
    "    \n",
    "    body = body.replace('\\n', '').replace('<br>', '')\n",
    "\n",
    "    m = re.search('(?<=<strong>Solu(ç|c)(ã|a)o)(?s)(.*$)', body, re.IGNORECASE)\n",
    "    if not m:\n",
    "        return np.nan\n",
    "    return remove_html_tags(m.group(0))"
   ]
  },
  {
   "cell_type": "code",
   "execution_count": 78,
   "metadata": {
    "colab": {
     "base_uri": "https://localhost:8080/",
     "height": 51
    },
    "colab_type": "code",
    "id": "ruNHNLegghpQ",
    "outputId": "0b08873d-9c53-4413-b60a-bb8fc73d1d7a"
   },
   "outputs": [],
   "source": [
    "df['question'] = df.body.apply(get_question)\n",
    "df['question_type'] = df.body.apply(get_question_type)\n",
    "df['environment'] = df.body.apply(get_environment)\n",
    "df['solution'] = df.body.apply(get_solution)\n",
    "df['sanitized_solution'] = df.body.apply(get_sanitized_solution)"
   ]
  },
  {
   "cell_type": "code",
   "execution_count": 79,
   "metadata": {
    "colab": {},
    "colab_type": "code",
    "id": "X2dwj6g5xPGV"
   },
   "outputs": [],
   "source": [
    "df = df.replace('', np.nan)"
   ]
  },
  {
   "cell_type": "code",
   "execution_count": 80,
   "metadata": {
    "colab": {
     "base_uri": "https://localhost:8080/",
     "height": 479
    },
    "colab_type": "code",
    "id": "tE2oKqyrczHr",
    "outputId": "2d87799f-3c09-44ed-817e-d4d412d12d84"
   },
   "outputs": [
    {
     "data": {
      "text/html": [
       "<div>\n",
       "<style scoped>\n",
       "    .dataframe tbody tr th:only-of-type {\n",
       "        vertical-align: middle;\n",
       "    }\n",
       "\n",
       "    .dataframe tbody tr th {\n",
       "        vertical-align: top;\n",
       "    }\n",
       "\n",
       "    .dataframe thead th {\n",
       "        text-align: right;\n",
       "    }\n",
       "</style>\n",
       "<table border=\"1\" class=\"dataframe\">\n",
       "  <thead>\n",
       "    <tr style=\"text-align: right;\">\n",
       "      <th></th>\n",
       "      <th>__v</th>\n",
       "      <th>author_id</th>\n",
       "      <th>body</th>\n",
       "      <th>brand_id</th>\n",
       "      <th>brand_name</th>\n",
       "      <th>comments_disabled</th>\n",
       "      <th>created_at</th>\n",
       "      <th>draft</th>\n",
       "      <th>edited_at</th>\n",
       "      <th>html_url</th>\n",
       "      <th>...</th>\n",
       "      <th>updated</th>\n",
       "      <th>updated_at</th>\n",
       "      <th>url</th>\n",
       "      <th>vote_count</th>\n",
       "      <th>vote_sum</th>\n",
       "      <th>question</th>\n",
       "      <th>question_type</th>\n",
       "      <th>environment</th>\n",
       "      <th>solution</th>\n",
       "      <th>sanitized_solution</th>\n",
       "    </tr>\n",
       "  </thead>\n",
       "  <tbody>\n",
       "    <tr>\n",
       "      <th>0</th>\n",
       "      <td>0</td>\n",
       "      <td>19660061288.0</td>\n",
       "      <td>&lt;p&gt;&lt;br&gt;&lt;strong&gt;Dúvida&lt;/strong&gt;&lt;strong&gt;&lt;br&gt;&lt;/st...</td>\n",
       "      <td>2911068</td>\n",
       "      <td>Fluig</td>\n",
       "      <td>False</td>\n",
       "      <td>2019-08-27T16:20:33.000Z</td>\n",
       "      <td>False</td>\n",
       "      <td>2019-08-27T16:20:37.000Z</td>\n",
       "      <td>https://centraldeatendimento.fluig.com/hc/pt-b...</td>\n",
       "      <td>...</td>\n",
       "      <td>False</td>\n",
       "      <td>2019-08-27T16:20:37.000Z</td>\n",
       "      <td>https://fluigexterno.zendesk.com/api/v2/help_c...</td>\n",
       "      <td>0</td>\n",
       "      <td>0</td>\n",
       "      <td>Como faço para configurar o widget Analytics e...</td>\n",
       "      <td>question</td>\n",
       "      <td>Ambientefluig - Analytics - A partir da versão...</td>\n",
       "      <td>&lt;/strong&gt;&lt;strong&gt;&lt;/strong&gt;Siga os passos abaix...</td>\n",
       "      <td>Siga os passos abaixo para a configuração do w...</td>\n",
       "    </tr>\n",
       "    <tr>\n",
       "      <th>1</th>\n",
       "      <td>0</td>\n",
       "      <td>19660061288.0</td>\n",
       "      <td>&lt;p&gt;&lt;br&gt;&lt;strong&gt;Dúvida&lt;/strong&gt;&lt;strong&gt;&lt;br&gt;&lt;/st...</td>\n",
       "      <td>2911068</td>\n",
       "      <td>Fluig</td>\n",
       "      <td>False</td>\n",
       "      <td>2019-08-27T14:35:14.000Z</td>\n",
       "      <td>False</td>\n",
       "      <td>2019-08-27T14:36:32.000Z</td>\n",
       "      <td>https://centraldeatendimento.fluig.com/hc/pt-b...</td>\n",
       "      <td>...</td>\n",
       "      <td>False</td>\n",
       "      <td>2019-08-27T14:36:32.000Z</td>\n",
       "      <td>https://fluigexterno.zendesk.com/api/v2/help_c...</td>\n",
       "      <td>0</td>\n",
       "      <td>0</td>\n",
       "      <td>Ao tentar alterar as informações de um usuário...</td>\n",
       "      <td>question</td>\n",
       "      <td>Ambientefluig - Configuração de uso - A partir...</td>\n",
       "      <td>&lt;/strong&gt;Detectamos que essa situação também p...</td>\n",
       "      <td>Detectamos que essa situação também pode ocorr...</td>\n",
       "    </tr>\n",
       "    <tr>\n",
       "      <th>2</th>\n",
       "      <td>0</td>\n",
       "      <td>19660061288.0</td>\n",
       "      <td>&lt;p&gt;&lt;strong&gt;&lt;br&gt;Ocorrência&lt;/strong&gt;&lt;strong&gt;&lt;br&gt;...</td>\n",
       "      <td>2911068</td>\n",
       "      <td>Fluig</td>\n",
       "      <td>False</td>\n",
       "      <td>2019-08-22T17:27:14.000Z</td>\n",
       "      <td>False</td>\n",
       "      <td>2020-03-19T13:50:44.000Z</td>\n",
       "      <td>https://centraldeatendimento.fluig.com/hc/pt-b...</td>\n",
       "      <td>...</td>\n",
       "      <td>False</td>\n",
       "      <td>2020-03-19T13:50:44.000Z</td>\n",
       "      <td>https://fluigexterno.zendesk.com/api/v2/help_c...</td>\n",
       "      <td>0</td>\n",
       "      <td>0</td>\n",
       "      <td>Usei o recurso \"Esqueceu Sua Senha\", mas receb...</td>\n",
       "      <td>occurrence</td>\n",
       "      <td>Ambientefluig - Identity – Todas as versões Ca...</td>\n",
       "      <td>&lt;/strong&gt;&lt;strong&gt;&lt;/strong&gt;&lt;/p&gt;&lt;p&gt;O link de red...</td>\n",
       "      <td>O link de redefinição de senha enviado para o ...</td>\n",
       "    </tr>\n",
       "    <tr>\n",
       "      <th>3</th>\n",
       "      <td>0</td>\n",
       "      <td>19660061288.0</td>\n",
       "      <td>&lt;p&gt;&lt;br&gt;&lt;strong&gt;Dúvida&lt;/strong&gt;&lt;strong&gt;&lt;br&gt;&lt;/st...</td>\n",
       "      <td>2911068</td>\n",
       "      <td>Fluig</td>\n",
       "      <td>False</td>\n",
       "      <td>2019-10-11T20:04:52.000Z</td>\n",
       "      <td>False</td>\n",
       "      <td>2019-10-11T20:04:56.000Z</td>\n",
       "      <td>https://centraldeatendimento.fluig.com/hc/pt-b...</td>\n",
       "      <td>...</td>\n",
       "      <td>False</td>\n",
       "      <td>2019-10-11T20:20:28.000Z</td>\n",
       "      <td>https://fluigexterno.zendesk.com/api/v2/help_c...</td>\n",
       "      <td>1</td>\n",
       "      <td>1</td>\n",
       "      <td>A mensagem FLUIG_REST_CLIENT_500 é mostrada no...</td>\n",
       "      <td>question</td>\n",
       "      <td>Ambientefluig - Arquitetura e ambiente - Todas...</td>\n",
       "      <td>&lt;/strong&gt;&lt;strong&gt;&lt;/strong&gt;A inicialização dos ...</td>\n",
       "      <td>A inicialização dos serviços é assíncrona, de ...</td>\n",
       "    </tr>\n",
       "    <tr>\n",
       "      <th>4</th>\n",
       "      <td>0</td>\n",
       "      <td>365733291352.0</td>\n",
       "      <td>&lt;p&gt;&lt;strong&gt;Dúvida&lt;br&gt;&lt;/strong&gt;Um dos nossos us...</td>\n",
       "      <td>2911068</td>\n",
       "      <td>Fluig</td>\n",
       "      <td>False</td>\n",
       "      <td>2019-08-22T16:57:02.000Z</td>\n",
       "      <td>False</td>\n",
       "      <td>2019-09-13T20:08:18.000Z</td>\n",
       "      <td>https://centraldeatendimento.fluig.com/hc/pt-b...</td>\n",
       "      <td>...</td>\n",
       "      <td>False</td>\n",
       "      <td>2019-09-13T20:08:18.000Z</td>\n",
       "      <td>https://fluigexterno.zendesk.com/api/v2/help_c...</td>\n",
       "      <td>0</td>\n",
       "      <td>0</td>\n",
       "      <td>Um dos nossos usuários está cadastrado no flui...</td>\n",
       "      <td>question</td>\n",
       "      <td>Ambientefluig - Identity - A partir da versão ...</td>\n",
       "      <td>&lt;/strong&gt;O procedimento será diferente se o id...</td>\n",
       "      <td>O procedimento será diferente se o identity es...</td>\n",
       "    </tr>\n",
       "  </tbody>\n",
       "</table>\n",
       "<p>5 rows × 31 columns</p>\n",
       "</div>"
      ],
      "text/plain": [
       "  __v       author_id                                               body  \\\n",
       "0   0   19660061288.0  <p><br><strong>Dúvida</strong><strong><br></st...   \n",
       "1   0   19660061288.0  <p><br><strong>Dúvida</strong><strong><br></st...   \n",
       "2   0   19660061288.0  <p><strong><br>Ocorrência</strong><strong><br>...   \n",
       "3   0   19660061288.0  <p><br><strong>Dúvida</strong><strong><br></st...   \n",
       "4   0  365733291352.0  <p><strong>Dúvida<br></strong>Um dos nossos us...   \n",
       "\n",
       "  brand_id brand_name comments_disabled                created_at  draft  \\\n",
       "0  2911068      Fluig             False  2019-08-27T16:20:33.000Z  False   \n",
       "1  2911068      Fluig             False  2019-08-27T14:35:14.000Z  False   \n",
       "2  2911068      Fluig             False  2019-08-22T17:27:14.000Z  False   \n",
       "3  2911068      Fluig             False  2019-10-11T20:04:52.000Z  False   \n",
       "4  2911068      Fluig             False  2019-08-22T16:57:02.000Z  False   \n",
       "\n",
       "                  edited_at  \\\n",
       "0  2019-08-27T16:20:37.000Z   \n",
       "1  2019-08-27T14:36:32.000Z   \n",
       "2  2020-03-19T13:50:44.000Z   \n",
       "3  2019-10-11T20:04:56.000Z   \n",
       "4  2019-09-13T20:08:18.000Z   \n",
       "\n",
       "                                            html_url  \\\n",
       "0  https://centraldeatendimento.fluig.com/hc/pt-b...   \n",
       "1  https://centraldeatendimento.fluig.com/hc/pt-b...   \n",
       "2  https://centraldeatendimento.fluig.com/hc/pt-b...   \n",
       "3  https://centraldeatendimento.fluig.com/hc/pt-b...   \n",
       "4  https://centraldeatendimento.fluig.com/hc/pt-b...   \n",
       "\n",
       "                         ...                         updated  \\\n",
       "0                        ...                           False   \n",
       "1                        ...                           False   \n",
       "2                        ...                           False   \n",
       "3                        ...                           False   \n",
       "4                        ...                           False   \n",
       "\n",
       "                 updated_at  \\\n",
       "0  2019-08-27T16:20:37.000Z   \n",
       "1  2019-08-27T14:36:32.000Z   \n",
       "2  2020-03-19T13:50:44.000Z   \n",
       "3  2019-10-11T20:20:28.000Z   \n",
       "4  2019-09-13T20:08:18.000Z   \n",
       "\n",
       "                                                 url vote_count vote_sum  \\\n",
       "0  https://fluigexterno.zendesk.com/api/v2/help_c...          0        0   \n",
       "1  https://fluigexterno.zendesk.com/api/v2/help_c...          0        0   \n",
       "2  https://fluigexterno.zendesk.com/api/v2/help_c...          0        0   \n",
       "3  https://fluigexterno.zendesk.com/api/v2/help_c...          1        1   \n",
       "4  https://fluigexterno.zendesk.com/api/v2/help_c...          0        0   \n",
       "\n",
       "                                            question question_type  \\\n",
       "0  Como faço para configurar o widget Analytics e...      question   \n",
       "1  Ao tentar alterar as informações de um usuário...      question   \n",
       "2  Usei o recurso \"Esqueceu Sua Senha\", mas receb...    occurrence   \n",
       "3  A mensagem FLUIG_REST_CLIENT_500 é mostrada no...      question   \n",
       "4  Um dos nossos usuários está cadastrado no flui...      question   \n",
       "\n",
       "                                         environment  \\\n",
       "0  Ambientefluig - Analytics - A partir da versão...   \n",
       "1  Ambientefluig - Configuração de uso - A partir...   \n",
       "2  Ambientefluig - Identity – Todas as versões Ca...   \n",
       "3  Ambientefluig - Arquitetura e ambiente - Todas...   \n",
       "4  Ambientefluig - Identity - A partir da versão ...   \n",
       "\n",
       "                                            solution  \\\n",
       "0  </strong><strong></strong>Siga os passos abaix...   \n",
       "1  </strong>Detectamos que essa situação também p...   \n",
       "2  </strong><strong></strong></p><p>O link de red...   \n",
       "3  </strong><strong></strong>A inicialização dos ...   \n",
       "4  </strong>O procedimento será diferente se o id...   \n",
       "\n",
       "                                  sanitized_solution  \n",
       "0  Siga os passos abaixo para a configuração do w...  \n",
       "1  Detectamos que essa situação também pode ocorr...  \n",
       "2  O link de redefinição de senha enviado para o ...  \n",
       "3  A inicialização dos serviços é assíncrona, de ...  \n",
       "4  O procedimento será diferente se o identity es...  \n",
       "\n",
       "[5 rows x 31 columns]"
      ]
     },
     "execution_count": 80,
     "metadata": {},
     "output_type": "execute_result"
    }
   ],
   "source": [
    "df.head()"
   ]
  },
  {
   "cell_type": "code",
   "execution_count": 81,
   "metadata": {
    "colab": {},
    "colab_type": "code",
    "id": "X2OAA_3JhVtB"
   },
   "outputs": [],
   "source": [
    "df = df.dropna(subset=['question', 'question_type', 'environment', 'solution'])"
   ]
  },
  {
   "cell_type": "code",
   "execution_count": 82,
   "metadata": {},
   "outputs": [],
   "source": [
    "df = df.reset_index(drop=True)"
   ]
  },
  {
   "cell_type": "code",
   "execution_count": 83,
   "metadata": {
    "colab": {
     "base_uri": "https://localhost:8080/",
     "height": 34
    },
    "colab_type": "code",
    "id": "xd30dGG6czHs",
    "outputId": "c27aec52-995d-4034-9275-1609790fa0f5"
   },
   "outputs": [
    {
     "data": {
      "text/plain": [
       "32540"
      ]
     },
     "execution_count": 83,
     "metadata": {},
     "output_type": "execute_result"
    }
   ],
   "source": [
    "df['question'].count()"
   ]
  },
  {
   "cell_type": "code",
   "execution_count": 84,
   "metadata": {},
   "outputs": [],
   "source": [
    "df['id'] = df['id'].apply(lambda x: x.replace('.0', ''))"
   ]
  },
  {
   "cell_type": "code",
   "execution_count": 85,
   "metadata": {},
   "outputs": [
    {
     "data": {
      "text/plain": [
       "'360034984293'"
      ]
     },
     "execution_count": 85,
     "metadata": {},
     "output_type": "execute_result"
    }
   ],
   "source": [
    "df.iloc[0].id"
   ]
  },
  {
   "cell_type": "code",
   "execution_count": 86,
   "metadata": {},
   "outputs": [],
   "source": [
    "dupl = df[df.duplicated(['question'])]"
   ]
  },
  {
   "cell_type": "code",
   "execution_count": 87,
   "metadata": {},
   "outputs": [],
   "source": [
    "dupl[['question', 'brand_id', 'label_names', 'title', 'html_url']].to_excel('articles_with_duplicate_questions.xlsx', index=False)"
   ]
  },
  {
   "cell_type": "code",
   "execution_count": 88,
   "metadata": {},
   "outputs": [
    {
     "data": {
      "text/html": [
       "<div>\n",
       "<style scoped>\n",
       "    .dataframe tbody tr th:only-of-type {\n",
       "        vertical-align: middle;\n",
       "    }\n",
       "\n",
       "    .dataframe tbody tr th {\n",
       "        vertical-align: top;\n",
       "    }\n",
       "\n",
       "    .dataframe thead th {\n",
       "        text-align: right;\n",
       "    }\n",
       "</style>\n",
       "<table border=\"1\" class=\"dataframe\">\n",
       "  <thead>\n",
       "    <tr style=\"text-align: right;\">\n",
       "      <th></th>\n",
       "      <th>question</th>\n",
       "      <th>brand_id</th>\n",
       "      <th>label_names</th>\n",
       "      <th>title</th>\n",
       "    </tr>\n",
       "  </thead>\n",
       "  <tbody>\n",
       "    <tr>\n",
       "      <th>231</th>\n",
       "      <td>Quais as recomendações devem ser seguidas para...</td>\n",
       "      <td>2911068</td>\n",
       "      <td>[\"processo\",\"solicitação\",\"faqfluig\",\"bpm\",\"as...</td>\n",
       "      <td>FL - BPM - Dividir múltiplas integrações de um...</td>\n",
       "    </tr>\n",
       "    <tr>\n",
       "      <th>233</th>\n",
       "      <td>Quais as recomendações devem ser seguidas para...</td>\n",
       "      <td>2911068</td>\n",
       "      <td>[\"serviço\",\"solicitação\",\"faqfluig\",\"bpm\",\"eve...</td>\n",
       "      <td>FL - BPM - Tarefa de serviço assíncrono para c...</td>\n",
       "    </tr>\n",
       "    <tr>\n",
       "      <th>237</th>\n",
       "      <td>Quais as recomendações devem ser seguidas para...</td>\n",
       "      <td>2911068</td>\n",
       "      <td>[\"integração\",\"dataset\",\"converter\",\"processos...</td>\n",
       "      <td>FL - BPM - Transferir código de integração de ...</td>\n",
       "    </tr>\n",
       "    <tr>\n",
       "      <th>464</th>\n",
       "      <td>É possível retirar a permissão do usuário para...</td>\n",
       "      <td>1509248</td>\n",
       "      <td>[\"inserir_label_produto\",\"inserir_label_rotina...</td>\n",
       "      <td>GA - TOTVS DF-e - Permissão para visualizar ou...</td>\n",
       "    </tr>\n",
       "    <tr>\n",
       "      <th>770</th>\n",
       "      <td>[Exemplo:Qual a pausa telefônica utilizada qua...</td>\n",
       "      <td>1509248</td>\n",
       "      <td>[\"inserir_label_produto\",\"inserir_label_rotina...</td>\n",
       "      <td>ABREV. PRODUTO - ABREV. MÓDULO - Descrição Dúv...</td>\n",
       "    </tr>\n",
       "  </tbody>\n",
       "</table>\n",
       "</div>"
      ],
      "text/plain": [
       "                                              question brand_id  \\\n",
       "231  Quais as recomendações devem ser seguidas para...  2911068   \n",
       "233  Quais as recomendações devem ser seguidas para...  2911068   \n",
       "237  Quais as recomendações devem ser seguidas para...  2911068   \n",
       "464  É possível retirar a permissão do usuário para...  1509248   \n",
       "770  [Exemplo:Qual a pausa telefônica utilizada qua...  1509248   \n",
       "\n",
       "                                           label_names  \\\n",
       "231  [\"processo\",\"solicitação\",\"faqfluig\",\"bpm\",\"as...   \n",
       "233  [\"serviço\",\"solicitação\",\"faqfluig\",\"bpm\",\"eve...   \n",
       "237  [\"integração\",\"dataset\",\"converter\",\"processos...   \n",
       "464  [\"inserir_label_produto\",\"inserir_label_rotina...   \n",
       "770  [\"inserir_label_produto\",\"inserir_label_rotina...   \n",
       "\n",
       "                                                 title  \n",
       "231  FL - BPM - Dividir múltiplas integrações de um...  \n",
       "233  FL - BPM - Tarefa de serviço assíncrono para c...  \n",
       "237  FL - BPM - Transferir código de integração de ...  \n",
       "464  GA - TOTVS DF-e - Permissão para visualizar ou...  \n",
       "770  ABREV. PRODUTO - ABREV. MÓDULO - Descrição Dúv...  "
      ]
     },
     "execution_count": 88,
     "metadata": {},
     "output_type": "execute_result"
    }
   ],
   "source": [
    "dupl.head()[['question', 'brand_id', 'label_names', 'title']]"
   ]
  },
  {
   "cell_type": "code",
   "execution_count": 89,
   "metadata": {},
   "outputs": [
    {
     "data": {
      "text/plain": [
       "'https://centraldeatendimento.fluig.com/hc/pt-br/articles/360027558711-FL-BPM-Tarefa-de-servi%C3%A7o-ass%C3%ADncrono-para-chamar-as-integra%C3%A7%C3%B5es-no-lugar-dos-eventos'"
      ]
     },
     "execution_count": 89,
     "metadata": {},
     "output_type": "execute_result"
    }
   ],
   "source": [
    "dupl.iloc[1].html_url"
   ]
  },
  {
   "cell_type": "code",
   "execution_count": 90,
   "metadata": {
    "colab": {},
    "colab_type": "code",
    "id": "M06IFXViczHu"
   },
   "outputs": [
    {
     "name": "stderr",
     "output_type": "stream",
     "text": [
      "<ipython-input-90-0571c2c7d7f7>:1: UserWarning: This pattern has match groups. To actually get the groups, use str.extract.\n",
      "  hifen = df[df.question.str.contains('((?:\\w+-)+\\w+)', regex=True)]\n"
     ]
    }
   ],
   "source": [
    "hifen = df[df.question.str.contains('((?:\\w+-)+\\w+)', regex=True)]"
   ]
  },
  {
   "cell_type": "code",
   "execution_count": 91,
   "metadata": {},
   "outputs": [
    {
     "data": {
      "text/plain": [
       "(3173, 31)"
      ]
     },
     "execution_count": 91,
     "metadata": {},
     "output_type": "execute_result"
    }
   ],
   "source": [
    "hifen.shape"
   ]
  },
  {
   "cell_type": "code",
   "execution_count": 92,
   "metadata": {},
   "outputs": [
    {
     "data": {
      "text/html": [
       "<div>\n",
       "<style scoped>\n",
       "    .dataframe tbody tr th:only-of-type {\n",
       "        vertical-align: middle;\n",
       "    }\n",
       "\n",
       "    .dataframe tbody tr th {\n",
       "        vertical-align: top;\n",
       "    }\n",
       "\n",
       "    .dataframe thead th {\n",
       "        text-align: right;\n",
       "    }\n",
       "</style>\n",
       "<table border=\"1\" class=\"dataframe\">\n",
       "  <thead>\n",
       "    <tr style=\"text-align: right;\">\n",
       "      <th></th>\n",
       "      <th>question</th>\n",
       "    </tr>\n",
       "  </thead>\n",
       "  <tbody>\n",
       "    <tr>\n",
       "      <th>9567</th>\n",
       "      <td>Rejeição 1017 - NF-e Emitido em ambiente de pr...</td>\n",
       "    </tr>\n",
       "    <tr>\n",
       "      <th>6189</th>\n",
       "      <td>S-1200 - Como informar 13º Salário para Pró-la...</td>\n",
       "    </tr>\n",
       "    <tr>\n",
       "      <th>12263</th>\n",
       "      <td>MDTA640 - THREAD ERROR invalid class MDT640EVE...</td>\n",
       "    </tr>\n",
       "    <tr>\n",
       "      <th>4174</th>\n",
       "      <td>Quais os fontes envolvidos para cancelamento d...</td>\n",
       "    </tr>\n",
       "    <tr>\n",
       "      <th>4375</th>\n",
       "      <td>Como consultar no site do eSocial dados do eve...</td>\n",
       "    </tr>\n",
       "  </tbody>\n",
       "</table>\n",
       "</div>"
      ],
      "text/plain": [
       "                                                question\n",
       "9567   Rejeição 1017 - NF-e Emitido em ambiente de pr...\n",
       "6189   S-1200 - Como informar 13º Salário para Pró-la...\n",
       "12263  MDTA640 - THREAD ERROR invalid class MDT640EVE...\n",
       "4174   Quais os fontes envolvidos para cancelamento d...\n",
       "4375   Como consultar no site do eSocial dados do eve..."
      ]
     },
     "execution_count": 92,
     "metadata": {},
     "output_type": "execute_result"
    }
   ],
   "source": [
    "hifen.sample(5)[['question']]"
   ]
  },
  {
   "cell_type": "code",
   "execution_count": 93,
   "metadata": {},
   "outputs": [
    {
     "data": {
      "text/plain": [
       "'É possível alterar o endereço de e-mail de um usuário no Identity?'"
      ]
     },
     "execution_count": 93,
     "metadata": {},
     "output_type": "execute_result"
    }
   ],
   "source": [
    "hifen.iloc[3].question"
   ]
  },
  {
   "cell_type": "code",
   "execution_count": 94,
   "metadata": {},
   "outputs": [],
   "source": [
    "hifen[['question', 'brand_id', 'label_names', 'title', 'html_url']].to_excel('articles_with_hyphenated_words_in_questions.xlsx', index=False)"
   ]
  },
  {
   "cell_type": "code",
   "execution_count": 95,
   "metadata": {},
   "outputs": [],
   "source": [
    "target = Carol(domain='mendes',\n",
    "app_name='searchskill',\n",
    "organization='datascience',\n",
    "auth=ApiKeyAuth('bf56760357424b60ae9558bcf9f090c2'),\n",
    "connector_id='175e781f1cce470eb0457323430f1407')"
   ]
  },
  {
   "cell_type": "code",
   "execution_count": 96,
   "metadata": {},
   "outputs": [],
   "source": [
    "target_stag = Staging(target)"
   ]
  },
  {
   "cell_type": "code",
   "execution_count": 97,
   "metadata": {},
   "outputs": [
    {
     "name": "stderr",
     "output_type": "stream",
     "text": [
      "<ipython-input-97-33f5a54b4626>:1: DeprecationWarning: fields_dict will be deprecated, use `data`\n",
      "  target_stag.send_data(staging_name='articles', connector_id='175e781f1cce470eb0457323430f1407', data=df,\n"
     ]
    },
    {
     "name": "stdout",
     "output_type": "stream",
     "text": [
      "provided crosswalk  ['idinternalmdb']\n",
      "32540/32540 sent\r"
     ]
    }
   ],
   "source": [
    "target_stag.send_data(staging_name='articles', connector_id='175e781f1cce470eb0457323430f1407', data=df,\n",
    "                             crosswalk_auto_create=['idinternalmdb'], auto_create_schema=True)"
   ]
  },
  {
   "cell_type": "markdown",
   "metadata": {},
   "source": [
    "### Get sentence embeddings"
   ]
  },
  {
   "cell_type": "code",
   "execution_count": 98,
   "metadata": {
    "colab": {},
    "colab_type": "code",
    "id": "_z9RFgyqHAek"
   },
   "outputs": [],
   "source": [
    "from sentence_transformers import SentenceTransformer"
   ]
  },
  {
   "cell_type": "code",
   "execution_count": 99,
   "metadata": {},
   "outputs": [],
   "source": [
    "# Load Sentence model (based on BERT) from URL\n",
    "model = SentenceTransformer('distiluse-base-multilingual-cased')"
   ]
  },
  {
   "cell_type": "code",
   "execution_count": 101,
   "metadata": {
    "colab": {
     "base_uri": "https://localhost:8080/",
     "height": 1000
    },
    "colab_type": "code",
    "id": "KADDlQLjGpmj",
    "outputId": "df5d8794-4574-4995-a2f8-e52855bc7be1"
   },
   "outputs": [],
   "source": [
    "# Embed a list of sentences\n",
    "sentence_embeddings = model.encode(df.question.values)"
   ]
  },
  {
   "cell_type": "code",
   "execution_count": 102,
   "metadata": {},
   "outputs": [
    {
     "data": {
      "text/plain": [
       "32540"
      ]
     },
     "execution_count": 102,
     "metadata": {},
     "output_type": "execute_result"
    }
   ],
   "source": [
    "len(sentence_embeddings)"
   ]
  },
  {
   "cell_type": "code",
   "execution_count": 103,
   "metadata": {},
   "outputs": [],
   "source": [
    "id_list = df['id'].values"
   ]
  },
  {
   "cell_type": "code",
   "execution_count": 104,
   "metadata": {},
   "outputs": [
    {
     "data": {
      "text/plain": [
       "32540"
      ]
     },
     "execution_count": 104,
     "metadata": {},
     "output_type": "execute_result"
    }
   ],
   "source": [
    "len(id_list)"
   ]
  },
  {
   "cell_type": "code",
   "execution_count": 105,
   "metadata": {},
   "outputs": [],
   "source": [
    "index_to_question_id_mapping = dict(enumerate(id_list))\n",
    "question_id_to_index_mapping = {j: i for i,j in index_to_question_id_mapping.items()} "
   ]
  },
  {
   "cell_type": "markdown",
   "metadata": {},
   "source": [
    "### Save objects in Storage"
   ]
  },
  {
   "cell_type": "code",
   "execution_count": 106,
   "metadata": {},
   "outputs": [],
   "source": [
    "stg = Storage(target)"
   ]
  },
  {
   "cell_type": "code",
   "execution_count": 107,
   "metadata": {},
   "outputs": [],
   "source": [
    "def save_object_to_storage(obj, filename):\n",
    "    with open(filename, \"bw\") as f:\n",
    "        pickle.dump(obj, f)\n",
    "    stg.save(filename, obj, format='pickle')"
   ]
  },
  {
   "cell_type": "code",
   "execution_count": 109,
   "metadata": {},
   "outputs": [],
   "source": [
    "save_object_to_storage(sentence_embeddings, 'sentence_embeddings')"
   ]
  },
  {
   "cell_type": "code",
   "execution_count": 110,
   "metadata": {},
   "outputs": [],
   "source": [
    "save_object_to_storage(index_to_question_id_mapping, 'index_to_question_id_mapping')"
   ]
  },
  {
   "cell_type": "code",
   "execution_count": 111,
   "metadata": {},
   "outputs": [],
   "source": [
    "save_object_to_storage(question_id_to_index_mapping, 'question_id_to_index_mapping')"
   ]
  },
  {
   "cell_type": "code",
   "execution_count": null,
   "metadata": {},
   "outputs": [],
   "source": []
  },
  {
   "cell_type": "code",
   "execution_count": 20,
   "metadata": {
    "colab": {},
    "colab_type": "code",
    "id": "_z9RFgyqHAek"
   },
   "outputs": [],
   "source": [
    "from sentence_transformers import SentenceTransformer, LoggingHandler"
   ]
  },
  {
   "cell_type": "code",
   "execution_count": 21,
   "metadata": {},
   "outputs": [],
   "source": [
    "# Load Sentence model (based on BERT) from URL\n",
    "model = SentenceTransformer('distiluse-base-multilingual-cased')"
   ]
  },
  {
   "cell_type": "raw",
   "metadata": {
    "colab": {
     "base_uri": "https://localhost:8080/",
     "height": 1000
    },
    "colab_type": "code",
    "id": "KADDlQLjGpmj",
    "outputId": "df5d8794-4574-4995-a2f8-e52855bc7be1"
   },
   "source": [
    "# Embed a list of sentences\n",
    "sentence_embeddings = model.encode(questions)\n",
    "\n",
    "# The result is a list of sentence embeddings as numpy arrays\n",
    "for sentence, embedding in zip(questions[:1], sentence_embeddings[:1]):\n",
    "    print(\"Sentence:\", sentence)\n",
    "    print(\"Embedding:\", embedding)\n",
    "    print(\"\")"
   ]
  },
  {
   "cell_type": "code",
   "execution_count": 22,
   "metadata": {},
   "outputs": [],
   "source": [
    "sentence_embeddings = pickle.load(open(\"sentence_embeddings\", \"rb\"))"
   ]
  },
  {
   "cell_type": "code",
   "execution_count": null,
   "metadata": {},
   "outputs": [],
   "source": [
    "df.index"
   ]
  },
  {
   "cell_type": "code",
   "execution_count": 28,
   "metadata": {},
   "outputs": [
    {
     "data": {
      "text/plain": [
       "\"Após configurar HTTPS no fluig, ao acessá-lo pelo aplicativo fluig Mobile e informar servidor de conexão é apresentado o erro 'Falha na comunicação'.\""
      ]
     },
     "execution_count": 28,
     "metadata": {},
     "output_type": "execute_result"
    }
   ],
   "source": [
    "df.iloc[12].question"
   ]
  },
  {
   "cell_type": "raw",
   "metadata": {
    "colab": {},
    "colab_type": "code",
    "id": "18qUpSfGXoIg"
   },
   "source": [
    "query = 'erro de falha de comunicação ao acessar o aplicativo fluig mobile'"
   ]
  },
  {
   "cell_type": "raw",
   "metadata": {},
   "source": [
    "query_vec = model.encode([query])"
   ]
  },
  {
   "cell_type": "raw",
   "metadata": {
    "colab": {},
    "colab_type": "code",
    "id": "5aTNaRWeG69x"
   },
   "source": [
    "# compute normalized dot product as score\n",
    "score = np.sum(query_vec[0] * sentence_embeddings, axis=1) / np.linalg.norm(sentence_embeddings, axis=1)\n",
    "topk_idx = np.argsort(score)[::-1]"
   ]
  },
  {
   "cell_type": "code",
   "execution_count": 144,
   "metadata": {
    "colab": {},
    "colab_type": "code",
    "id": "5aTNaRWeG69x"
   },
   "outputs": [],
   "source": [
    "def get_most_similar_question(query):\n",
    "\n",
    "    query_vec = model.encode([query])\n",
    "    k = 5\n",
    "\n",
    "    # compute normalized dot product as score\n",
    "    score = np.sum(query_vec[0] * sentence_embeddings, axis=1) / np.linalg.norm(sentence_embeddings, axis=1)\n",
    "    topk_scores = np.sort(score)[::-1]\n",
    "    topk_idx = np.argsort(score)[::-1]\n",
    "    return topk_idx[:k], topk_scores[:k]"
   ]
  },
  {
   "cell_type": "code",
   "execution_count": 119,
   "metadata": {},
   "outputs": [],
   "source": [
    "#size = np.int32(np.floor(0.2 * questions.shape[0]))\n",
    "size = 100\n",
    "\n",
    "indices = np.random.choice(\n",
    "    df.question.index, \n",
    "    replace=False,\n",
    "    size=size\n",
    ").tolist()"
   ]
  },
  {
   "cell_type": "code",
   "execution_count": 71,
   "metadata": {},
   "outputs": [],
   "source": [
    "questions = []"
   ]
  },
  {
   "cell_type": "code",
   "execution_count": 93,
   "metadata": {},
   "outputs": [
    {
     "data": {
      "text/plain": [
       "'Solicito uma função para conversão de um arquivo .doc para .PDF'"
      ]
     },
     "execution_count": 93,
     "metadata": {},
     "output_type": "execute_result"
    }
   ],
   "source": [
    "df.iloc[indices[9]].question"
   ]
  },
  {
   "cell_type": "code",
   "execution_count": 94,
   "metadata": {},
   "outputs": [],
   "source": [
    "questions.append('função para converter arquivo doc para pdf')"
   ]
  },
  {
   "cell_type": "code",
   "execution_count": 97,
   "metadata": {},
   "outputs": [
    {
     "data": {
      "text/plain": [
       "10"
      ]
     },
     "execution_count": 97,
     "metadata": {},
     "output_type": "execute_result"
    }
   ],
   "source": [
    "len(questions)"
   ]
  },
  {
   "cell_type": "raw",
   "metadata": {},
   "source": [
    "with open('questions', \"bw\") as f:\n",
    "        pickle.dump(questions, f)"
   ]
  },
  {
   "cell_type": "code",
   "execution_count": 145,
   "metadata": {},
   "outputs": [
    {
     "data": {
      "text/plain": [
       "(array([ 4270, 23653, 14174, 26242, 27618]),\n",
       " array([0.64584833, 0.60263   , 0.5729962 , 0.54728776, 0.54643303],\n",
       "       dtype=float32))"
      ]
     },
     "execution_count": 145,
     "metadata": {},
     "output_type": "execute_result"
    }
   ],
   "source": [
    "get_most_similar_question('adicionar transportadora nas notas fiscais geradas na rotina 1322')"
   ]
  },
  {
   "cell_type": "code",
   "execution_count": 150,
   "metadata": {},
   "outputs": [
    {
     "data": {
      "text/plain": [
       "'Como inserir transportadora em notas fiscais geradas pela rotina 1322 - Simples Remessa Baixando Estoque.'"
      ]
     },
     "execution_count": 150,
     "metadata": {},
     "output_type": "execute_result"
    }
   ],
   "source": [
    "df.iloc[4270].question"
   ]
  },
  {
   "cell_type": "code",
   "execution_count": 126,
   "metadata": {
    "colab": {
     "base_uri": "https://localhost:8080/",
     "height": 51
    },
    "colab_type": "code",
    "id": "ar5LKi8BX52w",
    "outputId": "94f86a9e-5b1f-4913-8d49-f323da4964a2"
   },
   "outputs": [
    {
     "name": "stdout",
     "output_type": "stream",
     "text": [
      "0.645848274230957 - 0.645848274230957\n",
      "0.6026300191879272 - 0.6026300191879272\n",
      "0.5729961395263672 - 0.5729961395263672\n",
      "0.5472877025604248 - 0.5472877025604248\n",
      "0.5464330315589905 - 0.5464330315589905\n",
      "0.5448733568191528 - 0.5448733568191528\n",
      "0.5358591079711914 - 0.5358591079711914\n",
      "0.531542956829071 - 0.531542956829071\n",
      "0.5271217823028564 - 0.5271217823028564\n",
      "0.5169530510902405 - 0.5169530510902405\n",
      "adicionar transportadora nas notas fiscais geradas na rotina 1322\n",
      "17835 - Por que um determinado lançamento não é apresentado na rotina 723?\n",
      "4270 - Como inserir transportadora em notas fiscais geradas pela rotina 1322 - Simples Remessa Baixando Estoque.\n",
      "0.5572085976600647 - 0.5572085976600647\n",
      "0.5351568460464478 - 0.5351568460464478\n",
      "0.5280529856681824 - 0.5280529856681824\n",
      "0.5269234776496887 - 0.5269234776496887\n",
      "0.5140586495399475 - 0.5140586495399475\n",
      "0.5049834847450256 - 0.5049834847450256\n",
      "0.49780139327049255 - 0.49780139327049255\n",
      "0.4954758882522583 - 0.4954758882522583\n",
      "0.49390849471092224 - 0.49390849471092224\n",
      "0.48328182101249695 - 0.48328182101249695\n",
      "preciso do meu relatório de clientes\n",
      "3300 - Como realizar uma copia de Sindicato entre coligadas?\n",
      "3884 - Como gerar um relatório que faça a listagem dos clientes cadastrados?\n",
      "0.7459278702735901 - 0.7459278702735901\n",
      "0.4588412046432495 - 0.4588412046432495\n",
      "0.4499703347682953 - 0.4499703347682953\n",
      "0.4455932676792145 - 0.4455932676792145\n",
      "0.4353722333908081 - 0.4353722333908081\n",
      "0.4294399321079254 - 0.4294399321079254\n",
      "0.42894628643989563 - 0.42894628643989563\n",
      "0.42738378047943115 - 0.42738378047943115\n",
      "0.42620596289634705 - 0.42620596289634705\n",
      "0.4254598021507263 - 0.4254598021507263\n",
      "preciso deletar a data de fechamento do inventário no software LF0201\n",
      "16271 - Como Cadastar/Excluir uma Categoria?\n",
      "26436 - Como apagar a data de fechamento do Inventário no programa LF0201?\n",
      "0.5240232348442078 - 0.5240232348442078\n",
      "0.49790653586387634 - 0.49790653586387634\n",
      "0.49504104256629944 - 0.49504104256629944\n",
      "0.4725293219089508 - 0.4725293219089508\n",
      "0.4682658910751343 - 0.4682658910751343\n",
      "0.4564697742462158 - 0.4564697742462158\n",
      "0.456234872341156 - 0.456234872341156\n",
      "0.45521220564842224 - 0.45521220564842224\n",
      "0.4498310089111328 - 0.4498310089111328\n",
      "0.44310253858566284 - 0.44310253858566284\n",
      "explicação sobre a rotina 2039\n",
      "10075 - Durante a inclusão de movimentos no sistema, ocorre o erro \"Nao existe nenhuma Glosa vinculada a classe de erro:\" juntamente com o código da classe de erro que gerou esta situação. Conforme o exemplo mencionado abaixo, onde o código 153 representa a classe de erro e o código 10101012 o código do procedimento:\"Nao existe nenhuma Glosa vinculada a classe de erro: 153 API/rcapi021 10101012\"\n",
      "17518 - Como utilizar a rotina 2024?\n",
      "0.5963812470436096 - 0.5963812470436096\n",
      "0.5896818041801453 - 0.5896818041801453\n",
      "0.5710474252700806 - 0.5710474252700806\n",
      "0.5683428645133972 - 0.5683428645133972\n",
      "0.5636336803436279 - 0.5636336803436279\n",
      "0.5483050346374512 - 0.5483050346374512\n",
      "0.5437726378440857 - 0.5437726378440857\n",
      "0.5405083894729614 - 0.5405083894729614\n",
      "0.5369815230369568 - 0.5369815230369568\n",
      "0.535049319267273 - 0.535049319267273\n",
      "erro ao imprimir nota fiscal danfe na rotina 1452\n",
      "10148 - eSocial - Simplificação: eSocial substitui informações para RAIS e CAGED - o que muda no Protheus?\n",
      "31953 - O que fazer quando a rotina 1452 não imprimir as notas e não apresentar mensagem de erro?\n",
      "0.7325006723403931 - 0.7325006723403931\n",
      "0.5225950479507446 - 0.5225950479507446\n",
      "0.5141765475273132 - 0.5141765475273132\n",
      "0.4801000654697418 - 0.4801000654697418\n",
      "0.4477766752243042 - 0.4477766752243042\n",
      "0.44772058725357056 - 0.44772058725357056\n",
      "0.4392022490501404 - 0.4392022490501404\n",
      "0.43122681975364685 - 0.43122681975364685\n",
      "0.42909207940101624 - 0.42909207940101624\n",
      "0.4216732084751129 - 0.4216732084751129\n",
      "erro de indica na tabela sn3\n",
      "24389 - Como permitir o desdobramento/agrupamento de títulos de clientes diferentes?\n",
      "10759 - Ocorre erro referente ao índice na tabela SN3, o que fazer?\n",
      "0.6059661507606506 - 0.6059661507606506\n",
      "0.5131093263626099 - 0.5131093263626099\n",
      "0.5028874278068542 - 0.5028874278068542\n",
      "0.48428472876548767 - 0.48428472876548767\n",
      "0.46297475695610046 - 0.46297475695610046\n",
      "0.46197637915611267 - 0.46197637915611267\n",
      "0.4592832922935486 - 0.4592832922935486\n",
      "0.4443565607070923 - 0.4443565607070923\n",
      "0.43510228395462036 - 0.43510228395462036\n",
      "0.433514267206192 - 0.433514267206192\n",
      "transferencia de bens na mesma empresa\n",
      "31190 - Como é realizada a contabilização de uma Nota Fiscal de Devolução a Fornecedor?\n",
      "17132 - Como efetuar a transferência de bens entre empresas?\n",
      "0.6349358558654785 - 0.6349358558654785\n",
      "0.6232276558876038 - 0.6232276558876038\n",
      "0.5543155670166016 - 0.5543155670166016\n",
      "0.5448984503746033 - 0.5448984503746033\n",
      "0.5292785167694092 - 0.5292785167694092\n",
      "0.5072128772735596 - 0.5072128772735596\n",
      "0.5046584606170654 - 0.5046584606170654\n",
      "0.49342983961105347 - 0.49342983961105347\n",
      "0.48716461658477783 - 0.48716461658477783\n",
      "0.4842483401298523 - 0.4842483401298523\n",
      "pedir frete no pedido de vendida da rotina 4116\n",
      "14416 - Como realizar entrada Tipo N na rotina 3010?\n",
      "26802 - Como solicitar frete na digitação do pedido de venda na rotina 4116?\n",
      "0.869260311126709 - 0.869260311126709\n",
      "0.4508129060268402 - 0.4508129060268402\n",
      "0.4208657145500183 - 0.4208657145500183\n",
      "0.41203629970550537 - 0.41203629970550537\n",
      "0.39657139778137207 - 0.39657139778137207\n",
      "0.39282217621803284 - 0.39282217621803284\n",
      "0.3922751247882843 - 0.3922751247882843\n",
      "0.38762524724006653 - 0.38762524724006653\n",
      "0.38596463203430176 - 0.38596463203430176\n",
      "0.3761090040206909 - 0.3761090040206909\n",
      "preencher automaticamente o endereço na FNRH\n",
      "28683 - Como corrigir o erro \"Parameter buffer for p- table in externos/ems5/triggers/twemprdz.p not matched by caller.\" exibido ao realizar alguma alteração no programa Exercício Contábil (bas_exerc_ctbl)?\n",
      "15121 - Preenchimento automático do endereço na FNRH\n",
      "0.8911898732185364 - 0.8911898732185364\n",
      "0.7036350965499878 - 0.7036350965499878\n",
      "0.6305792331695557 - 0.6305792331695557\n",
      "0.5921000242233276 - 0.5921000242233276\n",
      "0.5817390084266663 - 0.5817390084266663\n",
      "0.5606629848480225 - 0.5606629848480225\n",
      "0.5563789010047913 - 0.5563789010047913\n",
      "0.5478231906890869 - 0.5478231906890869\n",
      "0.5377299189567566 - 0.5377299189567566\n",
      "0.5292876958847046 - 0.5292876958847046\n",
      "função para converter arquivo doc para pdf\n",
      "19514 - Ao gerar o SPEDFISCAL com a opção BLOCO K = SIM ocorre o erro:array out of bounds ( 1 of 0 ) on BLOCOK(SPEDXFUN.PRW)\n",
      "17717 - Solicito uma função para conversão de um arquivo .doc para .PDF\n"
     ]
    }
   ],
   "source": [
    "for i, query in enumerate(questions):\n",
    "    raw_query = df.iloc[indices[i]].question\n",
    "    most_similar = get_most_similar_question(query)\n",
    "    if most_similar != i:\n",
    "        print(f'{query}')\n",
    "        print(f'{indices[i]} - {raw_query}')\n",
    "        print(f'{most_similar} - {df.iloc[most_similar].question}')"
   ]
  },
  {
   "cell_type": "code",
   "execution_count": 115,
   "metadata": {},
   "outputs": [
    {
     "data": {
      "text/plain": [
       "'https://centraldeatendimento.totvs.com/hc/pt-br/articles/360035902474-LG-PAT-Formas-de-transfer%C3%AAncia-de-um-bem-para-outro-na-mesma-empresa'"
      ]
     },
     "execution_count": 115,
     "metadata": {},
     "output_type": "execute_result"
    }
   ],
   "source": [
    "df.iloc[23587].html_url"
   ]
  },
  {
   "cell_type": "code",
   "execution_count": 114,
   "metadata": {},
   "outputs": [
    {
     "data": {
      "text/plain": [
       "'https://centraldeatendimento.totvs.com/hc/pt-br/articles/360025943751-LG-PAT-Como-efetuar-a-transfer%C3%AAncia-de-bens-entre-empresas'"
      ]
     },
     "execution_count": 114,
     "metadata": {},
     "output_type": "execute_result"
    }
   ],
   "source": [
    "df.iloc[17132].html_url"
   ]
  },
  {
   "cell_type": "code",
   "execution_count": 112,
   "metadata": {},
   "outputs": [
    {
     "data": {
      "text/plain": [
       "'https://centraldeatendimento.totvs.com/hc/pt-br/articles/360045420414-WINT-Como-utilizar-a-rotina-2039-Cadastro-de-Finalizadora'"
      ]
     },
     "execution_count": 112,
     "metadata": {},
     "output_type": "execute_result"
    }
   ],
   "source": [
    "df.iloc[1527].html_url"
   ]
  },
  {
   "cell_type": "code",
   "execution_count": 125,
   "metadata": {},
   "outputs": [],
   "source": [
    "from pycarol import Query"
   ]
  },
  {
   "cell_type": "code",
   "execution_count": 113,
   "metadata": {},
   "outputs": [],
   "source": [
    "from pycarol.filter import Filter, TYPE_FILTER, TERMS_FILTER"
   ]
  },
  {
   "cell_type": "code",
   "execution_count": 151,
   "metadata": {},
   "outputs": [],
   "source": [
    "def get_similar_questions(model, sentence_embeddings, query, k):\n",
    "    query_vec = model.encode([query])\n",
    "    score = np.sum(query_vec[0] * sentence_embeddings, axis=1) / np.linalg.norm(sentence_embeddings, axis=1)\n",
    "    topk_scores = np.sort(score)[::-1]\n",
    "    topk_idx = np.argsort(score)[::-1]\n",
    "    print(topk_idx[:k], topk_scores[:k])\n",
    "    return list(topk_idx[:k]), list(topk_scores[:k])"
   ]
  },
  {
   "cell_type": "code",
   "execution_count": 131,
   "metadata": {},
   "outputs": [],
   "source": [
    "def get_questions_by_ids(question_ids):\n",
    "    dm_name = 'articles'\n",
    "    query_filter = Filter.Builder().must(TYPE_FILTER(value=f'{dm_name}Golden')) \\\n",
    "        .must(TERMS_FILTER(key='mdmGoldenFieldAndValues.id.raw', value=question_ids)).build().to_json()\n",
    "    page_size=1000\n",
    "    return Query(target, page_size=page_size).query(query_filter).go().results"
   ]
  },
  {
   "cell_type": "code",
   "execution_count": 165,
   "metadata": {},
   "outputs": [],
   "source": [
    "def query(query):\n",
    "    k = 5\n",
    "    topk_idx, topk_scores = get_similar_questions(model, sentence_embeddings, query, k)\n",
    "    question_ids = [index_to_question_id_mapping[idx] for idx in topk_idx]\n",
    "    results = get_questions_by_ids(question_ids)\n",
    "    response = ''\n",
    "    for i, question_id in enumerate(question_ids):\n",
    "        result = [result for result in results if result['id'] == question_id][0]\n",
    "        response = response + 'Pergunta similar: ' + result['question'] + '\\n'\n",
    "        response = response + 'Resposta: ' + result['solution'] + '\\n'\n",
    "        response = response + 'Score: ' + str(topk_scores[topk_idx.index(question_id_to_index_mapping[question_id])])\n",
    "        if i != 4:\n",
    "            response = response +  '\\n\\n'\n",
    "    # for i, idx in enumerate(topk_idx):\n",
    "    #     question_id = index_to_question_id_mapping[idx]\n",
    "    #     question = get_question_by_id(question_id)[0]\n",
    "    #     response = response + 'Pergunta similar: ' + question.question + '\\n'\n",
    "    #     response = response + 'Resposta: ' + question.solution + '\\n'\n",
    "    #     response = response + 'Score: ' + topk_scores[i]\n",
    "    #     if i != 4:\n",
    "    #         response = response +  '\\n\\n'\n",
    "    return {'response': response}"
   ]
  },
  {
   "cell_type": "code",
   "execution_count": 166,
   "metadata": {},
   "outputs": [
    {
     "name": "stdout",
     "output_type": "stream",
     "text": [
      "[ 4270 23653 14174 26242 27618] [0.64584833 0.60263    0.5729962  0.54728776 0.54643303]\n",
      "5/5\r"
     ]
    },
    {
     "data": {
      "text/plain": [
       "{'response': 'Pergunta similar: Como inserir transportadora em notas fiscais geradas pela rotina 1322 - Simples Remessa Baixando Estoque.\\nResposta: </strong><strong></strong>A rotina <strong>1322</strong> grava a <strong>Transportadora Padrão</strong> nas notas fiscais quando o parâmetro\\xa0<strong>2159-Utilizar transportador padrão</strong> da rotina <strong>132-Parâmetros da Presidência</strong> (configuração por filial) está marcado como\\xa0<strong>Sim</strong>, lembrando que os dados da transportadora devem ser cadastrados na rotina<strong> 535-Cadastro de Filiais</strong> aba <strong>Dados da Transportadora</strong>.</p><p>Essas informações serão destacadas na rotina<strong> 1452-Emitir documento eletrônico</strong>, no campo <strong>Transportador/Volumes Transportados</strong>.</p>\\nScore: 0.64584833\\n\\nPergunta similar: Ao gerar uma transferência na rotina 1436 - Gerar nota fiscal de transferência para depósito\\nResposta: </strong><strong></strong><span>Para resolver essa mensagem, realize o cadastro da tributação fiscal conforme os passos disponíveis no link<a href=\"https://centraldeatendimento.totvs.com/hc/pt-br/articles/360026118971\" target=\"_blank\" rel=\"noopener\">\\xa0</a></span><a href=\"https://centraldeatendimento.totvs.com/hc/pt-br/articles/360026118971\" target=\"_blank\" rel=\"noopener\">Como cadastrar tributação nos produtos na rotina 271</a>.</p><p>\\xa0</p><p>\\xa0</p><p>\\xa0</p><p>\\xa0</p>\\nScore: 0.60263\\n\\nPergunta similar: Como incluir mensagens de observação na nota fiscal na rotina 1322?\\nResposta: </strong><strong></strong></p><p>1. Acesse a rotina\\xa0<strong>1322<span>\\xa0</span></strong>e realize\\xa0os processos de inclusão de itens, tributação e contas a receber;</p><p>2. Na aba\\xa0<strong>Itens</strong>, clique o botão\\xa0<strong>Observações Adicionais</strong>;</p><p><img src=\"https://centraldeatendimento.totvs.com/hc/article_attachments/360028011152/image2017-9-14_11_9_53.png\" alt=\"image2017-9-14_11_9_53.png\" width=\"705\" height=\"533\"></p><p>3. Será apresentada tela\\xa0<strong>Observações</strong>\\xa0para inclusão das mensagens. Para aparecer mais linhas, pressione seta para baixo em seu teclado;</p><p>4. Clique o botão\\xa0<strong>OK\\xa0</strong>para salvar a mensagem inserida;</p><p><img src=\"https://centraldeatendimento.totvs.com/hc/article_attachments/360028004891/10.gif\" alt=\"10.gif\" width=\"696\" height=\"528\"></p><p>5. Em seguida clique o botão\\xa0<strong>Gravar\\xa0</strong>para finalizar o processo.</p>\\nScore: 0.5729962\\n\\nPergunta similar: Como adicionar o valor de frete na rotina 1322?\\nResposta: </strong><strong></strong>Não é possível adicionar o valor de frete através da rotina <strong>1322</strong>-\\xa0<strong>Simples Remessa Baixando Estoque</strong>. Neste caso, realize o rateio do frete entre os itens.</p>\\nScore: 0.54728776\\n\\nPergunta similar: O que fazer para que a rotina 1322 permita a emissão de notas fiscais incluindo contas a receber?\\nResposta: </strong><strong></strong></p><p>Para que a rotina<span>\\xa0</span><strong>1322</strong>\\xa0permita a emissão de notas fiscais de simples remessa com a possibilidade de se incluir um Contas a Receber para o cliente,\\xa0siga as orientações abaixo:</p><p><span>1.\\xa0 Acesse a rotina<strong>\\xa01322</strong>\\xa0e clique o botão\\xa0<strong>Novo</strong>;</span><span>2. Preencha as informações conforme a necessidade;</span><span>3. Na aba\\xa0<strong>Contas a Receber</strong>, informe\\xa0</span>o código da cobrança em\\xa0<strong>Cód. Cob</strong>., a\\xa0<strong>Dt. Vencto</strong><span>\\xa0</span>e o\\xa0<strong>Valor</strong>.<span>4 Clique\\xa0<strong>Gravar</strong>.<img src=\"https://centraldeatendimento.totvs.com/hc/article_attachments/360043555693/mceclip0.png\" alt=\"mceclip0.png\"></span><span></span></p>\\nScore: 0.54643303'}"
      ]
     },
     "execution_count": 166,
     "metadata": {},
     "output_type": "execute_result"
    }
   ],
   "source": [
    "query('adicionar transportadora nas notas fiscais geradas na rotina 1322')"
   ]
  },
  {
   "cell_type": "code",
   "execution_count": 167,
   "metadata": {},
   "outputs": [],
   "source": [
    "import requests"
   ]
  },
  {
   "cell_type": "code",
   "execution_count": 170,
   "metadata": {},
   "outputs": [],
   "source": [
    "query = 'adicionar transportadora nas notas fiscais geradas na rotina 1322'"
   ]
  },
  {
   "cell_type": "code",
   "execution_count": 174,
   "metadata": {},
   "outputs": [
    {
     "ename": "ConnectionError",
     "evalue": "('Connection aborted.', RemoteDisconnected('Remote end closed connection without response'))",
     "output_type": "error",
     "traceback": [
      "\u001b[0;31m---------------------------------------------------------------------------\u001b[0m",
      "\u001b[0;31mRemoteDisconnected\u001b[0m                        Traceback (most recent call last)",
      "\u001b[0;32m~/opt/miniconda3/envs/recommendation/lib/python3.8/site-packages/urllib3/connectionpool.py\u001b[0m in \u001b[0;36murlopen\u001b[0;34m(self, method, url, body, headers, retries, redirect, assert_same_host, timeout, pool_timeout, release_conn, chunked, body_pos, **response_kw)\u001b[0m\n\u001b[1;32m    664\u001b[0m             \u001b[0;31m# Make the request on the httplib connection object.\u001b[0m\u001b[0;34m\u001b[0m\u001b[0;34m\u001b[0m\u001b[0;34m\u001b[0m\u001b[0m\n\u001b[0;32m--> 665\u001b[0;31m             httplib_response = self._make_request(\n\u001b[0m\u001b[1;32m    666\u001b[0m                 \u001b[0mconn\u001b[0m\u001b[0;34m,\u001b[0m\u001b[0;34m\u001b[0m\u001b[0;34m\u001b[0m\u001b[0m\n",
      "\u001b[0;32m~/opt/miniconda3/envs/recommendation/lib/python3.8/site-packages/urllib3/connectionpool.py\u001b[0m in \u001b[0;36m_make_request\u001b[0;34m(self, conn, method, url, timeout, chunked, **httplib_request_kw)\u001b[0m\n\u001b[1;32m    420\u001b[0m                     \u001b[0;31m# Otherwise it looks like a bug in the code.\u001b[0m\u001b[0;34m\u001b[0m\u001b[0;34m\u001b[0m\u001b[0;34m\u001b[0m\u001b[0m\n\u001b[0;32m--> 421\u001b[0;31m                     \u001b[0msix\u001b[0m\u001b[0;34m.\u001b[0m\u001b[0mraise_from\u001b[0m\u001b[0;34m(\u001b[0m\u001b[0me\u001b[0m\u001b[0;34m,\u001b[0m \u001b[0;32mNone\u001b[0m\u001b[0;34m)\u001b[0m\u001b[0;34m\u001b[0m\u001b[0;34m\u001b[0m\u001b[0m\n\u001b[0m\u001b[1;32m    422\u001b[0m         \u001b[0;32mexcept\u001b[0m \u001b[0;34m(\u001b[0m\u001b[0mSocketTimeout\u001b[0m\u001b[0;34m,\u001b[0m \u001b[0mBaseSSLError\u001b[0m\u001b[0;34m,\u001b[0m \u001b[0mSocketError\u001b[0m\u001b[0;34m)\u001b[0m \u001b[0;32mas\u001b[0m \u001b[0me\u001b[0m\u001b[0;34m:\u001b[0m\u001b[0;34m\u001b[0m\u001b[0;34m\u001b[0m\u001b[0m\n",
      "\u001b[0;32m~/opt/miniconda3/envs/recommendation/lib/python3.8/site-packages/urllib3/packages/six.py\u001b[0m in \u001b[0;36mraise_from\u001b[0;34m(value, from_value)\u001b[0m\n",
      "\u001b[0;32m~/opt/miniconda3/envs/recommendation/lib/python3.8/site-packages/urllib3/connectionpool.py\u001b[0m in \u001b[0;36m_make_request\u001b[0;34m(self, conn, method, url, timeout, chunked, **httplib_request_kw)\u001b[0m\n\u001b[1;32m    415\u001b[0m                 \u001b[0;32mtry\u001b[0m\u001b[0;34m:\u001b[0m\u001b[0;34m\u001b[0m\u001b[0;34m\u001b[0m\u001b[0m\n\u001b[0;32m--> 416\u001b[0;31m                     \u001b[0mhttplib_response\u001b[0m \u001b[0;34m=\u001b[0m \u001b[0mconn\u001b[0m\u001b[0;34m.\u001b[0m\u001b[0mgetresponse\u001b[0m\u001b[0;34m(\u001b[0m\u001b[0;34m)\u001b[0m\u001b[0;34m\u001b[0m\u001b[0;34m\u001b[0m\u001b[0m\n\u001b[0m\u001b[1;32m    417\u001b[0m                 \u001b[0;32mexcept\u001b[0m \u001b[0mBaseException\u001b[0m \u001b[0;32mas\u001b[0m \u001b[0me\u001b[0m\u001b[0;34m:\u001b[0m\u001b[0;34m\u001b[0m\u001b[0;34m\u001b[0m\u001b[0m\n",
      "\u001b[0;32m~/opt/miniconda3/envs/recommendation/lib/python3.8/http/client.py\u001b[0m in \u001b[0;36mgetresponse\u001b[0;34m(self)\u001b[0m\n\u001b[1;32m   1321\u001b[0m             \u001b[0;32mtry\u001b[0m\u001b[0;34m:\u001b[0m\u001b[0;34m\u001b[0m\u001b[0;34m\u001b[0m\u001b[0m\n\u001b[0;32m-> 1322\u001b[0;31m                 \u001b[0mresponse\u001b[0m\u001b[0;34m.\u001b[0m\u001b[0mbegin\u001b[0m\u001b[0;34m(\u001b[0m\u001b[0;34m)\u001b[0m\u001b[0;34m\u001b[0m\u001b[0;34m\u001b[0m\u001b[0m\n\u001b[0m\u001b[1;32m   1323\u001b[0m             \u001b[0;32mexcept\u001b[0m \u001b[0mConnectionError\u001b[0m\u001b[0;34m:\u001b[0m\u001b[0;34m\u001b[0m\u001b[0;34m\u001b[0m\u001b[0m\n",
      "\u001b[0;32m~/opt/miniconda3/envs/recommendation/lib/python3.8/http/client.py\u001b[0m in \u001b[0;36mbegin\u001b[0;34m(self)\u001b[0m\n\u001b[1;32m    302\u001b[0m         \u001b[0;32mwhile\u001b[0m \u001b[0;32mTrue\u001b[0m\u001b[0;34m:\u001b[0m\u001b[0;34m\u001b[0m\u001b[0;34m\u001b[0m\u001b[0m\n\u001b[0;32m--> 303\u001b[0;31m             \u001b[0mversion\u001b[0m\u001b[0;34m,\u001b[0m \u001b[0mstatus\u001b[0m\u001b[0;34m,\u001b[0m \u001b[0mreason\u001b[0m \u001b[0;34m=\u001b[0m \u001b[0mself\u001b[0m\u001b[0;34m.\u001b[0m\u001b[0m_read_status\u001b[0m\u001b[0;34m(\u001b[0m\u001b[0;34m)\u001b[0m\u001b[0;34m\u001b[0m\u001b[0;34m\u001b[0m\u001b[0m\n\u001b[0m\u001b[1;32m    304\u001b[0m             \u001b[0;32mif\u001b[0m \u001b[0mstatus\u001b[0m \u001b[0;34m!=\u001b[0m \u001b[0mCONTINUE\u001b[0m\u001b[0;34m:\u001b[0m\u001b[0;34m\u001b[0m\u001b[0;34m\u001b[0m\u001b[0m\n",
      "\u001b[0;32m~/opt/miniconda3/envs/recommendation/lib/python3.8/http/client.py\u001b[0m in \u001b[0;36m_read_status\u001b[0;34m(self)\u001b[0m\n\u001b[1;32m    271\u001b[0m             \u001b[0;31m# sending a valid response.\u001b[0m\u001b[0;34m\u001b[0m\u001b[0;34m\u001b[0m\u001b[0;34m\u001b[0m\u001b[0m\n\u001b[0;32m--> 272\u001b[0;31m             raise RemoteDisconnected(\"Remote end closed connection without\"\n\u001b[0m\u001b[1;32m    273\u001b[0m                                      \" response\")\n",
      "\u001b[0;31mRemoteDisconnected\u001b[0m: Remote end closed connection without response",
      "\nDuring handling of the above exception, another exception occurred:\n",
      "\u001b[0;31mProtocolError\u001b[0m                             Traceback (most recent call last)",
      "\u001b[0;32m~/opt/miniconda3/envs/recommendation/lib/python3.8/site-packages/requests/adapters.py\u001b[0m in \u001b[0;36msend\u001b[0;34m(self, request, stream, timeout, verify, cert, proxies)\u001b[0m\n\u001b[1;32m    438\u001b[0m             \u001b[0;32mif\u001b[0m \u001b[0;32mnot\u001b[0m \u001b[0mchunked\u001b[0m\u001b[0;34m:\u001b[0m\u001b[0;34m\u001b[0m\u001b[0;34m\u001b[0m\u001b[0m\n\u001b[0;32m--> 439\u001b[0;31m                 resp = conn.urlopen(\n\u001b[0m\u001b[1;32m    440\u001b[0m                     \u001b[0mmethod\u001b[0m\u001b[0;34m=\u001b[0m\u001b[0mrequest\u001b[0m\u001b[0;34m.\u001b[0m\u001b[0mmethod\u001b[0m\u001b[0;34m,\u001b[0m\u001b[0;34m\u001b[0m\u001b[0;34m\u001b[0m\u001b[0m\n",
      "\u001b[0;32m~/opt/miniconda3/envs/recommendation/lib/python3.8/site-packages/urllib3/connectionpool.py\u001b[0m in \u001b[0;36murlopen\u001b[0;34m(self, method, url, body, headers, retries, redirect, assert_same_host, timeout, pool_timeout, release_conn, chunked, body_pos, **response_kw)\u001b[0m\n\u001b[1;32m    718\u001b[0m \u001b[0;34m\u001b[0m\u001b[0m\n\u001b[0;32m--> 719\u001b[0;31m             retries = retries.increment(\n\u001b[0m\u001b[1;32m    720\u001b[0m                 \u001b[0mmethod\u001b[0m\u001b[0;34m,\u001b[0m \u001b[0murl\u001b[0m\u001b[0;34m,\u001b[0m \u001b[0merror\u001b[0m\u001b[0;34m=\u001b[0m\u001b[0me\u001b[0m\u001b[0;34m,\u001b[0m \u001b[0m_pool\u001b[0m\u001b[0;34m=\u001b[0m\u001b[0mself\u001b[0m\u001b[0;34m,\u001b[0m \u001b[0m_stacktrace\u001b[0m\u001b[0;34m=\u001b[0m\u001b[0msys\u001b[0m\u001b[0;34m.\u001b[0m\u001b[0mexc_info\u001b[0m\u001b[0;34m(\u001b[0m\u001b[0;34m)\u001b[0m\u001b[0;34m[\u001b[0m\u001b[0;36m2\u001b[0m\u001b[0;34m]\u001b[0m\u001b[0;34m\u001b[0m\u001b[0;34m\u001b[0m\u001b[0m\n",
      "\u001b[0;32m~/opt/miniconda3/envs/recommendation/lib/python3.8/site-packages/urllib3/util/retry.py\u001b[0m in \u001b[0;36mincrement\u001b[0;34m(self, method, url, response, error, _pool, _stacktrace)\u001b[0m\n\u001b[1;32m    399\u001b[0m             \u001b[0;32mif\u001b[0m \u001b[0mread\u001b[0m \u001b[0;32mis\u001b[0m \u001b[0;32mFalse\u001b[0m \u001b[0;32mor\u001b[0m \u001b[0;32mnot\u001b[0m \u001b[0mself\u001b[0m\u001b[0;34m.\u001b[0m\u001b[0m_is_method_retryable\u001b[0m\u001b[0;34m(\u001b[0m\u001b[0mmethod\u001b[0m\u001b[0;34m)\u001b[0m\u001b[0;34m:\u001b[0m\u001b[0;34m\u001b[0m\u001b[0;34m\u001b[0m\u001b[0m\n\u001b[0;32m--> 400\u001b[0;31m                 \u001b[0;32mraise\u001b[0m \u001b[0msix\u001b[0m\u001b[0;34m.\u001b[0m\u001b[0mreraise\u001b[0m\u001b[0;34m(\u001b[0m\u001b[0mtype\u001b[0m\u001b[0;34m(\u001b[0m\u001b[0merror\u001b[0m\u001b[0;34m)\u001b[0m\u001b[0;34m,\u001b[0m \u001b[0merror\u001b[0m\u001b[0;34m,\u001b[0m \u001b[0m_stacktrace\u001b[0m\u001b[0;34m)\u001b[0m\u001b[0;34m\u001b[0m\u001b[0;34m\u001b[0m\u001b[0m\n\u001b[0m\u001b[1;32m    401\u001b[0m             \u001b[0;32melif\u001b[0m \u001b[0mread\u001b[0m \u001b[0;32mis\u001b[0m \u001b[0;32mnot\u001b[0m \u001b[0;32mNone\u001b[0m\u001b[0;34m:\u001b[0m\u001b[0;34m\u001b[0m\u001b[0;34m\u001b[0m\u001b[0m\n",
      "\u001b[0;32m~/opt/miniconda3/envs/recommendation/lib/python3.8/site-packages/urllib3/packages/six.py\u001b[0m in \u001b[0;36mreraise\u001b[0;34m(tp, value, tb)\u001b[0m\n\u001b[1;32m    733\u001b[0m             \u001b[0;32mif\u001b[0m \u001b[0mvalue\u001b[0m\u001b[0;34m.\u001b[0m\u001b[0m__traceback__\u001b[0m \u001b[0;32mis\u001b[0m \u001b[0;32mnot\u001b[0m \u001b[0mtb\u001b[0m\u001b[0;34m:\u001b[0m\u001b[0;34m\u001b[0m\u001b[0;34m\u001b[0m\u001b[0m\n\u001b[0;32m--> 734\u001b[0;31m                 \u001b[0;32mraise\u001b[0m \u001b[0mvalue\u001b[0m\u001b[0;34m.\u001b[0m\u001b[0mwith_traceback\u001b[0m\u001b[0;34m(\u001b[0m\u001b[0mtb\u001b[0m\u001b[0;34m)\u001b[0m\u001b[0;34m\u001b[0m\u001b[0;34m\u001b[0m\u001b[0m\n\u001b[0m\u001b[1;32m    735\u001b[0m             \u001b[0;32mraise\u001b[0m \u001b[0mvalue\u001b[0m\u001b[0;34m\u001b[0m\u001b[0;34m\u001b[0m\u001b[0m\n",
      "\u001b[0;32m~/opt/miniconda3/envs/recommendation/lib/python3.8/site-packages/urllib3/connectionpool.py\u001b[0m in \u001b[0;36murlopen\u001b[0;34m(self, method, url, body, headers, retries, redirect, assert_same_host, timeout, pool_timeout, release_conn, chunked, body_pos, **response_kw)\u001b[0m\n\u001b[1;32m    664\u001b[0m             \u001b[0;31m# Make the request on the httplib connection object.\u001b[0m\u001b[0;34m\u001b[0m\u001b[0;34m\u001b[0m\u001b[0;34m\u001b[0m\u001b[0m\n\u001b[0;32m--> 665\u001b[0;31m             httplib_response = self._make_request(\n\u001b[0m\u001b[1;32m    666\u001b[0m                 \u001b[0mconn\u001b[0m\u001b[0;34m,\u001b[0m\u001b[0;34m\u001b[0m\u001b[0;34m\u001b[0m\u001b[0m\n",
      "\u001b[0;32m~/opt/miniconda3/envs/recommendation/lib/python3.8/site-packages/urllib3/connectionpool.py\u001b[0m in \u001b[0;36m_make_request\u001b[0;34m(self, conn, method, url, timeout, chunked, **httplib_request_kw)\u001b[0m\n\u001b[1;32m    420\u001b[0m                     \u001b[0;31m# Otherwise it looks like a bug in the code.\u001b[0m\u001b[0;34m\u001b[0m\u001b[0;34m\u001b[0m\u001b[0;34m\u001b[0m\u001b[0m\n\u001b[0;32m--> 421\u001b[0;31m                     \u001b[0msix\u001b[0m\u001b[0;34m.\u001b[0m\u001b[0mraise_from\u001b[0m\u001b[0;34m(\u001b[0m\u001b[0me\u001b[0m\u001b[0;34m,\u001b[0m \u001b[0;32mNone\u001b[0m\u001b[0;34m)\u001b[0m\u001b[0;34m\u001b[0m\u001b[0;34m\u001b[0m\u001b[0m\n\u001b[0m\u001b[1;32m    422\u001b[0m         \u001b[0;32mexcept\u001b[0m \u001b[0;34m(\u001b[0m\u001b[0mSocketTimeout\u001b[0m\u001b[0;34m,\u001b[0m \u001b[0mBaseSSLError\u001b[0m\u001b[0;34m,\u001b[0m \u001b[0mSocketError\u001b[0m\u001b[0;34m)\u001b[0m \u001b[0;32mas\u001b[0m \u001b[0me\u001b[0m\u001b[0;34m:\u001b[0m\u001b[0;34m\u001b[0m\u001b[0;34m\u001b[0m\u001b[0m\n",
      "\u001b[0;32m~/opt/miniconda3/envs/recommendation/lib/python3.8/site-packages/urllib3/packages/six.py\u001b[0m in \u001b[0;36mraise_from\u001b[0;34m(value, from_value)\u001b[0m\n",
      "\u001b[0;32m~/opt/miniconda3/envs/recommendation/lib/python3.8/site-packages/urllib3/connectionpool.py\u001b[0m in \u001b[0;36m_make_request\u001b[0;34m(self, conn, method, url, timeout, chunked, **httplib_request_kw)\u001b[0m\n\u001b[1;32m    415\u001b[0m                 \u001b[0;32mtry\u001b[0m\u001b[0;34m:\u001b[0m\u001b[0;34m\u001b[0m\u001b[0;34m\u001b[0m\u001b[0m\n\u001b[0;32m--> 416\u001b[0;31m                     \u001b[0mhttplib_response\u001b[0m \u001b[0;34m=\u001b[0m \u001b[0mconn\u001b[0m\u001b[0;34m.\u001b[0m\u001b[0mgetresponse\u001b[0m\u001b[0;34m(\u001b[0m\u001b[0;34m)\u001b[0m\u001b[0;34m\u001b[0m\u001b[0;34m\u001b[0m\u001b[0m\n\u001b[0m\u001b[1;32m    417\u001b[0m                 \u001b[0;32mexcept\u001b[0m \u001b[0mBaseException\u001b[0m \u001b[0;32mas\u001b[0m \u001b[0me\u001b[0m\u001b[0;34m:\u001b[0m\u001b[0;34m\u001b[0m\u001b[0;34m\u001b[0m\u001b[0m\n",
      "\u001b[0;32m~/opt/miniconda3/envs/recommendation/lib/python3.8/http/client.py\u001b[0m in \u001b[0;36mgetresponse\u001b[0;34m(self)\u001b[0m\n\u001b[1;32m   1321\u001b[0m             \u001b[0;32mtry\u001b[0m\u001b[0;34m:\u001b[0m\u001b[0;34m\u001b[0m\u001b[0;34m\u001b[0m\u001b[0m\n\u001b[0;32m-> 1322\u001b[0;31m                 \u001b[0mresponse\u001b[0m\u001b[0;34m.\u001b[0m\u001b[0mbegin\u001b[0m\u001b[0;34m(\u001b[0m\u001b[0;34m)\u001b[0m\u001b[0;34m\u001b[0m\u001b[0;34m\u001b[0m\u001b[0m\n\u001b[0m\u001b[1;32m   1323\u001b[0m             \u001b[0;32mexcept\u001b[0m \u001b[0mConnectionError\u001b[0m\u001b[0;34m:\u001b[0m\u001b[0;34m\u001b[0m\u001b[0;34m\u001b[0m\u001b[0m\n",
      "\u001b[0;32m~/opt/miniconda3/envs/recommendation/lib/python3.8/http/client.py\u001b[0m in \u001b[0;36mbegin\u001b[0;34m(self)\u001b[0m\n\u001b[1;32m    302\u001b[0m         \u001b[0;32mwhile\u001b[0m \u001b[0;32mTrue\u001b[0m\u001b[0;34m:\u001b[0m\u001b[0;34m\u001b[0m\u001b[0;34m\u001b[0m\u001b[0m\n\u001b[0;32m--> 303\u001b[0;31m             \u001b[0mversion\u001b[0m\u001b[0;34m,\u001b[0m \u001b[0mstatus\u001b[0m\u001b[0;34m,\u001b[0m \u001b[0mreason\u001b[0m \u001b[0;34m=\u001b[0m \u001b[0mself\u001b[0m\u001b[0;34m.\u001b[0m\u001b[0m_read_status\u001b[0m\u001b[0;34m(\u001b[0m\u001b[0;34m)\u001b[0m\u001b[0;34m\u001b[0m\u001b[0;34m\u001b[0m\u001b[0m\n\u001b[0m\u001b[1;32m    304\u001b[0m             \u001b[0;32mif\u001b[0m \u001b[0mstatus\u001b[0m \u001b[0;34m!=\u001b[0m \u001b[0mCONTINUE\u001b[0m\u001b[0;34m:\u001b[0m\u001b[0;34m\u001b[0m\u001b[0;34m\u001b[0m\u001b[0m\n",
      "\u001b[0;32m~/opt/miniconda3/envs/recommendation/lib/python3.8/http/client.py\u001b[0m in \u001b[0;36m_read_status\u001b[0;34m(self)\u001b[0m\n\u001b[1;32m    271\u001b[0m             \u001b[0;31m# sending a valid response.\u001b[0m\u001b[0;34m\u001b[0m\u001b[0;34m\u001b[0m\u001b[0;34m\u001b[0m\u001b[0m\n\u001b[0;32m--> 272\u001b[0;31m             raise RemoteDisconnected(\"Remote end closed connection without\"\n\u001b[0m\u001b[1;32m    273\u001b[0m                                      \" response\")\n",
      "\u001b[0;31mProtocolError\u001b[0m: ('Connection aborted.', RemoteDisconnected('Remote end closed connection without response'))",
      "\nDuring handling of the above exception, another exception occurred:\n",
      "\u001b[0;31mConnectionError\u001b[0m                           Traceback (most recent call last)",
      "\u001b[0;32m<ipython-input-174-1bb9457a4491>\u001b[0m in \u001b[0;36m<module>\u001b[0;34m\u001b[0m\n\u001b[1;32m      3\u001b[0m }\n\u001b[1;32m      4\u001b[0m \u001b[0;34m\u001b[0m\u001b[0m\n\u001b[0;32m----> 5\u001b[0;31m response = requests.post(url='http://localhost:5000/query',\n\u001b[0m\u001b[1;32m      6\u001b[0m                                  json=data)\n\u001b[1;32m      7\u001b[0m \u001b[0mprint\u001b[0m\u001b[0;34m(\u001b[0m\u001b[0mresponse\u001b[0m\u001b[0;34m)\u001b[0m\u001b[0;34m\u001b[0m\u001b[0;34m\u001b[0m\u001b[0m\n",
      "\u001b[0;32m~/opt/miniconda3/envs/recommendation/lib/python3.8/site-packages/requests/api.py\u001b[0m in \u001b[0;36mpost\u001b[0;34m(url, data, json, **kwargs)\u001b[0m\n\u001b[1;32m    117\u001b[0m     \"\"\"\n\u001b[1;32m    118\u001b[0m \u001b[0;34m\u001b[0m\u001b[0m\n\u001b[0;32m--> 119\u001b[0;31m     \u001b[0;32mreturn\u001b[0m \u001b[0mrequest\u001b[0m\u001b[0;34m(\u001b[0m\u001b[0;34m'post'\u001b[0m\u001b[0;34m,\u001b[0m \u001b[0murl\u001b[0m\u001b[0;34m,\u001b[0m \u001b[0mdata\u001b[0m\u001b[0;34m=\u001b[0m\u001b[0mdata\u001b[0m\u001b[0;34m,\u001b[0m \u001b[0mjson\u001b[0m\u001b[0;34m=\u001b[0m\u001b[0mjson\u001b[0m\u001b[0;34m,\u001b[0m \u001b[0;34m**\u001b[0m\u001b[0mkwargs\u001b[0m\u001b[0;34m)\u001b[0m\u001b[0;34m\u001b[0m\u001b[0;34m\u001b[0m\u001b[0m\n\u001b[0m\u001b[1;32m    120\u001b[0m \u001b[0;34m\u001b[0m\u001b[0m\n\u001b[1;32m    121\u001b[0m \u001b[0;34m\u001b[0m\u001b[0m\n",
      "\u001b[0;32m~/opt/miniconda3/envs/recommendation/lib/python3.8/site-packages/requests/api.py\u001b[0m in \u001b[0;36mrequest\u001b[0;34m(method, url, **kwargs)\u001b[0m\n\u001b[1;32m     59\u001b[0m     \u001b[0;31m# cases, and look like a memory leak in others.\u001b[0m\u001b[0;34m\u001b[0m\u001b[0;34m\u001b[0m\u001b[0;34m\u001b[0m\u001b[0m\n\u001b[1;32m     60\u001b[0m     \u001b[0;32mwith\u001b[0m \u001b[0msessions\u001b[0m\u001b[0;34m.\u001b[0m\u001b[0mSession\u001b[0m\u001b[0;34m(\u001b[0m\u001b[0;34m)\u001b[0m \u001b[0;32mas\u001b[0m \u001b[0msession\u001b[0m\u001b[0;34m:\u001b[0m\u001b[0;34m\u001b[0m\u001b[0;34m\u001b[0m\u001b[0m\n\u001b[0;32m---> 61\u001b[0;31m         \u001b[0;32mreturn\u001b[0m \u001b[0msession\u001b[0m\u001b[0;34m.\u001b[0m\u001b[0mrequest\u001b[0m\u001b[0;34m(\u001b[0m\u001b[0mmethod\u001b[0m\u001b[0;34m=\u001b[0m\u001b[0mmethod\u001b[0m\u001b[0;34m,\u001b[0m \u001b[0murl\u001b[0m\u001b[0;34m=\u001b[0m\u001b[0murl\u001b[0m\u001b[0;34m,\u001b[0m \u001b[0;34m**\u001b[0m\u001b[0mkwargs\u001b[0m\u001b[0;34m)\u001b[0m\u001b[0;34m\u001b[0m\u001b[0;34m\u001b[0m\u001b[0m\n\u001b[0m\u001b[1;32m     62\u001b[0m \u001b[0;34m\u001b[0m\u001b[0m\n\u001b[1;32m     63\u001b[0m \u001b[0;34m\u001b[0m\u001b[0m\n",
      "\u001b[0;32m~/opt/miniconda3/envs/recommendation/lib/python3.8/site-packages/requests/sessions.py\u001b[0m in \u001b[0;36mrequest\u001b[0;34m(self, method, url, params, data, headers, cookies, files, auth, timeout, allow_redirects, proxies, hooks, stream, verify, cert, json)\u001b[0m\n\u001b[1;32m    528\u001b[0m         }\n\u001b[1;32m    529\u001b[0m         \u001b[0msend_kwargs\u001b[0m\u001b[0;34m.\u001b[0m\u001b[0mupdate\u001b[0m\u001b[0;34m(\u001b[0m\u001b[0msettings\u001b[0m\u001b[0;34m)\u001b[0m\u001b[0;34m\u001b[0m\u001b[0;34m\u001b[0m\u001b[0m\n\u001b[0;32m--> 530\u001b[0;31m         \u001b[0mresp\u001b[0m \u001b[0;34m=\u001b[0m \u001b[0mself\u001b[0m\u001b[0;34m.\u001b[0m\u001b[0msend\u001b[0m\u001b[0;34m(\u001b[0m\u001b[0mprep\u001b[0m\u001b[0;34m,\u001b[0m \u001b[0;34m**\u001b[0m\u001b[0msend_kwargs\u001b[0m\u001b[0;34m)\u001b[0m\u001b[0;34m\u001b[0m\u001b[0;34m\u001b[0m\u001b[0m\n\u001b[0m\u001b[1;32m    531\u001b[0m \u001b[0;34m\u001b[0m\u001b[0m\n\u001b[1;32m    532\u001b[0m         \u001b[0;32mreturn\u001b[0m \u001b[0mresp\u001b[0m\u001b[0;34m\u001b[0m\u001b[0;34m\u001b[0m\u001b[0m\n",
      "\u001b[0;32m~/opt/miniconda3/envs/recommendation/lib/python3.8/site-packages/requests/sessions.py\u001b[0m in \u001b[0;36msend\u001b[0;34m(self, request, **kwargs)\u001b[0m\n\u001b[1;32m    641\u001b[0m \u001b[0;34m\u001b[0m\u001b[0m\n\u001b[1;32m    642\u001b[0m         \u001b[0;31m# Send the request\u001b[0m\u001b[0;34m\u001b[0m\u001b[0;34m\u001b[0m\u001b[0;34m\u001b[0m\u001b[0m\n\u001b[0;32m--> 643\u001b[0;31m         \u001b[0mr\u001b[0m \u001b[0;34m=\u001b[0m \u001b[0madapter\u001b[0m\u001b[0;34m.\u001b[0m\u001b[0msend\u001b[0m\u001b[0;34m(\u001b[0m\u001b[0mrequest\u001b[0m\u001b[0;34m,\u001b[0m \u001b[0;34m**\u001b[0m\u001b[0mkwargs\u001b[0m\u001b[0;34m)\u001b[0m\u001b[0;34m\u001b[0m\u001b[0;34m\u001b[0m\u001b[0m\n\u001b[0m\u001b[1;32m    644\u001b[0m \u001b[0;34m\u001b[0m\u001b[0m\n\u001b[1;32m    645\u001b[0m         \u001b[0;31m# Total elapsed time of the request (approximately)\u001b[0m\u001b[0;34m\u001b[0m\u001b[0;34m\u001b[0m\u001b[0;34m\u001b[0m\u001b[0m\n",
      "\u001b[0;32m~/opt/miniconda3/envs/recommendation/lib/python3.8/site-packages/requests/adapters.py\u001b[0m in \u001b[0;36msend\u001b[0;34m(self, request, stream, timeout, verify, cert, proxies)\u001b[0m\n\u001b[1;32m    496\u001b[0m \u001b[0;34m\u001b[0m\u001b[0m\n\u001b[1;32m    497\u001b[0m         \u001b[0;32mexcept\u001b[0m \u001b[0;34m(\u001b[0m\u001b[0mProtocolError\u001b[0m\u001b[0;34m,\u001b[0m \u001b[0msocket\u001b[0m\u001b[0;34m.\u001b[0m\u001b[0merror\u001b[0m\u001b[0;34m)\u001b[0m \u001b[0;32mas\u001b[0m \u001b[0merr\u001b[0m\u001b[0;34m:\u001b[0m\u001b[0;34m\u001b[0m\u001b[0;34m\u001b[0m\u001b[0m\n\u001b[0;32m--> 498\u001b[0;31m             \u001b[0;32mraise\u001b[0m \u001b[0mConnectionError\u001b[0m\u001b[0;34m(\u001b[0m\u001b[0merr\u001b[0m\u001b[0;34m,\u001b[0m \u001b[0mrequest\u001b[0m\u001b[0;34m=\u001b[0m\u001b[0mrequest\u001b[0m\u001b[0;34m)\u001b[0m\u001b[0;34m\u001b[0m\u001b[0;34m\u001b[0m\u001b[0m\n\u001b[0m\u001b[1;32m    499\u001b[0m \u001b[0;34m\u001b[0m\u001b[0m\n\u001b[1;32m    500\u001b[0m         \u001b[0;32mexcept\u001b[0m \u001b[0mMaxRetryError\u001b[0m \u001b[0;32mas\u001b[0m \u001b[0me\u001b[0m\u001b[0;34m:\u001b[0m\u001b[0;34m\u001b[0m\u001b[0;34m\u001b[0m\u001b[0m\n",
      "\u001b[0;31mConnectionError\u001b[0m: ('Connection aborted.', RemoteDisconnected('Remote end closed connection without response'))"
     ]
    }
   ],
   "source": [
    "data = {\n",
    "    'query': query\n",
    "}\n",
    "\n",
    "response = requests.post(url='http://localhost:5000/query',\n",
    "                                 json=data)\n",
    "print(response)\n",
    "print(response.text)\n",
    "response.json()"
   ]
  },
  {
   "cell_type": "code",
   "execution_count": null,
   "metadata": {},
   "outputs": [],
   "source": []
  }
 ],
 "metadata": {
  "colab": {
   "collapsed_sections": [],
   "name": "Sentence Transformers.ipynb",
   "provenance": []
  },
  "kernelspec": {
   "display_name": "Python 3",
   "language": "python",
   "name": "python3"
  },
  "language_info": {
   "codemirror_mode": {
    "name": "ipython",
    "version": 3
   },
   "file_extension": ".py",
   "mimetype": "text/x-python",
   "name": "python",
   "nbconvert_exporter": "python",
   "pygments_lexer": "ipython3",
   "version": "3.8.2"
  }
 },
 "nbformat": 4,
 "nbformat_minor": 4
}
