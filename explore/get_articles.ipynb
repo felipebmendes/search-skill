{
 "cells": [
  {
   "cell_type": "code",
   "execution_count": 1,
   "metadata": {},
   "outputs": [
    {
     "name": "stderr",
     "output_type": "stream",
     "text": [
      "/Users/felipe/opt/miniconda3/envs/recommendation/lib/python3.8/site-packages/lightfm/_lightfm_fast.py:9: UserWarning: LightFM was compiled without OpenMP support. Only a single thread will be used.\n",
      "  warnings.warn('LightFM was compiled without OpenMP support. '\n"
     ]
    }
   ],
   "source": [
    "import numpy as np\n",
    "from lightfm import LightFM\n",
    "from lightfm.evaluation import precision_at_k, recall_at_k\n",
    "import scipy\n",
    "from scipy.sparse import coo_matrix, eye, hstack, lil_matrix\n",
    "from skopt import forest_minimize\n",
    "from pycarol import Carol, Staging, ApiKeyAuth, Storage, PwdAuth\n",
    "from pycarol.data_models import DataModel\n",
    "import pandas as pd\n",
    "import datetime\n",
    "import json\n",
    "import re\n",
    "import time\n",
    "import math\n",
    "import seaborn as sns\n",
    "import matplotlib.pyplot as plt\n",
    "import pickle "
   ]
  },
  {
   "cell_type": "code",
   "execution_count": 2,
   "metadata": {},
   "outputs": [],
   "source": [
    "login_dont = Carol(domain='monitoriaqa',\n",
    "app_name=' ',\n",
    "organization='totvs',\n",
    "auth=PwdAuth('fmendes@totvs.com.br', 'Intxdx70248821*'))"
   ]
  },
  {
   "cell_type": "code",
   "execution_count": 3,
   "metadata": {},
   "outputs": [
    {
     "name": "stderr",
     "output_type": "stream",
     "text": [
      "100%|██████████| 60/60 [02:01<00:00,  2.02s/it]\n"
     ]
    }
   ],
   "source": [
    "df = Staging(login_dont).fetch_parquet(staging_name='articles',\n",
    "                        connector_name='carol_connect_zerado',\n",
    "                        cds=True\n",
    "                        )"
   ]
  },
  {
   "cell_type": "code",
   "execution_count": 5,
   "metadata": {},
   "outputs": [
    {
     "name": "stderr",
     "output_type": "stream",
     "text": [
      "100%|██████████| 5/5 [00:07<00:00,  1.51s/it]\n"
     ]
    }
   ],
   "source": [
    "categories = Staging(login_dont).fetch_parquet(staging_name='categories',\n",
    "                        connector_name='carol_connect_zerado',\n",
    "                        cds=True\n",
    "                        )\n",
    "categories = categories.astype(str)"
   ]
  },
  {
   "cell_type": "code",
   "execution_count": 7,
   "metadata": {},
   "outputs": [
    {
     "name": "stderr",
     "output_type": "stream",
     "text": [
      "100%|██████████| 26/26 [00:19<00:00,  1.30it/s]\n"
     ]
    }
   ],
   "source": [
    "sections = Staging(login_dont).fetch_parquet(staging_name='sections',\n",
    "                        connector_name='carol_connect_zerado',\n",
    "                        cds=True\n",
    "                        )\n",
    "sections = categories.astype(str)"
   ]
  },
  {
   "cell_type": "code",
   "execution_count": 8,
   "metadata": {},
   "outputs": [
    {
     "data": {
      "text/plain": [
       "'https://atendimento-homolog.totvs.com/hc/pt-br/categories/203876667-RM-Categoria'"
      ]
     },
     "execution_count": 8,
     "metadata": {},
     "output_type": "execute_result"
    }
   ],
   "source": [
    "categories.iloc[124].html_url"
   ]
  },
  {
   "cell_type": "code",
   "execution_count": 22,
   "metadata": {},
   "outputs": [
    {
     "data": {
      "text/plain": [
       "array([' Atualizações Totvs', 'Ambiente', 'Analytics', 'Aprendizado',\n",
       "       'Auto atendimento', 'Bemacash', 'Bemacash FLY01 Vestuário',\n",
       "       'CLOUD', 'CMNET', 'CMNET', 'CMNet Reservas e Higs', 'CST', 'CST',\n",
       "       'CST Adm Gente', 'CST Adm Gente', 'Cadastros', 'Categoria',\n",
       "       'Categoria de teste - CST', 'Central de Oportunidades  ',\n",
       "       'Centro de Serviços', 'Ciclo de Vida', 'Ciclo de Vida', 'Cloud',\n",
       "       'Cloud', 'Consumer', 'Copiloto', 'CoreBanking', 'CoreBanking',\n",
       "       'DON - CHRONUS', 'Datasul', 'Datasul', 'Datasul', 'Datasul',\n",
       "       'Documentações', 'Documentações', 'Documentos', 'ESocial', 'Eleve',\n",
       "       'Enterprise Service Bus', 'Financeiro', 'Financial Services',\n",
       "       'Financial Services', 'Financial Services', 'Fiscal Varejo',\n",
       "       'Fiscal Varejo', 'Fluig', 'Fluig', 'Fluig', 'Fluig', 'Fly01',\n",
       "       'Fly01', 'Fly01', 'Gemco', 'Gemco Anywhere', 'Gemco Anywhere',\n",
       "       'Geral', 'Geral', 'Geral', 'Geral', 'Geral',\n",
       "       'Governança de Serviços', 'Healthcare', 'Hotal Full',\n",
       "       'Hotal Special', 'Hotel Full LATAM', 'Identity',\n",
       "       'Informações Internas Suporte aos Produtos',\n",
       "       'Integração de Vendas', 'Integração e-Commerce Ciashop',\n",
       "       'Investimentos', 'Investimentos', 'Jurídico Corporativo', 'KCS',\n",
       "       'LOGIX', 'Liberações de Acesso', 'Linha de Produtos', 'Logix',\n",
       "       'Logix', 'MI - Centro de Servicio', 'Meu RH', 'Mobile', 'NFC-e',\n",
       "       'NFe', 'Notícias', 'Notícias', 'Notícias',\n",
       "       'Novidades e atualizações', 'Ouvidoria', 'PAF - ECF',\n",
       "       'PC Sistemas', 'PIMS Cana', 'PIMS Indústria', 'PIMS Mobile',\n",
       "       'PIMS Multicultivos', 'PROTHEUS', 'Parcerias RH', 'Parcerias RH',\n",
       "       'Periféricos', 'Políticas e Procedimentos',\n",
       "       'Políticas e Procedimentos ', 'Portais', 'Portal do Cliente',\n",
       "       'Portal do Cliente', 'Processo e Ferramenta de Atendimento',\n",
       "       'Processo e Ferramenta de Desenvolvimento',\n",
       "       'Processo e Ferramenta de Documentação e Tradução', 'Processos',\n",
       "       'Protheus', 'Protheus', 'QA', 'RM', 'RM', 'RM - Categoria', 'RMS',\n",
       "       'RMS', 'RMS', 'Recursos Humanos', 'Relatórios', 'SAC Fly01',\n",
       "       'SARA', 'SARA', 'Sala de Comando', 'Saúde', 'Services', 'Sisjuri',\n",
       "       'Sisjuri', 'Social', 'Soluções Saúde', 'Suporte CMNET',\n",
       "       'Suporte Virtual Age', 'Supply Chain', 'TAF', 'TAF', 'TEF', 'THEX',\n",
       "       'TI', 'TI - Central de Serviços ', 'TOTVS Antecipa', 'TOTVS Chef',\n",
       "       'TOTVS Chef', 'TOTVS ECM', 'TOTVS Food', 'TOTVS Live',\n",
       "       'TOTVS Live', 'TSA', 'TSA', 'TSS', 'TSS', 'Tecnologia',\n",
       "       'Tecnologia', 'Teste KCS', 'Universidade TOTVS',\n",
       "       'Universidade TOTVS', 'Virtual Age', 'Virtual Age',\n",
       "       'Virtual Age Contabilidade', 'Virtual Age Faturamento',\n",
       "       'Virtual Age Financeiro', 'Virtual Age Fiscal', 'Virtual Age PDV',\n",
       "       'Virtual Age Produção', 'Virtual Age Recursos Humanos',\n",
       "       'Virtual Age Shopping', 'Virtual Age Varejo', 'WinThor', 'WinThor',\n",
       "       'analytics', 'bpm/ecm', 'ecf', 'esb', 'fluig', 'fluig Boards',\n",
       "       'fluig Store', 'gemco', 'gemco', 'identity', 'lms', 'portais/wcm',\n",
       "       'smartecf', 'social', 'test', 'teste categoria'], dtype=object)"
      ]
     },
     "execution_count": 22,
     "metadata": {},
     "output_type": "execute_result"
    }
   ],
   "source": [
    "categories.name.values"
   ]
  },
  {
   "cell_type": "code",
   "execution_count": 19,
   "metadata": {},
   "outputs": [
    {
     "data": {
      "text/plain": [
       "125    360001488852.0\n",
       "127    360001488832.0\n",
       "Name: id, dtype: object"
      ]
     },
     "execution_count": 19,
     "metadata": {},
     "output_type": "execute_result"
    }
   ],
   "source": [
    "categories[categories.name == 'WinThor']['id']"
   ]
  },
  {
   "cell_type": "code",
   "execution_count": 23,
   "metadata": {},
   "outputs": [
    {
     "data": {
      "text/html": [
       "<div>\n",
       "<style scoped>\n",
       "    .dataframe tbody tr th:only-of-type {\n",
       "        vertical-align: middle;\n",
       "    }\n",
       "\n",
       "    .dataframe tbody tr th {\n",
       "        vertical-align: top;\n",
       "    }\n",
       "\n",
       "    .dataframe thead th {\n",
       "        text-align: right;\n",
       "    }\n",
       "</style>\n",
       "<table border=\"1\" class=\"dataframe\">\n",
       "  <thead>\n",
       "    <tr style=\"text-align: right;\">\n",
       "      <th></th>\n",
       "      <th>__v</th>\n",
       "      <th>brand_id</th>\n",
       "      <th>brand_name</th>\n",
       "      <th>created_at</th>\n",
       "      <th>description</th>\n",
       "      <th>html_url</th>\n",
       "      <th>id</th>\n",
       "      <th>idinternalmdb</th>\n",
       "      <th>locale</th>\n",
       "      <th>name</th>\n",
       "      <th>outdated</th>\n",
       "      <th>position</th>\n",
       "      <th>source_locale</th>\n",
       "      <th>updated_at</th>\n",
       "      <th>url</th>\n",
       "    </tr>\n",
       "  </thead>\n",
       "  <tbody>\n",
       "  </tbody>\n",
       "</table>\n",
       "</div>"
      ],
      "text/plain": [
       "Empty DataFrame\n",
       "Columns: [__v, brand_id, brand_name, created_at, description, html_url, id, idinternalmdb, locale, name, outdated, position, source_locale, updated_at, url]\n",
       "Index: []"
      ]
     },
     "execution_count": 23,
     "metadata": {},
     "output_type": "execute_result"
    }
   ],
   "source": [
    "categories[categories.id == '360003678772.0']"
   ]
  },
  {
   "cell_type": "raw",
   "metadata": {},
   "source": [
    "df.to_csv('articles.csv', index=False)"
   ]
  },
  {
   "cell_type": "raw",
   "metadata": {},
   "source": [
    "df = pd.read_csv('articles.csv')"
   ]
  },
  {
   "cell_type": "code",
   "execution_count": 4,
   "metadata": {},
   "outputs": [],
   "source": [
    "df = df.astype(str)"
   ]
  },
  {
   "cell_type": "code",
   "execution_count": 5,
   "metadata": {},
   "outputs": [
    {
     "data": {
      "text/plain": [
       "(36332, 26)"
      ]
     },
     "execution_count": 5,
     "metadata": {},
     "output_type": "execute_result"
    }
   ],
   "source": [
    "df.shape"
   ]
  },
  {
   "cell_type": "code",
   "execution_count": 6,
   "metadata": {},
   "outputs": [
    {
     "data": {
      "text/plain": [
       "(2128, 26)"
      ]
     },
     "execution_count": 6,
     "metadata": {},
     "output_type": "execute_result"
    }
   ],
   "source": [
    "df[(df.source_locale == 'es')].shape"
   ]
  },
  {
   "cell_type": "code",
   "execution_count": 10,
   "metadata": {},
   "outputs": [
    {
     "data": {
      "text/plain": [
       "'https://centraldeatendimento.fluig.com/hc/pt-br/articles/360034984293-FL-ANA-Como-configurar-widget-Analytics-no-fluig'"
      ]
     },
     "execution_count": 10,
     "metadata": {},
     "output_type": "execute_result"
    }
   ],
   "source": [
    "df.iloc[0].html_url"
   ]
  },
  {
   "cell_type": "code",
   "execution_count": 8,
   "metadata": {},
   "outputs": [
    {
     "data": {
      "text/plain": [
       "(2206, 26)"
      ]
     },
     "execution_count": 8,
     "metadata": {},
     "output_type": "execute_result"
    }
   ],
   "source": [
    "df[df.draft == 'True'].shape"
   ]
  },
  {
   "cell_type": "code",
   "execution_count": 14,
   "metadata": {},
   "outputs": [
    {
     "data": {
      "text/plain": [
       "__v                                                                  0\n",
       "author_id                                               378119603651.0\n",
       "body                 <p><strong>Dúvida<br></strong>Como utilizar a ...\n",
       "brand_id                                                       1509248\n",
       "brand_name                                                       TOTVS\n",
       "comments_disabled                                                False\n",
       "created_at                                    2019-11-05T14:17:23.000Z\n",
       "draft                                                             True\n",
       "edited_at                                     2019-11-05T14:17:23.000Z\n",
       "html_url             https://centraldeatendimento.totvs.com/hc/pt-b...\n",
       "id                                                      360037893454.0\n",
       "idinternalmdb                                 5ea30436669e459227dd569c\n",
       "label_names          [\"brasil\",\"mercadoria\",\"winthor\",\"versao 29\",\"...\n",
       "name                 WINT - Como utilizar a rotina 1143 - Sobra de ...\n",
       "outdated                                                         False\n",
       "outdated_locales                                                    []\n",
       "position                                                             0\n",
       "promoted                                                         False\n",
       "section_id                                              360003678772.0\n",
       "source_locale                                                    pt-br\n",
       "title                WINT - Como utilizar a rotina 1143 - Sobra de ...\n",
       "updated                                                           True\n",
       "updated_at                                    2019-12-26T15:02:54.000Z\n",
       "url                  https://totvsexterno.zendesk.com/api/v2/help_c...\n",
       "vote_count                                                           0\n",
       "vote_sum                                                             0\n",
       "Name: 9562, dtype: object"
      ]
     },
     "execution_count": 14,
     "metadata": {},
     "output_type": "execute_result"
    }
   ],
   "source": [
    "df.iloc[9562]"
   ]
  },
  {
   "cell_type": "code",
   "execution_count": 37,
   "metadata": {},
   "outputs": [
    {
     "data": {
      "text/plain": [
       "Index(['__v', 'brand_id', 'brand_name', 'created_at', 'description',\n",
       "       'html_url', 'id', 'idinternalmdb', 'locale', 'name', 'outdated',\n",
       "       'position', 'source_locale', 'updated_at', 'url'],\n",
       "      dtype='object')"
      ]
     },
     "execution_count": 37,
     "metadata": {},
     "output_type": "execute_result"
    }
   ],
   "source": [
    "sections.columns"
   ]
  },
  {
   "cell_type": "code",
   "execution_count": 25,
   "metadata": {},
   "outputs": [
    {
     "data": {
      "text/plain": [
       "'115001274268.0'"
      ]
     },
     "execution_count": 25,
     "metadata": {},
     "output_type": "execute_result"
    }
   ],
   "source": [
    "sections.iloc[15].id"
   ]
  },
  {
   "cell_type": "code",
   "execution_count": 27,
   "metadata": {},
   "outputs": [
    {
     "data": {
      "text/plain": [
       "__v                                                              0\n",
       "brand_id                                                   7539207\n",
       "brand_name                                             CST Sandbox\n",
       "created_at                                2017-05-24T14:46:48.000Z\n",
       "description                                                       \n",
       "html_url         https://cstsandbox.zendesk.com/hc/pt-br/catego...\n",
       "id                                                  115001274268.0\n",
       "idinternalmdb                             5b6980246c84568045bd6151\n",
       "locale                                                       pt-br\n",
       "name                                                         Geral\n",
       "outdated                                                     False\n",
       "position                                                         0\n",
       "source_locale                                                pt-br\n",
       "updated_at                                2018-05-10T12:16:35.000Z\n",
       "url              https://cstsandbox.zendesk.com/api/v2/help_cen...\n",
       "Name: 15, dtype: object"
      ]
     },
     "execution_count": 27,
     "metadata": {},
     "output_type": "execute_result"
    }
   ],
   "source": [
    "sections.iloc[15]"
   ]
  },
  {
   "cell_type": "code",
   "execution_count": 30,
   "metadata": {},
   "outputs": [],
   "source": [
    "df = df.astype(str)"
   ]
  },
  {
   "cell_type": "code",
   "execution_count": 29,
   "metadata": {},
   "outputs": [
    {
     "data": {
      "text/html": [
       "<div>\n",
       "<style scoped>\n",
       "    .dataframe tbody tr th:only-of-type {\n",
       "        vertical-align: middle;\n",
       "    }\n",
       "\n",
       "    .dataframe tbody tr th {\n",
       "        vertical-align: top;\n",
       "    }\n",
       "\n",
       "    .dataframe thead th {\n",
       "        text-align: right;\n",
       "    }\n",
       "</style>\n",
       "<table border=\"1\" class=\"dataframe\">\n",
       "  <thead>\n",
       "    <tr style=\"text-align: right;\">\n",
       "      <th></th>\n",
       "      <th>__v</th>\n",
       "      <th>brand_id</th>\n",
       "      <th>brand_name</th>\n",
       "      <th>created_at</th>\n",
       "      <th>description</th>\n",
       "      <th>html_url</th>\n",
       "      <th>id</th>\n",
       "      <th>idinternalmdb</th>\n",
       "      <th>locale</th>\n",
       "      <th>name</th>\n",
       "      <th>outdated</th>\n",
       "      <th>position</th>\n",
       "      <th>source_locale</th>\n",
       "      <th>updated_at</th>\n",
       "      <th>url</th>\n",
       "    </tr>\n",
       "  </thead>\n",
       "  <tbody>\n",
       "  </tbody>\n",
       "</table>\n",
       "</div>"
      ],
      "text/plain": [
       "Empty DataFrame\n",
       "Columns: [__v, brand_id, brand_name, created_at, description, html_url, id, idinternalmdb, locale, name, outdated, position, source_locale, updated_at, url]\n",
       "Index: []"
      ]
     },
     "execution_count": 29,
     "metadata": {},
     "output_type": "execute_result"
    }
   ],
   "source": [
    "sections[sections.id.str.contains('54308')]"
   ]
  },
  {
   "cell_type": "code",
   "execution_count": 14,
   "metadata": {},
   "outputs": [
    {
     "data": {
      "text/plain": [
       "'https://centraldeatendimento.totvs.com/hc/pt-br/articles/360035446493-LG-FAT-Verificar-duplicatas-pagas-ou-emitidas-no-cancelamento-da-nota-fiscal'"
      ]
     },
     "execution_count": 14,
     "metadata": {},
     "output_type": "execute_result"
    }
   ],
   "source": [
    "df.iloc[9562].html_url"
   ]
  },
  {
   "cell_type": "code",
   "execution_count": 35,
   "metadata": {},
   "outputs": [
    {
     "data": {
      "text/plain": [
       "367      115001251127.0\n",
       "490      115001251127.0\n",
       "534      115001251127.0\n",
       "549      115001251127.0\n",
       "566      115001251127.0\n",
       "573      115001251127.0\n",
       "778      115001251127.0\n",
       "1236     115001251127.0\n",
       "1351     115001251127.0\n",
       "1851     115001251127.0\n",
       "2177     115001251127.0\n",
       "2446     115001251127.0\n",
       "2583     115001251127.0\n",
       "2605     115001251127.0\n",
       "2713     115001251127.0\n",
       "2714     115001251127.0\n",
       "2719     115001251127.0\n",
       "2721     115001251127.0\n",
       "2768     115001251127.0\n",
       "2783     115001251127.0\n",
       "2874     115001251127.0\n",
       "2933     115001251127.0\n",
       "2938     115001251127.0\n",
       "3005     115001251127.0\n",
       "3121     115001251127.0\n",
       "3153     115001251127.0\n",
       "3260     115001251127.0\n",
       "3277     115001251127.0\n",
       "3323     115001251127.0\n",
       "3788     115001251127.0\n",
       "              ...      \n",
       "35658    115001251127.0\n",
       "35820    115001251127.0\n",
       "35881    115001251127.0\n",
       "35906    115001251127.0\n",
       "36191    115001251127.0\n",
       "36252    115001251127.0\n",
       "36379    115001251127.0\n",
       "36438    115001251127.0\n",
       "36483    115001251127.0\n",
       "36568    115001251127.0\n",
       "36673    115001251127.0\n",
       "36788    115001251127.0\n",
       "37140    115001251127.0\n",
       "37320    115001251127.0\n",
       "37350    115001251127.0\n",
       "37473    115001251127.0\n",
       "37496    115001251127.0\n",
       "37939    115001251127.0\n",
       "38316    115001251127.0\n",
       "38503    115001251127.0\n",
       "38680    115001251127.0\n",
       "38752    115001251127.0\n",
       "39025    115001251127.0\n",
       "39224    115001251127.0\n",
       "39355    115001251127.0\n",
       "39377    115001251127.0\n",
       "39414    115001251127.0\n",
       "39675    115001251127.0\n",
       "39990    115001251127.0\n",
       "40130    115001251127.0\n",
       "Name: section_id, Length: 774, dtype: object"
      ]
     },
     "execution_count": 35,
     "metadata": {},
     "output_type": "execute_result"
    }
   ],
   "source": [
    "df[df.section_id.str.contains('1150012')]['section_id']"
   ]
  },
  {
   "cell_type": "code",
   "execution_count": 17,
   "metadata": {},
   "outputs": [
    {
     "data": {
      "text/plain": [
       "206933207.0"
      ]
     },
     "execution_count": 17,
     "metadata": {},
     "output_type": "execute_result"
    }
   ],
   "source": [
    "df.iloc[952].section_id"
   ]
  },
  {
   "cell_type": "code",
   "execution_count": 11,
   "metadata": {},
   "outputs": [
    {
     "data": {
      "text/html": [
       "<div>\n",
       "<style scoped>\n",
       "    .dataframe tbody tr th:only-of-type {\n",
       "        vertical-align: middle;\n",
       "    }\n",
       "\n",
       "    .dataframe tbody tr th {\n",
       "        vertical-align: top;\n",
       "    }\n",
       "\n",
       "    .dataframe thead th {\n",
       "        text-align: right;\n",
       "    }\n",
       "</style>\n",
       "<table border=\"1\" class=\"dataframe\">\n",
       "  <thead>\n",
       "    <tr style=\"text-align: right;\">\n",
       "      <th></th>\n",
       "      <th>__v</th>\n",
       "      <th>brand_id</th>\n",
       "      <th>brand_name</th>\n",
       "      <th>created_at</th>\n",
       "      <th>description</th>\n",
       "      <th>html_url</th>\n",
       "      <th>id</th>\n",
       "      <th>idinternalmdb</th>\n",
       "      <th>locale</th>\n",
       "      <th>name</th>\n",
       "      <th>outdated</th>\n",
       "      <th>position</th>\n",
       "      <th>source_locale</th>\n",
       "      <th>updated_at</th>\n",
       "      <th>url</th>\n",
       "    </tr>\n",
       "  </thead>\n",
       "  <tbody>\n",
       "  </tbody>\n",
       "</table>\n",
       "</div>"
      ],
      "text/plain": [
       "Empty DataFrame\n",
       "Columns: [__v, brand_id, brand_name, created_at, description, html_url, id, idinternalmdb, locale, name, outdated, position, source_locale, updated_at, url]\n",
       "Index: []"
      ]
     },
     "execution_count": 11,
     "metadata": {},
     "output_type": "execute_result"
    }
   ],
   "source": [
    "sections[sections.id == '206954428.0']"
   ]
  },
  {
   "cell_type": "code",
   "execution_count": 12,
   "metadata": {},
   "outputs": [
    {
     "data": {
      "text/plain": [
       "9562    360037893454.0\n",
       "Name: id, dtype: object"
      ]
     },
     "execution_count": 12,
     "metadata": {},
     "output_type": "execute_result"
    }
   ],
   "source": [
    "df[df.id.str.contains('360037893454')]['id']"
   ]
  },
  {
   "cell_type": "code",
   "execution_count": 7,
   "metadata": {},
   "outputs": [],
   "source": [
    "sample = df[(df.source_locale == 'pt-br') & (~df.body.isnull())]"
   ]
  },
  {
   "cell_type": "code",
   "execution_count": 8,
   "metadata": {},
   "outputs": [
    {
     "data": {
      "text/plain": [
       "(34187, 26)"
      ]
     },
     "execution_count": 8,
     "metadata": {},
     "output_type": "execute_result"
    }
   ],
   "source": [
    "sample.shape"
   ]
  },
  {
   "cell_type": "code",
   "execution_count": 9,
   "metadata": {},
   "outputs": [],
   "source": [
    "def remove_html_tags(text):\n",
    "    \"\"\"Remove html tags from a string\"\"\"\n",
    "    clean = re.compile('<.*?>')\n",
    "    text = re.sub(clean, '', text)\n",
    "    return \" \".join(re.sub(r'\\s([?.!\"](?:\\s|$))', r'\\1', text).strip().split())"
   ]
  },
  {
   "cell_type": "code",
   "execution_count": 10,
   "metadata": {},
   "outputs": [],
   "source": [
    "def get_question(body):\n",
    "    \n",
    "    body = body.replace('\\n', '')\n",
    "\n",
    "    m = re.search('(?<=(Dúvida)|(Duvida)).*?(?=Ambiente)', body, re.IGNORECASE)\n",
    "    if m:\n",
    "        return remove_html_tags(m.group(0))\n",
    "\n",
    "    m = re.search('(?<=(Ocorrência)|(Ocorrencia)).*?(?=Ambiente)', body, re.IGNORECASE)\n",
    "    if m:\n",
    "        return remove_html_tags(m.group(0))\n",
    "    \n",
    "    return np.nan"
   ]
  },
  {
   "cell_type": "code",
   "execution_count": 11,
   "metadata": {},
   "outputs": [],
   "source": [
    "def get_question_type(body):\n",
    "    \n",
    "    body = body.replace('\\n', '')\n",
    "\n",
    "    m = re.search('(?<=(Dúvida)|(Duvida)).*?(?=Ambiente)', body, re.IGNORECASE)\n",
    "    if m:\n",
    "        return 'question'\n",
    "\n",
    "    m = re.search('(?<=(Ocorrência)|(Ocorrencia)).*?(?=Ambiente)', body, re.IGNORECASE)\n",
    "    if m:\n",
    "        return 'occurrence'\n",
    "    \n",
    "    return np.nan"
   ]
  },
  {
   "cell_type": "code",
   "execution_count": 12,
   "metadata": {},
   "outputs": [],
   "source": [
    "def get_environment(body):\n",
    "    \n",
    "    body = body.replace('\\n', '')\n",
    "\n",
    "    m = re.search('(?<=Ambiente).*?(?=Solução)', body, re.IGNORECASE)\n",
    "    if not m:\n",
    "        return np.nan\n",
    "    return remove_html_tags(m.group(0))"
   ]
  },
  {
   "cell_type": "code",
   "execution_count": 13,
   "metadata": {},
   "outputs": [],
   "source": [
    "def get_solution(body):\n",
    "    \n",
    "    body = body.replace('\\n', '')\n",
    "\n",
    "    m = re.search('(?<=Solução)(?s)(.*$)', body, re.IGNORECASE)\n",
    "    if not m:\n",
    "        return np.nan\n",
    "    return m.group(0)"
   ]
  },
  {
   "cell_type": "code",
   "execution_count": 14,
   "metadata": {},
   "outputs": [
    {
     "name": "stderr",
     "output_type": "stream",
     "text": [
      "<ipython-input-13-d7c59c3a7d97>:5: DeprecationWarning: Flags not at the start of the expression '(?<=Solução)(?s)(.*$' (truncated)\n",
      "  m = re.search('(?<=Solução)(?s)(.*$)', body, re.IGNORECASE)\n"
     ]
    }
   ],
   "source": [
    "df['question'] = df.body.apply(get_question)\n",
    "df['question_type'] = df.body.apply(get_question_type)\n",
    "df['environment'] = df.body.apply(get_environment)\n",
    "df['solution'] = df.body.apply(get_solution)"
   ]
  },
  {
   "cell_type": "code",
   "execution_count": 15,
   "metadata": {},
   "outputs": [],
   "source": [
    "empty = sample[(sample['question'].isnull()) | (sample['question_type'].isnull()) | (sample['environment'].isnull()) | (sample['solution'].isnull())]"
   ]
  },
  {
   "cell_type": "code",
   "execution_count": 16,
   "metadata": {},
   "outputs": [],
   "source": [
    "df = df.dropna(subset=['question', 'question_type', 'environment', 'solution'])"
   ]
  },
  {
   "cell_type": "code",
   "execution_count": 17,
   "metadata": {},
   "outputs": [
    {
     "data": {
      "text/plain": [
       "(33557, 30)"
      ]
     },
     "execution_count": 17,
     "metadata": {},
     "output_type": "execute_result"
    }
   ],
   "source": [
    "sample.shape"
   ]
  },
  {
   "cell_type": "code",
   "execution_count": 18,
   "metadata": {},
   "outputs": [
    {
     "data": {
      "text/plain": [
       "(630, 30)"
      ]
     },
     "execution_count": 18,
     "metadata": {},
     "output_type": "execute_result"
    }
   ],
   "source": [
    "empty.shape"
   ]
  },
  {
   "cell_type": "code",
   "execution_count": 11,
   "metadata": {},
   "outputs": [
    {
     "data": {
      "text/plain": [
       "__v                                                                  0\n",
       "author_id                                                  1.96601e+10\n",
       "body                 <p><br><strong>Dúvida</strong><strong><br></st...\n",
       "brand_id                                                       2911068\n",
       "brand_name                                                       Fluig\n",
       "comments_disabled                                                False\n",
       "created_at                                    2019-08-27T16:20:33.000Z\n",
       "draft                                                            False\n",
       "edited_at                                     2019-08-27T16:20:37.000Z\n",
       "html_url             https://centraldeatendimento.fluig.com/hc/pt-b...\n",
       "id                                                         3.60035e+11\n",
       "idinternalmdb                                 5ea3019c669e459227dc4d93\n",
       "label_names          [\"fluig_analytics\",\"fluig_1.6.5\",\"fluig_analyt...\n",
       "name                 FL - ANA - Como configurar widget Analytics no...\n",
       "outdated                                                         False\n",
       "outdated_locales                                                    []\n",
       "position                                                             0\n",
       "promoted                                                         False\n",
       "section_id                                                 3.60004e+11\n",
       "source_locale                                                    pt-br\n",
       "title                FL - ANA - Como configurar widget Analytics no...\n",
       "updated                                                          False\n",
       "updated_at                                    2019-08-27T16:20:37.000Z\n",
       "url                  https://fluigexterno.zendesk.com/api/v2/help_c...\n",
       "vote_count                                                           0\n",
       "vote_sum                                                             0\n",
       "Name: 0, dtype: object"
      ]
     },
     "execution_count": 11,
     "metadata": {},
     "output_type": "execute_result"
    }
   ],
   "source": [
    "df.iloc[0]"
   ]
  },
  {
   "cell_type": "code",
   "execution_count": 19,
   "metadata": {},
   "outputs": [
    {
     "data": {
      "text/html": [
       "<div>\n",
       "<style scoped>\n",
       "    .dataframe tbody tr th:only-of-type {\n",
       "        vertical-align: middle;\n",
       "    }\n",
       "\n",
       "    .dataframe tbody tr th {\n",
       "        vertical-align: top;\n",
       "    }\n",
       "\n",
       "    .dataframe thead th {\n",
       "        text-align: right;\n",
       "    }\n",
       "</style>\n",
       "<table border=\"1\" class=\"dataframe\">\n",
       "  <thead>\n",
       "    <tr style=\"text-align: right;\">\n",
       "      <th></th>\n",
       "      <th>__v</th>\n",
       "      <th>author_id</th>\n",
       "      <th>body</th>\n",
       "      <th>brand_id</th>\n",
       "      <th>brand_name</th>\n",
       "      <th>comments_disabled</th>\n",
       "      <th>created_at</th>\n",
       "      <th>draft</th>\n",
       "      <th>edited_at</th>\n",
       "      <th>html_url</th>\n",
       "      <th>...</th>\n",
       "      <th>title</th>\n",
       "      <th>updated</th>\n",
       "      <th>updated_at</th>\n",
       "      <th>url</th>\n",
       "      <th>vote_count</th>\n",
       "      <th>vote_sum</th>\n",
       "      <th>question</th>\n",
       "      <th>question_type</th>\n",
       "      <th>environment</th>\n",
       "      <th>solution</th>\n",
       "    </tr>\n",
       "  </thead>\n",
       "  <tbody>\n",
       "    <tr>\n",
       "      <th>43</th>\n",
       "      <td>0</td>\n",
       "      <td>1.810634e+10</td>\n",
       "      <td>&lt;p&gt;&lt;strong&gt;Dúvida&lt;/strong&gt;&lt;strong&gt;&lt;br&gt;&lt;/strong...</td>\n",
       "      <td>2911068</td>\n",
       "      <td>Fluig</td>\n",
       "      <td>False</td>\n",
       "      <td>2019-08-30T17:36:43.000Z</td>\n",
       "      <td>False</td>\n",
       "      <td>2019-09-03T16:57:40.000Z</td>\n",
       "      <td>https://centraldeatendimento.fluig.com/hc/pt-b...</td>\n",
       "      <td>...</td>\n",
       "      <td>FL - BPM - Como configurar corretamente o widg...</td>\n",
       "      <td>False</td>\n",
       "      <td>2019-09-03T16:57:40.000Z</td>\n",
       "      <td>https://fluigexterno.zendesk.com/api/v2/help_c...</td>\n",
       "      <td>0</td>\n",
       "      <td>0</td>\n",
       "      <td>Como configurar corretamente o widget de Gráfi...</td>\n",
       "      <td>question</td>\n",
       "      <td>NaN</td>\n",
       "      <td>NaN</td>\n",
       "    </tr>\n",
       "    <tr>\n",
       "      <th>54</th>\n",
       "      <td>0</td>\n",
       "      <td>3.657333e+11</td>\n",
       "      <td>&lt;p&gt;&lt;strong&gt;Tema &lt;/strong&gt;&lt;strong&gt;&lt;br&gt;&lt;/strong&gt;...</td>\n",
       "      <td>2911068</td>\n",
       "      <td>Fluig</td>\n",
       "      <td>False</td>\n",
       "      <td>2019-07-31T16:14:16.000Z</td>\n",
       "      <td>False</td>\n",
       "      <td>2019-08-02T14:08:12.000Z</td>\n",
       "      <td>https://centraldeatendimento.fluig.com/hc/pt-b...</td>\n",
       "      <td>...</td>\n",
       "      <td>FL - ECM - Principais dúvidas sobre permissão ...</td>\n",
       "      <td>False</td>\n",
       "      <td>2019-08-09T18:57:05.000Z</td>\n",
       "      <td>https://fluigexterno.zendesk.com/api/v2/help_c...</td>\n",
       "      <td>1</td>\n",
       "      <td>1</td>\n",
       "      <td>s sobre permissão e segurança das pastas e dos...</td>\n",
       "      <td>question</td>\n",
       "      <td>NaN</td>\n",
       "      <td>NaN</td>\n",
       "    </tr>\n",
       "    <tr>\n",
       "      <th>73</th>\n",
       "      <td>0</td>\n",
       "      <td>2.502262e+10</td>\n",
       "      <td>&lt;p&gt;&lt;strong&gt;&lt;u&gt;Serviço&lt;/u&gt;&lt;/strong&gt;&lt;/p&gt;\\n&lt;p&gt;&lt;u&gt;...</td>\n",
       "      <td>2911068</td>\n",
       "      <td>Fluig</td>\n",
       "      <td>False</td>\n",
       "      <td>2020-03-03T17:54:14.000Z</td>\n",
       "      <td>False</td>\n",
       "      <td>2020-03-03T17:54:19.000Z</td>\n",
       "      <td>https://centraldeatendimento.fluig.com/hc/pt-b...</td>\n",
       "      <td>...</td>\n",
       "      <td>FL - BPM - Utilização de Webservices - startPr...</td>\n",
       "      <td>False</td>\n",
       "      <td>2020-03-03T17:54:19.000Z</td>\n",
       "      <td>https://fluigexterno.zendesk.com/api/v2/help_c...</td>\n",
       "      <td>0</td>\n",
       "      <td>0</td>\n",
       "      <td>NaN</td>\n",
       "      <td>NaN</td>\n",
       "      <td>NaN</td>\n",
       "      <td>NaN</td>\n",
       "    </tr>\n",
       "    <tr>\n",
       "      <th>76</th>\n",
       "      <td>0</td>\n",
       "      <td>1.810634e+10</td>\n",
       "      <td>&lt;p&gt;&lt;strong&gt;Método:&lt;br&gt;&lt;/strong&gt;getCardValue (\"...</td>\n",
       "      <td>2911068</td>\n",
       "      <td>Fluig</td>\n",
       "      <td>False</td>\n",
       "      <td>2020-02-28T17:47:52.000Z</td>\n",
       "      <td>False</td>\n",
       "      <td>2020-03-03T17:44:02.000Z</td>\n",
       "      <td>https://centraldeatendimento.fluig.com/hc/pt-b...</td>\n",
       "      <td>...</td>\n",
       "      <td>FL - BPM - hAPI - getCardValue</td>\n",
       "      <td>False</td>\n",
       "      <td>2020-03-03T17:44:02.000Z</td>\n",
       "      <td>https://fluigexterno.zendesk.com/api/v2/help_c...</td>\n",
       "      <td>0</td>\n",
       "      <td>0</td>\n",
       "      <td>NaN</td>\n",
       "      <td>NaN</td>\n",
       "      <td>NaN</td>\n",
       "      <td>NaN</td>\n",
       "    </tr>\n",
       "    <tr>\n",
       "      <th>81</th>\n",
       "      <td>0</td>\n",
       "      <td>2.502262e+10</td>\n",
       "      <td>&lt;p&gt;&lt;strong&gt;&lt;u&gt;Método&lt;/u&gt;&lt;/strong&gt;&lt;/p&gt;\\n&lt;p&gt;setC...</td>\n",
       "      <td>2911068</td>\n",
       "      <td>Fluig</td>\n",
       "      <td>False</td>\n",
       "      <td>2020-02-28T18:22:42.000Z</td>\n",
       "      <td>False</td>\n",
       "      <td>2020-02-28T18:25:58.000Z</td>\n",
       "      <td>https://centraldeatendimento.fluig.com/hc/pt-b...</td>\n",
       "      <td>...</td>\n",
       "      <td>FL - BPM - hAPI - setCardValue</td>\n",
       "      <td>False</td>\n",
       "      <td>2020-02-28T18:31:53.000Z</td>\n",
       "      <td>https://fluigexterno.zendesk.com/api/v2/help_c...</td>\n",
       "      <td>0</td>\n",
       "      <td>0</td>\n",
       "      <td>NaN</td>\n",
       "      <td>NaN</td>\n",
       "      <td>NaN</td>\n",
       "      <td>NaN</td>\n",
       "    </tr>\n",
       "  </tbody>\n",
       "</table>\n",
       "<p>5 rows × 30 columns</p>\n",
       "</div>"
      ],
      "text/plain": [
       "    __v     author_id                                               body  \\\n",
       "43    0  1.810634e+10  <p><strong>Dúvida</strong><strong><br></strong...   \n",
       "54    0  3.657333e+11  <p><strong>Tema </strong><strong><br></strong>...   \n",
       "73    0  2.502262e+10  <p><strong><u>Serviço</u></strong></p>\\n<p><u>...   \n",
       "76    0  1.810634e+10  <p><strong>Método:<br></strong>getCardValue (\"...   \n",
       "81    0  2.502262e+10  <p><strong><u>Método</u></strong></p>\\n<p>setC...   \n",
       "\n",
       "    brand_id brand_name  comments_disabled                created_at  draft  \\\n",
       "43   2911068      Fluig              False  2019-08-30T17:36:43.000Z  False   \n",
       "54   2911068      Fluig              False  2019-07-31T16:14:16.000Z  False   \n",
       "73   2911068      Fluig              False  2020-03-03T17:54:14.000Z  False   \n",
       "76   2911068      Fluig              False  2020-02-28T17:47:52.000Z  False   \n",
       "81   2911068      Fluig              False  2020-02-28T18:22:42.000Z  False   \n",
       "\n",
       "                   edited_at  \\\n",
       "43  2019-09-03T16:57:40.000Z   \n",
       "54  2019-08-02T14:08:12.000Z   \n",
       "73  2020-03-03T17:54:19.000Z   \n",
       "76  2020-03-03T17:44:02.000Z   \n",
       "81  2020-02-28T18:25:58.000Z   \n",
       "\n",
       "                                             html_url   ...     \\\n",
       "43  https://centraldeatendimento.fluig.com/hc/pt-b...   ...      \n",
       "54  https://centraldeatendimento.fluig.com/hc/pt-b...   ...      \n",
       "73  https://centraldeatendimento.fluig.com/hc/pt-b...   ...      \n",
       "76  https://centraldeatendimento.fluig.com/hc/pt-b...   ...      \n",
       "81  https://centraldeatendimento.fluig.com/hc/pt-b...   ...      \n",
       "\n",
       "                                                title updated  \\\n",
       "43  FL - BPM - Como configurar corretamente o widg...   False   \n",
       "54  FL - ECM - Principais dúvidas sobre permissão ...   False   \n",
       "73  FL - BPM - Utilização de Webservices - startPr...   False   \n",
       "76                     FL - BPM - hAPI - getCardValue   False   \n",
       "81                     FL - BPM - hAPI - setCardValue   False   \n",
       "\n",
       "                  updated_at  \\\n",
       "43  2019-09-03T16:57:40.000Z   \n",
       "54  2019-08-09T18:57:05.000Z   \n",
       "73  2020-03-03T17:54:19.000Z   \n",
       "76  2020-03-03T17:44:02.000Z   \n",
       "81  2020-02-28T18:31:53.000Z   \n",
       "\n",
       "                                                  url  vote_count vote_sum  \\\n",
       "43  https://fluigexterno.zendesk.com/api/v2/help_c...           0        0   \n",
       "54  https://fluigexterno.zendesk.com/api/v2/help_c...           1        1   \n",
       "73  https://fluigexterno.zendesk.com/api/v2/help_c...           0        0   \n",
       "76  https://fluigexterno.zendesk.com/api/v2/help_c...           0        0   \n",
       "81  https://fluigexterno.zendesk.com/api/v2/help_c...           0        0   \n",
       "\n",
       "                                             question  question_type  \\\n",
       "43  Como configurar corretamente o widget de Gráfi...       question   \n",
       "54  s sobre permissão e segurança das pastas e dos...       question   \n",
       "73                                                NaN            NaN   \n",
       "76                                                NaN            NaN   \n",
       "81                                                NaN            NaN   \n",
       "\n",
       "    environment solution  \n",
       "43          NaN      NaN  \n",
       "54          NaN      NaN  \n",
       "73          NaN      NaN  \n",
       "76          NaN      NaN  \n",
       "81          NaN      NaN  \n",
       "\n",
       "[5 rows x 30 columns]"
      ]
     },
     "execution_count": 19,
     "metadata": {},
     "output_type": "execute_result"
    }
   ],
   "source": [
    "empty.head()"
   ]
  },
  {
   "cell_type": "code",
   "execution_count": 20,
   "metadata": {},
   "outputs": [],
   "source": [
    "empty.to_excel('articles_with_missing_information.xlsx', index=False)"
   ]
  },
  {
   "cell_type": "code",
   "execution_count": 22,
   "metadata": {},
   "outputs": [],
   "source": [
    "questions = sample.question.values"
   ]
  },
  {
   "cell_type": "code",
   "execution_count": 25,
   "metadata": {},
   "outputs": [
    {
     "data": {
      "text/plain": [
       "True"
      ]
     },
     "execution_count": 25,
     "metadata": {},
     "output_type": "execute_result"
    }
   ],
   "source": [
    "sample.iloc[0].question == questions[0]"
   ]
  },
  {
   "cell_type": "code",
   "execution_count": 23,
   "metadata": {},
   "outputs": [
    {
     "data": {
      "text/plain": [
       "33557"
      ]
     },
     "execution_count": 23,
     "metadata": {},
     "output_type": "execute_result"
    }
   ],
   "source": [
    "len(questions)"
   ]
  },
  {
   "cell_type": "code",
   "execution_count": 24,
   "metadata": {},
   "outputs": [
    {
     "data": {
      "text/plain": [
       "33142"
      ]
     },
     "execution_count": 24,
     "metadata": {},
     "output_type": "execute_result"
    }
   ],
   "source": [
    "len(set(questions))"
   ]
  },
  {
   "cell_type": "code",
   "execution_count": 26,
   "metadata": {},
   "outputs": [],
   "source": [
    "with open('questions', \"bw\") as f:\n",
    "        pickle.dump(questions, f)"
   ]
  },
  {
   "cell_type": "code",
   "execution_count": 38,
   "metadata": {},
   "outputs": [
    {
     "ename": "KeyError",
     "evalue": "Index(['question'], dtype='object')",
     "output_type": "error",
     "traceback": [
      "\u001b[0;31m---------------------------------------------------------------------------\u001b[0m",
      "\u001b[0;31mKeyError\u001b[0m                                  Traceback (most recent call last)",
      "\u001b[0;32m<ipython-input-38-3e11a8e2fec6>\u001b[0m in \u001b[0;36m<module>\u001b[0;34m\u001b[0m\n\u001b[0;32m----> 1\u001b[0;31m \u001b[0mdupl\u001b[0m \u001b[0;34m=\u001b[0m \u001b[0mdf\u001b[0m\u001b[0;34m[\u001b[0m\u001b[0mdf\u001b[0m\u001b[0;34m.\u001b[0m\u001b[0mduplicated\u001b[0m\u001b[0;34m(\u001b[0m\u001b[0;34m[\u001b[0m\u001b[0;34m'question'\u001b[0m\u001b[0;34m]\u001b[0m\u001b[0;34m)\u001b[0m\u001b[0;34m]\u001b[0m\u001b[0;34m\u001b[0m\u001b[0;34m\u001b[0m\u001b[0m\n\u001b[0m",
      "\u001b[0;32m~/opt/miniconda3/envs/recommendation/lib/python3.8/site-packages/pandas/core/frame.py\u001b[0m in \u001b[0;36mduplicated\u001b[0;34m(self, subset, keep)\u001b[0m\n\u001b[1;32m   4379\u001b[0m         \u001b[0mdiff\u001b[0m \u001b[0;34m=\u001b[0m \u001b[0mIndex\u001b[0m\u001b[0;34m(\u001b[0m\u001b[0msubset\u001b[0m\u001b[0;34m)\u001b[0m\u001b[0;34m.\u001b[0m\u001b[0mdifference\u001b[0m\u001b[0;34m(\u001b[0m\u001b[0mself\u001b[0m\u001b[0;34m.\u001b[0m\u001b[0mcolumns\u001b[0m\u001b[0;34m)\u001b[0m\u001b[0;34m\u001b[0m\u001b[0;34m\u001b[0m\u001b[0m\n\u001b[1;32m   4380\u001b[0m         \u001b[0;32mif\u001b[0m \u001b[0;32mnot\u001b[0m \u001b[0mdiff\u001b[0m\u001b[0;34m.\u001b[0m\u001b[0mempty\u001b[0m\u001b[0;34m:\u001b[0m\u001b[0;34m\u001b[0m\u001b[0;34m\u001b[0m\u001b[0m\n\u001b[0;32m-> 4381\u001b[0;31m             \u001b[0;32mraise\u001b[0m \u001b[0mKeyError\u001b[0m\u001b[0;34m(\u001b[0m\u001b[0mdiff\u001b[0m\u001b[0;34m)\u001b[0m\u001b[0;34m\u001b[0m\u001b[0;34m\u001b[0m\u001b[0m\n\u001b[0m\u001b[1;32m   4382\u001b[0m \u001b[0;34m\u001b[0m\u001b[0m\n\u001b[1;32m   4383\u001b[0m         vals = (col.values for name, col in self.iteritems()\n",
      "\u001b[0;31mKeyError\u001b[0m: Index(['question'], dtype='object')"
     ]
    }
   ],
   "source": [
    "dupl = df[df.duplicated(['question'])]"
   ]
  },
  {
   "cell_type": "code",
   "execution_count": null,
   "metadata": {},
   "outputs": [],
   "source": []
  }
 ],
 "metadata": {
  "kernelspec": {
   "display_name": "recommendation",
   "language": "python",
   "name": "recommendation"
  },
  "language_info": {
   "codemirror_mode": {
    "name": "ipython",
    "version": 3
   },
   "file_extension": ".py",
   "mimetype": "text/x-python",
   "name": "python",
   "nbconvert_exporter": "python",
   "pygments_lexer": "ipython3",
   "version": "3.8.2"
  }
 },
 "nbformat": 4,
 "nbformat_minor": 4
}
