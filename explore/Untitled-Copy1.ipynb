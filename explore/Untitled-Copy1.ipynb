{
 "cells": [
  {
   "cell_type": "code",
   "execution_count": 1,
   "metadata": {},
   "outputs": [],
   "source": [
    "import pickle\n",
    "import numpy as np"
   ]
  },
  {
   "cell_type": "code",
   "execution_count": 2,
   "metadata": {},
   "outputs": [],
   "source": [
    "import transformers as ppb\n",
    "import torch"
   ]
  },
  {
   "cell_type": "code",
   "execution_count": 59,
   "metadata": {},
   "outputs": [],
   "source": [
    "import os\n",
    "os.environ['CUDA_LAUNCH_BLOCKING'] = \"1\""
   ]
  },
  {
   "cell_type": "code",
   "execution_count": 3,
   "metadata": {},
   "outputs": [],
   "source": [
    "questions = pickle.load(open(\"questions\", \"rb\"))\n",
    "questions = list(questions)"
   ]
  },
  {
   "cell_type": "code",
   "execution_count": 4,
   "metadata": {},
   "outputs": [],
   "source": [
    "query = 'cadastro no identity com endereço de email errado'"
   ]
  },
  {
   "cell_type": "code",
   "execution_count": 5,
   "metadata": {},
   "outputs": [
    {
     "ename": "NameError",
     "evalue": "name 'bc' is not defined",
     "output_type": "error",
     "traceback": [
      "\u001b[0;31m---------------------------------------------------------------------------\u001b[0m",
      "\u001b[0;31mNameError\u001b[0m                                 Traceback (most recent call last)",
      "\u001b[0;32m<ipython-input-5-3472f81b6bf4>\u001b[0m in \u001b[0;36m<module>\u001b[0;34m\u001b[0m\n\u001b[0;32m----> 1\u001b[0;31m \u001b[0mquery_vec\u001b[0m \u001b[0;34m=\u001b[0m \u001b[0mbc\u001b[0m\u001b[0;34m.\u001b[0m\u001b[0mencode\u001b[0m\u001b[0;34m(\u001b[0m\u001b[0;34m[\u001b[0m\u001b[0mquery\u001b[0m\u001b[0;34m]\u001b[0m\u001b[0;34m)\u001b[0m\u001b[0;34m[\u001b[0m\u001b[0;36m0\u001b[0m\u001b[0;34m]\u001b[0m\u001b[0;34m\u001b[0m\u001b[0;34m\u001b[0m\u001b[0m\n\u001b[0m\u001b[1;32m      2\u001b[0m \u001b[0;31m# compute normalized dot product as score\u001b[0m\u001b[0;34m\u001b[0m\u001b[0;34m\u001b[0m\u001b[0;34m\u001b[0m\u001b[0m\n\u001b[1;32m      3\u001b[0m \u001b[0mscore\u001b[0m \u001b[0;34m=\u001b[0m \u001b[0mnp\u001b[0m\u001b[0;34m.\u001b[0m\u001b[0msum\u001b[0m\u001b[0;34m(\u001b[0m\u001b[0mquery_vec\u001b[0m \u001b[0;34m*\u001b[0m \u001b[0mdoc_vecs\u001b[0m\u001b[0;34m,\u001b[0m \u001b[0maxis\u001b[0m\u001b[0;34m=\u001b[0m\u001b[0;36m1\u001b[0m\u001b[0;34m)\u001b[0m \u001b[0;34m/\u001b[0m \u001b[0mnp\u001b[0m\u001b[0;34m.\u001b[0m\u001b[0mlinalg\u001b[0m\u001b[0;34m.\u001b[0m\u001b[0mnorm\u001b[0m\u001b[0;34m(\u001b[0m\u001b[0mdoc_vecs\u001b[0m\u001b[0;34m,\u001b[0m \u001b[0maxis\u001b[0m\u001b[0;34m=\u001b[0m\u001b[0;36m1\u001b[0m\u001b[0;34m)\u001b[0m\u001b[0;34m\u001b[0m\u001b[0;34m\u001b[0m\u001b[0m\n\u001b[1;32m      4\u001b[0m \u001b[0mtopk_idx\u001b[0m \u001b[0;34m=\u001b[0m \u001b[0mnp\u001b[0m\u001b[0;34m.\u001b[0m\u001b[0margsort\u001b[0m\u001b[0;34m(\u001b[0m\u001b[0mscore\u001b[0m\u001b[0;34m)\u001b[0m\u001b[0;34m[\u001b[0m\u001b[0;34m:\u001b[0m\u001b[0;34m:\u001b[0m\u001b[0;34m-\u001b[0m\u001b[0;36m1\u001b[0m\u001b[0;34m]\u001b[0m\u001b[0;34m\u001b[0m\u001b[0;34m\u001b[0m\u001b[0m\n",
      "\u001b[0;31mNameError\u001b[0m: name 'bc' is not defined"
     ]
    }
   ],
   "source": [
    "query_vec = bc.encode([query])[0]\n",
    "# compute normalized dot product as score\n",
    "score = np.sum(query_vec * doc_vecs, axis=1) / np.linalg.norm(doc_vecs, axis=1)\n",
    "topk_idx = np.argsort(score)[::-1]"
   ]
  },
  {
   "cell_type": "code",
   "execution_count": 63,
   "metadata": {},
   "outputs": [
    {
     "data": {
      "text/plain": [
       "array([10.100594, 10.369012, 10.139858, 11.049597, 10.474791],\n",
       "      dtype=float32)"
      ]
     },
     "execution_count": 63,
     "metadata": {},
     "output_type": "execute_result"
    }
   ],
   "source": [
    "score"
   ]
  },
  {
   "cell_type": "code",
   "execution_count": 11,
   "metadata": {},
   "outputs": [
    {
     "data": {
      "text/plain": [
       "array([4, 2, 1, 0, 3])"
      ]
     },
     "execution_count": 11,
     "metadata": {},
     "output_type": "execute_result"
    }
   ],
   "source": [
    "topk_idx"
   ]
  },
  {
   "cell_type": "code",
   "execution_count": 12,
   "metadata": {},
   "outputs": [
    {
     "data": {
      "text/plain": [
       "'Um dos nossos usuários está cadastrado no fluig Identity e no fluig com o endereço de e-mail incorreto.Como faço para corrigir o endereço de e-mail do usuário nos dois sistemas?'"
      ]
     },
     "execution_count": 12,
     "metadata": {},
     "output_type": "execute_result"
    }
   ],
   "source": [
    "questions[4]"
   ]
  },
  {
   "cell_type": "code",
   "execution_count": null,
   "metadata": {},
   "outputs": [],
   "source": []
  },
  {
   "cell_type": "markdown",
   "metadata": {},
   "source": [
    "#### Importing the pre trained model"
   ]
  },
  {
   "cell_type": "code",
   "execution_count": 98,
   "metadata": {},
   "outputs": [],
   "source": [
    "import warnings\n",
    "warnings.filterwarnings('ignore')\n",
    "\n",
    "model_class, tokenizer_class, pretrained_weights = (ppb.BertModel, ppb.BertTokenizer, 'bert-base-multilingual-cased')\n",
    "\n",
    "# Load pretrained model/tokenizer\n",
    "tokenizer = tokenizer_class.from_pretrained(pretrained_weights)\n",
    "model = model_class.from_pretrained(pretrained_weights,\n",
    "                                    output_attentions = False, # Should the model returns attentions weights.\n",
    "                                    output_hidden_states = True,  # Should the model returns all hidden-states.\n",
    "                                   )"
   ]
  },
  {
   "cell_type": "code",
   "execution_count": 89,
   "metadata": {},
   "outputs": [
    {
     "data": {
      "text/plain": [
       "['__call__',\n",
       " '__class__',\n",
       " '__delattr__',\n",
       " '__dict__',\n",
       " '__dir__',\n",
       " '__doc__',\n",
       " '__eq__',\n",
       " '__format__',\n",
       " '__ge__',\n",
       " '__getattr__',\n",
       " '__getattribute__',\n",
       " '__gt__',\n",
       " '__hash__',\n",
       " '__init__',\n",
       " '__init_subclass__',\n",
       " '__le__',\n",
       " '__lt__',\n",
       " '__module__',\n",
       " '__ne__',\n",
       " '__new__',\n",
       " '__reduce__',\n",
       " '__reduce_ex__',\n",
       " '__repr__',\n",
       " '__setattr__',\n",
       " '__setstate__',\n",
       " '__sizeof__',\n",
       " '__str__',\n",
       " '__subclasshook__',\n",
       " '__weakref__',\n",
       " '_apply',\n",
       " '_backward_hooks',\n",
       " '_buffers',\n",
       " '_convert_head_mask_to_5d',\n",
       " '_forward_hooks',\n",
       " '_forward_pre_hooks',\n",
       " '_generate_beam_search',\n",
       " '_generate_no_beam_search',\n",
       " '_get_name',\n",
       " '_get_resized_embeddings',\n",
       " '_hook_rss_memory_post_forward',\n",
       " '_hook_rss_memory_pre_forward',\n",
       " '_init_weights',\n",
       " '_load_from_state_dict',\n",
       " '_load_state_dict_pre_hooks',\n",
       " '_modules',\n",
       " '_named_members',\n",
       " '_parameters',\n",
       " '_prune_heads',\n",
       " '_register_load_state_dict_pre_hook',\n",
       " '_register_state_dict_hook',\n",
       " '_reorder_cache',\n",
       " '_replicate_for_data_parallel',\n",
       " '_resize_token_embeddings',\n",
       " '_save_to_state_dict',\n",
       " '_slow_forward',\n",
       " '_state_dict_hooks',\n",
       " '_tie_or_clone_weights',\n",
       " '_use_cache',\n",
       " '_version',\n",
       " 'add_memory_hooks',\n",
       " 'add_module',\n",
       " 'apply',\n",
       " 'base_model',\n",
       " 'base_model_prefix',\n",
       " 'bfloat16',\n",
       " 'buffers',\n",
       " 'children',\n",
       " 'config',\n",
       " 'config_class',\n",
       " 'cpu',\n",
       " 'cuda',\n",
       " 'device',\n",
       " 'double',\n",
       " 'dtype',\n",
       " 'dummy_inputs',\n",
       " 'dump_patches',\n",
       " 'embeddings',\n",
       " 'encoder',\n",
       " 'enforce_repetition_penalty_',\n",
       " 'eval',\n",
       " 'extra_repr',\n",
       " 'float',\n",
       " 'forward',\n",
       " 'from_pretrained',\n",
       " 'generate',\n",
       " 'get_extended_attention_mask',\n",
       " 'get_head_mask',\n",
       " 'get_input_embeddings',\n",
       " 'get_output_embeddings',\n",
       " 'half',\n",
       " 'init_weights',\n",
       " 'invert_attention_mask',\n",
       " 'load_state_dict',\n",
       " 'load_tf_weights',\n",
       " 'modules',\n",
       " 'named_buffers',\n",
       " 'named_children',\n",
       " 'named_modules',\n",
       " 'named_parameters',\n",
       " 'num_parameters',\n",
       " 'parameters',\n",
       " 'pooler',\n",
       " 'prepare_inputs_for_generation',\n",
       " 'prepare_logits_for_generation',\n",
       " 'pretrained_model_archive_map',\n",
       " 'prune_heads',\n",
       " 'register_backward_hook',\n",
       " 'register_buffer',\n",
       " 'register_forward_hook',\n",
       " 'register_forward_pre_hook',\n",
       " 'register_parameter',\n",
       " 'requires_grad_',\n",
       " 'reset_memory_hooks_state',\n",
       " 'resize_token_embeddings',\n",
       " 'save_pretrained',\n",
       " 'set_input_embeddings',\n",
       " 'share_memory',\n",
       " 'state_dict',\n",
       " 'tie_weights',\n",
       " 'to',\n",
       " 'train',\n",
       " 'training',\n",
       " 'type',\n",
       " 'zero_grad']"
      ]
     },
     "execution_count": 89,
     "metadata": {},
     "output_type": "execute_result"
    }
   ],
   "source": [
    "dir(model)"
   ]
  },
  {
   "cell_type": "markdown",
   "metadata": {},
   "source": [
    "#### Tokenization"
   ]
  },
  {
   "cell_type": "code",
   "execution_count": 99,
   "metadata": {},
   "outputs": [],
   "source": [
    "tokenized = [tokenizer.encode(x, add_special_tokens=True) for x in questions[:5]]"
   ]
  },
  {
   "cell_type": "code",
   "execution_count": 100,
   "metadata": {},
   "outputs": [
    {
     "name": "stdout",
     "output_type": "stream",
     "text": [
      " Original:  Ao tentar alterar as informações de um usuário e bloquear o mesmo, uma mensagem é apresentada: result returns more than one elements. Por que essa mensagem aparece?\n",
      "Token IDs:  [CLS] Ao tentar alter ##ar as informações de um usu ##ário e bloque ##ar o mesmo , uma mens ##agem é apresenta ##da : result returns more than one elements . Por que essa mens ##agem aparece ? [SEP]\n",
      "Tokenized:  [101, 17607, 110694, 42141, 10354, 10146, 68263, 10104, 10293, 44224, 15211, 173, 99406, 10354, 183, 13544, 117, 10437, 12380, 29111, 263, 49320, 10229, 131, 14493, 38302, 10798, 11084, 10464, 17464, 119, 12399, 10121, 21553, 12380, 29111, 20962, 136, 102]\n"
     ]
    }
   ],
   "source": [
    "# Print the original sentence.\n",
    "print(' Original: ', questions[1])\n",
    "\n",
    "# Print the sentence mapped to token ids.\n",
    "print('Token IDs: ', ' '.join(tokenizer.convert_ids_to_tokens(tokenized[1])))\n",
    "\n",
    "# Print the sentence split into tokens.\n",
    "print('Tokenized: ', tokenized[1])"
   ]
  },
  {
   "cell_type": "markdown",
   "metadata": {},
   "source": [
    "#### Padding\n",
    "\n",
    "Pad all lists to the same size, so we can represent the input as one 2-d array, rather than a list of lists (of different lengths)."
   ]
  },
  {
   "cell_type": "code",
   "execution_count": 101,
   "metadata": {},
   "outputs": [],
   "source": [
    "max_len = 0\n",
    "for i in tokenized:\n",
    "    if len(i) > max_len:\n",
    "        max_len = len(i)\n",
    "\n",
    "padded = np.array([i + [0]*(max_len-len(i)) for i in tokenized])"
   ]
  },
  {
   "cell_type": "code",
   "execution_count": 102,
   "metadata": {},
   "outputs": [
    {
     "data": {
      "text/plain": [
       "(5, 243)"
      ]
     },
     "execution_count": 102,
     "metadata": {},
     "output_type": "execute_result"
    }
   ],
   "source": [
    "np.array(padded).shape"
   ]
  },
  {
   "cell_type": "code",
   "execution_count": 103,
   "metadata": {},
   "outputs": [
    {
     "data": {
      "text/plain": [
       "(5, 243)"
      ]
     },
     "execution_count": 103,
     "metadata": {},
     "output_type": "execute_result"
    }
   ],
   "source": [
    "attention_mask = np.where(padded != 0, 1, 0)\n",
    "attention_mask.shape"
   ]
  },
  {
   "cell_type": "code",
   "execution_count": 104,
   "metadata": {},
   "outputs": [],
   "source": [
    "input_ids = torch.tensor(padded)  \n",
    "attention_mask = torch.tensor(attention_mask)"
   ]
  },
  {
   "cell_type": "code",
   "execution_count": 105,
   "metadata": {},
   "outputs": [
    {
     "data": {
      "text/plain": [
       "torch.Size([5, 243])"
      ]
     },
     "execution_count": 105,
     "metadata": {},
     "output_type": "execute_result"
    }
   ],
   "source": [
    "input_ids.shape"
   ]
  },
  {
   "cell_type": "code",
   "execution_count": 106,
   "metadata": {},
   "outputs": [
    {
     "data": {
      "text/plain": [
       "torch.Size([5, 243])"
      ]
     },
     "execution_count": 106,
     "metadata": {},
     "output_type": "execute_result"
    }
   ],
   "source": [
    "attention_mask.shape"
   ]
  },
  {
   "cell_type": "code",
   "execution_count": 107,
   "metadata": {},
   "outputs": [],
   "source": [
    "with torch.no_grad():\n",
    "    last_hidden_states = model(input_ids, attention_mask=attention_mask)"
   ]
  },
  {
   "cell_type": "code",
   "execution_count": 110,
   "metadata": {},
   "outputs": [
    {
     "data": {
      "text/plain": [
       "3"
      ]
     },
     "execution_count": 110,
     "metadata": {},
     "output_type": "execute_result"
    }
   ],
   "source": [
    "len(last_hidden_states)"
   ]
  },
  {
   "cell_type": "code",
   "execution_count": 115,
   "metadata": {},
   "outputs": [
    {
     "data": {
      "text/plain": [
       "torch.Size([5, 243, 768])"
      ]
     },
     "execution_count": 115,
     "metadata": {},
     "output_type": "execute_result"
    }
   ],
   "source": [
    "last_hidden_states[2][11].shape"
   ]
  },
  {
   "cell_type": "code",
   "execution_count": 109,
   "metadata": {},
   "outputs": [
    {
     "data": {
      "text/plain": [
       "torch.Size([5, 243, 768])"
      ]
     },
     "execution_count": 109,
     "metadata": {},
     "output_type": "execute_result"
    }
   ],
   "source": [
    "last_hidden_states[0].shape"
   ]
  },
  {
   "cell_type": "code",
   "execution_count": 133,
   "metadata": {},
   "outputs": [],
   "source": [
    "features = last_hidden_states[2][11][:,0,:].numpy()"
   ]
  },
  {
   "cell_type": "code",
   "execution_count": 134,
   "metadata": {},
   "outputs": [
    {
     "data": {
      "text/plain": [
       "1"
      ]
     },
     "execution_count": 134,
     "metadata": {},
     "output_type": "execute_result"
    }
   ],
   "source": [
    "len(features)"
   ]
  },
  {
   "cell_type": "code",
   "execution_count": 135,
   "metadata": {},
   "outputs": [
    {
     "ename": "IndexError",
     "evalue": "index 1 is out of bounds for axis 0 with size 1",
     "output_type": "error",
     "traceback": [
      "\u001b[0;31m---------------------------------------------------------------------------\u001b[0m",
      "\u001b[0;31mIndexError\u001b[0m                                Traceback (most recent call last)",
      "\u001b[0;32m<ipython-input-135-d8b1aca93451>\u001b[0m in \u001b[0;36m<module>\u001b[0;34m\u001b[0m\n\u001b[0;32m----> 1\u001b[0;31m \u001b[0mfeatures\u001b[0m\u001b[0;34m[\u001b[0m\u001b[0;36m1\u001b[0m\u001b[0;34m]\u001b[0m\u001b[0;34m\u001b[0m\u001b[0;34m\u001b[0m\u001b[0m\n\u001b[0m",
      "\u001b[0;31mIndexError\u001b[0m: index 1 is out of bounds for axis 0 with size 1"
     ]
    }
   ],
   "source": [
    "features[1]"
   ]
  },
  {
   "cell_type": "code",
   "execution_count": 120,
   "metadata": {},
   "outputs": [],
   "source": [
    "query = 'cadastro no identity com endereço de email errado'"
   ]
  },
  {
   "cell_type": "code",
   "execution_count": 121,
   "metadata": {},
   "outputs": [
    {
     "data": {
      "text/plain": [
       "243"
      ]
     },
     "execution_count": 121,
     "metadata": {},
     "output_type": "execute_result"
    }
   ],
   "source": [
    "max_len"
   ]
  },
  {
   "cell_type": "code",
   "execution_count": 123,
   "metadata": {},
   "outputs": [],
   "source": [
    "tokenized_2 = [tokenizer.encode(query, add_special_tokens=True)]\n",
    "padded_2 = np.array([i + [0]*(max_len-len(i)) for i in tokenized_2])\n",
    "attention_mask_2 = np.where(padded_2 != 0, 1, 0)\n",
    "input_ids_2 = torch.tensor(padded_2)  \n",
    "attention_mask = torch.tensor(attention_mask)\n",
    "with torch.no_grad():\n",
    "    last_hidden_states = model(input_ids, attention_mask=attention_mask)\n",
    "query_vec = last_hidden_states[2][11][:,0,:].numpy()"
   ]
  },
  {
   "cell_type": "code",
   "execution_count": 124,
   "metadata": {
    "collapsed": true,
    "jupyter": {
     "outputs_hidden": true
    }
   },
   "outputs": [
    {
     "data": {
      "text/plain": [
       "array([ 3.36452067e-01, -1.13040343e-01,  7.46794403e-01, -4.00634319e-01,\n",
       "       -8.88879418e-01,  1.93996459e-01, -2.48185202e-01,  4.87650722e-01,\n",
       "       -5.16417205e-01,  4.93893713e-01,  8.33756804e-01, -7.26752341e-01,\n",
       "       -1.94328487e-01, -3.33921403e-01, -3.46664727e-01, -2.56827436e-02,\n",
       "       -2.40982771e-02,  1.15238571e+00,  1.49007857e-01, -9.33329985e-02,\n",
       "        3.67020890e-02, -5.08620381e-01,  1.65550768e-01,  1.14915037e+00,\n",
       "       -6.42913952e-02, -3.50975066e-01, -9.33264554e-01, -4.78302777e-01,\n",
       "       -6.13736510e-01,  6.74391150e-01, -7.15082660e-02, -1.10006109e-01,\n",
       "        1.03673875e+00,  4.41042960e-01, -3.78962398e-01,  4.24302340e-01,\n",
       "       -1.14737727e-01, -9.32525635e-01, -7.69209146e-01, -8.18741173e-02,\n",
       "       -4.67470214e-02,  1.07902920e+00, -4.71655011e-01,  2.05084682e-01,\n",
       "        1.18104346e-01,  3.31115425e-01,  4.58963990e-01, -3.77871245e-01,\n",
       "        2.34331220e-01, -5.74949265e-01,  9.45641220e-01, -3.23008716e-01,\n",
       "        9.51558352e-01, -2.18144909e-01,  6.90376759e-01,  6.57905713e-02,\n",
       "       -2.65551001e-01, -4.78614569e-01, -1.36314064e-01,  1.16103792e+00,\n",
       "       -2.41272956e-01,  6.30725622e-01, -3.29906866e-02, -1.21088400e-01,\n",
       "       -9.64238405e-01, -4.95511383e-01,  3.04589242e-01,  1.30433720e-02,\n",
       "        3.95800829e-01,  7.03296542e-01, -2.02071905e-01,  7.42505074e-01,\n",
       "        5.90097606e-01,  5.51944792e-01,  3.04559350e-01,  9.06185359e-02,\n",
       "       -2.50183530e-02,  3.29104453e-01,  3.43691826e-01, -6.22005872e-02,\n",
       "        1.20821759e-01,  5.85789025e-01, -1.22624515e-02,  6.49432182e-01,\n",
       "       -7.03570366e-01, -2.10358888e-01, -2.31098995e-01,  4.20474857e-01,\n",
       "       -6.87859356e-01,  1.62778288e-01,  6.83212280e-02, -5.38031816e-01,\n",
       "        2.62065642e-02, -8.54384661e-01, -1.45927107e+00, -3.23746949e-02,\n",
       "        5.19777238e-01, -5.57756662e-01, -7.23717332e-01,  2.25561976e-01,\n",
       "       -5.54629825e-02, -4.48087752e-02,  2.11826146e-01, -9.49660167e-02,\n",
       "       -4.29201752e-01,  4.10126418e-01, -3.03973138e-01, -7.30337381e-01,\n",
       "       -4.66159523e-01, -8.31960976e-01,  2.62162328e-01,  4.01437014e-01,\n",
       "        4.41660315e-01,  1.47366494e-01, -7.19375134e-01,  1.69381142e-01,\n",
       "       -7.06382215e-01, -5.84714532e-01, -8.18588614e-01, -1.44310606e+00,\n",
       "       -2.12511092e-01, -5.32885373e-01,  3.23228598e-01, -3.94207612e-02,\n",
       "       -2.96345890e-01, -1.22912988e-01,  5.70220530e-01, -5.38864076e-01,\n",
       "       -2.99755216e-01,  4.23967808e-01,  6.96972728e-01,  2.02788636e-01,\n",
       "        1.60417497e-01, -1.04294038e+00, -4.07059699e-01,  1.70873940e-01,\n",
       "       -7.52198875e-01,  4.95082438e-01,  2.41319150e-01, -2.19386950e-01,\n",
       "       -5.79100922e-02, -7.53060997e-01,  8.13710809e-01, -4.80281711e-01,\n",
       "       -3.69741440e-01, -6.16421998e-02, -8.30311596e-01, -3.81424844e-01,\n",
       "       -8.29390660e-02, -3.89006048e-01,  3.37715037e-02, -1.00832057e+00,\n",
       "       -7.57191956e-01, -8.32852125e-01,  7.20977485e-01, -2.62981087e-01,\n",
       "       -9.40650553e-02, -5.56957722e-01, -2.12624744e-01,  1.10369611e+00,\n",
       "        5.34264922e-01,  4.17452216e-01,  1.42553318e+00,  1.16327870e+00,\n",
       "        4.18615460e-01, -3.09573859e-01, -1.29295424e-01,  1.47101331e+00,\n",
       "       -2.83336282e-01, -3.36290896e-01,  1.66491404e-01, -6.40871823e-01,\n",
       "       -8.60496402e-01, -6.91860497e-01, -6.07008874e-01,  4.74655479e-01,\n",
       "       -7.53478169e-01, -5.28551340e-01, -3.28344405e-01,  1.25196964e-01,\n",
       "        1.49543017e-01, -2.42753759e-01, -1.24251688e+00, -4.18289036e-01,\n",
       "        7.00352371e-01,  6.92233518e-02, -4.93450344e-01,  2.30547130e-01,\n",
       "        2.38695413e-01, -2.19511896e-01,  3.39086294e-01,  5.69942355e-01,\n",
       "        8.44906807e-01,  1.90027386e-01, -5.63690245e-01,  7.31597245e-01,\n",
       "       -1.21525370e-01,  2.38852516e-01, -1.32723784e+00, -1.65006205e-01,\n",
       "       -6.45410955e-01, -4.09138463e-02, -1.83485910e-01, -2.64577240e-01,\n",
       "       -4.14981395e-01,  1.82228434e+00,  5.17628610e-01,  5.14570177e-01,\n",
       "        1.23475134e-01,  5.09848177e-01, -7.55987167e-01,  4.78086829e-01,\n",
       "       -4.27761674e-01,  7.36701131e-01, -6.37604654e-01,  2.75200069e-01,\n",
       "        6.15828872e-01, -1.71265062e-02,  6.16717100e-01,  1.79208130e-01,\n",
       "       -8.53940785e-01,  1.72070175e-01,  4.40437868e-02,  1.17835510e+00,\n",
       "       -1.51102018e+00,  7.81353295e-01,  8.41374338e-01, -3.46621132e+01,\n",
       "        4.50804859e-01,  2.67357618e-01,  2.40595266e-01,  2.03616321e-01,\n",
       "        1.72514367e+00, -5.20500362e-01, -7.63883173e-01, -2.57728279e-01,\n",
       "        1.65121391e-01, -6.44816816e-01, -3.28847803e-02,  1.58694327e-01,\n",
       "        1.45288110e-01,  3.22382390e-01,  8.14602971e-02, -6.34669244e-01,\n",
       "        3.77068102e-01,  4.81196433e-01, -5.09402037e-01,  1.07959092e+00,\n",
       "        1.30445555e-01, -3.27265620e-01, -5.42331576e-01,  1.44521832e-01,\n",
       "        7.97064483e-01, -1.60573930e-01, -4.14710283e-01,  4.01167572e-01,\n",
       "       -3.56670558e-01, -6.04691267e-01,  9.52273488e-01, -3.41689169e-01,\n",
       "       -9.08887565e-01,  5.30311942e-01, -1.11831796e+00,  4.67898339e-01,\n",
       "       -2.01521307e-01, -4.85097408e-01,  4.18386936e-01,  3.92273456e-01,\n",
       "        2.37221822e-01, -8.83400857e-01,  6.55592740e-01, -2.33039513e-01,\n",
       "        1.29529946e-02,  1.34734559e+00,  1.64473385e-01,  2.83468246e-01,\n",
       "       -4.55784708e-01,  1.45615757e+00,  6.37142539e-01,  7.53500819e-01,\n",
       "        9.38573003e-01, -1.30220279e-01,  7.17338324e-02, -4.04222965e-01,\n",
       "       -5.89087188e-01,  6.02517799e-02,  6.95558727e-01, -4.48648632e-01,\n",
       "        3.45787436e-01, -3.13366085e-01,  5.40231824e-01,  1.16968977e+00,\n",
       "        3.17256123e-01,  5.40505946e-01, -1.70673102e-01, -1.49128306e+00,\n",
       "       -4.70976859e-01,  4.55204248e-01, -4.18546677e-01, -2.16745347e-01,\n",
       "        8.53352726e-01, -2.05639720e-01,  9.16758180e-03,  2.63273090e-01,\n",
       "       -4.14274037e-01,  1.60647810e-01,  4.49761808e-01,  3.29336911e-01,\n",
       "        8.29472363e-01,  5.07885754e-01, -1.01922929e-01, -3.22899699e-01,\n",
       "        8.25264677e-02, -1.02210581e+00, -3.96298468e-01, -3.35233301e-01,\n",
       "       -1.60499170e-01,  3.98714691e-01,  4.47328418e-01, -2.83544213e-02,\n",
       "       -4.26243871e-01,  8.19914490e-02, -4.37307656e-01,  1.20497060e+00,\n",
       "        3.20493460e-01, -6.46515846e-01, -1.33946407e+00, -4.76851128e-02,\n",
       "        1.16355896e+00, -4.86512482e-01, -4.75700311e-02,  1.11534739e+00,\n",
       "        2.81817049e-01, -1.63414896e-01, -4.47043926e-01,  7.59857893e-01,\n",
       "       -2.02507824e-01, -7.39926398e-02,  3.80930513e-01, -3.39807302e-01,\n",
       "        2.88624346e-01,  1.05916373e-01, -7.04459131e-01, -7.51120597e-03,\n",
       "        2.00683743e-01,  1.26073599e-01,  6.21630102e-02, -1.20286036e+00,\n",
       "       -1.36914387e-01,  5.69247484e-01, -1.40467763e-01,  3.15864921e-01,\n",
       "        4.61662143e-01, -7.10027337e-01, -1.63351446e-02,  1.36108905e-01,\n",
       "        4.09196705e-01,  8.04718733e-02, -6.52388453e-01,  4.26702142e-01,\n",
       "       -7.19426095e-01, -6.01552963e-01, -4.93140042e-01,  2.60330319e-01,\n",
       "        5.20834923e-01, -1.59295559e+00, -1.35724461e+00, -1.56099784e+00,\n",
       "        5.39493084e-01,  6.43362939e-01,  1.80765569e-01,  2.34917000e-01,\n",
       "        3.13460648e-01, -6.02296591e-01,  8.22686493e-01, -7.47815818e-02,\n",
       "        1.23921558e-02,  9.91748720e-02, -6.31406128e-01,  1.98445946e-01,\n",
       "       -2.43136913e-01,  2.55215734e-01, -6.14456058e-01,  6.03354096e-01,\n",
       "       -7.49714196e-01,  1.74233004e-01, -6.24495208e-01,  3.73930871e-01,\n",
       "       -2.27901056e-01, -5.77487230e-01,  5.48350453e-01, -1.99668914e-01,\n",
       "        7.75386810e-01, -5.04107833e-01, -6.39927566e-01, -8.36853869e-04,\n",
       "       -2.26273052e-02, -1.28245786e-01, -4.45972174e-01,  1.67063832e+00,\n",
       "       -1.88960388e-01, -5.25553763e-01, -4.18308586e-01,  9.03420597e-02,\n",
       "       -9.87564027e-03, -7.88606763e-01, -7.50038862e-01,  8.43473673e-01,\n",
       "        2.88967401e-01,  1.49801373e-02,  1.04798865e+00, -1.32196081e+00,\n",
       "        8.63538265e-01, -8.81446362e-01,  4.16840196e-01, -1.09337032e-01,\n",
       "        1.98770016e-02, -5.76328933e-01, -4.87090826e-01, -4.78240430e-01,\n",
       "        3.72704685e-01, -7.89312840e-01,  5.45688570e-01, -2.85040677e-01,\n",
       "        1.02040005e+00,  4.14734244e-01,  2.05777019e-01, -7.48443186e-01,\n",
       "        4.33732629e-01,  2.68758416e-01, -6.29877448e-01,  6.89394772e-01,\n",
       "        7.57788897e-01, -5.61578810e-01, -1.25547111e+00,  2.78556645e-02,\n",
       "       -4.22483295e-01,  1.05568990e-02,  8.89857054e-01,  2.51895696e-01,\n",
       "        4.39389974e-01, -4.59408090e-02, -1.25819361e+00, -6.61999941e-01,\n",
       "        2.42695063e-01,  4.64684057e+00, -1.51836619e-01, -7.88720548e-02,\n",
       "       -1.06597289e-01, -4.33630534e-02,  7.81887412e-01,  6.09630682e-02,\n",
       "       -4.61553335e-01, -1.45070481e+00, -6.68130159e-01, -1.72842052e-02,\n",
       "       -1.94396585e-01,  1.08503509e+00, -6.83353305e-01,  1.35355480e-02,\n",
       "        5.77241480e-01, -8.64967585e-01, -1.08317232e+00, -2.15734512e-01,\n",
       "        5.01739979e-01, -8.63790870e-01,  2.80188173e-01, -1.92531109e-01,\n",
       "        6.87196553e-01,  4.06700850e-01, -8.86415780e-01, -2.16082439e-01,\n",
       "        9.87441987e-02,  4.46631163e-02, -4.82260674e-01, -8.78565460e-02,\n",
       "        3.12785022e-02, -1.29235238e-01,  3.76057684e-01, -2.59698093e-01,\n",
       "        8.52150321e-01,  5.34215689e-01, -1.12385845e+00, -4.39483017e-01,\n",
       "        6.18913546e-02,  4.49595183e-01,  1.62726313e-01, -3.00588429e-01,\n",
       "       -4.96406734e-01, -9.24097598e-02,  1.11411178e+00, -4.67299908e-01,\n",
       "        3.24383438e-01, -2.14738727e-01,  3.63918573e-01, -5.54081023e-01,\n",
       "        7.27441847e-01,  1.04681468e+00,  4.49439287e-01, -1.15409744e+00,\n",
       "        1.57751456e-01,  1.01248980e-01, -3.85118753e-01, -8.40655088e-01,\n",
       "       -5.96814513e-01, -6.23419762e-01, -7.06918895e-01, -9.86783087e-01,\n",
       "       -1.16739690e+00,  1.31164455e+00,  3.31308365e-01,  3.25486600e-01,\n",
       "       -4.51795071e-01, -1.19206697e-01, -3.27685148e-01,  1.86697632e-01,\n",
       "        3.03347141e-01, -6.87379360e-01, -3.29379082e-01, -4.60866064e-01,\n",
       "       -4.03004706e-01,  5.73890924e-01, -4.55882370e-01, -1.12276927e-01,\n",
       "       -3.44709218e-01, -8.72784674e-01, -7.93335736e-01, -2.74382561e-01,\n",
       "       -2.77934074e-01, -1.88383963e-02, -4.26986217e-01,  5.86705923e-01,\n",
       "       -1.09957755e+00,  6.75352693e-01,  1.47130758e-01, -1.24874961e+00,\n",
       "       -5.97328126e-01,  6.57788336e-01, -7.69015074e-01, -7.28076875e-01,\n",
       "       -4.57181394e-01, -6.45223856e-01, -3.98208201e-01, -1.04175663e+00,\n",
       "       -7.46308506e-01,  4.51070249e-01,  1.07644498e-01,  6.67783737e-01,\n",
       "        2.44148076e-01, -1.86227053e-01, -1.98984221e-01,  5.96154988e-01,\n",
       "        7.16842055e-01, -2.95952916e-01, -4.51555580e-01, -4.34062630e-01,\n",
       "       -2.43013456e-01,  3.04875448e-02, -1.15149069e+00,  8.06147575e-01,\n",
       "        2.58232176e-01,  4.19185847e-01, -4.11002040e-01, -8.95004392e-01,\n",
       "       -3.50565851e-01, -8.21592093e-01, -1.37462294e+00,  3.61332953e-01,\n",
       "       -6.55805990e-02, -4.49526519e-01,  2.02415556e-01,  2.24899173e-01,\n",
       "       -8.95631373e-01,  9.53941286e-01, -5.54485440e-01, -2.43380755e-01,\n",
       "        6.45130336e-01, -1.52975619e-01,  5.66321194e-01, -9.34968114e-01,\n",
       "        6.04088485e-01, -1.30963886e+00, -8.84080827e-01, -2.45004818e-01,\n",
       "        9.17430460e-01,  4.88068789e-01, -6.39461875e-01, -7.46633708e-01,\n",
       "       -6.53011277e-02, -1.66762340e+00, -1.28112221e+00, -3.48590203e-02,\n",
       "       -4.36468303e-01,  2.61459500e-01,  5.10423839e-01,  1.24568892e+00,\n",
       "        3.27108502e-01, -1.42910749e-01,  4.82385367e-01, -9.49694365e-02,\n",
       "        1.00973332e+00,  9.11651373e-01,  2.66096950e-01, -6.32895410e-01,\n",
       "        2.28521645e-01,  2.92071044e-01,  1.11945152e-01,  6.24109328e-01,\n",
       "       -6.29879057e-01,  1.66115546e+00, -2.74540275e-01,  1.89211488e-01,\n",
       "        8.67968276e-02,  5.62462747e-01,  5.78697205e-01, -9.19272661e-01,\n",
       "       -1.61212873e+00,  7.46866465e-02,  5.87021649e-01, -4.00341541e-01,\n",
       "        6.68661535e-01,  6.54252052e-01, -3.12498748e-01, -1.33241761e+00,\n",
       "       -7.51937091e-01, -2.66552985e-01, -1.05817914e+00,  1.96555555e-02,\n",
       "       -5.52907765e-01, -9.31577086e-01, -4.80259895e-01, -2.97960937e-02,\n",
       "       -3.26237082e-01, -1.19881129e+00,  1.06378414e-01, -1.57237613e+00,\n",
       "       -6.02165461e-01, -8.93412471e-01, -2.78635859e-01,  5.25805414e-01,\n",
       "        3.01636159e-02, -1.08391178e+00, -5.97112358e-01,  1.12353161e-01,\n",
       "       -1.94688663e-01, -3.09688717e-01, -8.48734140e-01,  5.42359948e-01,\n",
       "       -4.70871359e-01,  7.32069969e-01,  5.14419734e-01,  5.86908042e-01,\n",
       "       -2.67635770e-02,  6.26243234e-01, -3.06563586e-01,  2.84286976e-01,\n",
       "        3.07450294e-01, -8.81046712e-01,  1.33382231e-01,  4.59623784e-01,\n",
       "       -8.17610085e-01,  9.34439301e-01, -4.21547979e-01,  8.76851559e-01,\n",
       "       -2.17405289e-01,  7.75703371e-01,  9.38441992e-01, -7.65636444e-01,\n",
       "        5.86731851e-01, -9.24249887e-01,  1.13382459e+00, -2.53793210e-01,\n",
       "        8.51565301e-01, -1.81683362e-01,  5.28755069e-01, -2.56418765e-01,\n",
       "       -3.62319201e-01, -1.56392336e-01, -4.70610797e-01,  3.24579358e-01,\n",
       "       -1.77007005e-01,  9.35204327e-01, -1.47581443e-01,  1.88428909e-01,\n",
       "       -8.64069223e-01, -5.69975972e-01, -9.76336360e-01,  3.84729952e-01,\n",
       "       -3.33321095e-01,  1.38965476e+00,  6.48967147e-01,  9.25385594e-01,\n",
       "       -4.39170338e-02, -7.54436076e-01,  7.19241560e-01,  1.78520977e-01,\n",
       "        3.24300706e-01,  5.63913524e-01, -2.26582378e-01, -6.49446785e-01,\n",
       "        3.29729170e-04,  2.93182492e-01,  5.11508644e-01,  1.20632100e+00,\n",
       "       -3.41825664e-01,  9.99673784e-01,  8.76895607e-01,  5.89987099e-01,\n",
       "       -1.78256810e-01,  4.70932946e-02, -7.34153092e-01,  7.73476124e-01,\n",
       "       -4.85809624e-01,  1.92209825e-01, -9.06294286e-01,  1.26614213e-01,\n",
       "        2.45383605e-02,  7.63801813e-01, -1.15369010e+00,  9.15748358e-01,\n",
       "        6.01708949e-01,  1.03292084e+00,  6.46206200e-01,  3.29297096e-01,\n",
       "        1.50692955e-01, -1.46068797e-01,  4.44711298e-01,  4.10325527e-01,\n",
       "       -5.72668314e-01,  5.73690012e-02, -1.07361209e+00, -3.52993131e-01,\n",
       "       -1.14250943e-01,  8.74168515e-01,  9.84212458e-01, -3.10248971e-01,\n",
       "        2.76882380e-01,  9.99378681e-01,  4.67009664e-01, -8.65010023e-01,\n",
       "       -5.25248706e-01, -2.41687566e-01, -5.96080124e-01,  3.22351485e-01,\n",
       "        7.49948680e-01, -3.04086626e-01, -8.12276125e-01,  5.31340957e-01,\n",
       "       -8.80667210e-01,  6.05573356e-01,  8.14299166e-01, -1.96665764e-01,\n",
       "       -4.05010469e-02, -1.08984435e+00,  4.30283427e-01,  1.14001656e+00,\n",
       "       -2.91565448e-01, -5.88657320e-01, -2.85765715e-03, -2.76880890e-01,\n",
       "       -9.31147933e-01, -8.68701696e-01, -1.84893042e-01,  8.67067218e-01,\n",
       "        1.01082301e+00,  6.26036227e-02,  9.82815504e-01,  5.63864373e-02],\n",
       "      dtype=float32)"
      ]
     },
     "execution_count": 124,
     "metadata": {},
     "output_type": "execute_result"
    }
   ],
   "source": [
    "query_vec[0]"
   ]
  },
  {
   "cell_type": "code",
   "execution_count": 125,
   "metadata": {},
   "outputs": [],
   "source": [
    "# compute normalized dot product as score\n",
    "score = np.sum(query_vec * features, axis=1) / np.linalg.norm(features, axis=1)\n",
    "topk_idx = np.argsort(score)[::-1]"
   ]
  },
  {
   "cell_type": "code",
   "execution_count": 126,
   "metadata": {},
   "outputs": [
    {
     "data": {
      "text/plain": [
       "array([3, 2, 1, 4, 0])"
      ]
     },
     "execution_count": 126,
     "metadata": {},
     "output_type": "execute_result"
    }
   ],
   "source": [
    "topk_idx"
   ]
  },
  {
   "cell_type": "code",
   "execution_count": 128,
   "metadata": {},
   "outputs": [
    {
     "data": {
      "text/plain": [
       "'A mensagem FLUIG_REST_CLIENT_500 é mostrada no log do servidor constantemente antes da inicialização do fluig. Por que essas mensagens ocorrem?ERROR [com.fluig.wcm.core.WEBPageRouterBean] (default task-60) Error communicating with web-page API: com.fluig.core.exception.InternalServerErrorException: FLUIG_REST_CLIENT_500WARN [com.fluig.core.discovery.client.ServiceDiscoveryClient] (Timer-16) Discovery not available yet for i18n. Cause: FLUIG_REST_CLIENT_500. Help: Make sure that the server where fluig is installed has access to the address: http://[endereço fluig]:[porta]. Verifique se o servidor onde está instalado o fluig tem acesso ao endereço: http://[endereço fluig]:[porta]'"
      ]
     },
     "execution_count": 128,
     "metadata": {},
     "output_type": "execute_result"
    }
   ],
   "source": [
    "questions[3]"
   ]
  },
  {
   "cell_type": "code",
   "execution_count": 137,
   "metadata": {},
   "outputs": [
    {
     "data": {
      "text/plain": [
       "'Um dos nossos usuários está cadastrado no fluig Identity e no fluig com o endereço de e-mail incorreto.Como faço para corrigir o endereço de e-mail do usuário nos dois sistemas?'"
      ]
     },
     "execution_count": 137,
     "metadata": {},
     "output_type": "execute_result"
    }
   ],
   "source": [
    "questions[4]"
   ]
  },
  {
   "cell_type": "code",
   "execution_count": null,
   "metadata": {},
   "outputs": [],
   "source": []
  }
 ],
 "metadata": {
  "kernelspec": {
   "display_name": "bert",
   "language": "python",
   "name": "bert"
  },
  "language_info": {
   "codemirror_mode": {
    "name": "ipython",
    "version": 3
   },
   "file_extension": ".py",
   "mimetype": "text/x-python",
   "name": "python",
   "nbconvert_exporter": "python",
   "pygments_lexer": "ipython3",
   "version": "3.6.10"
  }
 },
 "nbformat": 4,
 "nbformat_minor": 4
}
