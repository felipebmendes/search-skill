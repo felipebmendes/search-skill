{
 "cells": [
  {
   "cell_type": "markdown",
   "metadata": {
    "colab_type": "text",
    "id": "wEwQofmxF_wq"
   },
   "source": [
    "Source: https://github.com/UKPLab/sentence-transformers"
   ]
  },
  {
   "cell_type": "code",
   "execution_count": 1,
   "metadata": {
    "colab": {
     "base_uri": "https://localhost:8080/",
     "height": 1000
    },
    "colab_type": "code",
    "id": "7Xk8N84dF8p4",
    "outputId": "c2fc59ba-9479-4607-b4e8-278699fc3bc1"
   },
   "outputs": [
    {
     "name": "stdout",
     "output_type": "stream",
     "text": [
      "Collecting pycarol\n",
      "  Using cached pycarol-2.33.3.tar.gz (105 kB)\n",
      "Collecting pykube\n",
      "  Using cached pykube-0.15.0-py2.py3-none-any.whl (23 kB)\n",
      "Collecting click==7.0\n",
      "  Using cached Click-7.0-py2.py3-none-any.whl (81 kB)\n",
      "Collecting dask[complete]\n",
      "  Using cached dask-2.16.0-py3-none-any.whl (802 kB)\n",
      "Processing /Users/felipe/Library/Caches/pip/wheels/e1/8b/65/3294e5b727440250bda09e8c0153b7ba19d328f661605cb151/toolz-0.10.0-cp36-none-any.whl\n",
      "Collecting fastparquet\n",
      "  Using cached fastparquet-0.4.0.tar.gz (152 kB)\n",
      "Collecting flask==1.0.2\n",
      "  Using cached Flask-1.0.2-py2.py3-none-any.whl (91 kB)\n",
      "Collecting google-auth-httplib2\n",
      "  Using cached google_auth_httplib2-0.0.3-py2.py3-none-any.whl (6.3 kB)\n",
      "Collecting google-auth\n",
      "  Using cached google_auth-1.15.0-py2.py3-none-any.whl (89 kB)\n",
      "Collecting google-cloud-core>=1.3.0\n",
      "  Using cached google_cloud_core-1.3.0-py2.py3-none-any.whl (26 kB)\n",
      "Collecting google-cloud-storage\n",
      "  Using cached google_cloud_storage-1.28.1-py2.py3-none-any.whl (80 kB)\n",
      "Collecting joblib==0.11\n",
      "  Using cached joblib-0.11-py2.py3-none-any.whl (176 kB)\n",
      "Collecting luigi\n",
      "  Using cached luigi-2.8.13.tar.gz (1.2 MB)\n",
      "Collecting numpy==1.16.3\n",
      "  Using cached numpy-1.16.3-cp36-cp36m-macosx_10_6_intel.macosx_10_9_intel.macosx_10_9_x86_64.macosx_10_10_intel.macosx_10_10_x86_64.whl (13.9 MB)\n",
      "Collecting pandas==0.23.4\n",
      "  Using cached pandas-0.23.4-cp36-cp36m-macosx_10_6_intel.macosx_10_9_intel.macosx_10_9_x86_64.macosx_10_10_intel.macosx_10_10_x86_64.whl (14.6 MB)\n",
      "Collecting pyarrow>=0.15.1\n",
      "  Downloading pyarrow-0.17.1-cp36-cp36m-macosx_10_9_intel.whl (42.1 MB)\n",
      "\u001b[K     |████████████████████████████████| 42.1 MB 698 kB/s eta 0:00:01\n",
      "\u001b[?25hCollecting redis==2.10.6\n",
      "  Using cached redis-2.10.6-py2.py3-none-any.whl (64 kB)\n",
      "Requirement already satisfied: requests in /Users/felipe/opt/miniconda3/envs/bert/lib/python3.6/site-packages (from pycarol) (2.23.0)\n",
      "Requirement already satisfied: tqdm in /Users/felipe/opt/miniconda3/envs/bert/lib/python3.6/site-packages (from pycarol) (4.46.0)\n",
      "Requirement already satisfied: urllib3 in /Users/felipe/opt/miniconda3/envs/bert/lib/python3.6/site-packages (from pycarol) (1.25.9)\n",
      "Collecting deprecated\n",
      "  Downloading Deprecated-1.2.10-py2.py3-none-any.whl (8.7 kB)\n",
      "Collecting pytest\n",
      "  Downloading pytest-5.4.2-py3-none-any.whl (247 kB)\n",
      "\u001b[K     |████████████████████████████████| 247 kB 2.3 MB/s eta 0:00:01\n",
      "\u001b[?25hCollecting bumpversion\n",
      "  Downloading bumpversion-0.6.0-py2.py3-none-any.whl (8.4 kB)\n",
      "Collecting python-dotenv\n",
      "  Downloading python_dotenv-0.13.0-py2.py3-none-any.whl (17 kB)\n",
      "Collecting papermill\n",
      "  Downloading papermill-2.1.1-py3-none-any.whl (32 kB)\n",
      "Collecting gcsfs>=0.3.0\n",
      "  Downloading gcsfs-0.6.2-py2.py3-none-any.whl (17 kB)\n",
      "Collecting dash\n",
      "  Downloading dash-1.12.0.tar.gz (66 kB)\n",
      "\u001b[K     |████████████████████████████████| 66 kB 486 kB/s eta 0:00:01\n",
      "\u001b[?25hProcessing /Users/felipe/Library/Caches/pip/wheels/32/bd/34/4c0a61c252c4bcee42ab4943e66e7c2d1f7809de90d4caf070/dash_cytoscape-0.1.1-cp36-none-any.whl\n",
      "Collecting colorcet\n",
      "  Using cached colorcet-2.0.2-py2.py3-none-any.whl (1.6 MB)\n",
      "Requirement already satisfied: six>=1.10.0 in /Users/felipe/opt/miniconda3/envs/bert/lib/python3.6/site-packages (from pykube->pycarol) (1.14.0)\n",
      "Collecting tzlocal\n",
      "  Downloading tzlocal-2.1-py2.py3-none-any.whl (16 kB)\n",
      "Collecting requests-oauthlib\n",
      "  Using cached requests_oauthlib-1.3.0-py2.py3-none-any.whl (23 kB)\n",
      "Collecting PyYAML\n",
      "  Using cached PyYAML-5.3.1.tar.gz (269 kB)\n",
      "Collecting oauth2client\n",
      "  Using cached oauth2client-4.1.3-py2.py3-none-any.whl (98 kB)\n",
      "Collecting cloudpickle>=0.2.2; extra == \"complete\"\n",
      "  Downloading cloudpickle-1.4.1-py3-none-any.whl (26 kB)\n",
      "Collecting distributed>=2.0; extra == \"complete\"\n",
      "  Downloading distributed-2.16.0-py3-none-any.whl (629 kB)\n",
      "\u001b[K     |████████████████████████████████| 629 kB 605 kB/s eta 0:00:01\n",
      "\u001b[?25hCollecting bokeh>=1.0.0; extra == \"complete\"\n",
      "  Downloading bokeh-2.0.2.tar.gz (8.6 MB)\n",
      "\u001b[K     |████████████████████████████████| 8.6 MB 602 kB/s eta 0:00:01\n",
      "\u001b[?25hCollecting fsspec>=0.6.0; extra == \"complete\"\n",
      "  Downloading fsspec-0.7.4-py3-none-any.whl (75 kB)\n",
      "\u001b[K     |████████████████████████████████| 75 kB 723 kB/s eta 0:00:01\n",
      "\u001b[?25hCollecting partd>=0.3.10; extra == \"complete\"\n",
      "  Using cached partd-1.1.0-py3-none-any.whl (19 kB)\n",
      "Collecting numba>=0.28\n",
      "  Downloading numba-0.49.1-cp36-cp36m-macosx_10_14_x86_64.whl (2.1 MB)\n",
      "\u001b[K     |████████████████████████████████| 2.1 MB 281 kB/s eta 0:00:01\n",
      "\u001b[?25hProcessing /Users/felipe/Library/Caches/pip/wheels/02/a2/46/689ccfcf40155c23edc7cdbd9de488611c8fdf49ff34b1706e/thrift-0.13.0-cp36-none-any.whl\n",
      "Requirement already satisfied: Jinja2>=2.10 in /Users/felipe/opt/miniconda3/envs/bert/lib/python3.6/site-packages (from flask==1.0.2->pycarol) (2.11.2)\n",
      "Requirement already satisfied: Werkzeug>=0.14 in /Users/felipe/opt/miniconda3/envs/bert/lib/python3.6/site-packages (from flask==1.0.2->pycarol) (0.16.1)\n",
      "Collecting itsdangerous>=0.24\n",
      "  Using cached itsdangerous-1.1.0-py2.py3-none-any.whl (16 kB)\n",
      "Collecting httplib2>=0.9.1\n",
      "  Downloading httplib2-0.18.1-py3-none-any.whl (95 kB)\n",
      "\u001b[K     |████████████████████████████████| 95 kB 3.6 MB/s eta 0:00:01\n",
      "\u001b[?25hRequirement already satisfied: setuptools>=40.3.0 in /Users/felipe/opt/miniconda3/envs/bert/lib/python3.6/site-packages (from google-auth->pycarol) (46.3.0.post20200513)\n",
      "Collecting cachetools<5.0,>=2.0.0\n",
      "  Downloading cachetools-4.1.0-py3-none-any.whl (10 kB)\n",
      "Collecting rsa<4.1,>=3.1.4\n",
      "  Using cached rsa-4.0-py2.py3-none-any.whl (38 kB)\n",
      "Collecting pyasn1-modules>=0.2.1\n",
      "  Using cached pyasn1_modules-0.2.8-py2.py3-none-any.whl (155 kB)\n",
      "Collecting google-api-core<2.0.0dev,>=1.16.0\n",
      "  Downloading google_api_core-1.17.0-py2.py3-none-any.whl (70 kB)\n",
      "\u001b[K     |████████████████████████████████| 70 kB 305 kB/s eta 0:00:01\n",
      "\u001b[?25hCollecting google-resumable-media<0.6dev,>=0.5.0\n",
      "  Using cached google_resumable_media-0.5.0-py2.py3-none-any.whl (38 kB)\n",
      "Requirement already satisfied: python-dateutil<3,>=2.7.5 in /Users/felipe/opt/miniconda3/envs/bert/lib/python3.6/site-packages (from luigi->pycarol) (2.8.1)\n",
      "Collecting python-daemon\n",
      "  Using cached python_daemon-2.2.4-py2.py3-none-any.whl (35 kB)\n",
      "Processing /Users/felipe/Library/Caches/pip/wheels/6d/e1/ce/f4ee2fa420cc6b940123c64992b81047816d0a9fad6b879325/tornado-5.1.1-cp36-cp36m-macosx_10_7_x86_64.whl\n",
      "Collecting pytz>=2011k\n",
      "  Downloading pytz-2020.1-py2.py3-none-any.whl (510 kB)\n",
      "\u001b[K     |████████████████████████████████| 510 kB 730 kB/s eta 0:00:01\n",
      "\u001b[?25hRequirement already satisfied: certifi>=2017.4.17 in /Users/felipe/opt/miniconda3/envs/bert/lib/python3.6/site-packages (from requests->pycarol) (2020.4.5.1)\n",
      "Requirement already satisfied: idna<3,>=2.5 in /Users/felipe/opt/miniconda3/envs/bert/lib/python3.6/site-packages (from requests->pycarol) (2.9)\n",
      "Requirement already satisfied: chardet<4,>=3.0.2 in /Users/felipe/opt/miniconda3/envs/bert/lib/python3.6/site-packages (from requests->pycarol) (3.0.4)\n",
      "Requirement already satisfied: wrapt<2,>=1.10 in /Users/felipe/opt/miniconda3/envs/bert/lib/python3.6/site-packages (from deprecated->pycarol) (1.12.1)\n",
      "Collecting pluggy<1.0,>=0.12\n",
      "  Using cached pluggy-0.13.1-py2.py3-none-any.whl (18 kB)\n",
      "Requirement already satisfied: packaging in /Users/felipe/opt/miniconda3/envs/bert/lib/python3.6/site-packages (from pytest->pycarol) (20.3)\n",
      "Requirement already satisfied: importlib-metadata>=0.12; python_version < \"3.8\" in /Users/felipe/opt/miniconda3/envs/bert/lib/python3.6/site-packages (from pytest->pycarol) (1.6.0)\n",
      "Requirement already satisfied: attrs>=17.4.0 in /Users/felipe/opt/miniconda3/envs/bert/lib/python3.6/site-packages (from pytest->pycarol) (19.3.0)\n",
      "Requirement already satisfied: wcwidth in /Users/felipe/opt/miniconda3/envs/bert/lib/python3.6/site-packages (from pytest->pycarol) (0.1.9)\n",
      "Collecting more-itertools>=4.0.0\n",
      "  Downloading more_itertools-8.3.0-py3-none-any.whl (44 kB)\n",
      "\u001b[K     |████████████████████████████████| 44 kB 2.6 MB/s eta 0:00:01\n",
      "\u001b[?25hCollecting py>=1.5.0\n",
      "  Using cached py-1.8.1-py2.py3-none-any.whl (83 kB)\n",
      "Collecting bump2version\n",
      "  Downloading bump2version-1.0.0-py2.py3-none-any.whl (20 kB)\n",
      "Requirement already satisfied: jupyter-client in /Users/felipe/opt/miniconda3/envs/bert/lib/python3.6/site-packages (from papermill->pycarol) (6.1.3)\n",
      "Collecting black\n",
      "  Using cached black-19.10b0-py36-none-any.whl (97 kB)\n",
      "Collecting ansiwrap\n",
      "  Using cached ansiwrap-0.8.4-py2.py3-none-any.whl (8.5 kB)\n",
      "Requirement already satisfied: entrypoints in /Users/felipe/opt/miniconda3/envs/bert/lib/python3.6/site-packages (from papermill->pycarol) (0.3)\n",
      "Collecting nbclient>=0.2.0\n",
      "  Downloading nbclient-0.3.1-py3-none-any.whl (70 kB)\n",
      "\u001b[K     |████████████████████████████████| 70 kB 3.8 MB/s eta 0:00:01\n",
      "\u001b[?25hCollecting tenacity\n",
      "  Downloading tenacity-6.2.0-py2.py3-none-any.whl (24 kB)\n",
      "Requirement already satisfied: nbformat in /Users/felipe/opt/miniconda3/envs/bert/lib/python3.6/site-packages (from papermill->pycarol) (5.0.6)\n",
      "Collecting google-auth-oauthlib\n",
      "  Using cached google_auth_oauthlib-0.4.1-py2.py3-none-any.whl (18 kB)\n",
      "Requirement already satisfied: decorator in /Users/felipe/opt/miniconda3/envs/bert/lib/python3.6/site-packages (from gcsfs>=0.3.0->pycarol) (4.4.2)\n",
      "Collecting flask-compress\n",
      "  Downloading Flask-Compress-1.5.0.tar.gz (6.5 kB)\n",
      "Collecting plotly\n",
      "  Downloading plotly-4.7.1-py2.py3-none-any.whl (11.5 MB)\n",
      "\u001b[K     |████████████████████████████████| 11.5 MB 4.5 MB/s eta 0:00:01\n",
      "\u001b[?25hCollecting dash_renderer==1.4.1\n",
      "  Downloading dash_renderer-1.4.1.tar.gz (1.2 MB)\n",
      "\u001b[K     |████████████████████████████████| 1.2 MB 2.4 MB/s eta 0:00:01\n",
      "\u001b[?25hCollecting dash-core-components==1.10.0\n",
      "  Downloading dash_core_components-1.10.0.tar.gz (3.4 MB)\n",
      "\u001b[K     |████████████████████████████████| 3.4 MB 915 kB/s eta 0:00:01\n",
      "\u001b[?25hCollecting dash-html-components==1.0.3\n",
      "  Using cached dash_html_components-1.0.3.tar.gz (187 kB)\n",
      "Collecting dash-table==4.7.0\n",
      "  Downloading dash_table-4.7.0.tar.gz (1.8 MB)\n",
      "\u001b[K     |████████████████████████████████| 1.8 MB 768 kB/s eta 0:00:01\n",
      "\u001b[?25hRequirement already satisfied: future in /Users/felipe/opt/miniconda3/envs/bert/lib/python3.6/site-packages (from dash->pycarol) (0.18.2)\n",
      "Collecting pyct>=0.4.4\n",
      "  Using cached pyct-0.4.6-py2.py3-none-any.whl (12 kB)\n",
      "Collecting param>=1.7.0\n",
      "  Using cached param-1.9.3-py2.py3-none-any.whl (70 kB)\n",
      "Collecting oauthlib>=3.0.0\n",
      "  Using cached oauthlib-3.1.0-py2.py3-none-any.whl (147 kB)\n",
      "Collecting pyasn1>=0.1.7\n",
      "  Using cached pyasn1-0.4.8-py2.py3-none-any.whl (77 kB)\n",
      "Collecting tblib>=1.6.0\n",
      "  Using cached tblib-1.6.0-py2.py3-none-any.whl (12 kB)\n",
      "Collecting zict>=0.1.3\n",
      "  Using cached zict-2.0.0-py3-none-any.whl (10 kB)\n",
      "Processing /Users/felipe/Library/Caches/pip/wheels/d7/69/b4/3200b95828d1f0ddb3cb5699083717f4fdbd9b4223d0644c57/psutil-5.7.0-cp36-cp36m-macosx_10_7_x86_64.whl\n",
      "Collecting contextvars; python_version < \"3.7\"\n",
      "  Downloading contextvars-2.4.tar.gz (9.6 kB)\n",
      "Collecting msgpack>=0.6.0\n",
      "  Downloading msgpack-1.0.0-cp36-cp36m-macosx_10_13_x86_64.whl (79 kB)\n",
      "\u001b[K     |████████████████████████████████| 79 kB 2.7 MB/s eta 0:00:01\n",
      "\u001b[?25hCollecting sortedcontainers!=2.0.0,!=2.0.1\n",
      "  Using cached sortedcontainers-2.1.0-py2.py3-none-any.whl (28 kB)\n",
      "Collecting pillow>=4.0\n",
      "  Downloading Pillow-7.1.2-cp36-cp36m-macosx_10_10_x86_64.whl (2.2 MB)\n",
      "\u001b[K     |████████████████████████████████| 2.2 MB 2.4 MB/s eta 0:00:01\n",
      "\u001b[?25hCollecting typing_extensions>=3.7.4\n",
      "  Using cached typing_extensions-3.7.4.2-py3-none-any.whl (22 kB)\n",
      "Processing /Users/felipe/Library/Caches/pip/wheels/26/1e/e8/4fa236ec931b1a0cdd61578e20d4934d7bf188858723b84698/locket-0.2.0-cp36-none-any.whl\n",
      "Collecting llvmlite<=0.33.0.dev0,>=0.31.0.dev0\n",
      "  Downloading llvmlite-0.32.1-cp36-cp36m-macosx_10_9_x86_64.whl (15.9 MB)\n",
      "\u001b[K     |████████████████████████████████| 15.9 MB 356 kB/s eta 0:00:01\n",
      "\u001b[?25hRequirement already satisfied: MarkupSafe>=0.23 in /Users/felipe/opt/miniconda3/envs/bert/lib/python3.6/site-packages (from Jinja2>=2.10->flask==1.0.2->pycarol) (1.1.1)\n",
      "Requirement already satisfied: protobuf>=3.4.0 in /Users/felipe/opt/miniconda3/envs/bert/lib/python3.6/site-packages (from google-api-core<2.0.0dev,>=1.16.0->google-cloud-core>=1.3.0->pycarol) (3.11.4)\n",
      "Processing /Users/felipe/Library/Caches/pip/wheels/2c/f9/7f/6eb87e636072bf467e25348bbeb96849333e6a080dca78f706/googleapis_common_protos-1.51.0-cp36-none-any.whl\n",
      "Requirement already satisfied: docutils in /Users/felipe/opt/miniconda3/envs/bert/lib/python3.6/site-packages (from python-daemon->luigi->pycarol) (0.15.2)\n",
      "Collecting lockfile>=0.10\n",
      "  Using cached lockfile-0.12.2-py2.py3-none-any.whl (13 kB)\n",
      "Requirement already satisfied: pyparsing>=2.0.2 in /Users/felipe/opt/miniconda3/envs/bert/lib/python3.6/site-packages (from packaging->pytest->pycarol) (2.4.7)\n",
      "Requirement already satisfied: zipp>=0.5 in /Users/felipe/opt/miniconda3/envs/bert/lib/python3.6/site-packages (from importlib-metadata>=0.12; python_version < \"3.8\"->pytest->pycarol) (3.1.0)\n",
      "Requirement already satisfied: pyzmq>=13 in /Users/felipe/opt/miniconda3/envs/bert/lib/python3.6/site-packages (from jupyter-client->papermill->pycarol) (19.0.1)\n",
      "Requirement already satisfied: traitlets in /Users/felipe/opt/miniconda3/envs/bert/lib/python3.6/site-packages (from jupyter-client->papermill->pycarol) (4.3.3)\n",
      "Requirement already satisfied: jupyter-core>=4.6.0 in /Users/felipe/opt/miniconda3/envs/bert/lib/python3.6/site-packages (from jupyter-client->papermill->pycarol) (4.6.3)\n",
      "Collecting toml>=0.9.4\n",
      "  Downloading toml-0.10.1-py2.py3-none-any.whl (19 kB)\n",
      "Requirement already satisfied: regex in /Users/felipe/opt/miniconda3/envs/bert/lib/python3.6/site-packages (from black->papermill->pycarol) (2020.5.14)\n",
      "Collecting appdirs\n",
      "  Downloading appdirs-1.4.4-py2.py3-none-any.whl (9.6 kB)\n",
      "Collecting typed-ast>=1.4.0\n",
      "  Downloading typed_ast-1.4.1-cp36-cp36m-macosx_10_9_x86_64.whl (223 kB)\n",
      "\u001b[K     |████████████████████████████████| 223 kB 1.8 MB/s eta 0:00:01\n",
      "\u001b[?25hCollecting pathspec<1,>=0.6\n",
      "  Downloading pathspec-0.8.0-py2.py3-none-any.whl (28 kB)\n",
      "Collecting textwrap3>=0.9.2\n",
      "  Using cached textwrap3-0.9.2-py2.py3-none-any.whl (12 kB)\n",
      "Collecting async-generator\n",
      "  Using cached async_generator-1.10-py3-none-any.whl (18 kB)\n",
      "Collecting nest-asyncio\n",
      "  Downloading nest_asyncio-1.3.3-py3-none-any.whl (4.7 kB)\n",
      "Requirement already satisfied: jsonschema!=2.5.0,>=2.4 in /Users/felipe/opt/miniconda3/envs/bert/lib/python3.6/site-packages (from nbformat->papermill->pycarol) (3.2.0)\n",
      "Requirement already satisfied: ipython-genutils in /Users/felipe/opt/miniconda3/envs/bert/lib/python3.6/site-packages (from nbformat->papermill->pycarol) (0.2.0)\n",
      "Collecting brotli\n",
      "  Downloading Brotli-1.0.7-cp36-cp36m-macosx_10_6_intel.macosx_10_9_intel.macosx_10_9_x86_64.macosx_10_10_intel.macosx_10_10_x86_64.whl (796 kB)\n",
      "\u001b[K     |████████████████████████████████| 796 kB 2.0 MB/s eta 0:00:01\n",
      "\u001b[?25hProcessing /Users/felipe/Library/Caches/pip/wheels/d7/a9/33/acc7b709e2a35caa7d4cae442f6fe6fbf2c43f80823d46460c/retrying-1.3.3-cp36-none-any.whl\n",
      "Collecting heapdict\n",
      "  Using cached HeapDict-1.0.1-py3-none-any.whl (3.9 kB)\n",
      "Collecting immutables>=0.9\n",
      "  Downloading immutables-0.14-cp36-cp36m-macosx_10_14_x86_64.whl (52 kB)\n",
      "\u001b[K     |████████████████████████████████| 52 kB 1.3 MB/s eta 0:00:01\n",
      "\u001b[?25hRequirement already satisfied: pyrsistent>=0.14.0 in /Users/felipe/opt/miniconda3/envs/bert/lib/python3.6/site-packages (from jsonschema!=2.5.0,>=2.4->nbformat->papermill->pycarol) (0.16.0)\n",
      "Building wheels for collected packages: pycarol, fastparquet, luigi, dash, PyYAML, bokeh, flask-compress, dash-renderer, dash-core-components, dash-html-components, dash-table, contextvars\n",
      "  Building wheel for pycarol (setup.py) ... \u001b[?25ldone\n",
      "\u001b[?25h  Created wheel for pycarol: filename=pycarol-2.33.3-py3-none-any.whl size=132582 sha256=dd31d47f6cb30b9ad2976f849382bb1464d137a5a58fb48b55caaa70c6e0397e\n",
      "  Stored in directory: /Users/felipe/Library/Caches/pip/wheels/84/45/44/f94901b73f62ef503e560c880bf58d7f4b5a641a847ed38d8f\n",
      "  Building wheel for fastparquet (setup.py) ... \u001b[?25ldone\n",
      "\u001b[?25h  Created wheel for fastparquet: filename=fastparquet-0.4.0-cp36-cp36m-macosx_10_7_x86_64.whl size=185648 sha256=30112627afb7f77a011721e6d444b562bec1c753126e7bc55dde78c007bc9ff9\n",
      "  Stored in directory: /Users/felipe/Library/Caches/pip/wheels/1b/4a/72/04de2f772018fd937958b847780cc99c9542d28de18693d9c1\n",
      "  Building wheel for luigi (setup.py) ... \u001b[?25ldone\n",
      "\u001b[?25h  Created wheel for luigi: filename=luigi-2.8.13-py3-none-any.whl size=1090556 sha256=308f45c3d9a17b2dfea24ae683a1b05319d8d89f1e618455a1277402a583c6ed\n",
      "  Stored in directory: /Users/felipe/Library/Caches/pip/wheels/06/44/45/8ad8cc29aa6dc7280749ab082cc55a89f8cdf34a8ba609d679\n",
      "  Building wheel for dash (setup.py) ... \u001b[?25ldone\n",
      "\u001b[?25h  Created wheel for dash: filename=dash-1.12.0-py3-none-any.whl size=73891 sha256=20512c0ff7c8c617fef81d84bdfd3728883a029e8d7dc67baebc8e5e6b3d20a9\n",
      "  Stored in directory: /Users/felipe/Library/Caches/pip/wheels/ed/02/fb/071401278bed8e000b30a2de319fec0004574798210f69a941\n",
      "  Building wheel for PyYAML (setup.py) ... \u001b[?25ldone\n",
      "\u001b[?25h  Created wheel for PyYAML: filename=PyYAML-5.3.1-cp36-cp36m-macosx_10_7_x86_64.whl size=44625 sha256=62d51c73082a099a4ac74be3c0f04b2c105af2ca38ea604e522c010fc9105dcc\n",
      "  Stored in directory: /Users/felipe/Library/Caches/pip/wheels/e5/9d/ad/2ee53cf262cba1ffd8afe1487eef788ea3f260b7e6232a80fc\n",
      "  Building wheel for bokeh (setup.py) ... \u001b[?25ldone\n",
      "\u001b[?25h  Created wheel for bokeh: filename=bokeh-2.0.2-py3-none-any.whl size=9072535 sha256=9ec52e9e1f0614a715f0699594af14a24e4a2c11119c27717c25c2e939d9bc8a\n",
      "  Stored in directory: /Users/felipe/Library/Caches/pip/wheels/b0/68/c1/6b9042ddb66b14320f3a38df7bdcb38c4b411be9daae9df900\n",
      "  Building wheel for flask-compress (setup.py) ... \u001b[?25ldone\n",
      "\u001b[?25h  Created wheel for flask-compress: filename=Flask_Compress-1.5.0-py3-none-any.whl size=5271 sha256=15a9585ecc59e33caedf71e28ea60b9fce33855889a174f69facf6a0a3bb17dd\n",
      "  Stored in directory: /Users/felipe/Library/Caches/pip/wheels/16/2c/19/f840d605a062246c5569086df3694f5d1123f7f3f3a1c82f72\n",
      "  Building wheel for dash-renderer (setup.py) ... \u001b[?25ldone\n",
      "\u001b[?25h  Created wheel for dash-renderer: filename=dash_renderer-1.4.1-py3-none-any.whl size=1165596 sha256=adf3d44c75ee030d2f8ca583a96c9a4e867ca242534dadb2f67715ed734f2622\n",
      "  Stored in directory: /Users/felipe/Library/Caches/pip/wheels/a7/03/64/d7e0233da5931aaf58edda7fcc926c4674415fbe93f604bd08\n",
      "  Building wheel for dash-core-components (setup.py) ... \u001b[?25ldone\n",
      "\u001b[?25h  Created wheel for dash-core-components: filename=dash_core_components-1.10.0-py3-none-any.whl size=3454753 sha256=b2c886c3a45bab39afdadee70786ab7fc8ee56dd894c9763110c9f16deeb3284\n",
      "  Stored in directory: /Users/felipe/Library/Caches/pip/wheels/2c/2c/6c/a4dcb09ce84b77fda2a7f9c7e278d4b2b7b86f9233a3145aeb\n",
      "  Building wheel for dash-html-components (setup.py) ... \u001b[?25ldone\n",
      "\u001b[?25h  Created wheel for dash-html-components: filename=dash_html_components-1.0.3-py3-none-any.whl size=427304 sha256=fd7c9425de915ce201abbf3db92eb51ca99713906126f33ae8136e9a70feb5c4\n",
      "  Stored in directory: /Users/felipe/Library/Caches/pip/wheels/ce/17/98/d19bba6bb5893297ad4220f3dfdd2ecc44327379b4fbfc519a\n",
      "  Building wheel for dash-table (setup.py) ... \u001b[?25ldone\n",
      "\u001b[?25h  Created wheel for dash-table: filename=dash_table-4.7.0-py3-none-any.whl size=1777561 sha256=d2027b26dd8f48c615881e222f813b8eaaa2a6f2834e5e1c7bc14ea55099cf38\n",
      "  Stored in directory: /Users/felipe/Library/Caches/pip/wheels/0b/17/22/e4c0ed79268e905b124e30160ff793e88df70405228b6c037d\n",
      "  Building wheel for contextvars (setup.py) ... \u001b[?25ldone\n",
      "\u001b[?25h  Created wheel for contextvars: filename=contextvars-2.4-py3-none-any.whl size=7664 sha256=3da9862a7c131b06e0ea191fd8572cb38b1482258a7b9c97b5cf58aeb6a1acff\n",
      "  Stored in directory: /Users/felipe/Library/Caches/pip/wheels/41/11/53/911724983aa48deb94792432e14e518447212dd6c5477d49d3\n",
      "Successfully built pycarol fastparquet luigi dash PyYAML bokeh flask-compress dash-renderer dash-core-components dash-html-components dash-table contextvars\n",
      "\u001b[31mERROR: tensorflow 1.15.0 has requirement opt-einsum>=2.3.2, but you'll have opt-einsum 0+untagged.56.g2664021.dirty which is incompatible.\u001b[0m\n",
      "Installing collected packages: pytz, tzlocal, oauthlib, requests-oauthlib, PyYAML, pyasn1, rsa, httplib2, pyasn1-modules, oauth2client, pykube, click, toolz, cloudpickle, numpy, pandas, tblib, heapdict, zict, tornado, psutil, immutables, contextvars, msgpack, sortedcontainers, distributed, pillow, typing-extensions, bokeh, fsspec, locket, partd, dask, llvmlite, numba, thrift, fastparquet, itsdangerous, flask, cachetools, google-auth, google-auth-httplib2, googleapis-common-protos, google-api-core, google-cloud-core, google-resumable-media, google-cloud-storage, joblib, lockfile, python-daemon, luigi, pyarrow, redis, deprecated, pluggy, more-itertools, py, pytest, bump2version, bumpversion, python-dotenv, toml, appdirs, typed-ast, pathspec, black, textwrap3, ansiwrap, async-generator, nest-asyncio, nbclient, tenacity, papermill, google-auth-oauthlib, gcsfs, brotli, flask-compress, retrying, plotly, dash-renderer, dash-core-components, dash-html-components, dash-table, dash, dash-cytoscape, param, pyct, colorcet, pycarol\n",
      "  Attempting uninstall: click\n",
      "    Found existing installation: click 7.1.2\n",
      "    Uninstalling click-7.1.2:\n",
      "      Successfully uninstalled click-7.1.2\n",
      "  Attempting uninstall: numpy\n",
      "    Found existing installation: numpy 1.18.4\n",
      "    Uninstalling numpy-1.18.4:\n",
      "      Successfully uninstalled numpy-1.18.4\n",
      "  Attempting uninstall: tornado\n",
      "    Found existing installation: tornado 6.0.4\n",
      "    Uninstalling tornado-6.0.4:\n",
      "      Successfully uninstalled tornado-6.0.4\n",
      "  Attempting uninstall: joblib\n",
      "    Found existing installation: joblib 0.14.1\n",
      "    Uninstalling joblib-0.14.1:\n",
      "      Successfully uninstalled joblib-0.14.1\n",
      "Successfully installed PyYAML-5.3.1 ansiwrap-0.8.4 appdirs-1.4.4 async-generator-1.10 black-19.10b0 bokeh-2.0.2 brotli-1.0.7 bump2version-1.0.0 bumpversion-0.6.0 cachetools-4.1.0 click-7.0 cloudpickle-1.4.1 colorcet-2.0.2 contextvars-2.4 dash-1.12.0 dash-core-components-1.10.0 dash-cytoscape-0.1.1 dash-html-components-1.0.3 dash-renderer-1.4.1 dash-table-4.7.0 dask-2.16.0 deprecated-1.2.10 distributed-2.16.0 fastparquet-0.4.0 flask-1.0.2 flask-compress-1.5.0 fsspec-0.7.4 gcsfs-0.6.2 google-api-core-1.17.0 google-auth-1.15.0 google-auth-httplib2-0.0.3 google-auth-oauthlib-0.4.1 google-cloud-core-1.3.0 google-cloud-storage-1.28.1 google-resumable-media-0.5.0 googleapis-common-protos-1.51.0 heapdict-1.0.1 httplib2-0.18.1 immutables-0.14 itsdangerous-1.1.0 joblib-0.11 llvmlite-0.32.1 locket-0.2.0 lockfile-0.12.2 luigi-2.8.13 more-itertools-8.3.0 msgpack-1.0.0 nbclient-0.3.1 nest-asyncio-1.3.3 numba-0.49.1 numpy-1.16.3 oauth2client-4.1.3 oauthlib-3.1.0 pandas-0.23.4 papermill-2.1.1 param-1.9.3 partd-1.1.0 pathspec-0.8.0 pillow-7.1.2 plotly-4.7.1 pluggy-0.13.1 psutil-5.7.0 py-1.8.1 pyarrow-0.17.1 pyasn1-0.4.8 pyasn1-modules-0.2.8 pycarol-2.33.3 pyct-0.4.6 pykube-0.15.0 pytest-5.4.2 python-daemon-2.2.4 python-dotenv-0.13.0 pytz-2020.1 redis-2.10.6 requests-oauthlib-1.3.0 retrying-1.3.3 rsa-4.0 sortedcontainers-2.1.0 tblib-1.6.0 tenacity-6.2.0 textwrap3-0.9.2 thrift-0.13.0 toml-0.10.1 toolz-0.10.0 tornado-5.1.1 typed-ast-1.4.1 typing-extensions-3.7.4.2 tzlocal-2.1 zict-2.0.0\n",
      "Requirement already up-to-date: sentence-transformers in /Users/felipe/opt/miniconda3/envs/bert/lib/python3.6/site-packages (0.2.6.1)\n",
      "Requirement already satisfied, skipping upgrade: scikit-learn in /Users/felipe/opt/miniconda3/envs/bert/lib/python3.6/site-packages (from sentence-transformers) (0.23.1)\n",
      "Requirement already satisfied, skipping upgrade: nltk in /Users/felipe/opt/miniconda3/envs/bert/lib/python3.6/site-packages (from sentence-transformers) (3.5)\n",
      "Requirement already satisfied, skipping upgrade: numpy in /Users/felipe/opt/miniconda3/envs/bert/lib/python3.6/site-packages (from sentence-transformers) (1.16.3)\n",
      "Requirement already satisfied, skipping upgrade: transformers>=2.8.0 in /Users/felipe/opt/miniconda3/envs/bert/lib/python3.6/site-packages (from sentence-transformers) (2.9.1)\n",
      "Requirement already satisfied, skipping upgrade: scipy in /Users/felipe/opt/miniconda3/envs/bert/lib/python3.6/site-packages (from sentence-transformers) (1.4.1)\n",
      "Requirement already satisfied, skipping upgrade: tqdm in /Users/felipe/opt/miniconda3/envs/bert/lib/python3.6/site-packages (from sentence-transformers) (4.46.0)\n",
      "Requirement already satisfied, skipping upgrade: torch>=1.0.1 in /Users/felipe/opt/miniconda3/envs/bert/lib/python3.6/site-packages (from sentence-transformers) (1.5.0)\n",
      "Requirement already satisfied, skipping upgrade: joblib>=0.11 in /Users/felipe/opt/miniconda3/envs/bert/lib/python3.6/site-packages (from scikit-learn->sentence-transformers) (0.11)\n",
      "Requirement already satisfied, skipping upgrade: threadpoolctl>=2.0.0 in /Users/felipe/opt/miniconda3/envs/bert/lib/python3.6/site-packages (from scikit-learn->sentence-transformers) (2.0.0)\n",
      "Requirement already satisfied, skipping upgrade: regex in /Users/felipe/opt/miniconda3/envs/bert/lib/python3.6/site-packages (from nltk->sentence-transformers) (2020.5.14)\n",
      "Requirement already satisfied, skipping upgrade: click in /Users/felipe/opt/miniconda3/envs/bert/lib/python3.6/site-packages (from nltk->sentence-transformers) (7.0)\n",
      "Requirement already satisfied, skipping upgrade: sentencepiece in /Users/felipe/opt/miniconda3/envs/bert/lib/python3.6/site-packages (from transformers>=2.8.0->sentence-transformers) (0.1.90)\n",
      "Requirement already satisfied, skipping upgrade: tokenizers==0.7.0 in /Users/felipe/opt/miniconda3/envs/bert/lib/python3.6/site-packages (from transformers>=2.8.0->sentence-transformers) (0.7.0)\n",
      "Requirement already satisfied, skipping upgrade: dataclasses; python_version < \"3.7\" in /Users/felipe/opt/miniconda3/envs/bert/lib/python3.6/site-packages (from transformers>=2.8.0->sentence-transformers) (0.7)\n",
      "Requirement already satisfied, skipping upgrade: sacremoses in /Users/felipe/opt/miniconda3/envs/bert/lib/python3.6/site-packages (from transformers>=2.8.0->sentence-transformers) (0.0.43)\n",
      "Requirement already satisfied, skipping upgrade: requests in /Users/felipe/opt/miniconda3/envs/bert/lib/python3.6/site-packages (from transformers>=2.8.0->sentence-transformers) (2.23.0)\n",
      "Requirement already satisfied, skipping upgrade: filelock in /Users/felipe/opt/miniconda3/envs/bert/lib/python3.6/site-packages (from transformers>=2.8.0->sentence-transformers) (3.0.12)\n",
      "Requirement already satisfied, skipping upgrade: future in /Users/felipe/opt/miniconda3/envs/bert/lib/python3.6/site-packages (from torch>=1.0.1->sentence-transformers) (0.18.2)\n",
      "Requirement already satisfied, skipping upgrade: six in /Users/felipe/opt/miniconda3/envs/bert/lib/python3.6/site-packages (from sacremoses->transformers>=2.8.0->sentence-transformers) (1.14.0)\n",
      "Requirement already satisfied, skipping upgrade: certifi>=2017.4.17 in /Users/felipe/opt/miniconda3/envs/bert/lib/python3.6/site-packages (from requests->transformers>=2.8.0->sentence-transformers) (2020.4.5.1)\n",
      "Requirement already satisfied, skipping upgrade: urllib3!=1.25.0,!=1.25.1,<1.26,>=1.21.1 in /Users/felipe/opt/miniconda3/envs/bert/lib/python3.6/site-packages (from requests->transformers>=2.8.0->sentence-transformers) (1.25.9)\n",
      "Requirement already satisfied, skipping upgrade: idna<3,>=2.5 in /Users/felipe/opt/miniconda3/envs/bert/lib/python3.6/site-packages (from requests->transformers>=2.8.0->sentence-transformers) (2.9)\n",
      "Requirement already satisfied, skipping upgrade: chardet<4,>=3.0.2 in /Users/felipe/opt/miniconda3/envs/bert/lib/python3.6/site-packages (from requests->transformers>=2.8.0->sentence-transformers) (3.0.4)\n"
     ]
    }
   ],
   "source": [
    "!pip install pycarol\n",
    "!pip install -U sentence-transformers"
   ]
  },
  {
   "cell_type": "code",
   "execution_count": 2,
   "metadata": {
    "colab": {},
    "colab_type": "code",
    "id": "_tMy4TDqczHh"
   },
   "outputs": [],
   "source": [
    "from pycarol import Carol, Staging, ApiKeyAuth, Storage, PwdAuth\n",
    "import pandas as pd\n",
    "import pickle\n",
    "import numpy as np\n",
    "import re\n",
    "import math"
   ]
  },
  {
   "cell_type": "code",
   "execution_count": 3,
   "metadata": {
    "colab": {},
    "colab_type": "code",
    "id": "RFV1IftLeD-1"
   },
   "outputs": [],
   "source": [
    "login_dont = Carol(domain='monitoriaqa',\n",
    "app_name=' ',\n",
    "organization='totvs',\n",
    "auth=PwdAuth('fmendes@totvs.com.br', 'Intxdx70248821*'))"
   ]
  },
  {
   "cell_type": "code",
   "execution_count": 4,
   "metadata": {
    "colab": {
     "base_uri": "https://localhost:8080/",
     "height": 34
    },
    "colab_type": "code",
    "id": "vFmEL3xUecDu",
    "outputId": "64d03f39-e900-448f-bbe5-b234bf3e108f"
   },
   "outputs": [
    {
     "name": "stderr",
     "output_type": "stream",
     "text": [
      "100%|██████████| 9/9 [02:22<00:00, 15.88s/it]\n"
     ]
    }
   ],
   "source": [
    "df = Staging(login_dont).fetch_parquet(staging_name='articles',\n",
    "                        connector_name='carol_connect_zerado',\n",
    "                        cds=True\n",
    "                        )"
   ]
  },
  {
   "cell_type": "code",
   "execution_count": 5,
   "metadata": {},
   "outputs": [],
   "source": [
    "df = df.astype(str)"
   ]
  },
  {
   "cell_type": "code",
   "execution_count": 6,
   "metadata": {
    "colab": {
     "base_uri": "https://localhost:8080/",
     "height": 34
    },
    "colab_type": "code",
    "id": "qR35FD4ulmR4",
    "outputId": "5b3d5070-d840-469f-be09-6b848147f1d7"
   },
   "outputs": [
    {
     "data": {
      "text/plain": [
       "(36332, 26)"
      ]
     },
     "execution_count": 6,
     "metadata": {},
     "output_type": "execute_result"
    }
   ],
   "source": [
    "df.shape"
   ]
  },
  {
   "cell_type": "code",
   "execution_count": 7,
   "metadata": {
    "colab": {},
    "colab_type": "code",
    "id": "5io2Da-NlgiZ"
   },
   "outputs": [],
   "source": [
    "df = df.replace('', np.nan)"
   ]
  },
  {
   "cell_type": "code",
   "execution_count": 8,
   "metadata": {
    "colab": {},
    "colab_type": "code",
    "id": "mqVg5el0enBX"
   },
   "outputs": [],
   "source": [
    "df = df[(df.source_locale == 'pt-br') & (~df.body.isnull())]"
   ]
  },
  {
   "cell_type": "code",
   "execution_count": 9,
   "metadata": {
    "colab": {},
    "colab_type": "code",
    "id": "m0sYADvPczHq"
   },
   "outputs": [],
   "source": [
    "def remove_html_tags(text):\n",
    "    \"\"\"Remove html tags from a string\"\"\"\n",
    "    clean = re.compile('<.*?>')\n",
    "    text = re.sub(clean, '', text)\n",
    "    return \" \".join(re.sub(r'\\s([?.!\"](?:\\s|$))', r'\\1', text).strip().split())"
   ]
  },
  {
   "cell_type": "code",
   "execution_count": 10,
   "metadata": {
    "colab": {},
    "colab_type": "code",
    "id": "Q4b9-kItgVvd"
   },
   "outputs": [],
   "source": [
    "def get_question(body):\n",
    "    \n",
    "    body = body.replace('\\n', '').replace('<br>', '')\n",
    "\n",
    "    m = re.search('(?<=<strong>D(ú|u)vida).*?(?=<strong>Ambiente)', body, re.IGNORECASE)\n",
    "    if m:\n",
    "        return remove_html_tags(m.group(0))\n",
    "        \n",
    "    m = re.search('(?<=<strong>Ocorr(ê|e)ncia).*?(?=<strong>Ambiente)', body, re.IGNORECASE)\n",
    "    if m:\n",
    "        return remove_html_tags(m.group(0))\n",
    "    \n",
    "    return np.nan"
   ]
  },
  {
   "cell_type": "code",
   "execution_count": 11,
   "metadata": {
    "colab": {},
    "colab_type": "code",
    "id": "IsCB__H7gYSy"
   },
   "outputs": [],
   "source": [
    "def get_question_type(body):\n",
    "    \n",
    "    body = body.replace('\\n', '').replace('<br>', '')\n",
    "\n",
    "    m = re.search('(?<=<strong>D(ú|u)vida).*?(?=<strong>Ambiente)', body, re.IGNORECASE)\n",
    "    if m:\n",
    "        return 'question'\n",
    "\n",
    "    m = re.search('(?<=<strong>Ocorr(ê|e)ncia).*?(?=<strong>Ambiente)', body, re.IGNORECASE)\n",
    "    if m:\n",
    "        return 'occurrence'\n",
    "    \n",
    "    return np.nan"
   ]
  },
  {
   "cell_type": "code",
   "execution_count": 12,
   "metadata": {
    "colab": {},
    "colab_type": "code",
    "id": "gwYQfTcLga--"
   },
   "outputs": [],
   "source": [
    "def get_environment(body):\n",
    "    \n",
    "    body = body.replace('\\n', '').replace('<br>', '')\n",
    "\n",
    "    m = re.search('(?=<strong>Ambiente).*?(?=<strong>Solu(ç|c)(ã|a)o)', body, re.IGNORECASE)\n",
    "    if not m:\n",
    "        return np.nan\n",
    "    return remove_html_tags(m.group(0))"
   ]
  },
  {
   "cell_type": "code",
   "execution_count": 13,
   "metadata": {
    "colab": {},
    "colab_type": "code",
    "id": "VPkw5F9ogd7A"
   },
   "outputs": [],
   "source": [
    "def get_solution(body):\n",
    "    \n",
    "    body = body.replace('\\n', '').replace('<br>', '')\n",
    "\n",
    "    m = re.search('(?<=<strong>Solu(ç|c)(ã|a)o)(?s)(.*$)', body, re.IGNORECASE)\n",
    "    if not m:\n",
    "        return np.nan\n",
    "    return m.group(0)"
   ]
  },
  {
   "cell_type": "code",
   "execution_count": 14,
   "metadata": {
    "colab": {},
    "colab_type": "code",
    "id": "f3cCEN-ZhGr-"
   },
   "outputs": [],
   "source": [
    "def get_sanitized_solution(body):\n",
    "    \n",
    "    body = body.replace('\\n', '').replace('<br>', '')\n",
    "\n",
    "    m = re.search('(?<=<strong>Solu(ç|c)(ã|a)o)(?s)(.*$)', body, re.IGNORECASE)\n",
    "    if not m:\n",
    "        return np.nan\n",
    "    return remove_html_tags(m.group(0))"
   ]
  },
  {
   "cell_type": "code",
   "execution_count": 15,
   "metadata": {
    "colab": {
     "base_uri": "https://localhost:8080/",
     "height": 51
    },
    "colab_type": "code",
    "id": "ruNHNLegghpQ",
    "outputId": "0b08873d-9c53-4413-b60a-bb8fc73d1d7a"
   },
   "outputs": [
    {
     "name": "stderr",
     "output_type": "stream",
     "text": [
      "/Users/felipe/opt/miniconda3/envs/bert/lib/python3.6/site-packages/ipykernel_launcher.py:5: DeprecationWarning: Flags not at the start of the expression '(?<=<strong>Solu(ç|c' (truncated)\n",
      "  \"\"\"\n"
     ]
    }
   ],
   "source": [
    "df['question'] = df.body.apply(get_question)\n",
    "df['question_type'] = df.body.apply(get_question_type)\n",
    "df['environment'] = df.body.apply(get_environment)\n",
    "df['solution'] = df.body.apply(get_solution)\n",
    "df['sanitized_solution'] = df.body.apply(get_sanitized_solution)"
   ]
  },
  {
   "cell_type": "code",
   "execution_count": 16,
   "metadata": {
    "colab": {},
    "colab_type": "code",
    "id": "X2dwj6g5xPGV"
   },
   "outputs": [],
   "source": [
    "df = df.replace('', np.nan)"
   ]
  },
  {
   "cell_type": "code",
   "execution_count": 17,
   "metadata": {
    "colab": {
     "base_uri": "https://localhost:8080/",
     "height": 479
    },
    "colab_type": "code",
    "id": "tE2oKqyrczHr",
    "outputId": "2d87799f-3c09-44ed-817e-d4d412d12d84"
   },
   "outputs": [
    {
     "data": {
      "text/html": [
       "<div>\n",
       "<style scoped>\n",
       "    .dataframe tbody tr th:only-of-type {\n",
       "        vertical-align: middle;\n",
       "    }\n",
       "\n",
       "    .dataframe tbody tr th {\n",
       "        vertical-align: top;\n",
       "    }\n",
       "\n",
       "    .dataframe thead th {\n",
       "        text-align: right;\n",
       "    }\n",
       "</style>\n",
       "<table border=\"1\" class=\"dataframe\">\n",
       "  <thead>\n",
       "    <tr style=\"text-align: right;\">\n",
       "      <th></th>\n",
       "      <th>__v</th>\n",
       "      <th>author_id</th>\n",
       "      <th>body</th>\n",
       "      <th>brand_id</th>\n",
       "      <th>brand_name</th>\n",
       "      <th>comments_disabled</th>\n",
       "      <th>created_at</th>\n",
       "      <th>draft</th>\n",
       "      <th>edited_at</th>\n",
       "      <th>html_url</th>\n",
       "      <th>...</th>\n",
       "      <th>updated</th>\n",
       "      <th>updated_at</th>\n",
       "      <th>url</th>\n",
       "      <th>vote_count</th>\n",
       "      <th>vote_sum</th>\n",
       "      <th>question</th>\n",
       "      <th>question_type</th>\n",
       "      <th>environment</th>\n",
       "      <th>solution</th>\n",
       "      <th>sanitized_solution</th>\n",
       "    </tr>\n",
       "  </thead>\n",
       "  <tbody>\n",
       "    <tr>\n",
       "      <th>0</th>\n",
       "      <td>0</td>\n",
       "      <td>19660061288.0</td>\n",
       "      <td>&lt;p&gt;&lt;br&gt;&lt;strong&gt;Dúvida&lt;/strong&gt;&lt;strong&gt;&lt;br&gt;&lt;/st...</td>\n",
       "      <td>2911068</td>\n",
       "      <td>Fluig</td>\n",
       "      <td>False</td>\n",
       "      <td>2019-08-27T16:20:33.000Z</td>\n",
       "      <td>False</td>\n",
       "      <td>2019-08-27T16:20:37.000Z</td>\n",
       "      <td>https://centraldeatendimento.fluig.com/hc/pt-b...</td>\n",
       "      <td>...</td>\n",
       "      <td>False</td>\n",
       "      <td>2019-08-27T16:20:37.000Z</td>\n",
       "      <td>https://fluigexterno.zendesk.com/api/v2/help_c...</td>\n",
       "      <td>0</td>\n",
       "      <td>0</td>\n",
       "      <td>Como faço para configurar o widget Analytics e...</td>\n",
       "      <td>question</td>\n",
       "      <td>Ambientefluig - Analytics - A partir da versão...</td>\n",
       "      <td>&lt;/strong&gt;&lt;strong&gt;&lt;/strong&gt;Siga os passos abaix...</td>\n",
       "      <td>Siga os passos abaixo para a configuração do w...</td>\n",
       "    </tr>\n",
       "    <tr>\n",
       "      <th>1</th>\n",
       "      <td>0</td>\n",
       "      <td>19660061288.0</td>\n",
       "      <td>&lt;p&gt;&lt;br&gt;&lt;strong&gt;Dúvida&lt;/strong&gt;&lt;strong&gt;&lt;br&gt;&lt;/st...</td>\n",
       "      <td>2911068</td>\n",
       "      <td>Fluig</td>\n",
       "      <td>False</td>\n",
       "      <td>2019-08-27T14:35:14.000Z</td>\n",
       "      <td>False</td>\n",
       "      <td>2019-08-27T14:36:32.000Z</td>\n",
       "      <td>https://centraldeatendimento.fluig.com/hc/pt-b...</td>\n",
       "      <td>...</td>\n",
       "      <td>False</td>\n",
       "      <td>2019-08-27T14:36:32.000Z</td>\n",
       "      <td>https://fluigexterno.zendesk.com/api/v2/help_c...</td>\n",
       "      <td>0</td>\n",
       "      <td>0</td>\n",
       "      <td>Ao tentar alterar as informações de um usuário...</td>\n",
       "      <td>question</td>\n",
       "      <td>Ambientefluig - Configuração de uso - A partir...</td>\n",
       "      <td>&lt;/strong&gt;Detectamos que essa situação também p...</td>\n",
       "      <td>Detectamos que essa situação também pode ocorr...</td>\n",
       "    </tr>\n",
       "    <tr>\n",
       "      <th>2</th>\n",
       "      <td>0</td>\n",
       "      <td>19660061288.0</td>\n",
       "      <td>&lt;p&gt;&lt;strong&gt;&lt;br&gt;Ocorrência&lt;/strong&gt;&lt;strong&gt;&lt;br&gt;...</td>\n",
       "      <td>2911068</td>\n",
       "      <td>Fluig</td>\n",
       "      <td>False</td>\n",
       "      <td>2019-08-22T17:27:14.000Z</td>\n",
       "      <td>False</td>\n",
       "      <td>2020-03-19T13:50:44.000Z</td>\n",
       "      <td>https://centraldeatendimento.fluig.com/hc/pt-b...</td>\n",
       "      <td>...</td>\n",
       "      <td>False</td>\n",
       "      <td>2020-03-19T13:50:44.000Z</td>\n",
       "      <td>https://fluigexterno.zendesk.com/api/v2/help_c...</td>\n",
       "      <td>0</td>\n",
       "      <td>0</td>\n",
       "      <td>Usei o recurso \"Esqueceu Sua Senha\", mas receb...</td>\n",
       "      <td>occurrence</td>\n",
       "      <td>Ambientefluig - Identity – Todas as versões Ca...</td>\n",
       "      <td>&lt;/strong&gt;&lt;strong&gt;&lt;/strong&gt;&lt;/p&gt;&lt;p&gt;O link de red...</td>\n",
       "      <td>O link de redefinição de senha enviado para o ...</td>\n",
       "    </tr>\n",
       "    <tr>\n",
       "      <th>3</th>\n",
       "      <td>0</td>\n",
       "      <td>19660061288.0</td>\n",
       "      <td>&lt;p&gt;&lt;br&gt;&lt;strong&gt;Dúvida&lt;/strong&gt;&lt;strong&gt;&lt;br&gt;&lt;/st...</td>\n",
       "      <td>2911068</td>\n",
       "      <td>Fluig</td>\n",
       "      <td>False</td>\n",
       "      <td>2019-10-11T20:04:52.000Z</td>\n",
       "      <td>False</td>\n",
       "      <td>2019-10-11T20:04:56.000Z</td>\n",
       "      <td>https://centraldeatendimento.fluig.com/hc/pt-b...</td>\n",
       "      <td>...</td>\n",
       "      <td>False</td>\n",
       "      <td>2019-10-11T20:20:28.000Z</td>\n",
       "      <td>https://fluigexterno.zendesk.com/api/v2/help_c...</td>\n",
       "      <td>1</td>\n",
       "      <td>1</td>\n",
       "      <td>A mensagem FLUIG_REST_CLIENT_500 é mostrada no...</td>\n",
       "      <td>question</td>\n",
       "      <td>Ambientefluig - Arquitetura e ambiente - Todas...</td>\n",
       "      <td>&lt;/strong&gt;&lt;strong&gt;&lt;/strong&gt;A inicialização dos ...</td>\n",
       "      <td>A inicialização dos serviços é assíncrona, de ...</td>\n",
       "    </tr>\n",
       "    <tr>\n",
       "      <th>4</th>\n",
       "      <td>0</td>\n",
       "      <td>365733291352.0</td>\n",
       "      <td>&lt;p&gt;&lt;strong&gt;Dúvida&lt;br&gt;&lt;/strong&gt;Um dos nossos us...</td>\n",
       "      <td>2911068</td>\n",
       "      <td>Fluig</td>\n",
       "      <td>False</td>\n",
       "      <td>2019-08-22T16:57:02.000Z</td>\n",
       "      <td>False</td>\n",
       "      <td>2019-09-13T20:08:18.000Z</td>\n",
       "      <td>https://centraldeatendimento.fluig.com/hc/pt-b...</td>\n",
       "      <td>...</td>\n",
       "      <td>False</td>\n",
       "      <td>2019-09-13T20:08:18.000Z</td>\n",
       "      <td>https://fluigexterno.zendesk.com/api/v2/help_c...</td>\n",
       "      <td>0</td>\n",
       "      <td>0</td>\n",
       "      <td>Um dos nossos usuários está cadastrado no flui...</td>\n",
       "      <td>question</td>\n",
       "      <td>Ambientefluig - Identity - A partir da versão ...</td>\n",
       "      <td>&lt;/strong&gt;O procedimento será diferente se o id...</td>\n",
       "      <td>O procedimento será diferente se o identity es...</td>\n",
       "    </tr>\n",
       "  </tbody>\n",
       "</table>\n",
       "<p>5 rows × 31 columns</p>\n",
       "</div>"
      ],
      "text/plain": [
       "  __v       author_id                                               body  \\\n",
       "0   0   19660061288.0  <p><br><strong>Dúvida</strong><strong><br></st...   \n",
       "1   0   19660061288.0  <p><br><strong>Dúvida</strong><strong><br></st...   \n",
       "2   0   19660061288.0  <p><strong><br>Ocorrência</strong><strong><br>...   \n",
       "3   0   19660061288.0  <p><br><strong>Dúvida</strong><strong><br></st...   \n",
       "4   0  365733291352.0  <p><strong>Dúvida<br></strong>Um dos nossos us...   \n",
       "\n",
       "  brand_id brand_name comments_disabled                created_at  draft  \\\n",
       "0  2911068      Fluig             False  2019-08-27T16:20:33.000Z  False   \n",
       "1  2911068      Fluig             False  2019-08-27T14:35:14.000Z  False   \n",
       "2  2911068      Fluig             False  2019-08-22T17:27:14.000Z  False   \n",
       "3  2911068      Fluig             False  2019-10-11T20:04:52.000Z  False   \n",
       "4  2911068      Fluig             False  2019-08-22T16:57:02.000Z  False   \n",
       "\n",
       "                  edited_at  \\\n",
       "0  2019-08-27T16:20:37.000Z   \n",
       "1  2019-08-27T14:36:32.000Z   \n",
       "2  2020-03-19T13:50:44.000Z   \n",
       "3  2019-10-11T20:04:56.000Z   \n",
       "4  2019-09-13T20:08:18.000Z   \n",
       "\n",
       "                                            html_url  \\\n",
       "0  https://centraldeatendimento.fluig.com/hc/pt-b...   \n",
       "1  https://centraldeatendimento.fluig.com/hc/pt-b...   \n",
       "2  https://centraldeatendimento.fluig.com/hc/pt-b...   \n",
       "3  https://centraldeatendimento.fluig.com/hc/pt-b...   \n",
       "4  https://centraldeatendimento.fluig.com/hc/pt-b...   \n",
       "\n",
       "                         ...                         updated  \\\n",
       "0                        ...                           False   \n",
       "1                        ...                           False   \n",
       "2                        ...                           False   \n",
       "3                        ...                           False   \n",
       "4                        ...                           False   \n",
       "\n",
       "                 updated_at  \\\n",
       "0  2019-08-27T16:20:37.000Z   \n",
       "1  2019-08-27T14:36:32.000Z   \n",
       "2  2020-03-19T13:50:44.000Z   \n",
       "3  2019-10-11T20:20:28.000Z   \n",
       "4  2019-09-13T20:08:18.000Z   \n",
       "\n",
       "                                                 url vote_count vote_sum  \\\n",
       "0  https://fluigexterno.zendesk.com/api/v2/help_c...          0        0   \n",
       "1  https://fluigexterno.zendesk.com/api/v2/help_c...          0        0   \n",
       "2  https://fluigexterno.zendesk.com/api/v2/help_c...          0        0   \n",
       "3  https://fluigexterno.zendesk.com/api/v2/help_c...          1        1   \n",
       "4  https://fluigexterno.zendesk.com/api/v2/help_c...          0        0   \n",
       "\n",
       "                                            question question_type  \\\n",
       "0  Como faço para configurar o widget Analytics e...      question   \n",
       "1  Ao tentar alterar as informações de um usuário...      question   \n",
       "2  Usei o recurso \"Esqueceu Sua Senha\", mas receb...    occurrence   \n",
       "3  A mensagem FLUIG_REST_CLIENT_500 é mostrada no...      question   \n",
       "4  Um dos nossos usuários está cadastrado no flui...      question   \n",
       "\n",
       "                                         environment  \\\n",
       "0  Ambientefluig - Analytics - A partir da versão...   \n",
       "1  Ambientefluig - Configuração de uso - A partir...   \n",
       "2  Ambientefluig - Identity – Todas as versões Ca...   \n",
       "3  Ambientefluig - Arquitetura e ambiente - Todas...   \n",
       "4  Ambientefluig - Identity - A partir da versão ...   \n",
       "\n",
       "                                            solution  \\\n",
       "0  </strong><strong></strong>Siga os passos abaix...   \n",
       "1  </strong>Detectamos que essa situação também p...   \n",
       "2  </strong><strong></strong></p><p>O link de red...   \n",
       "3  </strong><strong></strong>A inicialização dos ...   \n",
       "4  </strong>O procedimento será diferente se o id...   \n",
       "\n",
       "                                  sanitized_solution  \n",
       "0  Siga os passos abaixo para a configuração do w...  \n",
       "1  Detectamos que essa situação também pode ocorr...  \n",
       "2  O link de redefinição de senha enviado para o ...  \n",
       "3  A inicialização dos serviços é assíncrona, de ...  \n",
       "4  O procedimento será diferente se o identity es...  \n",
       "\n",
       "[5 rows x 31 columns]"
      ]
     },
     "execution_count": 17,
     "metadata": {},
     "output_type": "execute_result"
    }
   ],
   "source": [
    "df.head()"
   ]
  },
  {
   "cell_type": "code",
   "execution_count": 18,
   "metadata": {
    "colab": {},
    "colab_type": "code",
    "id": "X2OAA_3JhVtB"
   },
   "outputs": [],
   "source": [
    "df = df.dropna(subset=['question', 'question_type', 'environment', 'solution'])"
   ]
  },
  {
   "cell_type": "code",
   "execution_count": 19,
   "metadata": {},
   "outputs": [],
   "source": [
    "df = df.reset_index(drop=True)"
   ]
  },
  {
   "cell_type": "code",
   "execution_count": 20,
   "metadata": {
    "colab": {
     "base_uri": "https://localhost:8080/",
     "height": 34
    },
    "colab_type": "code",
    "id": "xd30dGG6czHs",
    "outputId": "c27aec52-995d-4034-9275-1609790fa0f5"
   },
   "outputs": [
    {
     "data": {
      "text/plain": [
       "32540"
      ]
     },
     "execution_count": 20,
     "metadata": {},
     "output_type": "execute_result"
    }
   ],
   "source": [
    "df['question'].count()"
   ]
  },
  {
   "cell_type": "code",
   "execution_count": 21,
   "metadata": {},
   "outputs": [],
   "source": [
    "df['id'] = df['id'].apply(lambda x: x.replace('.0', ''))"
   ]
  },
  {
   "cell_type": "code",
   "execution_count": 22,
   "metadata": {},
   "outputs": [
    {
     "data": {
      "text/plain": [
       "'360034984293'"
      ]
     },
     "execution_count": 22,
     "metadata": {},
     "output_type": "execute_result"
    }
   ],
   "source": [
    "df.iloc[0].id"
   ]
  },
  {
   "cell_type": "code",
   "execution_count": 23,
   "metadata": {},
   "outputs": [],
   "source": [
    "dupl = df[df.duplicated(['question'])]"
   ]
  },
  {
   "cell_type": "code",
   "execution_count": 24,
   "metadata": {},
   "outputs": [
    {
     "ename": "ModuleNotFoundError",
     "evalue": "No module named 'openpyxl'",
     "output_type": "error",
     "traceback": [
      "\u001b[0;31m---------------------------------------------------------------------------\u001b[0m",
      "\u001b[0;31mModuleNotFoundError\u001b[0m                       Traceback (most recent call last)",
      "\u001b[0;32m<ipython-input-24-9a76e001cb0f>\u001b[0m in \u001b[0;36m<module>\u001b[0;34m\u001b[0m\n\u001b[0;32m----> 1\u001b[0;31m \u001b[0mdupl\u001b[0m\u001b[0;34m[\u001b[0m\u001b[0;34m[\u001b[0m\u001b[0;34m'question'\u001b[0m\u001b[0;34m,\u001b[0m \u001b[0;34m'brand_id'\u001b[0m\u001b[0;34m,\u001b[0m \u001b[0;34m'label_names'\u001b[0m\u001b[0;34m,\u001b[0m \u001b[0;34m'title'\u001b[0m\u001b[0;34m,\u001b[0m \u001b[0;34m'html_url'\u001b[0m\u001b[0;34m]\u001b[0m\u001b[0;34m]\u001b[0m\u001b[0;34m.\u001b[0m\u001b[0mto_excel\u001b[0m\u001b[0;34m(\u001b[0m\u001b[0;34m'articles_with_duplicate_questions.xlsx'\u001b[0m\u001b[0;34m,\u001b[0m \u001b[0mindex\u001b[0m\u001b[0;34m=\u001b[0m\u001b[0;32mFalse\u001b[0m\u001b[0;34m)\u001b[0m\u001b[0;34m\u001b[0m\u001b[0;34m\u001b[0m\u001b[0m\n\u001b[0m",
      "\u001b[0;32m~/opt/miniconda3/envs/bert/lib/python3.6/site-packages/pandas/core/frame.py\u001b[0m in \u001b[0;36mto_excel\u001b[0;34m(self, excel_writer, sheet_name, na_rep, float_format, columns, header, index, index_label, startrow, startcol, engine, merge_cells, encoding, inf_rep, verbose, freeze_panes)\u001b[0m\n\u001b[1;32m   1764\u001b[0m         formatter.write(excel_writer, sheet_name=sheet_name, startrow=startrow,\n\u001b[1;32m   1765\u001b[0m                         \u001b[0mstartcol\u001b[0m\u001b[0;34m=\u001b[0m\u001b[0mstartcol\u001b[0m\u001b[0;34m,\u001b[0m \u001b[0mfreeze_panes\u001b[0m\u001b[0;34m=\u001b[0m\u001b[0mfreeze_panes\u001b[0m\u001b[0;34m,\u001b[0m\u001b[0;34m\u001b[0m\u001b[0;34m\u001b[0m\u001b[0m\n\u001b[0;32m-> 1766\u001b[0;31m                         engine=engine)\n\u001b[0m\u001b[1;32m   1767\u001b[0m \u001b[0;34m\u001b[0m\u001b[0m\n\u001b[1;32m   1768\u001b[0m     def to_stata(self, fname, convert_dates=None, write_index=True,\n",
      "\u001b[0;32m~/opt/miniconda3/envs/bert/lib/python3.6/site-packages/pandas/io/formats/excel.py\u001b[0m in \u001b[0;36mwrite\u001b[0;34m(self, writer, sheet_name, startrow, startcol, freeze_panes, engine)\u001b[0m\n\u001b[1;32m    644\u001b[0m             \u001b[0mneed_save\u001b[0m \u001b[0;34m=\u001b[0m \u001b[0;32mFalse\u001b[0m\u001b[0;34m\u001b[0m\u001b[0;34m\u001b[0m\u001b[0m\n\u001b[1;32m    645\u001b[0m         \u001b[0;32melse\u001b[0m\u001b[0;34m:\u001b[0m\u001b[0;34m\u001b[0m\u001b[0;34m\u001b[0m\u001b[0m\n\u001b[0;32m--> 646\u001b[0;31m             \u001b[0mwriter\u001b[0m \u001b[0;34m=\u001b[0m \u001b[0mExcelWriter\u001b[0m\u001b[0;34m(\u001b[0m\u001b[0m_stringify_path\u001b[0m\u001b[0;34m(\u001b[0m\u001b[0mwriter\u001b[0m\u001b[0;34m)\u001b[0m\u001b[0;34m,\u001b[0m \u001b[0mengine\u001b[0m\u001b[0;34m=\u001b[0m\u001b[0mengine\u001b[0m\u001b[0;34m)\u001b[0m\u001b[0;34m\u001b[0m\u001b[0;34m\u001b[0m\u001b[0m\n\u001b[0m\u001b[1;32m    647\u001b[0m             \u001b[0mneed_save\u001b[0m \u001b[0;34m=\u001b[0m \u001b[0;32mTrue\u001b[0m\u001b[0;34m\u001b[0m\u001b[0;34m\u001b[0m\u001b[0m\n\u001b[1;32m    648\u001b[0m \u001b[0;34m\u001b[0m\u001b[0m\n",
      "\u001b[0;32m~/opt/miniconda3/envs/bert/lib/python3.6/site-packages/pandas/io/excel.py\u001b[0m in \u001b[0;36m__init__\u001b[0;34m(self, path, engine, **engine_kwargs)\u001b[0m\n\u001b[1;32m    996\u001b[0m     \u001b[0;32mdef\u001b[0m \u001b[0m__init__\u001b[0m\u001b[0;34m(\u001b[0m\u001b[0mself\u001b[0m\u001b[0;34m,\u001b[0m \u001b[0mpath\u001b[0m\u001b[0;34m,\u001b[0m \u001b[0mengine\u001b[0m\u001b[0;34m=\u001b[0m\u001b[0;32mNone\u001b[0m\u001b[0;34m,\u001b[0m \u001b[0;34m**\u001b[0m\u001b[0mengine_kwargs\u001b[0m\u001b[0;34m)\u001b[0m\u001b[0;34m:\u001b[0m\u001b[0;34m\u001b[0m\u001b[0;34m\u001b[0m\u001b[0m\n\u001b[1;32m    997\u001b[0m         \u001b[0;31m# Use the openpyxl module as the Excel writer.\u001b[0m\u001b[0;34m\u001b[0m\u001b[0;34m\u001b[0m\u001b[0;34m\u001b[0m\u001b[0m\n\u001b[0;32m--> 998\u001b[0;31m         \u001b[0;32mfrom\u001b[0m \u001b[0mopenpyxl\u001b[0m\u001b[0;34m.\u001b[0m\u001b[0mworkbook\u001b[0m \u001b[0;32mimport\u001b[0m \u001b[0mWorkbook\u001b[0m\u001b[0;34m\u001b[0m\u001b[0;34m\u001b[0m\u001b[0m\n\u001b[0m\u001b[1;32m    999\u001b[0m \u001b[0;34m\u001b[0m\u001b[0m\n\u001b[1;32m   1000\u001b[0m         \u001b[0msuper\u001b[0m\u001b[0;34m(\u001b[0m\u001b[0m_OpenpyxlWriter\u001b[0m\u001b[0;34m,\u001b[0m \u001b[0mself\u001b[0m\u001b[0;34m)\u001b[0m\u001b[0;34m.\u001b[0m\u001b[0m__init__\u001b[0m\u001b[0;34m(\u001b[0m\u001b[0mpath\u001b[0m\u001b[0;34m,\u001b[0m \u001b[0;34m**\u001b[0m\u001b[0mengine_kwargs\u001b[0m\u001b[0;34m)\u001b[0m\u001b[0;34m\u001b[0m\u001b[0;34m\u001b[0m\u001b[0m\n",
      "\u001b[0;31mModuleNotFoundError\u001b[0m: No module named 'openpyxl'"
     ]
    }
   ],
   "source": [
    "dupl[['question', 'brand_id', 'label_names', 'title', 'html_url']].to_excel('articles_with_duplicate_questions.xlsx', index=False)"
   ]
  },
  {
   "cell_type": "code",
   "execution_count": null,
   "metadata": {},
   "outputs": [],
   "source": [
    "dupl.head()[['question', 'brand_id', 'label_names', 'title']]"
   ]
  },
  {
   "cell_type": "code",
   "execution_count": 89,
   "metadata": {},
   "outputs": [
    {
     "data": {
      "text/plain": [
       "'https://centraldeatendimento.fluig.com/hc/pt-br/articles/360027558711-FL-BPM-Tarefa-de-servi%C3%A7o-ass%C3%ADncrono-para-chamar-as-integra%C3%A7%C3%B5es-no-lugar-dos-eventos'"
      ]
     },
     "execution_count": 89,
     "metadata": {},
     "output_type": "execute_result"
    }
   ],
   "source": [
    "dupl.iloc[1].html_url"
   ]
  },
  {
   "cell_type": "code",
   "execution_count": 90,
   "metadata": {
    "colab": {},
    "colab_type": "code",
    "id": "M06IFXViczHu"
   },
   "outputs": [
    {
     "name": "stderr",
     "output_type": "stream",
     "text": [
      "<ipython-input-90-0571c2c7d7f7>:1: UserWarning: This pattern has match groups. To actually get the groups, use str.extract.\n",
      "  hifen = df[df.question.str.contains('((?:\\w+-)+\\w+)', regex=True)]\n"
     ]
    }
   ],
   "source": [
    "hifen = df[df.question.str.contains('((?:\\w+-)+\\w+)', regex=True)]"
   ]
  },
  {
   "cell_type": "code",
   "execution_count": 91,
   "metadata": {},
   "outputs": [
    {
     "data": {
      "text/plain": [
       "(3173, 31)"
      ]
     },
     "execution_count": 91,
     "metadata": {},
     "output_type": "execute_result"
    }
   ],
   "source": [
    "hifen.shape"
   ]
  },
  {
   "cell_type": "code",
   "execution_count": 92,
   "metadata": {},
   "outputs": [
    {
     "data": {
      "text/html": [
       "<div>\n",
       "<style scoped>\n",
       "    .dataframe tbody tr th:only-of-type {\n",
       "        vertical-align: middle;\n",
       "    }\n",
       "\n",
       "    .dataframe tbody tr th {\n",
       "        vertical-align: top;\n",
       "    }\n",
       "\n",
       "    .dataframe thead th {\n",
       "        text-align: right;\n",
       "    }\n",
       "</style>\n",
       "<table border=\"1\" class=\"dataframe\">\n",
       "  <thead>\n",
       "    <tr style=\"text-align: right;\">\n",
       "      <th></th>\n",
       "      <th>question</th>\n",
       "    </tr>\n",
       "  </thead>\n",
       "  <tbody>\n",
       "    <tr>\n",
       "      <th>9567</th>\n",
       "      <td>Rejeição 1017 - NF-e Emitido em ambiente de pr...</td>\n",
       "    </tr>\n",
       "    <tr>\n",
       "      <th>6189</th>\n",
       "      <td>S-1200 - Como informar 13º Salário para Pró-la...</td>\n",
       "    </tr>\n",
       "    <tr>\n",
       "      <th>12263</th>\n",
       "      <td>MDTA640 - THREAD ERROR invalid class MDT640EVE...</td>\n",
       "    </tr>\n",
       "    <tr>\n",
       "      <th>4174</th>\n",
       "      <td>Quais os fontes envolvidos para cancelamento d...</td>\n",
       "    </tr>\n",
       "    <tr>\n",
       "      <th>4375</th>\n",
       "      <td>Como consultar no site do eSocial dados do eve...</td>\n",
       "    </tr>\n",
       "  </tbody>\n",
       "</table>\n",
       "</div>"
      ],
      "text/plain": [
       "                                                question\n",
       "9567   Rejeição 1017 - NF-e Emitido em ambiente de pr...\n",
       "6189   S-1200 - Como informar 13º Salário para Pró-la...\n",
       "12263  MDTA640 - THREAD ERROR invalid class MDT640EVE...\n",
       "4174   Quais os fontes envolvidos para cancelamento d...\n",
       "4375   Como consultar no site do eSocial dados do eve..."
      ]
     },
     "execution_count": 92,
     "metadata": {},
     "output_type": "execute_result"
    }
   ],
   "source": [
    "hifen.sample(5)[['question']]"
   ]
  },
  {
   "cell_type": "code",
   "execution_count": 93,
   "metadata": {},
   "outputs": [
    {
     "data": {
      "text/plain": [
       "'É possível alterar o endereço de e-mail de um usuário no Identity?'"
      ]
     },
     "execution_count": 93,
     "metadata": {},
     "output_type": "execute_result"
    }
   ],
   "source": [
    "hifen.iloc[3].question"
   ]
  },
  {
   "cell_type": "code",
   "execution_count": 94,
   "metadata": {},
   "outputs": [],
   "source": [
    "hifen[['question', 'brand_id', 'label_names', 'title', 'html_url']].to_excel('articles_with_hyphenated_words_in_questions.xlsx', index=False)"
   ]
  },
  {
   "cell_type": "code",
   "execution_count": 95,
   "metadata": {},
   "outputs": [],
   "source": [
    "target = Carol(domain='mendes',\n",
    "app_name='searchskill',\n",
    "organization='datascience',\n",
    "auth=ApiKeyAuth('bf56760357424b60ae9558bcf9f090c2'),\n",
    "connector_id='175e781f1cce470eb0457323430f1407')"
   ]
  },
  {
   "cell_type": "code",
   "execution_count": 96,
   "metadata": {},
   "outputs": [],
   "source": [
    "target_stag = Staging(target)"
   ]
  },
  {
   "cell_type": "code",
   "execution_count": 97,
   "metadata": {},
   "outputs": [
    {
     "name": "stderr",
     "output_type": "stream",
     "text": [
      "<ipython-input-97-33f5a54b4626>:1: DeprecationWarning: fields_dict will be deprecated, use `data`\n",
      "  target_stag.send_data(staging_name='articles', connector_id='175e781f1cce470eb0457323430f1407', data=df,\n"
     ]
    },
    {
     "name": "stdout",
     "output_type": "stream",
     "text": [
      "provided crosswalk  ['idinternalmdb']\n",
      "32540/32540 sent\r"
     ]
    }
   ],
   "source": [
    "target_stag.send_data(staging_name='articles', connector_id='175e781f1cce470eb0457323430f1407', data=df,\n",
    "                             crosswalk_auto_create=['idinternalmdb'], auto_create_schema=True)"
   ]
  },
  {
   "cell_type": "markdown",
   "metadata": {},
   "source": [
    "### Get sentence embeddings"
   ]
  },
  {
   "cell_type": "code",
   "execution_count": null,
   "metadata": {
    "colab": {},
    "colab_type": "code",
    "id": "_z9RFgyqHAek"
   },
   "outputs": [],
   "source": [
    "from sentence_transformers import SentenceTransformer"
   ]
  },
  {
   "cell_type": "code",
   "execution_count": null,
   "metadata": {},
   "outputs": [],
   "source": [
    "# Load Sentence model (based on BERT) from URL\n",
    "model = SentenceTransformer('distiluse-base-multilingual-cased')"
   ]
  },
  {
   "cell_type": "code",
   "execution_count": null,
   "metadata": {
    "colab": {
     "base_uri": "https://localhost:8080/",
     "height": 1000
    },
    "colab_type": "code",
    "id": "KADDlQLjGpmj",
    "outputId": "df5d8794-4574-4995-a2f8-e52855bc7be1"
   },
   "outputs": [],
   "source": [
    "# Embed a list of sentences\n",
    "sentence_embeddings = model.encode(df.question.values)"
   ]
  },
  {
   "cell_type": "code",
   "execution_count": null,
   "metadata": {},
   "outputs": [],
   "source": [
    "len(sentence_embeddings)"
   ]
  },
  {
   "cell_type": "code",
   "execution_count": null,
   "metadata": {},
   "outputs": [],
   "source": [
    "id_list = df['id'].values"
   ]
  },
  {
   "cell_type": "code",
   "execution_count": null,
   "metadata": {},
   "outputs": [],
   "source": [
    "len(id_list)"
   ]
  },
  {
   "cell_type": "code",
   "execution_count": null,
   "metadata": {},
   "outputs": [],
   "source": [
    "index_to_question_id_mapping = dict(enumerate(id_list))\n",
    "question_id_to_index_mapping = {j: i for i,j in index_to_question_id_mapping.items()} "
   ]
  },
  {
   "cell_type": "markdown",
   "metadata": {},
   "source": [
    "### Save objects in Storage"
   ]
  },
  {
   "cell_type": "code",
   "execution_count": null,
   "metadata": {},
   "outputs": [],
   "source": [
    "stg = Storage(target)"
   ]
  },
  {
   "cell_type": "code",
   "execution_count": null,
   "metadata": {},
   "outputs": [],
   "source": [
    "def save_object_to_storage(obj, filename):\n",
    "    with open(filename, \"bw\") as f:\n",
    "        pickle.dump(obj, f)\n",
    "    stg.save(filename, obj, format='pickle')"
   ]
  },
  {
   "cell_type": "code",
   "execution_count": null,
   "metadata": {},
   "outputs": [],
   "source": [
    "save_object_to_storage(sentence_embeddings, 'sentence_embeddings')"
   ]
  },
  {
   "cell_type": "code",
   "execution_count": null,
   "metadata": {},
   "outputs": [],
   "source": [
    "save_object_to_storage(index_to_question_id_mapping, 'index_to_question_id_mapping')"
   ]
  },
  {
   "cell_type": "code",
   "execution_count": null,
   "metadata": {},
   "outputs": [],
   "source": [
    "save_object_to_storage(question_id_to_index_mapping, 'question_id_to_index_mapping')"
   ]
  },
  {
   "cell_type": "code",
   "execution_count": 1,
   "metadata": {},
   "outputs": [
    {
     "name": "stdout",
     "output_type": "stream",
     "text": [
      "Python 3.8.2\n"
     ]
    }
   ],
   "source": [
    "!python --version"
   ]
  },
  {
   "cell_type": "code",
   "execution_count": 1,
   "metadata": {
    "colab": {},
    "colab_type": "code",
    "id": "_z9RFgyqHAek"
   },
   "outputs": [],
   "source": [
    "from sentence_transformers import SentenceTransformer, LoggingHandler"
   ]
  },
  {
   "cell_type": "code",
   "execution_count": 2,
   "metadata": {},
   "outputs": [],
   "source": [
    "# Load Sentence model (based on BERT) from URL\n",
    "model = SentenceTransformer('distiluse-base-multilingual-cased')"
   ]
  },
  {
   "cell_type": "code",
   "execution_count": 4,
   "metadata": {},
   "outputs": [],
   "source": [
    "import pickle"
   ]
  },
  {
   "cell_type": "code",
   "execution_count": 5,
   "metadata": {},
   "outputs": [
    {
     "name": "stderr",
     "output_type": "stream",
     "text": [
      "/Users/felipe/opt/miniconda3/envs/recommendation/lib/python3.8/site-packages/torch/storage.py:34: FutureWarning: pickle support for Storage will be removed in 1.5. Use `torch.save` instead\n",
      "  warnings.warn(\"pickle support for Storage will be removed in 1.5. Use `torch.save` instead\", FutureWarning)\n"
     ]
    }
   ],
   "source": [
    "with open('encoder', \"bw\") as f:\n",
    "    pickle.dump(model, f)"
   ]
  },
  {
   "cell_type": "raw",
   "metadata": {
    "colab": {
     "base_uri": "https://localhost:8080/",
     "height": 1000
    },
    "colab_type": "code",
    "id": "KADDlQLjGpmj",
    "outputId": "df5d8794-4574-4995-a2f8-e52855bc7be1"
   },
   "source": [
    "# Embed a list of sentences\n",
    "sentence_embeddings = model.encode(questions)\n",
    "\n",
    "# The result is a list of sentence embeddings as numpy arrays\n",
    "for sentence, embedding in zip(questions[:1], sentence_embeddings[:1]):\n",
    "    print(\"Sentence:\", sentence)\n",
    "    print(\"Embedding:\", embedding)\n",
    "    print(\"\")"
   ]
  },
  {
   "cell_type": "code",
   "execution_count": 22,
   "metadata": {},
   "outputs": [],
   "source": [
    "sentence_embeddings = pickle.load(open(\"sentence_embeddings\", \"rb\"))"
   ]
  },
  {
   "cell_type": "code",
   "execution_count": null,
   "metadata": {},
   "outputs": [],
   "source": [
    "df.index"
   ]
  },
  {
   "cell_type": "code",
   "execution_count": 28,
   "metadata": {},
   "outputs": [
    {
     "data": {
      "text/plain": [
       "\"Após configurar HTTPS no fluig, ao acessá-lo pelo aplicativo fluig Mobile e informar servidor de conexão é apresentado o erro 'Falha na comunicação'.\""
      ]
     },
     "execution_count": 28,
     "metadata": {},
     "output_type": "execute_result"
    }
   ],
   "source": [
    "df.iloc[12].question"
   ]
  },
  {
   "cell_type": "raw",
   "metadata": {
    "colab": {},
    "colab_type": "code",
    "id": "18qUpSfGXoIg"
   },
   "source": [
    "query = 'erro de falha de comunicação ao acessar o aplicativo fluig mobile'"
   ]
  },
  {
   "cell_type": "raw",
   "metadata": {},
   "source": [
    "query_vec = model.encode([query])"
   ]
  },
  {
   "cell_type": "raw",
   "metadata": {
    "colab": {},
    "colab_type": "code",
    "id": "5aTNaRWeG69x"
   },
   "source": [
    "# compute normalized dot product as score\n",
    "score = np.sum(query_vec[0] * sentence_embeddings, axis=1) / np.linalg.norm(sentence_embeddings, axis=1)\n",
    "topk_idx = np.argsort(score)[::-1]"
   ]
  },
  {
   "cell_type": "code",
   "execution_count": 144,
   "metadata": {
    "colab": {},
    "colab_type": "code",
    "id": "5aTNaRWeG69x"
   },
   "outputs": [],
   "source": [
    "def get_most_similar_question(query):\n",
    "\n",
    "    query_vec = model.encode([query])\n",
    "    k = 5\n",
    "\n",
    "    # compute normalized dot product as score\n",
    "    score = np.sum(query_vec[0] * sentence_embeddings, axis=1) / np.linalg.norm(sentence_embeddings, axis=1)\n",
    "    topk_scores = np.sort(score)[::-1]\n",
    "    topk_idx = np.argsort(score)[::-1]\n",
    "    return topk_idx[:k], topk_scores[:k]"
   ]
  },
  {
   "cell_type": "code",
   "execution_count": 119,
   "metadata": {},
   "outputs": [],
   "source": [
    "#size = np.int32(np.floor(0.2 * questions.shape[0]))\n",
    "size = 100\n",
    "\n",
    "indices = np.random.choice(\n",
    "    df.question.index, \n",
    "    replace=False,\n",
    "    size=size\n",
    ").tolist()"
   ]
  },
  {
   "cell_type": "code",
   "execution_count": 71,
   "metadata": {},
   "outputs": [],
   "source": [
    "questions = []"
   ]
  },
  {
   "cell_type": "code",
   "execution_count": 93,
   "metadata": {},
   "outputs": [
    {
     "data": {
      "text/plain": [
       "'Solicito uma função para conversão de um arquivo .doc para .PDF'"
      ]
     },
     "execution_count": 93,
     "metadata": {},
     "output_type": "execute_result"
    }
   ],
   "source": [
    "df.iloc[indices[9]].question"
   ]
  },
  {
   "cell_type": "code",
   "execution_count": 94,
   "metadata": {},
   "outputs": [],
   "source": [
    "questions.append('função para converter arquivo doc para pdf')"
   ]
  },
  {
   "cell_type": "code",
   "execution_count": 97,
   "metadata": {},
   "outputs": [
    {
     "data": {
      "text/plain": [
       "10"
      ]
     },
     "execution_count": 97,
     "metadata": {},
     "output_type": "execute_result"
    }
   ],
   "source": [
    "len(questions)"
   ]
  },
  {
   "cell_type": "raw",
   "metadata": {},
   "source": [
    "with open('questions', \"bw\") as f:\n",
    "        pickle.dump(questions, f)"
   ]
  },
  {
   "cell_type": "code",
   "execution_count": 145,
   "metadata": {},
   "outputs": [
    {
     "data": {
      "text/plain": [
       "(array([ 4270, 23653, 14174, 26242, 27618]),\n",
       " array([0.64584833, 0.60263   , 0.5729962 , 0.54728776, 0.54643303],\n",
       "       dtype=float32))"
      ]
     },
     "execution_count": 145,
     "metadata": {},
     "output_type": "execute_result"
    }
   ],
   "source": [
    "get_most_similar_question('adicionar transportadora nas notas fiscais geradas na rotina 1322')"
   ]
  },
  {
   "cell_type": "code",
   "execution_count": 150,
   "metadata": {},
   "outputs": [
    {
     "data": {
      "text/plain": [
       "'Como inserir transportadora em notas fiscais geradas pela rotina 1322 - Simples Remessa Baixando Estoque.'"
      ]
     },
     "execution_count": 150,
     "metadata": {},
     "output_type": "execute_result"
    }
   ],
   "source": [
    "df.iloc[4270].question"
   ]
  },
  {
   "cell_type": "code",
   "execution_count": 126,
   "metadata": {
    "colab": {
     "base_uri": "https://localhost:8080/",
     "height": 51
    },
    "colab_type": "code",
    "id": "ar5LKi8BX52w",
    "outputId": "94f86a9e-5b1f-4913-8d49-f323da4964a2"
   },
   "outputs": [
    {
     "name": "stdout",
     "output_type": "stream",
     "text": [
      "0.645848274230957 - 0.645848274230957\n",
      "0.6026300191879272 - 0.6026300191879272\n",
      "0.5729961395263672 - 0.5729961395263672\n",
      "0.5472877025604248 - 0.5472877025604248\n",
      "0.5464330315589905 - 0.5464330315589905\n",
      "0.5448733568191528 - 0.5448733568191528\n",
      "0.5358591079711914 - 0.5358591079711914\n",
      "0.531542956829071 - 0.531542956829071\n",
      "0.5271217823028564 - 0.5271217823028564\n",
      "0.5169530510902405 - 0.5169530510902405\n",
      "adicionar transportadora nas notas fiscais geradas na rotina 1322\n",
      "17835 - Por que um determinado lançamento não é apresentado na rotina 723?\n",
      "4270 - Como inserir transportadora em notas fiscais geradas pela rotina 1322 - Simples Remessa Baixando Estoque.\n",
      "0.5572085976600647 - 0.5572085976600647\n",
      "0.5351568460464478 - 0.5351568460464478\n",
      "0.5280529856681824 - 0.5280529856681824\n",
      "0.5269234776496887 - 0.5269234776496887\n",
      "0.5140586495399475 - 0.5140586495399475\n",
      "0.5049834847450256 - 0.5049834847450256\n",
      "0.49780139327049255 - 0.49780139327049255\n",
      "0.4954758882522583 - 0.4954758882522583\n",
      "0.49390849471092224 - 0.49390849471092224\n",
      "0.48328182101249695 - 0.48328182101249695\n",
      "preciso do meu relatório de clientes\n",
      "3300 - Como realizar uma copia de Sindicato entre coligadas?\n",
      "3884 - Como gerar um relatório que faça a listagem dos clientes cadastrados?\n",
      "0.7459278702735901 - 0.7459278702735901\n",
      "0.4588412046432495 - 0.4588412046432495\n",
      "0.4499703347682953 - 0.4499703347682953\n",
      "0.4455932676792145 - 0.4455932676792145\n",
      "0.4353722333908081 - 0.4353722333908081\n",
      "0.4294399321079254 - 0.4294399321079254\n",
      "0.42894628643989563 - 0.42894628643989563\n",
      "0.42738378047943115 - 0.42738378047943115\n",
      "0.42620596289634705 - 0.42620596289634705\n",
      "0.4254598021507263 - 0.4254598021507263\n",
      "preciso deletar a data de fechamento do inventário no software LF0201\n",
      "16271 - Como Cadastar/Excluir uma Categoria?\n",
      "26436 - Como apagar a data de fechamento do Inventário no programa LF0201?\n",
      "0.5240232348442078 - 0.5240232348442078\n",
      "0.49790653586387634 - 0.49790653586387634\n",
      "0.49504104256629944 - 0.49504104256629944\n",
      "0.4725293219089508 - 0.4725293219089508\n",
      "0.4682658910751343 - 0.4682658910751343\n",
      "0.4564697742462158 - 0.4564697742462158\n",
      "0.456234872341156 - 0.456234872341156\n",
      "0.45521220564842224 - 0.45521220564842224\n",
      "0.4498310089111328 - 0.4498310089111328\n",
      "0.44310253858566284 - 0.44310253858566284\n",
      "explicação sobre a rotina 2039\n",
      "10075 - Durante a inclusão de movimentos no sistema, ocorre o erro \"Nao existe nenhuma Glosa vinculada a classe de erro:\" juntamente com o código da classe de erro que gerou esta situação. Conforme o exemplo mencionado abaixo, onde o código 153 representa a classe de erro e o código 10101012 o código do procedimento:\"Nao existe nenhuma Glosa vinculada a classe de erro: 153 API/rcapi021 10101012\"\n",
      "17518 - Como utilizar a rotina 2024?\n",
      "0.5963812470436096 - 0.5963812470436096\n",
      "0.5896818041801453 - 0.5896818041801453\n",
      "0.5710474252700806 - 0.5710474252700806\n",
      "0.5683428645133972 - 0.5683428645133972\n",
      "0.5636336803436279 - 0.5636336803436279\n",
      "0.5483050346374512 - 0.5483050346374512\n",
      "0.5437726378440857 - 0.5437726378440857\n",
      "0.5405083894729614 - 0.5405083894729614\n",
      "0.5369815230369568 - 0.5369815230369568\n",
      "0.535049319267273 - 0.535049319267273\n",
      "erro ao imprimir nota fiscal danfe na rotina 1452\n",
      "10148 - eSocial - Simplificação: eSocial substitui informações para RAIS e CAGED - o que muda no Protheus?\n",
      "31953 - O que fazer quando a rotina 1452 não imprimir as notas e não apresentar mensagem de erro?\n",
      "0.7325006723403931 - 0.7325006723403931\n",
      "0.5225950479507446 - 0.5225950479507446\n",
      "0.5141765475273132 - 0.5141765475273132\n",
      "0.4801000654697418 - 0.4801000654697418\n",
      "0.4477766752243042 - 0.4477766752243042\n",
      "0.44772058725357056 - 0.44772058725357056\n",
      "0.4392022490501404 - 0.4392022490501404\n",
      "0.43122681975364685 - 0.43122681975364685\n",
      "0.42909207940101624 - 0.42909207940101624\n",
      "0.4216732084751129 - 0.4216732084751129\n",
      "erro de indica na tabela sn3\n",
      "24389 - Como permitir o desdobramento/agrupamento de títulos de clientes diferentes?\n",
      "10759 - Ocorre erro referente ao índice na tabela SN3, o que fazer?\n",
      "0.6059661507606506 - 0.6059661507606506\n",
      "0.5131093263626099 - 0.5131093263626099\n",
      "0.5028874278068542 - 0.5028874278068542\n",
      "0.48428472876548767 - 0.48428472876548767\n",
      "0.46297475695610046 - 0.46297475695610046\n",
      "0.46197637915611267 - 0.46197637915611267\n",
      "0.4592832922935486 - 0.4592832922935486\n",
      "0.4443565607070923 - 0.4443565607070923\n",
      "0.43510228395462036 - 0.43510228395462036\n",
      "0.433514267206192 - 0.433514267206192\n",
      "transferencia de bens na mesma empresa\n",
      "31190 - Como é realizada a contabilização de uma Nota Fiscal de Devolução a Fornecedor?\n",
      "17132 - Como efetuar a transferência de bens entre empresas?\n",
      "0.6349358558654785 - 0.6349358558654785\n",
      "0.6232276558876038 - 0.6232276558876038\n",
      "0.5543155670166016 - 0.5543155670166016\n",
      "0.5448984503746033 - 0.5448984503746033\n",
      "0.5292785167694092 - 0.5292785167694092\n",
      "0.5072128772735596 - 0.5072128772735596\n",
      "0.5046584606170654 - 0.5046584606170654\n",
      "0.49342983961105347 - 0.49342983961105347\n",
      "0.48716461658477783 - 0.48716461658477783\n",
      "0.4842483401298523 - 0.4842483401298523\n",
      "pedir frete no pedido de vendida da rotina 4116\n",
      "14416 - Como realizar entrada Tipo N na rotina 3010?\n",
      "26802 - Como solicitar frete na digitação do pedido de venda na rotina 4116?\n",
      "0.869260311126709 - 0.869260311126709\n",
      "0.4508129060268402 - 0.4508129060268402\n",
      "0.4208657145500183 - 0.4208657145500183\n",
      "0.41203629970550537 - 0.41203629970550537\n",
      "0.39657139778137207 - 0.39657139778137207\n",
      "0.39282217621803284 - 0.39282217621803284\n",
      "0.3922751247882843 - 0.3922751247882843\n",
      "0.38762524724006653 - 0.38762524724006653\n",
      "0.38596463203430176 - 0.38596463203430176\n",
      "0.3761090040206909 - 0.3761090040206909\n",
      "preencher automaticamente o endereço na FNRH\n",
      "28683 - Como corrigir o erro \"Parameter buffer for p- table in externos/ems5/triggers/twemprdz.p not matched by caller.\" exibido ao realizar alguma alteração no programa Exercício Contábil (bas_exerc_ctbl)?\n",
      "15121 - Preenchimento automático do endereço na FNRH\n",
      "0.8911898732185364 - 0.8911898732185364\n",
      "0.7036350965499878 - 0.7036350965499878\n",
      "0.6305792331695557 - 0.6305792331695557\n",
      "0.5921000242233276 - 0.5921000242233276\n",
      "0.5817390084266663 - 0.5817390084266663\n",
      "0.5606629848480225 - 0.5606629848480225\n",
      "0.5563789010047913 - 0.5563789010047913\n",
      "0.5478231906890869 - 0.5478231906890869\n",
      "0.5377299189567566 - 0.5377299189567566\n",
      "0.5292876958847046 - 0.5292876958847046\n",
      "função para converter arquivo doc para pdf\n",
      "19514 - Ao gerar o SPEDFISCAL com a opção BLOCO K = SIM ocorre o erro:array out of bounds ( 1 of 0 ) on BLOCOK(SPEDXFUN.PRW)\n",
      "17717 - Solicito uma função para conversão de um arquivo .doc para .PDF\n"
     ]
    }
   ],
   "source": [
    "for i, query in enumerate(questions):\n",
    "    raw_query = df.iloc[indices[i]].question\n",
    "    most_similar = get_most_similar_question(query)\n",
    "    if most_similar != i:\n",
    "        print(f'{query}')\n",
    "        print(f'{indices[i]} - {raw_query}')\n",
    "        print(f'{most_similar} - {df.iloc[most_similar].question}')"
   ]
  },
  {
   "cell_type": "code",
   "execution_count": 115,
   "metadata": {},
   "outputs": [
    {
     "data": {
      "text/plain": [
       "'https://centraldeatendimento.totvs.com/hc/pt-br/articles/360035902474-LG-PAT-Formas-de-transfer%C3%AAncia-de-um-bem-para-outro-na-mesma-empresa'"
      ]
     },
     "execution_count": 115,
     "metadata": {},
     "output_type": "execute_result"
    }
   ],
   "source": [
    "df.iloc[23587].html_url"
   ]
  },
  {
   "cell_type": "code",
   "execution_count": 114,
   "metadata": {},
   "outputs": [
    {
     "data": {
      "text/plain": [
       "'https://centraldeatendimento.totvs.com/hc/pt-br/articles/360025943751-LG-PAT-Como-efetuar-a-transfer%C3%AAncia-de-bens-entre-empresas'"
      ]
     },
     "execution_count": 114,
     "metadata": {},
     "output_type": "execute_result"
    }
   ],
   "source": [
    "df.iloc[17132].html_url"
   ]
  },
  {
   "cell_type": "code",
   "execution_count": 112,
   "metadata": {},
   "outputs": [
    {
     "data": {
      "text/plain": [
       "'https://centraldeatendimento.totvs.com/hc/pt-br/articles/360045420414-WINT-Como-utilizar-a-rotina-2039-Cadastro-de-Finalizadora'"
      ]
     },
     "execution_count": 112,
     "metadata": {},
     "output_type": "execute_result"
    }
   ],
   "source": [
    "df.iloc[1527].html_url"
   ]
  },
  {
   "cell_type": "code",
   "execution_count": 125,
   "metadata": {},
   "outputs": [],
   "source": [
    "from pycarol import Query"
   ]
  },
  {
   "cell_type": "code",
   "execution_count": 113,
   "metadata": {},
   "outputs": [],
   "source": [
    "from pycarol.filter import Filter, TYPE_FILTER, TERMS_FILTER"
   ]
  },
  {
   "cell_type": "code",
   "execution_count": 151,
   "metadata": {},
   "outputs": [],
   "source": [
    "def get_similar_questions(model, sentence_embeddings, query, k):\n",
    "    query_vec = model.encode([query])\n",
    "    score = np.sum(query_vec[0] * sentence_embeddings, axis=1) / np.linalg.norm(sentence_embeddings, axis=1)\n",
    "    topk_scores = np.sort(score)[::-1]\n",
    "    topk_idx = np.argsort(score)[::-1]\n",
    "    print(topk_idx[:k], topk_scores[:k])\n",
    "    return list(topk_idx[:k]), list(topk_scores[:k])"
   ]
  },
  {
   "cell_type": "code",
   "execution_count": 131,
   "metadata": {},
   "outputs": [],
   "source": [
    "def get_questions_by_ids(question_ids):\n",
    "    dm_name = 'articles'\n",
    "    query_filter = Filter.Builder().must(TYPE_FILTER(value=f'{dm_name}Golden')) \\\n",
    "        .must(TERMS_FILTER(key='mdmGoldenFieldAndValues.id.raw', value=question_ids)).build().to_json()\n",
    "    page_size=1000\n",
    "    return Query(target, page_size=page_size).query(query_filter).go().results"
   ]
  },
  {
   "cell_type": "code",
   "execution_count": 165,
   "metadata": {},
   "outputs": [],
   "source": [
    "def query(query):\n",
    "    k = 5\n",
    "    topk_idx, topk_scores = get_similar_questions(model, sentence_embeddings, query, k)\n",
    "    question_ids = [index_to_question_id_mapping[idx] for idx in topk_idx]\n",
    "    results = get_questions_by_ids(question_ids)\n",
    "    response = ''\n",
    "    for i, question_id in enumerate(question_ids):\n",
    "        result = [result for result in results if result['id'] == question_id][0]\n",
    "        response = response + 'Pergunta similar: ' + result['question'] + '\\n'\n",
    "        response = response + 'Resposta: ' + result['solution'] + '\\n'\n",
    "        response = response + 'Score: ' + str(topk_scores[topk_idx.index(question_id_to_index_mapping[question_id])])\n",
    "        if i != 4:\n",
    "            response = response +  '\\n\\n'\n",
    "    # for i, idx in enumerate(topk_idx):\n",
    "    #     question_id = index_to_question_id_mapping[idx]\n",
    "    #     question = get_question_by_id(question_id)[0]\n",
    "    #     response = response + 'Pergunta similar: ' + question.question + '\\n'\n",
    "    #     response = response + 'Resposta: ' + question.solution + '\\n'\n",
    "    #     response = response + 'Score: ' + topk_scores[i]\n",
    "    #     if i != 4:\n",
    "    #         response = response +  '\\n\\n'\n",
    "    return {'response': response}"
   ]
  },
  {
   "cell_type": "code",
   "execution_count": 166,
   "metadata": {},
   "outputs": [
    {
     "name": "stdout",
     "output_type": "stream",
     "text": [
      "[ 4270 23653 14174 26242 27618] [0.64584833 0.60263    0.5729962  0.54728776 0.54643303]\n",
      "5/5\r"
     ]
    },
    {
     "data": {
      "text/plain": [
       "{'response': 'Pergunta similar: Como inserir transportadora em notas fiscais geradas pela rotina 1322 - Simples Remessa Baixando Estoque.\\nResposta: </strong><strong></strong>A rotina <strong>1322</strong> grava a <strong>Transportadora Padrão</strong> nas notas fiscais quando o parâmetro\\xa0<strong>2159-Utilizar transportador padrão</strong> da rotina <strong>132-Parâmetros da Presidência</strong> (configuração por filial) está marcado como\\xa0<strong>Sim</strong>, lembrando que os dados da transportadora devem ser cadastrados na rotina<strong> 535-Cadastro de Filiais</strong> aba <strong>Dados da Transportadora</strong>.</p><p>Essas informações serão destacadas na rotina<strong> 1452-Emitir documento eletrônico</strong>, no campo <strong>Transportador/Volumes Transportados</strong>.</p>\\nScore: 0.64584833\\n\\nPergunta similar: Ao gerar uma transferência na rotina 1436 - Gerar nota fiscal de transferência para depósito\\nResposta: </strong><strong></strong><span>Para resolver essa mensagem, realize o cadastro da tributação fiscal conforme os passos disponíveis no link<a href=\"https://centraldeatendimento.totvs.com/hc/pt-br/articles/360026118971\" target=\"_blank\" rel=\"noopener\">\\xa0</a></span><a href=\"https://centraldeatendimento.totvs.com/hc/pt-br/articles/360026118971\" target=\"_blank\" rel=\"noopener\">Como cadastrar tributação nos produtos na rotina 271</a>.</p><p>\\xa0</p><p>\\xa0</p><p>\\xa0</p><p>\\xa0</p>\\nScore: 0.60263\\n\\nPergunta similar: Como incluir mensagens de observação na nota fiscal na rotina 1322?\\nResposta: </strong><strong></strong></p><p>1. Acesse a rotina\\xa0<strong>1322<span>\\xa0</span></strong>e realize\\xa0os processos de inclusão de itens, tributação e contas a receber;</p><p>2. Na aba\\xa0<strong>Itens</strong>, clique o botão\\xa0<strong>Observações Adicionais</strong>;</p><p><img src=\"https://centraldeatendimento.totvs.com/hc/article_attachments/360028011152/image2017-9-14_11_9_53.png\" alt=\"image2017-9-14_11_9_53.png\" width=\"705\" height=\"533\"></p><p>3. Será apresentada tela\\xa0<strong>Observações</strong>\\xa0para inclusão das mensagens. Para aparecer mais linhas, pressione seta para baixo em seu teclado;</p><p>4. Clique o botão\\xa0<strong>OK\\xa0</strong>para salvar a mensagem inserida;</p><p><img src=\"https://centraldeatendimento.totvs.com/hc/article_attachments/360028004891/10.gif\" alt=\"10.gif\" width=\"696\" height=\"528\"></p><p>5. Em seguida clique o botão\\xa0<strong>Gravar\\xa0</strong>para finalizar o processo.</p>\\nScore: 0.5729962\\n\\nPergunta similar: Como adicionar o valor de frete na rotina 1322?\\nResposta: </strong><strong></strong>Não é possível adicionar o valor de frete através da rotina <strong>1322</strong>-\\xa0<strong>Simples Remessa Baixando Estoque</strong>. Neste caso, realize o rateio do frete entre os itens.</p>\\nScore: 0.54728776\\n\\nPergunta similar: O que fazer para que a rotina 1322 permita a emissão de notas fiscais incluindo contas a receber?\\nResposta: </strong><strong></strong></p><p>Para que a rotina<span>\\xa0</span><strong>1322</strong>\\xa0permita a emissão de notas fiscais de simples remessa com a possibilidade de se incluir um Contas a Receber para o cliente,\\xa0siga as orientações abaixo:</p><p><span>1.\\xa0 Acesse a rotina<strong>\\xa01322</strong>\\xa0e clique o botão\\xa0<strong>Novo</strong>;</span><span>2. Preencha as informações conforme a necessidade;</span><span>3. Na aba\\xa0<strong>Contas a Receber</strong>, informe\\xa0</span>o código da cobrança em\\xa0<strong>Cód. Cob</strong>., a\\xa0<strong>Dt. Vencto</strong><span>\\xa0</span>e o\\xa0<strong>Valor</strong>.<span>4 Clique\\xa0<strong>Gravar</strong>.<img src=\"https://centraldeatendimento.totvs.com/hc/article_attachments/360043555693/mceclip0.png\" alt=\"mceclip0.png\"></span><span></span></p>\\nScore: 0.54643303'}"
      ]
     },
     "execution_count": 166,
     "metadata": {},
     "output_type": "execute_result"
    }
   ],
   "source": [
    "query('adicionar transportadora nas notas fiscais geradas na rotina 1322')"
   ]
  },
  {
   "cell_type": "code",
   "execution_count": 2,
   "metadata": {},
   "outputs": [],
   "source": [
    "import requests"
   ]
  },
  {
   "cell_type": "code",
   "execution_count": 3,
   "metadata": {},
   "outputs": [],
   "source": [
    "query = 'adicionar transportadora nas notas fiscais geradas na rotina 1322'"
   ]
  },
  {
   "cell_type": "code",
   "execution_count": 176,
   "metadata": {},
   "outputs": [
    {
     "name": "stdout",
     "output_type": "stream",
     "text": [
      "Python 3.8.2\n"
     ]
    }
   ],
   "source": [
    "!python --version"
   ]
  },
  {
   "cell_type": "code",
   "execution_count": 8,
   "metadata": {},
   "outputs": [
    {
     "name": "stdout",
     "output_type": "stream",
     "text": [
      "<Response [200]>\n",
      "{\"response\":[{\"content\":\"Pergunta similar: Como inserir transportadora em notas fiscais geradas pela rotina 1322 - Simples Remessa Baixando Estoque.\\nResposta: </strong><strong></strong>A rotina <strong>1322</strong> grava a <strong>Transportadora Padr\\u00e3o</strong> nas notas fiscais quando o par\\u00e2metro\\u00a0<strong>2159-Utilizar transportador padr\\u00e3o</strong> da rotina <strong>132-Par\\u00e2metros da Presid\\u00eancia</strong> (configura\\u00e7\\u00e3o por filial) est\\u00e1 marcado como\\u00a0<strong>Sim</strong>, lembrando que os dados da transportadora devem ser cadastrados na rotina<strong> 535-Cadastro de Filiais</strong> aba <strong>Dados da Transportadora</strong>.</p><p>Essas informa\\u00e7\\u00f5es ser\\u00e3o destacadas na rotina<strong> 1452-Emitir documento eletr\\u00f4nico</strong>, no campo <strong>Transportador/Volumes Transportados</strong>.</p>\\nScore: 0.64584833\\n\\n\",\"type\":\"text\"},{\"content\":\"Pergunta similar: Ao gerar uma transfer\\u00eancia na rotina 1436 - Gerar nota fiscal de transfer\\u00eancia para dep\\u00f3sito\\nResposta: </strong><strong></strong><span>Para resolver essa mensagem, realize o cadastro da tributa\\u00e7\\u00e3o fiscal conforme os passos dispon\\u00edveis no link<a href=\\\"https://centraldeatendimento.totvs.com/hc/pt-br/articles/360026118971\\\" target=\\\"_blank\\\" rel=\\\"noopener\\\">\\u00a0</a></span><a href=\\\"https://centraldeatendimento.totvs.com/hc/pt-br/articles/360026118971\\\" target=\\\"_blank\\\" rel=\\\"noopener\\\">Como cadastrar tributa\\u00e7\\u00e3o nos produtos na rotina 271</a>.</p><p>\\u00a0</p><p>\\u00a0</p><p>\\u00a0</p><p>\\u00a0</p>\\nScore: 0.60263\\n\\n\",\"type\":\"text\"},{\"content\":\"Pergunta similar: Como incluir mensagens de observa\\u00e7\\u00e3o na nota fiscal na rotina 1322?\\nResposta: </strong><strong></strong></p><p>1. Acesse a rotina\\u00a0<strong>1322<span>\\u00a0</span></strong>e realize\\u00a0os processos de inclus\\u00e3o de itens, tributa\\u00e7\\u00e3o e contas a receber;</p><p>2. Na aba\\u00a0<strong>Itens</strong>, clique o bot\\u00e3o\\u00a0<strong>Observa\\u00e7\\u00f5es Adicionais</strong>;</p><p><img src=\\\"https://centraldeatendimento.totvs.com/hc/article_attachments/360028011152/image2017-9-14_11_9_53.png\\\" alt=\\\"image2017-9-14_11_9_53.png\\\" width=\\\"705\\\" height=\\\"533\\\"></p><p>3. Ser\\u00e1 apresentada tela\\u00a0<strong>Observa\\u00e7\\u00f5es</strong>\\u00a0para inclus\\u00e3o das mensagens. Para aparecer mais linhas, pressione seta para baixo em seu teclado;</p><p>4. Clique o bot\\u00e3o\\u00a0<strong>OK\\u00a0</strong>para salvar a mensagem inserida;</p><p><img src=\\\"https://centraldeatendimento.totvs.com/hc/article_attachments/360028004891/10.gif\\\" alt=\\\"10.gif\\\" width=\\\"696\\\" height=\\\"528\\\"></p><p>5. Em seguida clique o bot\\u00e3o\\u00a0<strong>Gravar\\u00a0</strong>para finalizar o processo.</p>\\nScore: 0.57299614\\n\\n\",\"type\":\"text\"},{\"content\":\"Pergunta similar: Como adicionar o valor de frete na rotina 1322?\\nResposta: </strong><strong></strong>N\\u00e3o \\u00e9 poss\\u00edvel adicionar o valor de frete atrav\\u00e9s da rotina <strong>1322</strong>-\\u00a0<strong>Simples Remessa Baixando Estoque</strong>. Neste caso, realize o rateio do frete entre os itens.</p>\\nScore: 0.5472877\\n\\n\",\"type\":\"text\"},{\"content\":\"Pergunta similar: O que fazer para que a rotina 1322 permita a emiss\\u00e3o de notas fiscais incluindo contas a receber?\\nResposta: </strong><strong></strong></p><p>Para que a rotina<span>\\u00a0</span><strong>1322</strong>\\u00a0permita a emiss\\u00e3o de notas fiscais de simples remessa com a possibilidade de se incluir um Contas a Receber para o cliente,\\u00a0siga as orienta\\u00e7\\u00f5es abaixo:</p><p><span>1.\\u00a0 Acesse a rotina<strong>\\u00a01322</strong>\\u00a0e clique o bot\\u00e3o\\u00a0<strong>Novo</strong>;</span><span>2. Preencha as informa\\u00e7\\u00f5es conforme a necessidade;</span><span>3. Na aba\\u00a0<strong>Contas a Receber</strong>, informe\\u00a0</span>o c\\u00f3digo da cobran\\u00e7a em\\u00a0<strong>C\\u00f3d. Cob</strong>., a\\u00a0<strong>Dt. Vencto</strong><span>\\u00a0</span>e o\\u00a0<strong>Valor</strong>.<span>4 Clique\\u00a0<strong>Gravar</strong>.<img src=\\\"https://centraldeatendimento.totvs.com/hc/article_attachments/360043555693/mceclip0.png\\\" alt=\\\"mceclip0.png\\\"></span><span></span></p>\\nScore: 0.546433\",\"type\":\"text\"}],\"session_id\":1}\n",
      "\n"
     ]
    },
    {
     "data": {
      "text/plain": [
       "{'response': [{'content': 'Pergunta similar: Como inserir transportadora em notas fiscais geradas pela rotina 1322 - Simples Remessa Baixando Estoque.\\nResposta: </strong><strong></strong>A rotina <strong>1322</strong> grava a <strong>Transportadora Padrão</strong> nas notas fiscais quando o parâmetro\\xa0<strong>2159-Utilizar transportador padrão</strong> da rotina <strong>132-Parâmetros da Presidência</strong> (configuração por filial) está marcado como\\xa0<strong>Sim</strong>, lembrando que os dados da transportadora devem ser cadastrados na rotina<strong> 535-Cadastro de Filiais</strong> aba <strong>Dados da Transportadora</strong>.</p><p>Essas informações serão destacadas na rotina<strong> 1452-Emitir documento eletrônico</strong>, no campo <strong>Transportador/Volumes Transportados</strong>.</p>\\nScore: 0.64584833\\n\\n',\n",
       "   'type': 'text'},\n",
       "  {'content': 'Pergunta similar: Ao gerar uma transferência na rotina 1436 - Gerar nota fiscal de transferência para depósito\\nResposta: </strong><strong></strong><span>Para resolver essa mensagem, realize o cadastro da tributação fiscal conforme os passos disponíveis no link<a href=\"https://centraldeatendimento.totvs.com/hc/pt-br/articles/360026118971\" target=\"_blank\" rel=\"noopener\">\\xa0</a></span><a href=\"https://centraldeatendimento.totvs.com/hc/pt-br/articles/360026118971\" target=\"_blank\" rel=\"noopener\">Como cadastrar tributação nos produtos na rotina 271</a>.</p><p>\\xa0</p><p>\\xa0</p><p>\\xa0</p><p>\\xa0</p>\\nScore: 0.60263\\n\\n',\n",
       "   'type': 'text'},\n",
       "  {'content': 'Pergunta similar: Como incluir mensagens de observação na nota fiscal na rotina 1322?\\nResposta: </strong><strong></strong></p><p>1. Acesse a rotina\\xa0<strong>1322<span>\\xa0</span></strong>e realize\\xa0os processos de inclusão de itens, tributação e contas a receber;</p><p>2. Na aba\\xa0<strong>Itens</strong>, clique o botão\\xa0<strong>Observações Adicionais</strong>;</p><p><img src=\"https://centraldeatendimento.totvs.com/hc/article_attachments/360028011152/image2017-9-14_11_9_53.png\" alt=\"image2017-9-14_11_9_53.png\" width=\"705\" height=\"533\"></p><p>3. Será apresentada tela\\xa0<strong>Observações</strong>\\xa0para inclusão das mensagens. Para aparecer mais linhas, pressione seta para baixo em seu teclado;</p><p>4. Clique o botão\\xa0<strong>OK\\xa0</strong>para salvar a mensagem inserida;</p><p><img src=\"https://centraldeatendimento.totvs.com/hc/article_attachments/360028004891/10.gif\" alt=\"10.gif\" width=\"696\" height=\"528\"></p><p>5. Em seguida clique o botão\\xa0<strong>Gravar\\xa0</strong>para finalizar o processo.</p>\\nScore: 0.57299614\\n\\n',\n",
       "   'type': 'text'},\n",
       "  {'content': 'Pergunta similar: Como adicionar o valor de frete na rotina 1322?\\nResposta: </strong><strong></strong>Não é possível adicionar o valor de frete através da rotina <strong>1322</strong>-\\xa0<strong>Simples Remessa Baixando Estoque</strong>. Neste caso, realize o rateio do frete entre os itens.</p>\\nScore: 0.5472877\\n\\n',\n",
       "   'type': 'text'},\n",
       "  {'content': 'Pergunta similar: O que fazer para que a rotina 1322 permita a emissão de notas fiscais incluindo contas a receber?\\nResposta: </strong><strong></strong></p><p>Para que a rotina<span>\\xa0</span><strong>1322</strong>\\xa0permita a emissão de notas fiscais de simples remessa com a possibilidade de se incluir um Contas a Receber para o cliente,\\xa0siga as orientações abaixo:</p><p><span>1.\\xa0 Acesse a rotina<strong>\\xa01322</strong>\\xa0e clique o botão\\xa0<strong>Novo</strong>;</span><span>2. Preencha as informações conforme a necessidade;</span><span>3. Na aba\\xa0<strong>Contas a Receber</strong>, informe\\xa0</span>o código da cobrança em\\xa0<strong>Cód. Cob</strong>., a\\xa0<strong>Dt. Vencto</strong><span>\\xa0</span>e o\\xa0<strong>Valor</strong>.<span>4 Clique\\xa0<strong>Gravar</strong>.<img src=\"https://centraldeatendimento.totvs.com/hc/article_attachments/360043555693/mceclip0.png\" alt=\"mceclip0.png\"></span><span></span></p>\\nScore: 0.546433',\n",
       "   'type': 'text'}],\n",
       " 'session_id': 1}"
      ]
     },
     "execution_count": 8,
     "metadata": {},
     "output_type": "execute_result"
    }
   ],
   "source": [
    "data = {\n",
    "    'query': query\n",
    "}\n",
    "\n",
    "response = requests.post(url='https://081dd6c8.ngrok.io/query',\n",
    "                                 json=data)\n",
    "print(response)\n",
    "print(response.text)\n",
    "response.json()"
   ]
  },
  {
   "cell_type": "code",
   "execution_count": null,
   "metadata": {},
   "outputs": [],
   "source": []
  }
 ],
 "metadata": {
  "colab": {
   "collapsed_sections": [],
   "name": "Sentence Transformers.ipynb",
   "provenance": []
  },
  "kernelspec": {
   "display_name": "Python 3",
   "language": "python",
   "name": "python3"
  },
  "language_info": {
   "codemirror_mode": {
    "name": "ipython",
    "version": 3
   },
   "file_extension": ".py",
   "mimetype": "text/x-python",
   "name": "python",
   "nbconvert_exporter": "python",
   "pygments_lexer": "ipython3",
   "version": "3.6.10"
  }
 },
 "nbformat": 4,
 "nbformat_minor": 4
}
