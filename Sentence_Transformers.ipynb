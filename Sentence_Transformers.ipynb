{
 "cells": [
  {
   "cell_type": "markdown",
   "metadata": {
    "colab_type": "text",
    "id": "wEwQofmxF_wq"
   },
   "source": [
    "Source: https://github.com/UKPLab/sentence-transformers"
   ]
  },
  {
   "cell_type": "code",
   "execution_count": 7,
   "metadata": {
    "colab": {
     "base_uri": "https://localhost:8080/",
     "height": 1000
    },
    "colab_type": "code",
    "collapsed": true,
    "id": "7Xk8N84dF8p4",
    "jupyter": {
     "outputs_hidden": true
    },
    "outputId": "c2fc59ba-9479-4607-b4e8-278699fc3bc1"
   },
   "outputs": [
    {
     "name": "stdout",
     "output_type": "stream",
     "text": [
      "Requirement already satisfied: pycarol in /Users/felipe/opt/miniconda3/envs/bert/lib/python3.6/site-packages (2.33.3)\n",
      "Requirement already satisfied: gcsfs>=0.3.0 in /Users/felipe/opt/miniconda3/envs/bert/lib/python3.6/site-packages (from pycarol) (0.6.2)\n",
      "Requirement already satisfied: deprecated in /Users/felipe/opt/miniconda3/envs/bert/lib/python3.6/site-packages (from pycarol) (1.2.10)\n",
      "Requirement already satisfied: dash-cytoscape in /Users/felipe/opt/miniconda3/envs/bert/lib/python3.6/site-packages (from pycarol) (0.1.1)\n",
      "Requirement already satisfied: joblib==0.11 in /Users/felipe/opt/miniconda3/envs/bert/lib/python3.6/site-packages (from pycarol) (0.11)\n",
      "Requirement already satisfied: fastparquet in /Users/felipe/opt/miniconda3/envs/bert/lib/python3.6/site-packages (from pycarol) (0.4.0)\n",
      "Requirement already satisfied: toolz in /Users/felipe/opt/miniconda3/envs/bert/lib/python3.6/site-packages (from pycarol) (0.10.0)\n",
      "Requirement already satisfied: google-cloud-storage in /Users/felipe/opt/miniconda3/envs/bert/lib/python3.6/site-packages (from pycarol) (1.28.1)\n",
      "Requirement already satisfied: pyarrow>=0.15.1 in /Users/felipe/opt/miniconda3/envs/bert/lib/python3.6/site-packages (from pycarol) (0.17.1)\n",
      "Requirement already satisfied: urllib3 in /Users/felipe/opt/miniconda3/envs/bert/lib/python3.6/site-packages (from pycarol) (1.25.9)\n",
      "Requirement already satisfied: pandas==0.23.4 in /Users/felipe/opt/miniconda3/envs/bert/lib/python3.6/site-packages (from pycarol) (0.23.4)\n",
      "Requirement already satisfied: luigi in /Users/felipe/opt/miniconda3/envs/bert/lib/python3.6/site-packages (from pycarol) (2.8.13)\n",
      "Requirement already satisfied: dask[complete] in /Users/felipe/opt/miniconda3/envs/bert/lib/python3.6/site-packages (from pycarol) (2.16.0)\n",
      "Requirement already satisfied: python-dotenv in /Users/felipe/opt/miniconda3/envs/bert/lib/python3.6/site-packages (from pycarol) (0.13.0)\n",
      "Requirement already satisfied: numpy==1.16.3 in /Users/felipe/opt/miniconda3/envs/bert/lib/python3.6/site-packages (from pycarol) (1.16.3)\n",
      "Requirement already satisfied: google-cloud-core>=1.3.0 in /Users/felipe/opt/miniconda3/envs/bert/lib/python3.6/site-packages (from pycarol) (1.3.0)\n",
      "Requirement already satisfied: bumpversion in /Users/felipe/opt/miniconda3/envs/bert/lib/python3.6/site-packages (from pycarol) (0.6.0)\n",
      "Requirement already satisfied: dash in /Users/felipe/opt/miniconda3/envs/bert/lib/python3.6/site-packages (from pycarol) (1.12.0)\n",
      "Requirement already satisfied: pytest in /Users/felipe/opt/miniconda3/envs/bert/lib/python3.6/site-packages (from pycarol) (5.4.2)\n",
      "Requirement already satisfied: tqdm in /Users/felipe/opt/miniconda3/envs/bert/lib/python3.6/site-packages (from pycarol) (4.46.0)\n",
      "Requirement already satisfied: click==7.0 in /Users/felipe/opt/miniconda3/envs/bert/lib/python3.6/site-packages (from pycarol) (7.0)\n",
      "Requirement already satisfied: google-auth-httplib2 in /Users/felipe/opt/miniconda3/envs/bert/lib/python3.6/site-packages (from pycarol) (0.0.3)\n",
      "Requirement already satisfied: redis==2.10.6 in /Users/felipe/opt/miniconda3/envs/bert/lib/python3.6/site-packages (from pycarol) (2.10.6)\n",
      "Requirement already satisfied: colorcet in /Users/felipe/opt/miniconda3/envs/bert/lib/python3.6/site-packages (from pycarol) (2.0.2)\n",
      "Requirement already satisfied: google-auth in /Users/felipe/opt/miniconda3/envs/bert/lib/python3.6/site-packages (from pycarol) (1.15.0)\n",
      "Requirement already satisfied: requests in /Users/felipe/opt/miniconda3/envs/bert/lib/python3.6/site-packages (from pycarol) (2.23.0)\n",
      "Requirement already satisfied: flask==1.0.2 in /Users/felipe/opt/miniconda3/envs/bert/lib/python3.6/site-packages (from pycarol) (1.0.2)\n",
      "Requirement already satisfied: pykube in /Users/felipe/opt/miniconda3/envs/bert/lib/python3.6/site-packages (from pycarol) (0.15.0)\n",
      "Requirement already satisfied: papermill in /Users/felipe/opt/miniconda3/envs/bert/lib/python3.6/site-packages (from pycarol) (2.1.1)\n",
      "Requirement already satisfied: decorator in /Users/felipe/opt/miniconda3/envs/bert/lib/python3.6/site-packages (from gcsfs>=0.3.0->pycarol) (4.4.2)\n",
      "Requirement already satisfied: google-auth-oauthlib in /Users/felipe/opt/miniconda3/envs/bert/lib/python3.6/site-packages (from gcsfs>=0.3.0->pycarol) (0.4.1)\n",
      "Requirement already satisfied: fsspec>=0.6.0 in /Users/felipe/opt/miniconda3/envs/bert/lib/python3.6/site-packages (from gcsfs>=0.3.0->pycarol) (0.7.4)\n",
      "Requirement already satisfied: wrapt<2,>=1.10 in /Users/felipe/opt/miniconda3/envs/bert/lib/python3.6/site-packages (from deprecated->pycarol) (1.12.1)\n",
      "Requirement already satisfied: dash-html-components in /Users/felipe/opt/miniconda3/envs/bert/lib/python3.6/site-packages (from dash-cytoscape->pycarol) (1.0.3)\n",
      "Requirement already satisfied: dash-renderer in /Users/felipe/opt/miniconda3/envs/bert/lib/python3.6/site-packages (from dash-cytoscape->pycarol) (1.4.1)\n",
      "Requirement already satisfied: thrift>=0.11.0 in /Users/felipe/opt/miniconda3/envs/bert/lib/python3.6/site-packages (from fastparquet->pycarol) (0.13.0)\n",
      "Requirement already satisfied: six in /Users/felipe/opt/miniconda3/envs/bert/lib/python3.6/site-packages (from fastparquet->pycarol) (1.14.0)\n",
      "Requirement already satisfied: numba>=0.28 in /Users/felipe/opt/miniconda3/envs/bert/lib/python3.6/site-packages (from fastparquet->pycarol) (0.49.1)\n",
      "Requirement already satisfied: google-resumable-media<0.6dev,>=0.5.0 in /Users/felipe/opt/miniconda3/envs/bert/lib/python3.6/site-packages (from google-cloud-storage->pycarol) (0.5.0)\n",
      "Requirement already satisfied: pytz>=2011k in /Users/felipe/opt/miniconda3/envs/bert/lib/python3.6/site-packages (from pandas==0.23.4->pycarol) (2020.1)\n",
      "Requirement already satisfied: python-dateutil>=2.5.0 in /Users/felipe/opt/miniconda3/envs/bert/lib/python3.6/site-packages (from pandas==0.23.4->pycarol) (2.8.1)\n",
      "Requirement already satisfied: python-daemon in /Users/felipe/opt/miniconda3/envs/bert/lib/python3.6/site-packages (from luigi->pycarol) (2.2.4)\n",
      "Requirement already satisfied: tornado<6,>=4.0 in /Users/felipe/opt/miniconda3/envs/bert/lib/python3.6/site-packages (from luigi->pycarol) (5.1.1)\n",
      "Requirement already satisfied: bokeh>=1.0.0; extra == \"complete\" in /Users/felipe/opt/miniconda3/envs/bert/lib/python3.6/site-packages (from dask[complete]->pycarol) (2.0.2)\n",
      "Requirement already satisfied: cloudpickle>=0.2.2; extra == \"complete\" in /Users/felipe/opt/miniconda3/envs/bert/lib/python3.6/site-packages (from dask[complete]->pycarol) (1.4.1)\n",
      "Requirement already satisfied: partd>=0.3.10; extra == \"complete\" in /Users/felipe/opt/miniconda3/envs/bert/lib/python3.6/site-packages (from dask[complete]->pycarol) (1.1.0)\n",
      "Requirement already satisfied: distributed>=2.0; extra == \"complete\" in /Users/felipe/opt/miniconda3/envs/bert/lib/python3.6/site-packages (from dask[complete]->pycarol) (2.16.0)\n",
      "Requirement already satisfied: PyYaml; extra == \"complete\" in /Users/felipe/opt/miniconda3/envs/bert/lib/python3.6/site-packages (from dask[complete]->pycarol) (5.3.1)\n",
      "Requirement already satisfied: google-api-core<2.0.0dev,>=1.16.0 in /Users/felipe/opt/miniconda3/envs/bert/lib/python3.6/site-packages (from google-cloud-core>=1.3.0->pycarol) (1.17.0)\n",
      "Requirement already satisfied: bump2version in /Users/felipe/opt/miniconda3/envs/bert/lib/python3.6/site-packages (from bumpversion->pycarol) (1.0.0)\n",
      "Requirement already satisfied: plotly in /Users/felipe/opt/miniconda3/envs/bert/lib/python3.6/site-packages (from dash->pycarol) (4.7.1)\n",
      "Requirement already satisfied: dash-table==4.7.0 in /Users/felipe/opt/miniconda3/envs/bert/lib/python3.6/site-packages (from dash->pycarol) (4.7.0)\n",
      "Requirement already satisfied: dash-core-components==1.10.0 in /Users/felipe/opt/miniconda3/envs/bert/lib/python3.6/site-packages (from dash->pycarol) (1.10.0)\n",
      "Requirement already satisfied: flask-compress in /Users/felipe/opt/miniconda3/envs/bert/lib/python3.6/site-packages (from dash->pycarol) (1.5.0)\n",
      "Requirement already satisfied: future in /Users/felipe/opt/miniconda3/envs/bert/lib/python3.6/site-packages (from dash->pycarol) (0.18.2)\n",
      "Requirement already satisfied: more-itertools>=4.0.0 in /Users/felipe/opt/miniconda3/envs/bert/lib/python3.6/site-packages (from pytest->pycarol) (8.3.0)\n",
      "Requirement already satisfied: importlib-metadata>=0.12; python_version < \"3.8\" in /Users/felipe/opt/miniconda3/envs/bert/lib/python3.6/site-packages (from pytest->pycarol) (1.6.0)\n",
      "Requirement already satisfied: attrs>=17.4.0 in /Users/felipe/opt/miniconda3/envs/bert/lib/python3.6/site-packages (from pytest->pycarol) (19.3.0)\n",
      "Requirement already satisfied: py>=1.5.0 in /Users/felipe/opt/miniconda3/envs/bert/lib/python3.6/site-packages (from pytest->pycarol) (1.8.1)\n",
      "Requirement already satisfied: wcwidth in /Users/felipe/opt/miniconda3/envs/bert/lib/python3.6/site-packages (from pytest->pycarol) (0.1.9)\n",
      "Requirement already satisfied: pluggy<1.0,>=0.12 in /Users/felipe/opt/miniconda3/envs/bert/lib/python3.6/site-packages (from pytest->pycarol) (0.13.1)\n",
      "Requirement already satisfied: packaging in /Users/felipe/opt/miniconda3/envs/bert/lib/python3.6/site-packages (from pytest->pycarol) (20.3)\n",
      "Requirement already satisfied: httplib2>=0.9.1 in /Users/felipe/opt/miniconda3/envs/bert/lib/python3.6/site-packages (from google-auth-httplib2->pycarol) (0.18.1)\n",
      "Requirement already satisfied: param>=1.7.0 in /Users/felipe/opt/miniconda3/envs/bert/lib/python3.6/site-packages (from colorcet->pycarol) (1.9.3)\n",
      "Requirement already satisfied: pyct>=0.4.4 in /Users/felipe/opt/miniconda3/envs/bert/lib/python3.6/site-packages (from colorcet->pycarol) (0.4.6)\n",
      "Requirement already satisfied: setuptools>=40.3.0 in /Users/felipe/opt/miniconda3/envs/bert/lib/python3.6/site-packages (from google-auth->pycarol) (46.3.0.post20200513)\n",
      "Requirement already satisfied: rsa<4.1,>=3.1.4 in /Users/felipe/opt/miniconda3/envs/bert/lib/python3.6/site-packages (from google-auth->pycarol) (4.0)\n",
      "Requirement already satisfied: pyasn1-modules>=0.2.1 in /Users/felipe/opt/miniconda3/envs/bert/lib/python3.6/site-packages (from google-auth->pycarol) (0.2.8)\n",
      "Requirement already satisfied: cachetools<5.0,>=2.0.0 in /Users/felipe/opt/miniconda3/envs/bert/lib/python3.6/site-packages (from google-auth->pycarol) (4.1.0)\n",
      "Requirement already satisfied: chardet<4,>=3.0.2 in /Users/felipe/opt/miniconda3/envs/bert/lib/python3.6/site-packages (from requests->pycarol) (3.0.4)\n",
      "Requirement already satisfied: certifi>=2017.4.17 in /Users/felipe/opt/miniconda3/envs/bert/lib/python3.6/site-packages (from requests->pycarol) (2020.4.5.1)\n",
      "Requirement already satisfied: idna<3,>=2.5 in /Users/felipe/opt/miniconda3/envs/bert/lib/python3.6/site-packages (from requests->pycarol) (2.9)\n",
      "Requirement already satisfied: Werkzeug>=0.14 in /Users/felipe/opt/miniconda3/envs/bert/lib/python3.6/site-packages (from flask==1.0.2->pycarol) (0.16.1)\n",
      "Requirement already satisfied: itsdangerous>=0.24 in /Users/felipe/opt/miniconda3/envs/bert/lib/python3.6/site-packages (from flask==1.0.2->pycarol) (1.1.0)\n",
      "Requirement already satisfied: Jinja2>=2.10 in /Users/felipe/opt/miniconda3/envs/bert/lib/python3.6/site-packages (from flask==1.0.2->pycarol) (2.11.2)\n",
      "Requirement already satisfied: tzlocal in /Users/felipe/opt/miniconda3/envs/bert/lib/python3.6/site-packages (from pykube->pycarol) (2.1)\n",
      "Requirement already satisfied: oauth2client in /Users/felipe/opt/miniconda3/envs/bert/lib/python3.6/site-packages (from pykube->pycarol) (4.1.3)\n",
      "Requirement already satisfied: requests-oauthlib in /Users/felipe/opt/miniconda3/envs/bert/lib/python3.6/site-packages (from pykube->pycarol) (1.3.0)\n",
      "Requirement already satisfied: black in /Users/felipe/opt/miniconda3/envs/bert/lib/python3.6/site-packages (from papermill->pycarol) (19.10b0)\n",
      "Requirement already satisfied: nbformat in /Users/felipe/opt/miniconda3/envs/bert/lib/python3.6/site-packages (from papermill->pycarol) (5.0.6)\n",
      "Requirement already satisfied: tenacity in /Users/felipe/opt/miniconda3/envs/bert/lib/python3.6/site-packages (from papermill->pycarol) (6.2.0)\n",
      "Requirement already satisfied: jupyter-client in /Users/felipe/opt/miniconda3/envs/bert/lib/python3.6/site-packages (from papermill->pycarol) (6.1.3)\n",
      "Requirement already satisfied: ansiwrap in /Users/felipe/opt/miniconda3/envs/bert/lib/python3.6/site-packages (from papermill->pycarol) (0.8.4)\n",
      "Requirement already satisfied: nbclient>=0.2.0 in /Users/felipe/opt/miniconda3/envs/bert/lib/python3.6/site-packages (from papermill->pycarol) (0.3.1)\n",
      "Requirement already satisfied: entrypoints in /Users/felipe/opt/miniconda3/envs/bert/lib/python3.6/site-packages (from papermill->pycarol) (0.3)\n",
      "Requirement already satisfied: llvmlite<=0.33.0.dev0,>=0.31.0.dev0 in /Users/felipe/opt/miniconda3/envs/bert/lib/python3.6/site-packages (from numba>=0.28->fastparquet->pycarol) (0.32.1)\n",
      "Requirement already satisfied: docutils in /Users/felipe/opt/miniconda3/envs/bert/lib/python3.6/site-packages (from python-daemon->luigi->pycarol) (0.15.2)\n",
      "Requirement already satisfied: lockfile>=0.10 in /Users/felipe/opt/miniconda3/envs/bert/lib/python3.6/site-packages (from python-daemon->luigi->pycarol) (0.12.2)\n",
      "Requirement already satisfied: typing-extensions>=3.7.4 in /Users/felipe/opt/miniconda3/envs/bert/lib/python3.6/site-packages (from bokeh>=1.0.0; extra == \"complete\"->dask[complete]->pycarol) (3.7.4.2)\n",
      "Requirement already satisfied: pillow>=4.0 in /Users/felipe/opt/miniconda3/envs/bert/lib/python3.6/site-packages (from bokeh>=1.0.0; extra == \"complete\"->dask[complete]->pycarol) (7.1.2)\n",
      "Requirement already satisfied: locket in /Users/felipe/opt/miniconda3/envs/bert/lib/python3.6/site-packages (from partd>=0.3.10; extra == \"complete\"->dask[complete]->pycarol) (0.2.0)\n",
      "Requirement already satisfied: tblib>=1.6.0 in /Users/felipe/opt/miniconda3/envs/bert/lib/python3.6/site-packages (from distributed>=2.0; extra == \"complete\"->dask[complete]->pycarol) (1.6.0)\n",
      "Requirement already satisfied: sortedcontainers!=2.0.0,!=2.0.1 in /Users/felipe/opt/miniconda3/envs/bert/lib/python3.6/site-packages (from distributed>=2.0; extra == \"complete\"->dask[complete]->pycarol) (2.1.0)\n",
      "Requirement already satisfied: zict>=0.1.3 in /Users/felipe/opt/miniconda3/envs/bert/lib/python3.6/site-packages (from distributed>=2.0; extra == \"complete\"->dask[complete]->pycarol) (2.0.0)\n",
      "Requirement already satisfied: psutil>=5.0 in /Users/felipe/opt/miniconda3/envs/bert/lib/python3.6/site-packages (from distributed>=2.0; extra == \"complete\"->dask[complete]->pycarol) (5.7.0)\n",
      "Requirement already satisfied: msgpack>=0.6.0 in /Users/felipe/opt/miniconda3/envs/bert/lib/python3.6/site-packages (from distributed>=2.0; extra == \"complete\"->dask[complete]->pycarol) (1.0.0)\n",
      "Requirement already satisfied: contextvars; python_version < \"3.7\" in /Users/felipe/opt/miniconda3/envs/bert/lib/python3.6/site-packages (from distributed>=2.0; extra == \"complete\"->dask[complete]->pycarol) (2.4)\n",
      "Requirement already satisfied: googleapis-common-protos<2.0dev,>=1.6.0 in /Users/felipe/opt/miniconda3/envs/bert/lib/python3.6/site-packages (from google-api-core<2.0.0dev,>=1.16.0->google-cloud-core>=1.3.0->pycarol) (1.51.0)\n",
      "Requirement already satisfied: protobuf>=3.4.0 in /Users/felipe/opt/miniconda3/envs/bert/lib/python3.6/site-packages (from google-api-core<2.0.0dev,>=1.16.0->google-cloud-core>=1.3.0->pycarol) (3.11.4)\n",
      "Requirement already satisfied: retrying>=1.3.3 in /Users/felipe/opt/miniconda3/envs/bert/lib/python3.6/site-packages (from plotly->dash->pycarol) (1.3.3)\n",
      "Requirement already satisfied: brotli in /Users/felipe/opt/miniconda3/envs/bert/lib/python3.6/site-packages (from flask-compress->dash->pycarol) (1.0.7)\n",
      "Requirement already satisfied: zipp>=0.5 in /Users/felipe/opt/miniconda3/envs/bert/lib/python3.6/site-packages (from importlib-metadata>=0.12; python_version < \"3.8\"->pytest->pycarol) (3.1.0)\n",
      "Requirement already satisfied: pyparsing>=2.0.2 in /Users/felipe/opt/miniconda3/envs/bert/lib/python3.6/site-packages (from packaging->pytest->pycarol) (2.4.7)\n",
      "Requirement already satisfied: pyasn1>=0.1.3 in /Users/felipe/opt/miniconda3/envs/bert/lib/python3.6/site-packages (from rsa<4.1,>=3.1.4->google-auth->pycarol) (0.4.8)\n",
      "Requirement already satisfied: MarkupSafe>=0.23 in /Users/felipe/opt/miniconda3/envs/bert/lib/python3.6/site-packages (from Jinja2>=2.10->flask==1.0.2->pycarol) (1.1.1)\n",
      "Requirement already satisfied: oauthlib>=3.0.0 in /Users/felipe/opt/miniconda3/envs/bert/lib/python3.6/site-packages (from requests-oauthlib->pykube->pycarol) (3.1.0)\n",
      "Requirement already satisfied: typed-ast>=1.4.0 in /Users/felipe/opt/miniconda3/envs/bert/lib/python3.6/site-packages (from black->papermill->pycarol) (1.4.1)\n",
      "Requirement already satisfied: appdirs in /Users/felipe/opt/miniconda3/envs/bert/lib/python3.6/site-packages (from black->papermill->pycarol) (1.4.4)\n",
      "Requirement already satisfied: pathspec<1,>=0.6 in /Users/felipe/opt/miniconda3/envs/bert/lib/python3.6/site-packages (from black->papermill->pycarol) (0.8.0)\n",
      "Requirement already satisfied: toml>=0.9.4 in /Users/felipe/opt/miniconda3/envs/bert/lib/python3.6/site-packages (from black->papermill->pycarol) (0.10.1)\n",
      "Requirement already satisfied: regex in /Users/felipe/opt/miniconda3/envs/bert/lib/python3.6/site-packages (from black->papermill->pycarol) (2020.5.14)\n",
      "Requirement already satisfied: ipython-genutils in /Users/felipe/opt/miniconda3/envs/bert/lib/python3.6/site-packages (from nbformat->papermill->pycarol) (0.2.0)\n",
      "Requirement already satisfied: traitlets>=4.1 in /Users/felipe/opt/miniconda3/envs/bert/lib/python3.6/site-packages (from nbformat->papermill->pycarol) (4.3.3)\n",
      "Requirement already satisfied: jsonschema!=2.5.0,>=2.4 in /Users/felipe/opt/miniconda3/envs/bert/lib/python3.6/site-packages (from nbformat->papermill->pycarol) (3.2.0)\n",
      "Requirement already satisfied: jupyter-core in /Users/felipe/opt/miniconda3/envs/bert/lib/python3.6/site-packages (from nbformat->papermill->pycarol) (4.6.3)\n",
      "Requirement already satisfied: pyzmq>=13 in /Users/felipe/opt/miniconda3/envs/bert/lib/python3.6/site-packages (from jupyter-client->papermill->pycarol) (19.0.1)\n",
      "Requirement already satisfied: textwrap3>=0.9.2 in /Users/felipe/opt/miniconda3/envs/bert/lib/python3.6/site-packages (from ansiwrap->papermill->pycarol) (0.9.2)\n",
      "Requirement already satisfied: async-generator in /Users/felipe/opt/miniconda3/envs/bert/lib/python3.6/site-packages (from nbclient>=0.2.0->papermill->pycarol) (1.10)\n",
      "Requirement already satisfied: nest-asyncio in /Users/felipe/opt/miniconda3/envs/bert/lib/python3.6/site-packages (from nbclient>=0.2.0->papermill->pycarol) (1.3.3)\n",
      "Requirement already satisfied: heapdict in /Users/felipe/opt/miniconda3/envs/bert/lib/python3.6/site-packages (from zict>=0.1.3->distributed>=2.0; extra == \"complete\"->dask[complete]->pycarol) (1.0.1)\n",
      "Requirement already satisfied: immutables>=0.9 in /Users/felipe/opt/miniconda3/envs/bert/lib/python3.6/site-packages (from contextvars; python_version < \"3.7\"->distributed>=2.0; extra == \"complete\"->dask[complete]->pycarol) (0.14)\n",
      "Requirement already satisfied: pyrsistent>=0.14.0 in /Users/felipe/opt/miniconda3/envs/bert/lib/python3.6/site-packages (from jsonschema!=2.5.0,>=2.4->nbformat->papermill->pycarol) (0.16.0)\n"
     ]
    }
   ],
   "source": [
    "!pip install pycarol"
   ]
  },
  {
   "cell_type": "code",
   "execution_count": null,
   "metadata": {},
   "outputs": [],
   "source": [
    "!pip install -U sentence-transformers"
   ]
  },
  {
   "cell_type": "code",
   "execution_count": 121,
   "metadata": {
    "colab": {},
    "colab_type": "code",
    "id": "_tMy4TDqczHh"
   },
   "outputs": [],
   "source": [
    "from pycarol import Carol, Staging, ApiKeyAuth, Storage, PwdAuth\n",
    "import pandas as pd\n",
    "import pickle\n",
    "import numpy as np\n",
    "import re\n",
    "import math"
   ]
  },
  {
   "cell_type": "code",
   "execution_count": 122,
   "metadata": {
    "colab": {},
    "colab_type": "code",
    "id": "RFV1IftLeD-1"
   },
   "outputs": [],
   "source": [
    "login_dont = Carol(domain='monitoriaqa',\n",
    "app_name=' ',\n",
    "organization='totvs',\n",
    "auth=PwdAuth('fmendes@totvs.com.br', 'Intxdx70248821*'))"
   ]
  },
  {
   "cell_type": "code",
   "execution_count": 136,
   "metadata": {
    "colab": {
     "base_uri": "https://localhost:8080/",
     "height": 34
    },
    "colab_type": "code",
    "id": "vFmEL3xUecDu",
    "outputId": "64d03f39-e900-448f-bbe5-b234bf3e108f"
   },
   "outputs": [
    {
     "name": "stderr",
     "output_type": "stream",
     "text": [
      "100%|██████████| 24/24 [00:30<00:00,  1.27s/it]\n"
     ]
    }
   ],
   "source": [
    "df = Staging(login_dont).fetch_parquet(staging_name='articles',\n",
    "                        connector_name='carol_connect_zerado',\n",
    "                        cds=True\n",
    "                        )"
   ]
  },
  {
   "cell_type": "code",
   "execution_count": 137,
   "metadata": {},
   "outputs": [],
   "source": [
    "df = df.astype(str)"
   ]
  },
  {
   "cell_type": "code",
   "execution_count": 138,
   "metadata": {
    "colab": {
     "base_uri": "https://localhost:8080/",
     "height": 34
    },
    "colab_type": "code",
    "id": "qR35FD4ulmR4",
    "outputId": "5b3d5070-d840-469f-be09-6b848147f1d7"
   },
   "outputs": [
    {
     "data": {
      "text/plain": [
       "(37290, 26)"
      ]
     },
     "execution_count": 138,
     "metadata": {},
     "output_type": "execute_result"
    }
   ],
   "source": [
    "df.shape"
   ]
  },
  {
   "cell_type": "code",
   "execution_count": 139,
   "metadata": {},
   "outputs": [],
   "source": [
    "df = df[df['title'].str.contains('CST - LGPD')]"
   ]
  },
  {
   "cell_type": "code",
   "execution_count": 140,
   "metadata": {},
   "outputs": [
    {
     "data": {
      "text/plain": [
       "(53, 26)"
      ]
     },
     "execution_count": 140,
     "metadata": {},
     "output_type": "execute_result"
    }
   ],
   "source": [
    "df.shape"
   ]
  },
  {
   "cell_type": "code",
   "execution_count": 141,
   "metadata": {},
   "outputs": [
    {
     "data": {
      "text/plain": [
       "array(['CST - LGPD - Atualização de dados de Parceiros',\n",
       "       'CST - LGPD - Acesso aos dados de fornecedores inativos',\n",
       "       'CST - LGPD - Solicitar exclusão, anonimização e/ou bloqueio de dados de Fornecedor Inativo',\n",
       "       'CST - LGPD - Tempo de armazenamento de dados posterior ao cancelamento de contrato',\n",
       "       'CST - LGPD - Anonimização, bloqueio ou exclusão dados Parceiro',\n",
       "       'CST - LGPD - Acesso aos meus dados pessoais  cadastrados na TOTVS',\n",
       "       'CST - LGPD - Armazenamento de dados após desligamento',\n",
       "       'CST - LGPD - Dados de candidatura das vagas na TOTVS',\n",
       "       'CST - LGPD - Bloqueio de dados com processo judicial em andamento',\n",
       "       'CST - LGPD - Anonimização, bloqueio ou exclusão dos dados no cliente',\n",
       "       'CST - LGPD - Compartilhamento de dados pessoais',\n",
       "       'CST - LGPD - Atualização de dados pessoais do cliente',\n",
       "       'CST - LGPD - Acesso aos dados pessoais cadastrados na TOTVS',\n",
       "       'CST - LGPD - Solicitar anonimização por funcionário ativo',\n",
       "       'CST - LGPD - Utilização de dados pessoais dos dependentes de funcionários',\n",
       "       'CST - LGPD - Acesso aos dados de Ex-funcionário',\n",
       "       'CST - LGPD - Tratativas de dados pessoais de colaboradores',\n",
       "       'CST - LGPD - Atualização de dados de ex-funcionário',\n",
       "       'CST - LGPD - Portabilidade de dados do cliente',\n",
       "       'CST - LGPD - Exclusão, anonimização ou bloqueio de dados de aposentado',\n",
       "       'CST - LGPD - Solicitar exclusão de dados dos arquivos da TOTVS',\n",
       "       'CST - LGPD - Solicitar anonimização dos dados de Ex-funcionário TOTVS',\n",
       "       'CST - LGPD - Bloqueio de dados de Ex-Funcionário',\n",
       "       'CST - LGPD - Anonimização, bloqueio ou exclusão dos dados de fornecedor',\n",
       "       'CST - LGPD - Acesso aos dados de fornecedores',\n",
       "       'CST - LGPD - Exclusão, anonimização ou bloqueio dos dados de visitante',\n",
       "       'CST - LGPD - Dados de visitantes utilizados no tratamento',\n",
       "       'CST - LGPD - Revogação de dados pessoais de cliente inativo',\n",
       "       'CST - LGPD - Solicitar anonimização de dados de cliente inativo com processo judicial',\n",
       "       'CST - LGPD - Atualizar cadastro de Clientes Inativos',\n",
       "       'CST - LGPD - Tempo de armazenamento de dados de Clientes Inativos',\n",
       "       'CST - LGPD - Dados pessoais após a visita na TOTVS',\n",
       "       'CST - LGPD - Prazo de tratamento dos dados de visitante',\n",
       "       'CST - LGPD - Atualização de dados de fornecedores',\n",
       "       'CST - LGPD - Acesso aos dados de clientes inativos na TOTVS',\n",
       "       'CST - LGPD - Exclusão, anonimização ou bloqueio de dados de clientes inativos',\n",
       "       'CST - LGPD - Adequação dos produtos em relação a LGPD',\n",
       "       'CST - LGPD - Solicitar anonimização, bloqueio ou exclusão dos dados do cliente',\n",
       "       'CST - LGPD - Revogação de dados do cliente com a TOTVS',\n",
       "       'CST - LGPD - Direitos dos titulares',\n",
       "       'CST - LGPD - Atualização de dados pessoais',\n",
       "       'CST - LGPD - Consentimento no direito dos titulares',\n",
       "       'CST - LGPD - Papéis dentro da LGPD',\n",
       "       'CST - LGPD - Resumo da política da Lei Geral de Proteção de Dados',\n",
       "       'CST - LGPD - Dados pessoais e dados pessoais sensíveis',\n",
       "       'CST - LGPD - Canal de atendimento para direitos dos titulares',\n",
       "       'CST - LGPD - Dados que a TOTVS possui',\n",
       "       'CST - LGPD - Objetivo da Política Geral de Proteção de Dados Pessoais',\n",
       "       'CST - LGPD - Extensão do tratamento de dados pessoais',\n",
       "       'CST - LGPD - Pilares de tratamento',\n",
       "       'CST - LGPD - Processo de Anonimização',\n",
       "       'CST - LGPD - Direitos de anonimização, bloqueio ou eliminação dos dados pessoais',\n",
       "       'CST - LGPD - Revogar o consentimento'], dtype=object)"
      ]
     },
     "execution_count": 141,
     "metadata": {},
     "output_type": "execute_result"
    }
   ],
   "source": [
    "df.title.unique()"
   ]
  },
  {
   "cell_type": "code",
   "execution_count": 13,
   "metadata": {
    "colab": {},
    "colab_type": "code",
    "id": "5io2Da-NlgiZ"
   },
   "outputs": [],
   "source": [
    "df = df.replace('', np.nan)"
   ]
  },
  {
   "cell_type": "code",
   "execution_count": 14,
   "metadata": {
    "colab": {},
    "colab_type": "code",
    "id": "mqVg5el0enBX"
   },
   "outputs": [],
   "source": [
    "df = df[(df.source_locale == 'pt-br') & (~df.body.isnull())]"
   ]
  },
  {
   "cell_type": "code",
   "execution_count": 15,
   "metadata": {
    "colab": {},
    "colab_type": "code",
    "id": "m0sYADvPczHq"
   },
   "outputs": [],
   "source": [
    "def remove_html_tags(text):\n",
    "    \"\"\"Remove html tags from a string\"\"\"\n",
    "    clean = re.compile('<.*?>')\n",
    "    text = re.sub(clean, '', text)\n",
    "    return \" \".join(re.sub(r'\\s([?.!\"](?:\\s|$))', r'\\1', text).strip().split())"
   ]
  },
  {
   "cell_type": "code",
   "execution_count": 16,
   "metadata": {
    "colab": {},
    "colab_type": "code",
    "id": "Q4b9-kItgVvd"
   },
   "outputs": [],
   "source": [
    "def get_question(body):\n",
    "    \n",
    "    body = body.replace('\\n', '').replace('<br>', '')\n",
    "\n",
    "    m = re.search('(?<=<strong>D(ú|u)vida).*?(?=<strong>Ambiente)', body, re.IGNORECASE)\n",
    "    if m:\n",
    "        return remove_html_tags(m.group(0))\n",
    "        \n",
    "    m = re.search('(?<=<strong>Ocorr(ê|e)ncia).*?(?=<strong>Ambiente)', body, re.IGNORECASE)\n",
    "    if m:\n",
    "        return remove_html_tags(m.group(0))\n",
    "    \n",
    "    return np.nan"
   ]
  },
  {
   "cell_type": "code",
   "execution_count": 17,
   "metadata": {
    "colab": {},
    "colab_type": "code",
    "id": "IsCB__H7gYSy"
   },
   "outputs": [],
   "source": [
    "def get_question_type(body):\n",
    "    \n",
    "    body = body.replace('\\n', '').replace('<br>', '')\n",
    "\n",
    "    m = re.search('(?<=<strong>D(ú|u)vida).*?(?=<strong>Ambiente)', body, re.IGNORECASE)\n",
    "    if m:\n",
    "        return 'question'\n",
    "\n",
    "    m = re.search('(?<=<strong>Ocorr(ê|e)ncia).*?(?=<strong>Ambiente)', body, re.IGNORECASE)\n",
    "    if m:\n",
    "        return 'occurrence'\n",
    "    \n",
    "    return np.nan"
   ]
  },
  {
   "cell_type": "code",
   "execution_count": 18,
   "metadata": {
    "colab": {},
    "colab_type": "code",
    "id": "gwYQfTcLga--"
   },
   "outputs": [],
   "source": [
    "def get_environment(body):\n",
    "    \n",
    "    body = body.replace('\\n', '').replace('<br>', '')\n",
    "\n",
    "    m = re.search('(?=<strong>Ambiente).*?(?=<strong>Solu(ç|c)(ã|a)o)', body, re.IGNORECASE)\n",
    "    if not m:\n",
    "        return np.nan\n",
    "    return remove_html_tags(m.group(0))"
   ]
  },
  {
   "cell_type": "code",
   "execution_count": 19,
   "metadata": {
    "colab": {},
    "colab_type": "code",
    "id": "VPkw5F9ogd7A"
   },
   "outputs": [],
   "source": [
    "def get_solution(body):\n",
    "    \n",
    "    body = body.replace('\\n', '').replace('<br>', '')\n",
    "\n",
    "    m = re.search('(?<=<strong>Solu(ç|c)(ã|a)o)(?s)(.*$)', body, re.IGNORECASE)\n",
    "    if not m:\n",
    "        return np.nan\n",
    "    return m.group(0)"
   ]
  },
  {
   "cell_type": "code",
   "execution_count": 20,
   "metadata": {
    "colab": {},
    "colab_type": "code",
    "id": "f3cCEN-ZhGr-"
   },
   "outputs": [],
   "source": [
    "def get_sanitized_solution(body):\n",
    "    \n",
    "    body = body.replace('\\n', '').replace('<br>', '')\n",
    "\n",
    "    m = re.search('(?<=<strong>Solu(ç|c)(ã|a)o)(?s)(.*$)', body, re.IGNORECASE)\n",
    "    if not m:\n",
    "        return np.nan\n",
    "    return remove_html_tags(m.group(0))"
   ]
  },
  {
   "cell_type": "code",
   "execution_count": 21,
   "metadata": {
    "colab": {
     "base_uri": "https://localhost:8080/",
     "height": 51
    },
    "colab_type": "code",
    "id": "ruNHNLegghpQ",
    "outputId": "0b08873d-9c53-4413-b60a-bb8fc73d1d7a"
   },
   "outputs": [
    {
     "name": "stderr",
     "output_type": "stream",
     "text": [
      "/Users/felipe/opt/miniconda3/envs/bert/lib/python3.6/site-packages/ipykernel_launcher.py:5: DeprecationWarning: Flags not at the start of the expression '(?<=<strong>Solu(ç|c' (truncated)\n",
      "  \"\"\"\n"
     ]
    }
   ],
   "source": [
    "df['question'] = df.body.apply(get_question)\n",
    "df['question_type'] = df.body.apply(get_question_type)\n",
    "df['environment'] = df.body.apply(get_environment)\n",
    "df['solution'] = df.body.apply(get_solution)\n",
    "df['sanitized_solution'] = df.body.apply(get_sanitized_solution)"
   ]
  },
  {
   "cell_type": "code",
   "execution_count": 22,
   "metadata": {
    "colab": {},
    "colab_type": "code",
    "id": "X2dwj6g5xPGV"
   },
   "outputs": [],
   "source": [
    "df = df.replace('', np.nan)"
   ]
  },
  {
   "cell_type": "code",
   "execution_count": 23,
   "metadata": {
    "colab": {
     "base_uri": "https://localhost:8080/",
     "height": 479
    },
    "colab_type": "code",
    "id": "tE2oKqyrczHr",
    "outputId": "2d87799f-3c09-44ed-817e-d4d412d12d84"
   },
   "outputs": [
    {
     "data": {
      "text/html": [
       "<div>\n",
       "<style scoped>\n",
       "    .dataframe tbody tr th:only-of-type {\n",
       "        vertical-align: middle;\n",
       "    }\n",
       "\n",
       "    .dataframe tbody tr th {\n",
       "        vertical-align: top;\n",
       "    }\n",
       "\n",
       "    .dataframe thead th {\n",
       "        text-align: right;\n",
       "    }\n",
       "</style>\n",
       "<table border=\"1\" class=\"dataframe\">\n",
       "  <thead>\n",
       "    <tr style=\"text-align: right;\">\n",
       "      <th></th>\n",
       "      <th>__v</th>\n",
       "      <th>author_id</th>\n",
       "      <th>body</th>\n",
       "      <th>brand_id</th>\n",
       "      <th>brand_name</th>\n",
       "      <th>comments_disabled</th>\n",
       "      <th>created_at</th>\n",
       "      <th>draft</th>\n",
       "      <th>edited_at</th>\n",
       "      <th>html_url</th>\n",
       "      <th>...</th>\n",
       "      <th>updated</th>\n",
       "      <th>updated_at</th>\n",
       "      <th>url</th>\n",
       "      <th>vote_count</th>\n",
       "      <th>vote_sum</th>\n",
       "      <th>question</th>\n",
       "      <th>question_type</th>\n",
       "      <th>environment</th>\n",
       "      <th>solution</th>\n",
       "      <th>sanitized_solution</th>\n",
       "    </tr>\n",
       "  </thead>\n",
       "  <tbody>\n",
       "    <tr>\n",
       "      <th>3603</th>\n",
       "      <td>0</td>\n",
       "      <td>6689975327.0</td>\n",
       "      <td>&lt;p&gt;&lt;strong&gt;Dúvida&lt;/strong&gt;&lt;strong&gt;&lt;br&gt;&lt;/strong...</td>\n",
       "      <td>1509248</td>\n",
       "      <td>TOTVS</td>\n",
       "      <td>False</td>\n",
       "      <td>2020-05-21T17:42:36.000Z</td>\n",
       "      <td>True</td>\n",
       "      <td>2020-05-28T15:11:04.000Z</td>\n",
       "      <td>https://centraldeatendimento.totvs.com/hc/pt-b...</td>\n",
       "      <td>...</td>\n",
       "      <td>True</td>\n",
       "      <td>2020-05-28T16:53:39.000Z</td>\n",
       "      <td>https://totvsexterno.zendesk.com/api/v2/help_c...</td>\n",
       "      <td>0</td>\n",
       "      <td>0</td>\n",
       "      <td>Como faço para atualizar os meus dados pessoais?</td>\n",
       "      <td>question</td>\n",
       "      <td>AmbienteCentro de serviço - Lei Geral de Prote...</td>\n",
       "      <td>&lt;/strong&gt;&lt;strong&gt;&lt;/strong&gt;Caso tenha algum dad...</td>\n",
       "      <td>Caso tenha algum dado que esteja desatualizado...</td>\n",
       "    </tr>\n",
       "    <tr>\n",
       "      <th>3606</th>\n",
       "      <td>0</td>\n",
       "      <td>6689975327.0</td>\n",
       "      <td>&lt;p&gt;&lt;strong&gt;Dúvida&lt;/strong&gt;&lt;strong&gt;&lt;br&gt;&lt;/strong...</td>\n",
       "      <td>1509248</td>\n",
       "      <td>TOTVS</td>\n",
       "      <td>False</td>\n",
       "      <td>2020-05-21T17:56:00.000Z</td>\n",
       "      <td>True</td>\n",
       "      <td>2020-05-28T14:55:52.000Z</td>\n",
       "      <td>https://centraldeatendimento.totvs.com/hc/pt-b...</td>\n",
       "      <td>...</td>\n",
       "      <td>True</td>\n",
       "      <td>2020-05-28T16:54:16.000Z</td>\n",
       "      <td>https://totvsexterno.zendesk.com/api/v2/help_c...</td>\n",
       "      <td>0</td>\n",
       "      <td>0</td>\n",
       "      <td>O que é a política da LGPD?</td>\n",
       "      <td>question</td>\n",
       "      <td>AmbienteCentro de Serviço - Lei Geral de Prote...</td>\n",
       "      <td>&lt;/strong&gt;&lt;strong&gt;&lt;/strong&gt;A TOTVS tem como pri...</td>\n",
       "      <td>A TOTVS tem como prioridade proteger, preserva...</td>\n",
       "    </tr>\n",
       "    <tr>\n",
       "      <th>3608</th>\n",
       "      <td>0</td>\n",
       "      <td>6689975327.0</td>\n",
       "      <td>&lt;p&gt;&lt;strong&gt;Dúvida&lt;/strong&gt;&lt;strong&gt;&lt;br&gt;&lt;/strong...</td>\n",
       "      <td>1509248</td>\n",
       "      <td>TOTVS</td>\n",
       "      <td>False</td>\n",
       "      <td>2020-05-21T17:49:08.000Z</td>\n",
       "      <td>True</td>\n",
       "      <td>2020-05-28T15:04:58.000Z</td>\n",
       "      <td>https://centraldeatendimento.totvs.com/hc/pt-b...</td>\n",
       "      <td>...</td>\n",
       "      <td>True</td>\n",
       "      <td>2020-05-28T16:55:03.000Z</td>\n",
       "      <td>https://totvsexterno.zendesk.com/api/v2/help_c...</td>\n",
       "      <td>0</td>\n",
       "      <td>0</td>\n",
       "      <td>Quais são os papéis dentro da LGPD?</td>\n",
       "      <td>question</td>\n",
       "      <td>AmbienteCentro de serviço - Lei Geral de Prote...</td>\n",
       "      <td>&lt;/strong&gt;&lt;/p&gt;&lt;ul&gt;&lt;li&gt;&lt;strong&gt;Titular dos Dados...</td>\n",
       "      <td>Titular dos Dados é a pessoa física a quem se ...</td>\n",
       "    </tr>\n",
       "    <tr>\n",
       "      <th>3618</th>\n",
       "      <td>0</td>\n",
       "      <td>6689975327.0</td>\n",
       "      <td>&lt;p&gt;&lt;strong&gt;Dúvida&lt;/strong&gt;&lt;strong&gt;&lt;br&gt;&lt;/strong...</td>\n",
       "      <td>1509248</td>\n",
       "      <td>TOTVS</td>\n",
       "      <td>False</td>\n",
       "      <td>2020-05-21T17:54:09.000Z</td>\n",
       "      <td>True</td>\n",
       "      <td>2020-05-28T14:58:22.000Z</td>\n",
       "      <td>https://centraldeatendimento.totvs.com/hc/pt-b...</td>\n",
       "      <td>...</td>\n",
       "      <td>True</td>\n",
       "      <td>2020-05-28T16:54:27.000Z</td>\n",
       "      <td>https://totvsexterno.zendesk.com/api/v2/help_c...</td>\n",
       "      <td>0</td>\n",
       "      <td>0</td>\n",
       "      <td>Qual o objetivo do canal de atendimento para d...</td>\n",
       "      <td>question</td>\n",
       "      <td>AmbienteCentro de Serviço - Lei Geral de Prote...</td>\n",
       "      <td>&lt;/strong&gt;&lt;strong&gt;&lt;/strong&gt;O canal de atendimen...</td>\n",
       "      <td>O canal de atendimento para direitos dos titul...</td>\n",
       "    </tr>\n",
       "    <tr>\n",
       "      <th>3623</th>\n",
       "      <td>0</td>\n",
       "      <td>6689975327.0</td>\n",
       "      <td>&lt;p&gt;&lt;strong&gt;Dúvida&lt;/strong&gt;&lt;strong&gt;&lt;br&gt;&lt;/strong...</td>\n",
       "      <td>1509248</td>\n",
       "      <td>TOTVS</td>\n",
       "      <td>True</td>\n",
       "      <td>2020-05-21T17:38:50.000Z</td>\n",
       "      <td>True</td>\n",
       "      <td>2020-05-28T16:25:17.000Z</td>\n",
       "      <td>https://centraldeatendimento.totvs.com/hc/pt-b...</td>\n",
       "      <td>...</td>\n",
       "      <td>True</td>\n",
       "      <td>2020-05-28T16:53:15.000Z</td>\n",
       "      <td>https://totvsexterno.zendesk.com/api/v2/help_c...</td>\n",
       "      <td>0</td>\n",
       "      <td>0</td>\n",
       "      <td>Qual o papel do consentimento no direito dos t...</td>\n",
       "      <td>question</td>\n",
       "      <td>AmbienteCentro de Serviço - Lei Geral de Prote...</td>\n",
       "      <td>&lt;/strong&gt;&lt;strong&gt;&lt;/strong&gt;O consentimento perm...</td>\n",
       "      <td>O consentimento permite que o titular tenha ac...</td>\n",
       "    </tr>\n",
       "  </tbody>\n",
       "</table>\n",
       "<p>5 rows × 31 columns</p>\n",
       "</div>"
      ],
      "text/plain": [
       "     __v     author_id                                               body  \\\n",
       "3603   0  6689975327.0  <p><strong>Dúvida</strong><strong><br></strong...   \n",
       "3606   0  6689975327.0  <p><strong>Dúvida</strong><strong><br></strong...   \n",
       "3608   0  6689975327.0  <p><strong>Dúvida</strong><strong><br></strong...   \n",
       "3618   0  6689975327.0  <p><strong>Dúvida</strong><strong><br></strong...   \n",
       "3623   0  6689975327.0  <p><strong>Dúvida</strong><strong><br></strong...   \n",
       "\n",
       "     brand_id brand_name comments_disabled                created_at draft  \\\n",
       "3603  1509248      TOTVS             False  2020-05-21T17:42:36.000Z  True   \n",
       "3606  1509248      TOTVS             False  2020-05-21T17:56:00.000Z  True   \n",
       "3608  1509248      TOTVS             False  2020-05-21T17:49:08.000Z  True   \n",
       "3618  1509248      TOTVS             False  2020-05-21T17:54:09.000Z  True   \n",
       "3623  1509248      TOTVS              True  2020-05-21T17:38:50.000Z  True   \n",
       "\n",
       "                     edited_at  \\\n",
       "3603  2020-05-28T15:11:04.000Z   \n",
       "3606  2020-05-28T14:55:52.000Z   \n",
       "3608  2020-05-28T15:04:58.000Z   \n",
       "3618  2020-05-28T14:58:22.000Z   \n",
       "3623  2020-05-28T16:25:17.000Z   \n",
       "\n",
       "                                               html_url  \\\n",
       "3603  https://centraldeatendimento.totvs.com/hc/pt-b...   \n",
       "3606  https://centraldeatendimento.totvs.com/hc/pt-b...   \n",
       "3608  https://centraldeatendimento.totvs.com/hc/pt-b...   \n",
       "3618  https://centraldeatendimento.totvs.com/hc/pt-b...   \n",
       "3623  https://centraldeatendimento.totvs.com/hc/pt-b...   \n",
       "\n",
       "                            ...                         updated  \\\n",
       "3603                        ...                            True   \n",
       "3606                        ...                            True   \n",
       "3608                        ...                            True   \n",
       "3618                        ...                            True   \n",
       "3623                        ...                            True   \n",
       "\n",
       "                    updated_at  \\\n",
       "3603  2020-05-28T16:53:39.000Z   \n",
       "3606  2020-05-28T16:54:16.000Z   \n",
       "3608  2020-05-28T16:55:03.000Z   \n",
       "3618  2020-05-28T16:54:27.000Z   \n",
       "3623  2020-05-28T16:53:15.000Z   \n",
       "\n",
       "                                                    url vote_count vote_sum  \\\n",
       "3603  https://totvsexterno.zendesk.com/api/v2/help_c...          0        0   \n",
       "3606  https://totvsexterno.zendesk.com/api/v2/help_c...          0        0   \n",
       "3608  https://totvsexterno.zendesk.com/api/v2/help_c...          0        0   \n",
       "3618  https://totvsexterno.zendesk.com/api/v2/help_c...          0        0   \n",
       "3623  https://totvsexterno.zendesk.com/api/v2/help_c...          0        0   \n",
       "\n",
       "                                               question question_type  \\\n",
       "3603   Como faço para atualizar os meus dados pessoais?      question   \n",
       "3606                        O que é a política da LGPD?      question   \n",
       "3608                Quais são os papéis dentro da LGPD?      question   \n",
       "3618  Qual o objetivo do canal de atendimento para d...      question   \n",
       "3623  Qual o papel do consentimento no direito dos t...      question   \n",
       "\n",
       "                                            environment  \\\n",
       "3603  AmbienteCentro de serviço - Lei Geral de Prote...   \n",
       "3606  AmbienteCentro de Serviço - Lei Geral de Prote...   \n",
       "3608  AmbienteCentro de serviço - Lei Geral de Prote...   \n",
       "3618  AmbienteCentro de Serviço - Lei Geral de Prote...   \n",
       "3623  AmbienteCentro de Serviço - Lei Geral de Prote...   \n",
       "\n",
       "                                               solution  \\\n",
       "3603  </strong><strong></strong>Caso tenha algum dad...   \n",
       "3606  </strong><strong></strong>A TOTVS tem como pri...   \n",
       "3608  </strong></p><ul><li><strong>Titular dos Dados...   \n",
       "3618  </strong><strong></strong>O canal de atendimen...   \n",
       "3623  </strong><strong></strong>O consentimento perm...   \n",
       "\n",
       "                                     sanitized_solution  \n",
       "3603  Caso tenha algum dado que esteja desatualizado...  \n",
       "3606  A TOTVS tem como prioridade proteger, preserva...  \n",
       "3608  Titular dos Dados é a pessoa física a quem se ...  \n",
       "3618  O canal de atendimento para direitos dos titul...  \n",
       "3623  O consentimento permite que o titular tenha ac...  \n",
       "\n",
       "[5 rows x 31 columns]"
      ]
     },
     "execution_count": 23,
     "metadata": {},
     "output_type": "execute_result"
    }
   ],
   "source": [
    "df.head()"
   ]
  },
  {
   "cell_type": "code",
   "execution_count": 24,
   "metadata": {
    "colab": {},
    "colab_type": "code",
    "id": "X2OAA_3JhVtB"
   },
   "outputs": [],
   "source": [
    "df = df.dropna(subset=['question', 'question_type', 'environment', 'solution'])"
   ]
  },
  {
   "cell_type": "code",
   "execution_count": 25,
   "metadata": {},
   "outputs": [],
   "source": [
    "df = df.reset_index(drop=True)"
   ]
  },
  {
   "cell_type": "code",
   "execution_count": 26,
   "metadata": {
    "colab": {
     "base_uri": "https://localhost:8080/",
     "height": 34
    },
    "colab_type": "code",
    "id": "xd30dGG6czHs",
    "outputId": "c27aec52-995d-4034-9275-1609790fa0f5"
   },
   "outputs": [
    {
     "data": {
      "text/plain": [
       "14"
      ]
     },
     "execution_count": 26,
     "metadata": {},
     "output_type": "execute_result"
    }
   ],
   "source": [
    "df['question'].count()"
   ]
  },
  {
   "cell_type": "code",
   "execution_count": 27,
   "metadata": {},
   "outputs": [],
   "source": [
    "df['id'] = df['id'].apply(lambda x: x.replace('.0', ''))"
   ]
  },
  {
   "cell_type": "code",
   "execution_count": 28,
   "metadata": {},
   "outputs": [
    {
     "data": {
      "text/plain": [
       "'360048955753'"
      ]
     },
     "execution_count": 28,
     "metadata": {},
     "output_type": "execute_result"
    }
   ],
   "source": [
    "df.iloc[0].id"
   ]
  },
  {
   "cell_type": "code",
   "execution_count": 45,
   "metadata": {},
   "outputs": [],
   "source": [
    "dupl = df[df.duplicated(['question'])]"
   ]
  },
  {
   "cell_type": "code",
   "execution_count": 46,
   "metadata": {},
   "outputs": [
    {
     "ename": "ModuleNotFoundError",
     "evalue": "No module named 'openpyxl'",
     "output_type": "error",
     "traceback": [
      "\u001b[0;31m---------------------------------------------------------------------------\u001b[0m",
      "\u001b[0;31mModuleNotFoundError\u001b[0m                       Traceback (most recent call last)",
      "\u001b[0;32m<ipython-input-46-9a76e001cb0f>\u001b[0m in \u001b[0;36m<module>\u001b[0;34m\u001b[0m\n\u001b[0;32m----> 1\u001b[0;31m \u001b[0mdupl\u001b[0m\u001b[0;34m[\u001b[0m\u001b[0;34m[\u001b[0m\u001b[0;34m'question'\u001b[0m\u001b[0;34m,\u001b[0m \u001b[0;34m'brand_id'\u001b[0m\u001b[0;34m,\u001b[0m \u001b[0;34m'label_names'\u001b[0m\u001b[0;34m,\u001b[0m \u001b[0;34m'title'\u001b[0m\u001b[0;34m,\u001b[0m \u001b[0;34m'html_url'\u001b[0m\u001b[0;34m]\u001b[0m\u001b[0;34m]\u001b[0m\u001b[0;34m.\u001b[0m\u001b[0mto_excel\u001b[0m\u001b[0;34m(\u001b[0m\u001b[0;34m'articles_with_duplicate_questions.xlsx'\u001b[0m\u001b[0;34m,\u001b[0m \u001b[0mindex\u001b[0m\u001b[0;34m=\u001b[0m\u001b[0;32mFalse\u001b[0m\u001b[0;34m)\u001b[0m\u001b[0;34m\u001b[0m\u001b[0;34m\u001b[0m\u001b[0m\n\u001b[0m",
      "\u001b[0;32m~/opt/miniconda3/envs/bert/lib/python3.6/site-packages/pandas/core/frame.py\u001b[0m in \u001b[0;36mto_excel\u001b[0;34m(self, excel_writer, sheet_name, na_rep, float_format, columns, header, index, index_label, startrow, startcol, engine, merge_cells, encoding, inf_rep, verbose, freeze_panes)\u001b[0m\n\u001b[1;32m   1764\u001b[0m         formatter.write(excel_writer, sheet_name=sheet_name, startrow=startrow,\n\u001b[1;32m   1765\u001b[0m                         \u001b[0mstartcol\u001b[0m\u001b[0;34m=\u001b[0m\u001b[0mstartcol\u001b[0m\u001b[0;34m,\u001b[0m \u001b[0mfreeze_panes\u001b[0m\u001b[0;34m=\u001b[0m\u001b[0mfreeze_panes\u001b[0m\u001b[0;34m,\u001b[0m\u001b[0;34m\u001b[0m\u001b[0;34m\u001b[0m\u001b[0m\n\u001b[0;32m-> 1766\u001b[0;31m                         engine=engine)\n\u001b[0m\u001b[1;32m   1767\u001b[0m \u001b[0;34m\u001b[0m\u001b[0m\n\u001b[1;32m   1768\u001b[0m     def to_stata(self, fname, convert_dates=None, write_index=True,\n",
      "\u001b[0;32m~/opt/miniconda3/envs/bert/lib/python3.6/site-packages/pandas/io/formats/excel.py\u001b[0m in \u001b[0;36mwrite\u001b[0;34m(self, writer, sheet_name, startrow, startcol, freeze_panes, engine)\u001b[0m\n\u001b[1;32m    644\u001b[0m             \u001b[0mneed_save\u001b[0m \u001b[0;34m=\u001b[0m \u001b[0;32mFalse\u001b[0m\u001b[0;34m\u001b[0m\u001b[0;34m\u001b[0m\u001b[0m\n\u001b[1;32m    645\u001b[0m         \u001b[0;32melse\u001b[0m\u001b[0;34m:\u001b[0m\u001b[0;34m\u001b[0m\u001b[0;34m\u001b[0m\u001b[0m\n\u001b[0;32m--> 646\u001b[0;31m             \u001b[0mwriter\u001b[0m \u001b[0;34m=\u001b[0m \u001b[0mExcelWriter\u001b[0m\u001b[0;34m(\u001b[0m\u001b[0m_stringify_path\u001b[0m\u001b[0;34m(\u001b[0m\u001b[0mwriter\u001b[0m\u001b[0;34m)\u001b[0m\u001b[0;34m,\u001b[0m \u001b[0mengine\u001b[0m\u001b[0;34m=\u001b[0m\u001b[0mengine\u001b[0m\u001b[0;34m)\u001b[0m\u001b[0;34m\u001b[0m\u001b[0;34m\u001b[0m\u001b[0m\n\u001b[0m\u001b[1;32m    647\u001b[0m             \u001b[0mneed_save\u001b[0m \u001b[0;34m=\u001b[0m \u001b[0;32mTrue\u001b[0m\u001b[0;34m\u001b[0m\u001b[0;34m\u001b[0m\u001b[0m\n\u001b[1;32m    648\u001b[0m \u001b[0;34m\u001b[0m\u001b[0m\n",
      "\u001b[0;32m~/opt/miniconda3/envs/bert/lib/python3.6/site-packages/pandas/io/excel.py\u001b[0m in \u001b[0;36m__init__\u001b[0;34m(self, path, engine, **engine_kwargs)\u001b[0m\n\u001b[1;32m    996\u001b[0m     \u001b[0;32mdef\u001b[0m \u001b[0m__init__\u001b[0m\u001b[0;34m(\u001b[0m\u001b[0mself\u001b[0m\u001b[0;34m,\u001b[0m \u001b[0mpath\u001b[0m\u001b[0;34m,\u001b[0m \u001b[0mengine\u001b[0m\u001b[0;34m=\u001b[0m\u001b[0;32mNone\u001b[0m\u001b[0;34m,\u001b[0m \u001b[0;34m**\u001b[0m\u001b[0mengine_kwargs\u001b[0m\u001b[0;34m)\u001b[0m\u001b[0;34m:\u001b[0m\u001b[0;34m\u001b[0m\u001b[0;34m\u001b[0m\u001b[0m\n\u001b[1;32m    997\u001b[0m         \u001b[0;31m# Use the openpyxl module as the Excel writer.\u001b[0m\u001b[0;34m\u001b[0m\u001b[0;34m\u001b[0m\u001b[0;34m\u001b[0m\u001b[0m\n\u001b[0;32m--> 998\u001b[0;31m         \u001b[0;32mfrom\u001b[0m \u001b[0mopenpyxl\u001b[0m\u001b[0;34m.\u001b[0m\u001b[0mworkbook\u001b[0m \u001b[0;32mimport\u001b[0m \u001b[0mWorkbook\u001b[0m\u001b[0;34m\u001b[0m\u001b[0;34m\u001b[0m\u001b[0m\n\u001b[0m\u001b[1;32m    999\u001b[0m \u001b[0;34m\u001b[0m\u001b[0m\n\u001b[1;32m   1000\u001b[0m         \u001b[0msuper\u001b[0m\u001b[0;34m(\u001b[0m\u001b[0m_OpenpyxlWriter\u001b[0m\u001b[0;34m,\u001b[0m \u001b[0mself\u001b[0m\u001b[0;34m)\u001b[0m\u001b[0;34m.\u001b[0m\u001b[0m__init__\u001b[0m\u001b[0;34m(\u001b[0m\u001b[0mpath\u001b[0m\u001b[0;34m,\u001b[0m \u001b[0;34m**\u001b[0m\u001b[0mengine_kwargs\u001b[0m\u001b[0;34m)\u001b[0m\u001b[0;34m\u001b[0m\u001b[0;34m\u001b[0m\u001b[0m\n",
      "\u001b[0;31mModuleNotFoundError\u001b[0m: No module named 'openpyxl'"
     ]
    }
   ],
   "source": [
    "dupl[['question', 'brand_id', 'label_names', 'title', 'html_url']].to_excel('articles_with_duplicate_questions.xlsx', index=False)"
   ]
  },
  {
   "cell_type": "code",
   "execution_count": null,
   "metadata": {},
   "outputs": [],
   "source": [
    "dupl.head()[['question', 'brand_id', 'label_names', 'title']]"
   ]
  },
  {
   "cell_type": "code",
   "execution_count": null,
   "metadata": {},
   "outputs": [],
   "source": [
    "dupl.iloc[1].html_url"
   ]
  },
  {
   "cell_type": "code",
   "execution_count": 90,
   "metadata": {
    "colab": {},
    "colab_type": "code",
    "id": "M06IFXViczHu"
   },
   "outputs": [
    {
     "name": "stderr",
     "output_type": "stream",
     "text": [
      "<ipython-input-90-0571c2c7d7f7>:1: UserWarning: This pattern has match groups. To actually get the groups, use str.extract.\n",
      "  hifen = df[df.question.str.contains('((?:\\w+-)+\\w+)', regex=True)]\n"
     ]
    }
   ],
   "source": [
    "hifen = df[df.question.str.contains('((?:\\w+-)+\\w+)', regex=True)]"
   ]
  },
  {
   "cell_type": "code",
   "execution_count": 91,
   "metadata": {},
   "outputs": [
    {
     "data": {
      "text/plain": [
       "(3173, 31)"
      ]
     },
     "execution_count": 91,
     "metadata": {},
     "output_type": "execute_result"
    }
   ],
   "source": [
    "hifen.shape"
   ]
  },
  {
   "cell_type": "code",
   "execution_count": 92,
   "metadata": {},
   "outputs": [
    {
     "data": {
      "text/html": [
       "<div>\n",
       "<style scoped>\n",
       "    .dataframe tbody tr th:only-of-type {\n",
       "        vertical-align: middle;\n",
       "    }\n",
       "\n",
       "    .dataframe tbody tr th {\n",
       "        vertical-align: top;\n",
       "    }\n",
       "\n",
       "    .dataframe thead th {\n",
       "        text-align: right;\n",
       "    }\n",
       "</style>\n",
       "<table border=\"1\" class=\"dataframe\">\n",
       "  <thead>\n",
       "    <tr style=\"text-align: right;\">\n",
       "      <th></th>\n",
       "      <th>question</th>\n",
       "    </tr>\n",
       "  </thead>\n",
       "  <tbody>\n",
       "    <tr>\n",
       "      <th>9567</th>\n",
       "      <td>Rejeição 1017 - NF-e Emitido em ambiente de pr...</td>\n",
       "    </tr>\n",
       "    <tr>\n",
       "      <th>6189</th>\n",
       "      <td>S-1200 - Como informar 13º Salário para Pró-la...</td>\n",
       "    </tr>\n",
       "    <tr>\n",
       "      <th>12263</th>\n",
       "      <td>MDTA640 - THREAD ERROR invalid class MDT640EVE...</td>\n",
       "    </tr>\n",
       "    <tr>\n",
       "      <th>4174</th>\n",
       "      <td>Quais os fontes envolvidos para cancelamento d...</td>\n",
       "    </tr>\n",
       "    <tr>\n",
       "      <th>4375</th>\n",
       "      <td>Como consultar no site do eSocial dados do eve...</td>\n",
       "    </tr>\n",
       "  </tbody>\n",
       "</table>\n",
       "</div>"
      ],
      "text/plain": [
       "                                                question\n",
       "9567   Rejeição 1017 - NF-e Emitido em ambiente de pr...\n",
       "6189   S-1200 - Como informar 13º Salário para Pró-la...\n",
       "12263  MDTA640 - THREAD ERROR invalid class MDT640EVE...\n",
       "4174   Quais os fontes envolvidos para cancelamento d...\n",
       "4375   Como consultar no site do eSocial dados do eve..."
      ]
     },
     "execution_count": 92,
     "metadata": {},
     "output_type": "execute_result"
    }
   ],
   "source": [
    "hifen.sample(5)[['question']]"
   ]
  },
  {
   "cell_type": "code",
   "execution_count": 93,
   "metadata": {},
   "outputs": [
    {
     "data": {
      "text/plain": [
       "'É possível alterar o endereço de e-mail de um usuário no Identity?'"
      ]
     },
     "execution_count": 93,
     "metadata": {},
     "output_type": "execute_result"
    }
   ],
   "source": [
    "hifen.iloc[3].question"
   ]
  },
  {
   "cell_type": "code",
   "execution_count": 94,
   "metadata": {},
   "outputs": [],
   "source": [
    "hifen[['question', 'brand_id', 'label_names', 'title', 'html_url']].to_excel('articles_with_hyphenated_words_in_questions.xlsx', index=False)"
   ]
  },
  {
   "cell_type": "code",
   "execution_count": 29,
   "metadata": {},
   "outputs": [],
   "source": [
    "target = Carol(domain='mendes',\n",
    "app_name='searchlgpd',\n",
    "organization='datascience',\n",
    "auth=ApiKeyAuth('bf56760357424b60ae9558bcf9f090c2'),\n",
    "connector_id='175e781f1cce470eb0457323430f1407')"
   ]
  },
  {
   "cell_type": "code",
   "execution_count": 37,
   "metadata": {},
   "outputs": [],
   "source": [
    "target_stag = Staging(target)"
   ]
  },
  {
   "cell_type": "raw",
   "metadata": {},
   "source": [
    "target_stag.send_data(staging_name='lgpd_articles', connector_id='175e781f1cce470eb0457323430f1407', data=df,\n",
    "                             crosswalk_auto_create=['idinternalmdb'], auto_create_schema=True)"
   ]
  },
  {
   "cell_type": "code",
   "execution_count": 97,
   "metadata": {},
   "outputs": [
    {
     "name": "stderr",
     "output_type": "stream",
     "text": [
      "<ipython-input-97-33f5a54b4626>:1: DeprecationWarning: fields_dict will be deprecated, use `data`\n",
      "  target_stag.send_data(staging_name='articles', connector_id='175e781f1cce470eb0457323430f1407', data=df,\n"
     ]
    },
    {
     "name": "stdout",
     "output_type": "stream",
     "text": [
      "provided crosswalk  ['idinternalmdb']\n",
      "32540/32540 sent\r"
     ]
    }
   ],
   "source": [
    "target_stag.send_data(staging_name='articles', connector_id='175e781f1cce470eb0457323430f1407', data=df,\n",
    "                             crosswalk_auto_create=['idinternalmdb'], auto_create_schema=True)"
   ]
  },
  {
   "cell_type": "markdown",
   "metadata": {},
   "source": [
    "### Get sentence embeddings"
   ]
  },
  {
   "cell_type": "code",
   "execution_count": 2,
   "metadata": {
    "colab": {},
    "colab_type": "code",
    "id": "_z9RFgyqHAek"
   },
   "outputs": [],
   "source": [
    "from sentence_transformers import SentenceTransformer"
   ]
  },
  {
   "cell_type": "code",
   "execution_count": 3,
   "metadata": {},
   "outputs": [],
   "source": [
    "# Load Sentence model (based on BERT) from URL\n",
    "model = SentenceTransformer('distiluse-base-multilingual-cased')"
   ]
  },
  {
   "cell_type": "code",
   "execution_count": 30,
   "metadata": {
    "colab": {
     "base_uri": "https://localhost:8080/",
     "height": 1000
    },
    "colab_type": "code",
    "id": "KADDlQLjGpmj",
    "outputId": "df5d8794-4574-4995-a2f8-e52855bc7be1"
   },
   "outputs": [],
   "source": [
    "# Embed a list of sentences\n",
    "sentence_embeddings = model.encode(df.question.values)"
   ]
  },
  {
   "cell_type": "code",
   "execution_count": 31,
   "metadata": {},
   "outputs": [
    {
     "data": {
      "text/plain": [
       "[array([-0.05934872,  0.02180461, -0.00917931,  0.02191107, -0.06955869,\n",
       "         0.03660789, -0.02371017, -0.01244595,  0.01701423, -0.10362726,\n",
       "         0.0024973 ,  0.00838947, -0.03465331, -0.00456053, -0.02349719,\n",
       "         0.05757834,  0.02949427,  0.03951875, -0.07875644,  0.03221134,\n",
       "        -0.06575292, -0.05158757,  0.03920632, -0.02295877, -0.00462366,\n",
       "        -0.01261519, -0.01666118,  0.0088603 ,  0.00061523,  0.02016558,\n",
       "         0.0383406 ,  0.03902902, -0.07348219, -0.01400102,  0.05533921,\n",
       "        -0.0121338 ,  0.01385968, -0.03790585,  0.01737368,  0.03085956,\n",
       "        -0.00823965, -0.00037513,  0.00869321,  0.02421395,  0.02302777,\n",
       "        -0.03252267, -0.04679887,  0.00788235,  0.0174855 , -0.04680035,\n",
       "        -0.01018852,  0.04563259, -0.1372602 , -0.00300492,  0.04492883,\n",
       "        -0.00197007,  0.05702331, -0.00595822,  0.08240177,  0.01823072,\n",
       "        -0.02495244, -0.01176428,  0.00283476,  0.04163041,  0.03612917,\n",
       "         0.03737028, -0.05185568, -0.0416397 ,  0.00038342, -0.02226937,\n",
       "        -0.12536107, -0.01764601,  0.01946677,  0.04743509, -0.02198274,\n",
       "         0.03371532, -0.0011424 , -0.0421363 , -0.02007231, -0.00091967,\n",
       "         0.03681894, -0.12198237,  0.09069316, -0.05403028, -0.08260693,\n",
       "         0.04330534, -0.03298821, -0.02489447,  0.04242678, -0.01294168,\n",
       "        -0.03835233, -0.01740362,  0.04060876, -0.02382335, -0.07011518,\n",
       "        -0.01981908,  0.05647856,  0.11122845,  0.03241138,  0.03895829,\n",
       "        -0.06043315,  0.03669051, -0.07775919,  0.04548482,  0.05992632,\n",
       "         0.0052739 ,  0.03283477, -0.08638339,  0.00940477,  0.02804229,\n",
       "        -0.02558753,  0.04807329,  0.11227196,  0.01223544, -0.08596257,\n",
       "        -0.00782385,  0.05358838,  0.02364366,  0.10987578, -0.0506306 ,\n",
       "         0.01939061, -0.00761525, -0.03965897, -0.07312169,  0.04483807,\n",
       "         0.0041228 , -0.02639921,  0.03875706,  0.01912158,  0.04073597,\n",
       "         0.00663293,  0.00264934,  0.07755728,  0.01455867, -0.01203439,\n",
       "        -0.03496256,  0.05628271,  0.02554465, -0.02829833,  0.01221756,\n",
       "        -0.06962213,  0.00235576,  0.05335625, -0.02349504, -0.03703346,\n",
       "        -0.01070475,  0.03479655,  0.07944806,  0.01526025,  0.03195208,\n",
       "        -0.00458394, -0.04497246, -0.01760946,  0.01326015,  0.03182306,\n",
       "         0.0186566 ,  0.07319395,  0.0573683 , -0.02646718, -0.00662313,\n",
       "        -0.00156832,  0.00758723,  0.03869953,  0.08224238,  0.06569381,\n",
       "        -0.01902592,  0.03928814, -0.01749116, -0.02450687,  0.0335796 ,\n",
       "         0.06803487, -0.05226057, -0.01838487,  0.03767617, -0.00093348,\n",
       "        -0.02068529,  0.06283677,  0.04297414,  0.00513436,  0.01767763,\n",
       "         0.0645166 , -0.0130063 , -0.01524642,  0.04598553, -0.05175725,\n",
       "         0.08328401,  0.02499845,  0.00478857,  0.00341315,  0.01294555,\n",
       "        -0.00177092,  0.01228978, -0.03883692, -0.02915348, -0.06107663,\n",
       "         0.01857732,  0.01015623,  0.02970865,  0.07488199,  0.04011531,\n",
       "        -0.02978541,  0.07012241,  0.04762933,  0.02207269, -0.01201743,\n",
       "        -0.00126384, -0.01303984, -0.03721385, -0.02622165,  0.0287154 ,\n",
       "        -0.01426025,  0.0260739 ,  0.08535856,  0.00387472,  0.03585988,\n",
       "        -0.00237347,  0.01787628, -0.03892002,  0.02272018, -0.03549092,\n",
       "        -0.00518472,  0.04968528,  0.04966508, -0.00298997, -0.03701214,\n",
       "        -0.02711015, -0.06252289, -0.0420252 , -0.01523833, -0.00977266,\n",
       "         0.01923929, -0.07649681, -0.05833025, -0.03701987,  0.02445096,\n",
       "         0.01191279, -0.0509546 , -0.02507996,  0.00946173,  0.00406946,\n",
       "         0.0701486 , -0.01504786,  0.00154857, -0.02573983, -0.00473228,\n",
       "        -0.0745152 , -0.03023194, -0.07608497,  0.01378548, -0.00427047,\n",
       "         0.01429841,  0.01572021, -0.01500632,  0.03926384,  0.0079261 ,\n",
       "        -0.03578679,  0.01588556,  0.00293763,  0.06208475, -0.03061929,\n",
       "         0.00333971, -0.00583405, -0.02310626, -0.05013113,  0.03265419,\n",
       "         0.02511545, -0.00462431,  0.08151282, -0.05172329, -0.02325031,\n",
       "         0.03720045, -0.00152269, -0.03199559,  0.05413649, -0.09721766,\n",
       "        -0.02044468,  0.00706463,  0.00023963, -0.03061833, -0.00696846,\n",
       "        -0.01968685,  0.06800386,  0.03258511,  0.00486554,  0.04037467,\n",
       "        -0.03544109, -0.00131855, -0.03258005, -0.02519435, -0.02604815,\n",
       "         0.00582913, -0.10371856,  0.01021215, -0.03375459,  0.05900542,\n",
       "        -0.09404756,  0.0175211 , -0.04683184, -0.00526836,  0.06762994,\n",
       "        -0.0173809 ,  0.04989579,  0.02976536, -0.00696503, -0.0168631 ,\n",
       "         0.00660309, -0.01780726,  0.02539565,  0.04497023,  0.04772773,\n",
       "        -0.04983757,  0.00597812, -0.05054635, -0.03119854,  0.02202921,\n",
       "         0.03042174,  0.0380588 ,  0.03648286, -0.07385474, -0.03570174,\n",
       "        -0.01541838, -0.01397458,  0.03790727, -0.02491486,  0.01020312,\n",
       "         0.02387906,  0.04443959, -0.04140023,  0.04626917, -0.07786937,\n",
       "         0.01797931,  0.01942007, -0.00864167,  0.02225083, -0.03259436,\n",
       "        -0.00178003, -0.01275644, -0.0238536 , -0.08583482,  0.02291052,\n",
       "         0.01683709, -0.05326574,  0.0030586 , -0.03319205, -0.03980638,\n",
       "        -0.08159255,  0.10431143,  0.03442384, -0.0747983 , -0.04807584,\n",
       "        -0.00927668,  0.01080363,  0.00543867,  0.0177752 ,  0.06156125,\n",
       "        -0.03167148,  0.02574135, -0.06975272, -0.02422331, -0.04882306,\n",
       "        -0.03394601,  0.05455144,  0.00506447, -0.03057074,  0.01028996,\n",
       "        -0.03148308,  0.01703262, -0.00111863, -0.01852139, -0.03218188,\n",
       "        -0.07709742,  0.02638213,  0.04237159, -0.06368957,  0.00952465,\n",
       "        -0.01829797, -0.01612972, -0.00878385,  0.01633241, -0.00841384,\n",
       "        -0.00025474, -0.02762034, -0.04371318,  0.01209272, -0.06653394,\n",
       "         0.01308674,  0.05727642, -0.04145901,  0.04095775, -0.00180458,\n",
       "         0.02795013,  0.04101202,  0.04897539, -0.03266983,  0.05534694,\n",
       "         0.03481214,  0.0082152 , -0.00883385, -0.00929399,  0.04406048,\n",
       "         0.00573719,  0.0007722 , -0.05441592,  0.05261592, -0.1279676 ,\n",
       "        -0.01782542,  0.02871605,  0.027088  ,  0.05093751,  0.01411248,\n",
       "        -0.00550818,  0.00873858,  0.00905868, -0.02358099, -0.06945094,\n",
       "        -0.01404588,  0.06382818, -0.01918688, -0.02384979,  0.03605713,\n",
       "        -0.00818319,  0.05592176,  0.00473322,  0.05070969, -0.04492085,\n",
       "         0.04557107, -0.0155959 , -0.01365618,  0.04961097,  0.04110083,\n",
       "         0.02026589, -0.00851103, -0.02135435,  0.00825119,  0.00181899,\n",
       "         0.04382911,  0.06921471,  0.03201111,  0.02866251,  0.03580049,\n",
       "        -0.02714851,  0.09393877,  0.02695151, -0.0466169 ,  0.03838424,\n",
       "         0.01931187, -0.01960497,  0.05250629, -0.04491451,  0.04172205,\n",
       "        -0.02001214,  0.03666368, -0.00636445,  0.04415388,  0.02630624,\n",
       "         0.03521457,  0.04968878, -0.05932514,  0.03521466, -0.01057802,\n",
       "         0.01277991,  0.04804321, -0.03087469,  0.03380544,  0.02034784,\n",
       "        -0.00433281,  0.0334816 ,  0.024001  ,  0.05200769, -0.01719914,\n",
       "         0.01901137, -0.06447657,  0.06451655,  0.03143797,  0.03706895,\n",
       "        -0.04152418,  0.01122499,  0.00939974,  0.05596834,  0.00082768,\n",
       "         0.03802395,  0.03666508,  0.00747873, -0.04312791, -0.01401502,\n",
       "         0.02616874,  0.06942768,  0.02729054,  0.03333367, -0.00330817,\n",
       "         0.05310349, -0.0472982 , -0.01411258, -0.00205937, -0.03211197,\n",
       "         0.03649908, -0.06245919, -0.03477621,  0.04327955,  0.04313976,\n",
       "         0.03898903,  0.01787242,  0.12632664,  0.0234141 ,  0.03971285,\n",
       "         0.0300098 , -0.00478783, -0.09227363, -0.09431641,  0.06339976,\n",
       "        -0.05844847, -0.04228421], dtype=float32),\n",
       " array([-1.25514986e-02,  3.89452688e-02,  7.44504109e-02,  3.50359790e-02,\n",
       "        -4.09269184e-02,  4.35477383e-02, -7.18736723e-02, -1.32907100e-03,\n",
       "         4.52124216e-02, -9.91163105e-02,  3.65895890e-02,  7.62194693e-02,\n",
       "        -1.73646566e-02,  2.90902741e-02, -3.80782150e-02,  1.69226062e-02,\n",
       "        -3.61950360e-02,  1.78647712e-02,  4.42446768e-03,  7.60756806e-02,\n",
       "         2.65601613e-02, -1.55923516e-02,  4.25129496e-02, -1.18486285e-02,\n",
       "         1.88478604e-02,  6.18332475e-02, -5.33108711e-02,  4.57581952e-02,\n",
       "         7.89260939e-02,  4.26639207e-02,  9.97539684e-02, -1.52740581e-02,\n",
       "         2.50833780e-02, -2.54078470e-02,  4.66724252e-03, -4.67557609e-02,\n",
       "        -9.49421711e-03,  3.00508775e-02,  1.60308811e-03, -6.64714500e-02,\n",
       "         1.65894926e-02, -2.11190223e-03,  8.34173057e-03, -3.87839973e-02,\n",
       "        -6.86775818e-02,  1.51130627e-03,  3.86543162e-02, -9.92058311e-03,\n",
       "         4.48432006e-02, -1.43844010e-02,  3.09143327e-02,  3.37354988e-02,\n",
       "         5.08075319e-02,  1.91795267e-02, -3.12440153e-02,  3.10948826e-02,\n",
       "         2.76418263e-03,  2.07404289e-02, -1.78171527e-02,  2.42990050e-02,\n",
       "         5.22386208e-02, -4.53763008e-02, -8.33362248e-03, -1.74193941e-02,\n",
       "         5.92489839e-02,  6.04719445e-02,  2.22925097e-02,  4.00761180e-02,\n",
       "         1.00770108e-02,  2.25090142e-02,  7.54760578e-03, -3.64932567e-02,\n",
       "         4.73866210e-04, -1.09519658e-03, -3.62157151e-02,  1.91326439e-02,\n",
       "         1.79620329e-02,  6.29788861e-02, -3.53139266e-02, -3.47711891e-02,\n",
       "         4.86819744e-02, -1.38883486e-01,  3.08637619e-02,  6.80189133e-02,\n",
       "        -1.51927797e-02,  1.48547245e-02,  6.82618096e-03,  6.98440336e-03,\n",
       "         7.27135912e-02,  5.30991592e-02, -1.71163660e-02,  7.45481029e-02,\n",
       "         4.23096642e-02, -1.14914626e-02, -5.94411753e-02,  3.31237819e-03,\n",
       "         3.58182974e-02, -1.16516706e-02, -5.53947594e-03,  1.13134384e-01,\n",
       "        -3.06323767e-02, -1.45746171e-02,  1.46906795e-02,  4.79958318e-02,\n",
       "         4.04535001e-03,  4.40044850e-02, -2.32203268e-02,  2.81325690e-02,\n",
       "         8.58372003e-02,  2.73382850e-02, -1.91763192e-02, -1.98021978e-02,\n",
       "        -2.26669908e-02, -2.01885421e-02,  7.18226880e-02,  1.17142508e-02,\n",
       "        -7.80468360e-02, -1.10263461e-02,  1.12108193e-01,  9.36854631e-05,\n",
       "         1.83863621e-02,  4.39280458e-02,  2.70927176e-02, -4.15184610e-02,\n",
       "         3.96853834e-02, -4.77200653e-03,  1.34722209e-02, -6.33764043e-02,\n",
       "        -2.96903010e-02,  1.21270772e-02,  1.44046228e-02, -8.32601786e-02,\n",
       "         6.44733384e-03,  3.44757624e-02, -5.66530786e-02, -4.67721336e-02,\n",
       "         1.23853553e-02,  2.38739401e-02, -3.91378216e-02, -2.20746435e-02,\n",
       "         9.92287509e-03, -8.01658724e-03,  4.34959829e-02, -4.36848886e-02,\n",
       "        -3.53183523e-02,  2.36400291e-02,  7.78751224e-02, -4.62684557e-02,\n",
       "         1.61458943e-02,  4.97530587e-03,  8.67371913e-03,  4.08202112e-02,\n",
       "        -2.54928460e-03,  2.68310159e-02,  8.63404199e-03,  3.07453386e-02,\n",
       "        -1.48436921e-02, -3.36544588e-02, -1.93976536e-02,  5.28422110e-02,\n",
       "        -6.50530159e-02,  1.98994521e-02,  2.30045188e-02,  1.40124233e-02,\n",
       "        -1.78388394e-02,  3.75280268e-02,  2.06766669e-02, -1.14096785e-02,\n",
       "        -7.98178837e-03,  3.23161073e-02,  1.22488953e-01, -5.52873425e-02,\n",
       "        -7.92224240e-03,  2.18905844e-02, -2.75636259e-02,  9.83936861e-02,\n",
       "         4.99819545e-03,  2.26126034e-02, -7.24735707e-02,  2.10028738e-02,\n",
       "        -4.70455065e-02,  2.29381137e-02,  5.17958105e-02,  4.14846502e-02,\n",
       "        -1.54534308e-02, -4.71369959e-02,  2.62572002e-02,  2.67991126e-02,\n",
       "         4.86646555e-02, -3.31294611e-02,  4.52234969e-03, -6.06149100e-02,\n",
       "         6.59547746e-02, -1.31861987e-02, -1.10055953e-02, -6.08128905e-02,\n",
       "        -3.55386734e-02,  3.89034394e-03,  1.52306100e-02, -4.80043218e-02,\n",
       "        -4.02951352e-02, -3.18536200e-02, -1.00523438e-02,  1.25371084e-01,\n",
       "         1.91160198e-02, -2.96006296e-02,  1.31236529e-02,  8.82107671e-03,\n",
       "         5.74980676e-02,  7.35201091e-02,  2.81500723e-02, -8.79914500e-03,\n",
       "        -5.08158803e-02,  4.46421579e-02, -9.92619991e-03,  6.68437500e-03,\n",
       "         5.02571985e-02,  4.20564041e-02,  5.34609817e-02, -4.09720792e-03,\n",
       "        -1.27240494e-02, -4.45897952e-02,  1.75704453e-02, -3.80079038e-02,\n",
       "         1.35042816e-02,  4.31462973e-02, -6.36421656e-03,  3.89666520e-02,\n",
       "        -8.07752658e-04,  4.92254533e-02, -9.84006971e-02,  1.65963564e-02,\n",
       "        -2.44390033e-02,  4.28789258e-02,  4.80346009e-02, -4.02861312e-02,\n",
       "        -8.25775973e-03, -6.12225495e-02, -4.47850645e-04,  6.23325519e-02,\n",
       "        -1.46393314e-01,  6.39262497e-02,  1.93239364e-03, -2.27724556e-02,\n",
       "         4.56612520e-02,  9.05401446e-03,  7.28314696e-03, -1.59580465e-02,\n",
       "        -5.63445203e-02, -9.59415957e-02,  3.15004252e-02, -3.98091152e-02,\n",
       "         8.14753100e-02,  2.23615672e-02, -1.33024445e-02,  2.69703791e-02,\n",
       "        -3.48085500e-02,  3.58264223e-02,  4.64831851e-03,  3.10872458e-02,\n",
       "        -6.97778761e-02,  3.52565688e-03,  9.06342864e-02,  5.96334459e-03,\n",
       "         3.79467122e-02, -3.12411860e-02, -3.53744184e-03,  4.29545119e-02,\n",
       "        -1.32703986e-02, -2.70289779e-02, -3.06302160e-02, -4.44200337e-02,\n",
       "         1.21268677e-02,  5.61506152e-02,  6.83844388e-02, -5.44863520e-03,\n",
       "         3.15717384e-02, -1.56578086e-02,  1.79916695e-02, -2.56049726e-02,\n",
       "        -1.43866322e-03,  7.56084770e-02,  2.35254061e-03,  4.66378741e-02,\n",
       "         5.28143272e-02,  4.55378890e-02,  3.63738388e-02, -6.21424243e-02,\n",
       "        -5.93928955e-02,  2.88578356e-03, -1.84214637e-02, -6.43286901e-03,\n",
       "        -1.07532786e-02, -7.24199926e-03,  8.74735489e-02, -5.48618436e-02,\n",
       "        -3.43902260e-02,  7.90920183e-02, -6.79608285e-02,  6.04937896e-02,\n",
       "        -9.08815302e-03, -2.41642166e-03,  5.40976366e-03,  1.27198575e-02,\n",
       "        -4.54556644e-02,  2.67011430e-02,  1.01556967e-03,  2.67913677e-02,\n",
       "         1.73920915e-02,  1.54942572e-02,  2.01332662e-03,  6.71993718e-02,\n",
       "         3.79292900e-03,  5.16116712e-03, -3.92273674e-03, -5.50099947e-02,\n",
       "        -6.21770881e-03,  2.79577766e-02, -6.29070252e-02, -2.97307037e-02,\n",
       "         3.01503893e-02,  3.65561061e-03, -4.40063216e-02, -2.63814768e-03,\n",
       "         2.22276505e-02, -7.16238171e-02,  1.33487871e-02, -2.39894614e-02,\n",
       "         3.80463377e-02, -6.14684187e-02,  6.87285280e-03, -2.30450649e-02,\n",
       "        -3.65204141e-02, -7.32440948e-02,  2.03977805e-02, -5.16859554e-02,\n",
       "         5.49612530e-02,  4.56323818e-04,  4.47635837e-02,  8.78913607e-03,\n",
       "        -1.92533201e-03,  3.88899744e-02,  2.28668451e-02, -2.11093351e-02,\n",
       "        -7.41992332e-03,  3.91261838e-02, -7.01484876e-03,  6.31665513e-02,\n",
       "         2.81399842e-02, -5.14830388e-02, -5.15661351e-02,  3.99536490e-02,\n",
       "        -4.37535793e-02, -2.74195913e-02,  7.14358920e-03,  7.02943280e-02,\n",
       "         9.91799962e-03, -1.24455430e-02,  6.06005033e-03,  1.22055933e-01,\n",
       "         7.21149370e-02,  1.92768052e-02, -5.95296770e-02,  6.04208075e-02,\n",
       "        -8.81037712e-02, -2.66346503e-02,  2.70613395e-02,  4.73603234e-02,\n",
       "        -1.11109996e-02,  1.77621134e-02,  4.06044945e-02,  7.51947332e-03,\n",
       "        -3.05720270e-02,  6.80490211e-02, -7.73722213e-03, -6.38225079e-02,\n",
       "         3.87802869e-02,  4.26337094e-04,  3.48908864e-02, -2.72382721e-02,\n",
       "         3.70831117e-02,  2.36133300e-02, -3.85829583e-02, -3.03149037e-02,\n",
       "         4.84903436e-03,  5.10314526e-03,  1.97612364e-02,  1.06130484e-02,\n",
       "        -7.95448273e-02, -3.22082154e-02,  3.86004411e-02,  4.70208786e-02,\n",
       "         2.17804071e-02, -2.52565909e-02,  6.87403372e-03, -1.29130483e-02,\n",
       "         1.66262349e-03, -9.22782719e-02, -6.16544336e-02, -1.81348622e-02,\n",
       "         9.64304805e-03, -6.10943092e-03, -5.30129345e-03,  4.50790636e-02,\n",
       "        -2.20582094e-02,  1.00982957e-01, -2.73647886e-02, -3.30768749e-02,\n",
       "        -2.40522716e-03, -2.45548524e-02, -9.55368392e-03, -5.75611405e-02,\n",
       "        -2.97533814e-02, -2.15159934e-02,  3.11722532e-02, -9.52360861e-04,\n",
       "        -1.50109036e-02, -2.54548155e-02, -4.66903336e-02,  7.20541179e-02,\n",
       "         7.91950908e-04, -1.31864566e-02,  5.15954904e-02, -3.87120210e-02,\n",
       "        -1.24206077e-02,  2.43255030e-02,  3.27062309e-02,  1.10696703e-02,\n",
       "        -3.97243910e-02,  1.49808116e-02, -3.59471403e-02, -6.07818551e-02,\n",
       "         2.87261084e-02,  2.18431391e-02, -1.04388371e-02,  4.59497562e-03,\n",
       "        -7.90419504e-02, -3.40120867e-02,  5.83394393e-02, -8.10630322e-02,\n",
       "        -4.79641138e-03,  2.78801434e-02, -3.48789431e-02,  2.58832891e-02,\n",
       "        -4.15698029e-02,  7.54769370e-02,  4.29360829e-02, -3.19611914e-02,\n",
       "        -1.06962033e-01,  2.25210227e-02, -2.87822038e-02, -6.03151461e-03,\n",
       "        -2.43949704e-04,  1.43534774e-02, -9.94181633e-03, -6.21541403e-02,\n",
       "         1.68291256e-02,  2.40351148e-02,  3.31754200e-02,  5.17760962e-02,\n",
       "         5.07188439e-02,  5.01305014e-02, -3.74025255e-02,  2.70457547e-02,\n",
       "        -2.53774878e-02, -1.91477500e-02, -2.16388460e-02,  2.49902606e-02,\n",
       "         1.53718833e-02, -5.01703806e-02, -4.51474302e-02,  8.08098987e-02,\n",
       "         5.48176616e-02, -1.11032266e-03,  5.15805967e-02,  3.24879885e-02,\n",
       "         3.09275389e-02,  1.03261610e-02,  2.78375596e-02,  2.22063381e-02,\n",
       "         3.06348987e-02,  1.12908613e-02, -3.90274450e-02, -8.15915838e-02,\n",
       "         5.18621504e-02, -1.01736477e-02,  4.61156592e-02,  1.05584577e-01,\n",
       "        -1.18839769e-02, -5.48040308e-02,  7.95183703e-02, -6.07040003e-02,\n",
       "        -3.02544050e-02,  8.88333563e-03, -2.40707416e-02, -4.42898050e-02,\n",
       "        -9.12566390e-03, -3.54578756e-02,  2.16267351e-02,  6.64143041e-02,\n",
       "        -1.05552571e-02,  1.07781766e-02, -5.32597266e-02,  3.89213450e-02,\n",
       "         1.01012804e-01, -4.49065752e-02, -8.57068896e-02,  1.87790617e-02,\n",
       "         1.76358651e-02,  1.70714688e-02, -1.11129493e-01, -5.97203746e-02],\n",
       "       dtype=float32),\n",
       " array([-6.30820356e-03,  2.30360962e-02,  4.03849259e-02,  2.54244683e-03,\n",
       "        -5.54083027e-02,  1.76805444e-02, -8.88286233e-02, -3.31512988e-02,\n",
       "         9.92427953e-03, -8.92901719e-02,  2.65282411e-02,  5.76936379e-02,\n",
       "         1.29906824e-02,  1.44637665e-02, -6.59001842e-02,  2.81710736e-02,\n",
       "        -6.11999482e-02,  6.36568367e-02,  2.86969636e-02,  6.37266189e-02,\n",
       "         3.68378498e-02, -1.09169912e-02,  3.65045890e-02, -1.40461344e-02,\n",
       "         8.35820567e-03,  1.66471787e-02, -1.80602372e-02,  5.04447185e-02,\n",
       "         5.79671785e-02,  1.10199917e-02,  1.03454582e-01, -1.99413542e-02,\n",
       "         1.52476700e-02, -9.57276486e-03,  2.86534037e-02, -2.48152390e-02,\n",
       "        -4.12312821e-02,  4.12530936e-02,  6.32475689e-03, -1.48458360e-02,\n",
       "         8.41226894e-03, -2.01376677e-02, -2.15706769e-02, -3.54238451e-02,\n",
       "        -1.69137176e-02,  4.05417532e-02,  2.98750624e-02, -3.84744965e-02,\n",
       "        -1.47259748e-02, -4.36000787e-02, -1.13630863e-02,  7.19337687e-02,\n",
       "         8.04195479e-02, -9.92502668e-04, -9.61367488e-02,  1.46263465e-02,\n",
       "         1.22846020e-02,  2.46308837e-03, -1.34609931e-03,  2.22925246e-02,\n",
       "        -1.75859388e-02, -5.09026535e-02,  1.68127622e-02, -6.77968981e-03,\n",
       "         2.47323234e-02,  7.95510039e-02,  6.81868941e-02, -5.71192650e-04,\n",
       "         1.52483163e-02, -1.29869496e-02,  2.77192853e-02,  8.85699969e-03,\n",
       "         1.15269311e-02,  4.76390123e-02, -8.49305615e-02, -9.92173702e-03,\n",
       "        -1.26048578e-02,  1.44890966e-02, -2.24424880e-02, -2.45674085e-02,\n",
       "        -4.72255051e-05, -1.05700925e-01,  6.24874718e-02,  3.07178702e-02,\n",
       "        -2.21374314e-02,  4.08042185e-02, -2.38849800e-02, -2.64405217e-02,\n",
       "         8.97964388e-02,  1.49764549e-02, -4.65599969e-02,  4.28204015e-02,\n",
       "         3.24089527e-02,  1.05602276e-02, -2.65348647e-02, -4.65107709e-03,\n",
       "         2.55811103e-02, -4.68030199e-02, -1.22399125e-02,  8.82484317e-02,\n",
       "        -2.59038918e-02, -2.36426964e-02,  1.13753909e-02,  1.14583466e-02,\n",
       "        -8.49126186e-03,  5.55292107e-02,  6.69717370e-03,  2.73660738e-02,\n",
       "         6.44465834e-02,  3.75956707e-02, -2.97722686e-02,  5.74836880e-03,\n",
       "         1.91185623e-04, -2.27656476e-02,  6.13818951e-02, -1.62425498e-03,\n",
       "        -8.30647051e-02,  7.33229145e-03,  9.88218710e-02,  6.08329251e-02,\n",
       "        -7.08668912e-03,  7.59183839e-02, -1.87094754e-03, -3.18149589e-02,\n",
       "         2.32995562e-02,  4.19536345e-02,  2.20777169e-02, -3.80345881e-02,\n",
       "        -2.29288246e-02, -1.38025470e-02, -1.09726349e-02, -3.25056911e-02,\n",
       "        -2.74515655e-02,  9.01982468e-03, -5.28489947e-02,  2.54574027e-02,\n",
       "        -1.65124983e-02,  2.23207586e-02, -1.85676441e-02, -2.27611456e-02,\n",
       "         4.63607870e-02, -2.27572545e-02,  4.60127629e-02, -4.40284517e-03,\n",
       "         1.03006428e-02,  6.65040761e-02,  5.92537820e-02, -6.78851679e-02,\n",
       "         2.83068828e-02,  5.14754392e-02,  2.17239112e-02,  8.38754326e-03,\n",
       "         4.81551141e-03,  4.96997647e-02,  1.98892485e-02,  2.11425908e-02,\n",
       "         8.68249452e-04,  1.20853335e-02,  2.91613694e-02,  1.99387018e-02,\n",
       "        -2.02746522e-02, -1.26300426e-02,  5.18424958e-02,  3.16792093e-02,\n",
       "        -3.78148556e-02,  3.08254920e-02, -2.58953981e-02, -3.33157107e-02,\n",
       "        -4.28765416e-02, -1.80159248e-02,  1.15420669e-01, -3.67156081e-02,\n",
       "        -1.26988525e-02,  3.13644446e-02, -4.62107286e-02,  1.11501493e-01,\n",
       "        -8.30336940e-03, -6.70701936e-02, -6.74950778e-02,  1.35004176e-02,\n",
       "        -4.00988907e-02,  5.79356961e-02,  5.09601608e-02,  2.90187653e-02,\n",
       "        -9.85382777e-03, -5.57836890e-02,  6.14831224e-02, -2.33985484e-05,\n",
       "         3.84525135e-02,  1.00757787e-02, -1.37477927e-02, -2.28513200e-02,\n",
       "         3.44061665e-02, -1.84124876e-02, -6.67216675e-03, -5.52566126e-02,\n",
       "         8.64731818e-02, -8.14685132e-03, -1.94838608e-03, -1.09856743e-02,\n",
       "        -2.42089853e-02,  3.19846831e-02, -2.03298014e-02,  1.01563103e-01,\n",
       "        -3.37339677e-02, -8.74525458e-02,  5.01098949e-03, -1.99532900e-02,\n",
       "         2.34898068e-02,  8.54927674e-02,  5.16655529e-03, -1.08365230e-02,\n",
       "        -5.48486523e-02, -2.62156576e-02, -2.08070073e-02, -4.31471244e-02,\n",
       "         1.81843825e-02,  9.77618527e-03,  4.18669730e-02, -1.66520681e-02,\n",
       "        -3.27729471e-02, -7.81411007e-02,  2.48739086e-02, -2.51964461e-02,\n",
       "         3.86580196e-03, -2.17590649e-02, -2.27009207e-02,  1.62148336e-03,\n",
       "         3.10230367e-02,  1.88010931e-02, -7.34806657e-02,  2.59409868e-03,\n",
       "        -5.19664101e-02,  6.48611858e-02,  5.74780926e-02, -1.88902412e-02,\n",
       "        -3.66988480e-02, -5.21033965e-02,  3.73162739e-02,  7.06707314e-02,\n",
       "        -6.79447204e-02,  6.48637190e-02, -3.40304710e-03,  3.06623615e-03,\n",
       "        -1.78084578e-02, -1.50523605e-02, -2.90889014e-02,  1.03534302e-02,\n",
       "         9.76879732e-04, -5.97904660e-02,  2.12820191e-02, -2.74229161e-02,\n",
       "         6.28727749e-02,  2.85815448e-04,  2.19829679e-02, -4.94240597e-03,\n",
       "        -2.19212286e-02,  2.15335898e-02, -2.95428522e-02,  8.95023067e-03,\n",
       "        -8.10107440e-02,  2.08842102e-02,  5.23129962e-02, -4.96764779e-02,\n",
       "         2.02162322e-02,  7.90633727e-03, -1.98478363e-02,  7.58624962e-03,\n",
       "        -2.00110488e-02, -9.91416071e-03, -6.07941411e-02, -5.17983325e-02,\n",
       "         1.34755280e-02,  4.28444967e-02, -3.07928352e-03, -5.76781780e-02,\n",
       "         4.19451781e-02, -1.61648029e-03,  3.34112123e-02, -5.04397321e-03,\n",
       "         4.10287790e-02,  1.68069638e-02,  4.55807857e-02,  3.62574384e-02,\n",
       "        -2.50691455e-02,  2.54509300e-02, -2.07778881e-04, -4.21824157e-02,\n",
       "        -3.27792317e-02, -5.84642962e-02, -7.70166218e-02, -1.18926056e-02,\n",
       "        -2.68927366e-02, -5.83129749e-02,  8.61745104e-02, -9.58008543e-02,\n",
       "        -1.00330897e-02,  6.85926005e-02, -4.92085554e-02,  6.60174489e-02,\n",
       "         1.50862625e-02, -1.19498456e-02, -1.90928932e-02,  1.46713415e-02,\n",
       "        -3.83019447e-02,  3.88771202e-03, -3.82277891e-02,  4.29428443e-02,\n",
       "         2.16279384e-02,  2.18656864e-02, -2.36507915e-02,  6.33618888e-03,\n",
       "        -1.44547103e-02, -1.61935966e-02,  1.31214922e-02, -5.33669107e-02,\n",
       "         2.28352509e-02,  7.56404549e-02,  4.54957457e-03,  2.32163444e-02,\n",
       "         2.52255052e-02,  3.18035819e-02,  3.92528586e-02,  8.04899912e-03,\n",
       "         5.67047410e-02, -1.91352684e-02, -1.96218733e-02,  2.15200568e-03,\n",
       "         3.43111493e-02, -6.82856217e-02, -1.65247079e-02, -2.18481068e-02,\n",
       "        -3.35203372e-02, -5.63813820e-02,  3.39621231e-02, -4.31153029e-02,\n",
       "         1.27758868e-02, -3.29038538e-02,  8.92718434e-02,  5.00558177e-03,\n",
       "        -2.15274449e-02,  7.41916224e-02,  3.96174863e-02, -1.03635928e-02,\n",
       "         7.82514364e-03,  6.86654970e-02, -4.55398075e-02,  7.69970119e-02,\n",
       "         4.31588106e-02, -2.75645945e-02, -4.71880808e-02,  1.52423233e-02,\n",
       "        -4.94184271e-02,  5.20395022e-03, -2.03376357e-03,  1.30919004e-02,\n",
       "         4.27340902e-03, -3.87597121e-02,  3.91961783e-02,  3.10307126e-02,\n",
       "         1.10784270e-01, -1.34775601e-02, -6.71340078e-02,  5.84983043e-02,\n",
       "        -3.56848724e-02, -1.94559190e-02,  2.93156411e-02,  4.19934839e-02,\n",
       "        -3.13376747e-02, -1.52948787e-02,  3.16141061e-02, -3.57537679e-02,\n",
       "        -8.02380145e-02,  4.22702506e-02,  3.82705964e-02, -2.14262623e-02,\n",
       "         3.13467421e-02,  1.70885008e-02, -1.09629557e-02, -2.18057283e-03,\n",
       "         2.56146956e-02,  1.99840534e-02, -4.07850407e-02, -2.89137219e-03,\n",
       "         5.12916185e-02, -4.75433581e-02,  4.82227467e-02,  5.36038280e-02,\n",
       "        -4.38895710e-02, -3.76619995e-02,  2.53265891e-02,  5.19666858e-02,\n",
       "         6.60484750e-03, -2.02728081e-02,  2.29078494e-02, -1.71129219e-02,\n",
       "         1.09859305e-02, -3.31995264e-02, -7.09565356e-02, -1.11174714e-02,\n",
       "         6.47833012e-03,  1.36766918e-02, -2.45043170e-02,  1.73606724e-02,\n",
       "        -3.01568005e-02,  1.03884719e-01,  5.82822086e-03,  1.49752107e-02,\n",
       "         5.32718468e-03, -1.41153717e-02,  7.01336749e-03, -3.27420793e-02,\n",
       "        -2.37240493e-02, -2.99808886e-02,  2.72009391e-02,  1.98012386e-02,\n",
       "        -1.62438042e-02,  9.91801824e-03, -6.81149289e-02, -4.94059436e-02,\n",
       "        -2.72114370e-02,  2.12398283e-02, -8.70613568e-03, -2.83598062e-02,\n",
       "         3.74887362e-02,  2.94278320e-02,  3.95096047e-03,  3.60203236e-02,\n",
       "         2.19757464e-02,  9.22967866e-03, -1.99465901e-02, -4.65999953e-02,\n",
       "         4.86920811e-02,  1.02013315e-03, -3.54270115e-02,  1.89365260e-02,\n",
       "        -5.28867804e-02, -1.15007395e-02,  8.11893120e-03, -2.61899494e-02,\n",
       "         2.16449443e-02,  4.08452339e-02, -9.50540081e-02,  3.67868342e-03,\n",
       "        -1.08033782e-02,  9.01028439e-02, -1.89030115e-02, -5.56501374e-02,\n",
       "        -8.16685483e-02,  2.41207555e-02, -9.89683252e-03,  3.51703614e-02,\n",
       "         1.49606289e-02,  1.50084412e-02,  1.06402719e-02, -7.43645877e-02,\n",
       "         6.26198798e-02,  2.19373615e-03, -1.70400701e-02, -1.18591264e-02,\n",
       "         3.16501372e-02,  2.52330229e-02, -5.89093529e-02,  7.35886842e-02,\n",
       "        -1.08616007e-03,  1.63719822e-02,  7.49303913e-03,  2.23301817e-02,\n",
       "         5.14920708e-03, -1.05448775e-01, -2.85476856e-02,  2.36839764e-02,\n",
       "         8.54869634e-02,  2.13874504e-02,  3.40449251e-03,  2.76254416e-02,\n",
       "         2.46731658e-03,  3.86537425e-02,  2.17016265e-02,  1.45433871e-02,\n",
       "         7.47466013e-02,  1.49685005e-02, -4.84086648e-02, -2.43840273e-02,\n",
       "         4.30173017e-02, -3.63412388e-02,  6.37036264e-02,  1.12195745e-01,\n",
       "         3.30263115e-02, -1.30202528e-02,  6.60074651e-02, -2.38109101e-02,\n",
       "        -5.75421005e-02, -1.02931391e-02,  2.26988271e-02, -5.71051566e-03,\n",
       "        -2.55352277e-02, -4.14702743e-02,  4.64206524e-02,  6.28255531e-02,\n",
       "         3.31972763e-02,  3.18025313e-02, -1.02072181e-02, -6.08557230e-03,\n",
       "         6.24009445e-02, -1.28525253e-02, -3.46849300e-02,  3.35644633e-02,\n",
       "         2.95383055e-02,  2.92702504e-02, -1.14488631e-01, -1.44603951e-02],\n",
       "       dtype=float32),\n",
       " array([-4.65677753e-02, -4.12135106e-03, -3.16472575e-02,  3.58532704e-02,\n",
       "        -3.68888080e-02,  3.85524258e-02, -2.28456757e-03,  2.28604190e-02,\n",
       "        -3.21616493e-02, -1.04928851e-01, -2.98858294e-03, -8.85446835e-03,\n",
       "        -2.97534093e-02,  2.90566664e-02, -7.56829679e-02,  2.45163981e-02,\n",
       "         3.84429842e-02,  5.59315607e-02, -1.93707310e-02,  6.69789463e-02,\n",
       "        -6.55340077e-03, -6.11817371e-03,  7.67027810e-02, -1.90846808e-02,\n",
       "         3.92641574e-02,  1.10877566e-02, -1.55847091e-02, -2.05458719e-02,\n",
       "        -6.25139615e-03,  2.36387271e-02,  4.57141176e-02,  3.72676663e-02,\n",
       "        -2.85672881e-02,  2.45387163e-02, -6.36286810e-02,  3.08751827e-03,\n",
       "         3.07237841e-02,  1.93593316e-02,  1.04951393e-02, -5.36107868e-02,\n",
       "         4.93565798e-02,  1.29512628e-03,  3.05277035e-02, -2.35167630e-02,\n",
       "         1.44597413e-02, -2.30877735e-02, -1.38784228e-02, -1.37993135e-03,\n",
       "         1.19719924e-02, -6.01385273e-02, -1.30404476e-02, -9.44085699e-03,\n",
       "         8.96798596e-02,  4.75648269e-02,  2.34104712e-02, -2.10327748e-02,\n",
       "         3.78335491e-02, -1.84737761e-02,  9.09082312e-03,  1.55963451e-02,\n",
       "         5.94947785e-02, -1.51007669e-02,  2.54117046e-02,  2.16795243e-02,\n",
       "         3.78052332e-02,  4.01316322e-02,  4.46930499e-04,  4.14233729e-02,\n",
       "         1.13181351e-02, -1.23861339e-02, -2.90930271e-03, -7.68924057e-02,\n",
       "         2.80194562e-02,  4.13968526e-02, -3.62749398e-02, -4.64961156e-02,\n",
       "         3.26927975e-02,  1.17681352e-02,  3.70284542e-02,  2.65038735e-03,\n",
       "         4.29413170e-02, -9.38946903e-02,  3.91176455e-02, -1.39326556e-02,\n",
       "         6.87267780e-02,  1.04822423e-02, -1.11138215e-02, -2.29769032e-02,\n",
       "         4.15502340e-02, -5.02431728e-02, -3.21607292e-02,  5.64516336e-02,\n",
       "         4.53505665e-02,  2.10633278e-02, -3.59341279e-02, -1.80963043e-03,\n",
       "         2.34601833e-02, -4.36751143e-04, -1.43375145e-02, -9.55715775e-03,\n",
       "         1.78397000e-02,  1.34445466e-02,  2.31172107e-02,  3.27395797e-02,\n",
       "         4.02647294e-02,  3.34137529e-02, -5.34479171e-02,  1.12061109e-02,\n",
       "         1.04150295e-01, -6.99406043e-02, -3.52836661e-02,  2.44632419e-02,\n",
       "        -1.75275393e-02,  5.91835976e-02,  2.89998110e-02,  2.89792176e-02,\n",
       "        -1.63031779e-02,  7.57103786e-02,  1.31585494e-01,  2.94462889e-02,\n",
       "        -2.47749388e-02,  5.41206859e-02, -7.63368886e-03, -6.07504845e-02,\n",
       "        -3.65523621e-02, -1.33960349e-02,  1.58789998e-03, -8.27340856e-02,\n",
       "        -1.98500045e-02,  3.02648228e-02, -2.17801388e-02, -4.08992022e-02,\n",
       "         2.93843281e-02, -3.98045182e-02, -1.02037527e-01, -1.94869784e-03,\n",
       "        -1.06166430e-01, -5.08071706e-02, -8.75840858e-02,  3.84830125e-02,\n",
       "        -8.05045366e-02, -2.25815605e-02,  4.67719659e-02, -2.73843613e-02,\n",
       "        -2.42412351e-02, -1.83383711e-02, -2.14585830e-02, -4.96740937e-02,\n",
       "         3.31401974e-02,  6.23579100e-02,  2.79935473e-03, -4.34006639e-02,\n",
       "        -1.70797314e-02, -2.13158503e-02,  5.93368970e-02,  1.24828517e-02,\n",
       "         4.57741134e-02,  3.66098881e-02,  1.42590012e-02,  3.55976894e-02,\n",
       "        -1.06444070e-02,  1.38653703e-02,  4.24988158e-02,  5.34349792e-02,\n",
       "        -4.26300317e-02,  1.52749745e-02,  5.40260933e-02, -8.56211483e-02,\n",
       "        -5.84820227e-04,  1.54638365e-02,  1.50089443e-01, -4.91591506e-02,\n",
       "        -3.61886527e-03, -1.04859890e-02,  3.05905901e-02,  3.77200078e-03,\n",
       "        -1.98700726e-02, -7.48401694e-03, -2.14788737e-03,  1.42842561e-01,\n",
       "        -3.27337384e-02,  3.82177569e-02,  7.79965445e-02,  1.28609305e-02,\n",
       "         1.07566290e-01, -1.50180692e-02,  1.87863540e-02,  2.62272451e-02,\n",
       "        -1.00319134e-02,  6.25542402e-02, -9.34226625e-03,  5.04669026e-02,\n",
       "         6.33971617e-02,  1.31927356e-02, -4.28423136e-02, -4.56018075e-02,\n",
       "         2.94655953e-02, -2.73356792e-02,  4.54029180e-02,  2.23208219e-03,\n",
       "         6.32789033e-03,  6.59327656e-02, -7.21585890e-03,  1.38679743e-01,\n",
       "        -2.20343135e-02,  1.38223553e-02,  2.16382798e-02,  1.34502174e-02,\n",
       "         9.12925508e-03,  3.43149044e-02,  2.07934212e-02,  3.67561467e-02,\n",
       "        -1.73272491e-02, -2.18094755e-02, -3.82092185e-02, -1.00082951e-02,\n",
       "         4.45775641e-03,  6.71652779e-02,  1.07509028e-02, -1.94107145e-02,\n",
       "        -9.38167125e-02, -4.22293358e-02, -2.25827452e-02, -7.90144801e-02,\n",
       "        -9.66541935e-03, -1.52604068e-02,  2.34547872e-02,  3.56542505e-02,\n",
       "        -4.94130887e-02, -1.56614103e-03, -3.19733657e-02,  3.53860222e-02,\n",
       "        -3.82571854e-02,  7.65773281e-02, -9.12488438e-04,  3.05537228e-02,\n",
       "         7.88278878e-02, -1.19500188e-02, -3.89979631e-02,  9.21396762e-02,\n",
       "        -6.83652014e-02, -4.27332297e-02, -1.98249090e-02, -1.64236017e-02,\n",
       "        -2.72176452e-02, -1.94059890e-02, -5.91732562e-03, -1.30086886e-02,\n",
       "         3.64958728e-03, -3.12805623e-02, -9.27369203e-03, -4.22683433e-02,\n",
       "        -1.91360805e-02,  1.85006633e-02, -3.55104506e-02, -2.22222488e-02,\n",
       "         4.47170101e-02, -8.01366046e-02, -1.33034065e-02, -2.77100429e-02,\n",
       "        -8.32857415e-02, -4.41337861e-02, -3.08781136e-02,  2.56771743e-02,\n",
       "        -5.87219335e-02,  3.00908983e-02, -4.97954935e-02, -2.06991974e-02,\n",
       "         3.74851003e-02, -6.28418755e-03, -3.26834023e-02, -3.34275104e-02,\n",
       "         1.07299807e-02,  1.12190209e-01,  6.55332441e-03,  3.42930621e-03,\n",
       "        -5.36890551e-02,  9.87563934e-03,  1.12153972e-02, -3.50215249e-02,\n",
       "        -1.04867043e-02,  7.23830983e-02, -3.70513573e-02,  2.68135406e-02,\n",
       "         5.33824041e-02,  6.15312951e-03, -7.43313786e-03, -3.05660274e-02,\n",
       "        -1.31404400e-02, -2.20583882e-02,  4.78066970e-03,  6.25014156e-02,\n",
       "        -6.01116866e-02,  2.74688601e-02,  8.00481141e-02, -6.16325065e-02,\n",
       "         2.02091187e-02,  2.67309882e-02,  4.01608050e-02,  1.10001393e-01,\n",
       "        -4.31230515e-02, -1.11433730e-01,  2.72701569e-02,  2.15397356e-03,\n",
       "        -6.70232158e-03, -2.08471511e-02,  1.62237361e-02, -4.45502512e-02,\n",
       "        -5.80542423e-02,  1.31739210e-02, -4.37444262e-02,  7.99120367e-02,\n",
       "         5.40085323e-02,  1.38106169e-02, -2.77307276e-02, -1.48665411e-02,\n",
       "        -5.48403449e-02, -1.26400706e-03, -6.83861524e-02, -8.92832205e-02,\n",
       "         2.66802986e-03, -3.71618383e-02, -5.69201559e-02,  6.54994622e-02,\n",
       "         4.91478294e-02,  2.86949379e-03, -5.40111624e-02,  4.85102683e-02,\n",
       "         3.47869545e-02, -4.91200238e-02, -1.39274811e-02, -2.55061593e-02,\n",
       "         6.93667531e-02, -6.80958331e-02,  1.94839817e-02, -3.06588039e-02,\n",
       "        -6.38456568e-02,  1.23921512e-02, -5.66235110e-02, -7.72895291e-02,\n",
       "         4.27678190e-02, -7.92677794e-03, -2.34002620e-03,  2.35544574e-02,\n",
       "        -2.49466933e-02, -2.92151682e-02, -1.45909458e-03,  1.01472713e-01,\n",
       "         1.66173764e-02, -5.82751632e-02,  2.60854475e-02,  4.72561792e-02,\n",
       "         4.44306135e-02, -3.38766165e-02, -4.53350991e-02, -1.49534661e-02,\n",
       "         5.09458892e-02, -2.14295276e-02, -4.84220907e-02, -1.14919040e-02,\n",
       "         4.24929485e-02,  8.38284865e-02,  3.83838080e-02, -6.16577677e-02,\n",
       "        -9.63740237e-03, -1.81573648e-02, -3.75116803e-02,  2.92874556e-02,\n",
       "        -2.49387845e-02, -9.90577228e-03, -2.79774182e-02,  2.20066905e-02,\n",
       "         4.60187346e-02,  7.58965453e-03, -5.79605112e-03, -2.73948852e-02,\n",
       "         3.37945260e-02, -2.74254605e-02,  6.72782138e-02,  3.92525457e-02,\n",
       "         2.47308835e-02,  3.76228280e-02,  9.01464652e-03, -9.61871073e-03,\n",
       "        -6.89302534e-02, -4.28362237e-03,  4.32708114e-02,  2.55200658e-02,\n",
       "        -1.73864409e-03,  6.17859550e-02, -3.82715911e-02,  4.68333326e-02,\n",
       "        -1.58857908e-02,  3.48343956e-03,  2.60271020e-02, -4.37491797e-02,\n",
       "        -2.20043510e-02, -7.40656853e-02, -2.14656480e-02,  2.13272423e-02,\n",
       "         4.37485054e-03, -1.31436568e-02, -9.42857005e-03,  2.84319893e-02,\n",
       "         8.93367603e-02,  5.93227074e-02, -6.02183342e-02, -7.11742267e-02,\n",
       "        -1.38126547e-04, -6.42726081e-04,  3.92929576e-02,  2.67400015e-02,\n",
       "         1.46094775e-02, -2.97097173e-02,  3.60834785e-02,  4.87561747e-02,\n",
       "        -1.22440979e-04, -2.41002981e-02, -2.01819874e-02, -3.56586068e-03,\n",
       "        -4.19377768e-03,  4.10733223e-02, -3.94243896e-02, -2.40886360e-02,\n",
       "         4.37881768e-04,  2.14408990e-02,  9.61364154e-03, -2.12356206e-02,\n",
       "         5.52859381e-02,  1.39268674e-03,  1.79631505e-02, -2.76587326e-02,\n",
       "        -1.28057078e-02,  8.32427945e-03, -1.52292466e-02,  2.71953288e-02,\n",
       "        -9.73560475e-03,  1.67859867e-02, -3.89381573e-02,  9.26810224e-03,\n",
       "         6.66518956e-02,  4.99028042e-02, -2.65892707e-02, -6.90868311e-03,\n",
       "        -1.23052811e-02,  6.42117858e-02,  2.29448900e-02, -3.00382096e-02,\n",
       "        -4.79492098e-02,  3.76301724e-03, -7.47841373e-02, -1.21792005e-02,\n",
       "        -1.79780077e-03, -2.78625917e-02,  5.90301992e-04, -4.94795181e-02,\n",
       "         3.97347696e-02, -4.12349552e-02, -1.17407786e-02, -6.29154360e-03,\n",
       "         3.86981964e-02,  1.16424635e-05, -1.14447422e-01,  2.96188146e-02,\n",
       "         5.77195035e-03,  1.71341151e-02, -3.37591283e-02, -1.47066405e-02,\n",
       "        -6.97029196e-03,  7.21580237e-02, -2.37324759e-02,  2.15921877e-03,\n",
       "         8.79411120e-03, -5.59659041e-02,  5.39694577e-02, -3.46637741e-02,\n",
       "        -5.31590208e-02,  1.37137854e-02,  3.84266675e-02,  5.22412807e-02,\n",
       "         1.98103897e-02,  3.70185412e-02, -2.89895833e-02, -8.42712671e-02,\n",
       "         1.70544535e-02, -5.05400002e-02, -5.28623052e-02,  5.90294003e-02,\n",
       "         1.48704844e-02, -2.14403914e-03, -2.60826144e-02,  1.75082367e-02,\n",
       "        -4.17392664e-02, -2.68384069e-02, -2.72782762e-02, -8.80383514e-03,\n",
       "        -7.05960020e-02, -4.32398245e-02, -1.22592868e-02,  7.79928640e-02,\n",
       "         1.60419624e-02,  5.12108281e-02, -5.51303253e-02, -2.60208212e-02,\n",
       "        -2.86650676e-02, -5.21701537e-02, -1.39433946e-02, -2.43726894e-02,\n",
       "        -3.23352478e-02, -3.61848958e-02, -2.85008438e-02, -5.09712882e-02],\n",
       "       dtype=float32),\n",
       " array([ 1.02613224e-02, -5.08709699e-02, -3.48160323e-03,  7.51419459e-03,\n",
       "        -6.29064441e-02,  2.37695430e-03, -3.56488638e-02,  1.91376787e-02,\n",
       "        -4.97491248e-02, -1.34601176e-01, -6.74324995e-03,  2.81594917e-02,\n",
       "         8.61502951e-04,  5.03112562e-02, -8.98375437e-02,  1.40321646e-02,\n",
       "        -1.84437097e-03,  6.92038387e-02, -5.14931884e-03,  7.92063475e-02,\n",
       "         1.11079523e-02,  6.86692260e-03,  7.06601962e-02, -4.95649129e-02,\n",
       "         6.38479665e-02, -5.33073617e-04,  4.90725636e-02, -2.63031106e-02,\n",
       "         7.95846619e-03,  6.17289776e-03,  2.91487519e-02, -1.01027603e-03,\n",
       "         4.40235686e-04,  3.08806859e-02, -4.58748490e-02,  5.43899322e-03,\n",
       "         3.35456207e-02, -4.01608553e-03, -8.95596482e-03, -3.39469835e-02,\n",
       "        -3.46569121e-02, -8.74917209e-03,  4.56130691e-03,  9.08273179e-03,\n",
       "         2.96426844e-02,  3.84100527e-02,  4.62595001e-03, -6.41332241e-03,\n",
       "         4.74565616e-03, -2.87056398e-02, -1.72361881e-02,  3.41926492e-03,\n",
       "         5.83774224e-02,  2.07788032e-02,  7.55738234e-03, -1.94129795e-02,\n",
       "         3.92867327e-02, -2.01374590e-02,  7.75006181e-03,  5.27062379e-02,\n",
       "         1.26996422e-02, -5.76493563e-03,  1.82633363e-02, -3.30503210e-02,\n",
       "        -2.96868738e-02,  4.76730987e-02,  5.83912188e-04, -3.18142138e-02,\n",
       "        -1.08623393e-02, -7.27332989e-03,  3.51376161e-02,  1.01104379e-02,\n",
       "        -3.18122888e-03,  4.89882417e-02, -2.62462590e-02, -3.31276245e-02,\n",
       "         1.48263155e-02, -5.80616854e-03, -8.38720519e-03,  2.90111471e-02,\n",
       "         4.18054238e-02, -1.08608857e-01,  3.89446095e-02, -4.70438180e-03,\n",
       "         5.35469316e-02,  5.33441640e-02, -5.66009954e-02, -2.65871380e-02,\n",
       "         7.27762431e-02,  2.62319576e-02, -5.03082462e-02,  7.14070303e-03,\n",
       "         7.10012317e-02,  4.74663228e-02, -2.32678745e-02, -1.88074522e-02,\n",
       "         8.07201192e-02, -3.73248011e-02, -3.50362845e-02, -3.54116894e-02,\n",
       "        -1.39078097e-02,  4.94534289e-03, -1.02556255e-02,  2.22663842e-02,\n",
       "        -9.88663826e-03,  1.44428937e-02,  3.94769153e-03,  2.54955813e-02,\n",
       "         6.07823655e-02, -2.42365357e-02,  3.14107351e-02,  4.11066376e-02,\n",
       "         2.25788336e-02, -1.69176292e-02,  4.19311635e-02,  6.72434340e-04,\n",
       "        -3.41042951e-02,  3.62962708e-02,  1.37510210e-01,  9.53838043e-03,\n",
       "        -3.55540290e-02,  4.13093008e-02, -2.50606891e-02, -1.63049959e-02,\n",
       "         3.29409055e-02, -1.60718895e-02,  3.07685230e-02, -7.00084353e-03,\n",
       "         1.62971895e-02,  1.64248813e-02, -3.23992036e-02, -6.37610927e-02,\n",
       "         5.64086773e-02, -4.25867401e-02, -1.25300378e-01, -2.09157281e-02,\n",
       "        -3.22813764e-02,  1.05758728e-02, -1.63782313e-01,  4.26200964e-02,\n",
       "         2.76969140e-03, -2.82972660e-02,  4.68874052e-02, -7.60722207e-03,\n",
       "         2.09754221e-02,  8.20957124e-03, -5.59049333e-03, -5.09381182e-02,\n",
       "         2.55146064e-03,  6.57823384e-02,  6.14658222e-02, -6.18878566e-02,\n",
       "        -8.79663378e-02,  3.44831236e-02, -1.64094344e-02,  3.37308384e-02,\n",
       "         5.46251424e-02,  9.42328200e-03,  4.49842811e-02, -6.76321937e-03,\n",
       "         3.00199911e-02, -2.10838728e-02,  3.47172581e-02,  2.87422352e-02,\n",
       "        -1.94272175e-02, -5.01605682e-03, -2.11756453e-02, -5.02278991e-02,\n",
       "        -3.59678757e-03, -5.53505169e-03,  1.45910040e-01, -1.59946196e-02,\n",
       "         1.27317021e-02,  4.51428331e-02, -2.78228824e-03,  5.48469983e-02,\n",
       "        -4.78697754e-03, -3.19107100e-02, -4.23177555e-02,  9.03390944e-02,\n",
       "         1.29832374e-02,  1.38391824e-02,  6.55870661e-02, -3.07139345e-02,\n",
       "         3.36294696e-02, -4.87558581e-02, -5.34563605e-03,  6.14866205e-02,\n",
       "         3.10074054e-02,  2.78701372e-02, -2.33349949e-02,  3.09837312e-02,\n",
       "         8.16851556e-02,  2.22979020e-02, -7.61036947e-03, -8.45165737e-03,\n",
       "         2.84803901e-02, -3.76606220e-03, -1.43288914e-02,  9.12169926e-05,\n",
       "         4.01288457e-02,  8.47904980e-02,  2.54092589e-02,  1.42818972e-01,\n",
       "        -1.38454512e-03, -7.14535266e-02,  7.94815645e-02,  2.77030189e-02,\n",
       "         5.66083230e-02,  5.60926646e-02,  3.63335423e-02,  1.96767692e-02,\n",
       "         1.67671908e-02, -4.43601832e-02,  7.72390980e-03, -3.47745232e-02,\n",
       "         1.24043913e-03, -1.70592535e-02,  1.13624847e-03,  2.21374258e-03,\n",
       "        -3.73633243e-02, -6.32366762e-02,  2.26311269e-03, -6.22025877e-02,\n",
       "        -2.69979909e-02, -7.98824616e-03, -2.04479266e-02,  7.75276544e-03,\n",
       "        -5.83089851e-02, -1.73623152e-02, -3.64139266e-02, -1.34604061e-02,\n",
       "        -2.25649457e-02,  1.04611106e-01, -1.58548187e-02,  2.85187587e-02,\n",
       "         6.79029673e-02, -2.04240009e-02, -1.30062690e-02,  1.01937898e-01,\n",
       "        -2.29397472e-02, -2.78884196e-03,  1.86759531e-02, -3.40937078e-02,\n",
       "        -5.79437912e-02, -6.64491653e-02, -4.18767100e-03, -7.04768905e-03,\n",
       "         3.49370278e-02, -6.68974370e-02, -3.28482985e-02, -6.54678270e-02,\n",
       "        -2.69291364e-02,  3.46634500e-02,  2.65742769e-03,  8.53601564e-03,\n",
       "         3.36444974e-02, -1.37000449e-03, -4.69038859e-02, -7.56130042e-03,\n",
       "        -1.50666431e-01, -5.44692799e-02,  3.07779992e-03,  4.84864879e-03,\n",
       "        -2.03756317e-02, -7.49921892e-03, -7.31901005e-02,  2.17026100e-02,\n",
       "         1.78078320e-02,  3.26637179e-02, -2.79469453e-02, -4.83781546e-02,\n",
       "        -1.21923825e-02,  9.47214663e-02,  2.29671877e-02,  8.69170204e-03,\n",
       "        -2.64289547e-02, -2.98266504e-02,  3.37778665e-02, -2.74930848e-03,\n",
       "         3.20572145e-02,  4.51977104e-02, -4.02674219e-03,  4.47866172e-02,\n",
       "        -2.27260571e-02,  1.39043070e-02,  6.48989948e-03, -1.63585804e-02,\n",
       "        -7.37964059e-04, -5.18145561e-02, -2.84362882e-02,  1.75525043e-02,\n",
       "        -3.11171468e-02,  3.65785174e-02,  8.32369998e-02, -1.00563511e-01,\n",
       "        -2.03311313e-02,  3.74014452e-02,  2.01191083e-02,  1.14232123e-01,\n",
       "        -3.74888256e-02, -5.12501560e-02, -6.04669899e-02, -8.26400612e-03,\n",
       "        -3.49685661e-02, -3.49853858e-02, -5.54617569e-02,  4.72735353e-02,\n",
       "        -2.16495488e-02, -1.41968969e-02, -1.56623609e-02,  9.09521654e-02,\n",
       "         8.86506680e-03, -1.53944828e-04, -4.20676321e-02, -2.42276099e-02,\n",
       "        -4.98110987e-03,  4.23022918e-02, -9.60996523e-02,  3.64129036e-03,\n",
       "         1.10404324e-02,  2.53098295e-03, -1.47503028e-02,  3.94166373e-02,\n",
       "         7.05460235e-02,  4.09976346e-03, -3.12015396e-02,  1.67932361e-04,\n",
       "         2.92482339e-02, -1.99981444e-02, -1.53230736e-02, -3.50269005e-02,\n",
       "         9.05013736e-03, -6.14791214e-02,  5.09908365e-04, -4.87121604e-02,\n",
       "        -5.19075170e-02, -3.72296758e-02, -1.75395198e-02, -3.22734341e-02,\n",
       "        -1.46863516e-02,  8.80395249e-03,  1.82937849e-02,  2.35216953e-02,\n",
       "        -2.47783456e-02,  8.42411816e-03, -3.08250785e-02,  5.67487031e-02,\n",
       "         3.21379863e-02, -5.14802672e-02, -1.03696706e-02, -3.53588387e-02,\n",
       "         6.32300377e-02, -6.18093498e-02, -6.36345521e-02, -1.88075770e-02,\n",
       "         3.12796161e-02,  1.87825430e-02, -3.02602872e-02,  7.76993623e-03,\n",
       "         5.20018190e-02,  2.64381189e-02, -3.30257267e-02, -2.72246227e-02,\n",
       "         3.86736505e-02,  2.07177475e-02, -3.41205928e-03,  5.42375445e-02,\n",
       "        -1.99634507e-02, -2.28817016e-02, -2.41626203e-02, -3.39148976e-02,\n",
       "         3.66247445e-02,  3.77947204e-02,  5.74073456e-02, -3.94976102e-02,\n",
       "         5.02571873e-02,  1.68195199e-02,  6.24348596e-02,  5.68091758e-02,\n",
       "         1.37897218e-02, -7.86797255e-02, -6.57886118e-02, -6.55619279e-02,\n",
       "        -4.97981161e-03, -4.37538512e-03,  1.79144684e-02,  4.54435945e-02,\n",
       "         4.41081487e-02, -6.22580713e-03, -2.39302609e-02,  6.24134615e-02,\n",
       "        -4.63262899e-03, -1.42381033e-02,  3.11777052e-02, -8.49329755e-02,\n",
       "        -3.67907644e-03, -5.71613684e-02, -2.04746202e-02, -8.37391708e-03,\n",
       "        -1.59823913e-02,  4.55139875e-02, -8.87218770e-03,  1.38742588e-02,\n",
       "        -5.54123260e-02,  7.65270069e-02, -4.19015959e-02, -2.15109754e-02,\n",
       "         8.19573831e-03,  6.45583263e-03, -1.24660721e-02,  3.21845897e-02,\n",
       "        -3.48974839e-02, -1.15256365e-02,  8.03720430e-02,  3.56474295e-02,\n",
       "        -3.09998989e-02,  9.87554248e-03, -4.94118370e-02, -5.10792285e-02,\n",
       "        -5.25672063e-02,  5.33460714e-02, -2.14475337e-02, -2.89199930e-02,\n",
       "         3.46022621e-02,  3.26357177e-03, -2.02911068e-03, -2.37892941e-02,\n",
       "         4.30899300e-02,  9.38619021e-03,  2.50092009e-03, -2.87244301e-02,\n",
       "        -2.79110540e-02, -2.70698834e-02, -1.11230044e-02,  5.10879308e-02,\n",
       "        -1.89161934e-02, -2.10071052e-03, -1.68785434e-02,  2.14270111e-02,\n",
       "         3.29165272e-02,  4.60472926e-02, -6.13523684e-02,  2.34580841e-02,\n",
       "        -3.77919599e-02,  5.49545847e-02, -2.95119323e-02,  1.76113080e-02,\n",
       "        -8.44224915e-02,  8.41646362e-03, -3.83758103e-03, -2.61650551e-02,\n",
       "        -1.62169095e-02, -3.51862349e-02,  3.19826268e-02, -4.96934615e-02,\n",
       "         3.62979285e-02, -5.76689467e-02, -1.53572494e-02, -5.06389188e-03,\n",
       "         1.66911781e-02, -1.41787119e-02, -5.12245744e-02,  7.78721422e-02,\n",
       "         4.58668359e-02, -2.61829495e-02, -7.78255099e-03,  2.67922860e-02,\n",
       "        -1.39430854e-02,  1.78626254e-02, -8.70612729e-03,  1.95060335e-02,\n",
       "        -2.53600795e-02, -4.48214542e-03, -3.96249443e-02,  4.23874557e-02,\n",
       "         7.65582593e-03,  1.28941918e-02,  5.05100675e-02, -1.05158128e-02,\n",
       "         6.51174262e-02,  1.94534548e-02, -1.36633136e-03, -6.12037927e-02,\n",
       "         4.62692976e-02, -1.50275053e-02, -2.86958218e-02,  6.18056208e-02,\n",
       "         3.73972137e-03, -9.03255567e-02, -7.72787537e-03,  3.25508937e-02,\n",
       "         1.50080388e-02,  1.02376863e-02,  2.48045083e-02,  8.37860163e-03,\n",
       "        -7.56086260e-02, -1.81140825e-02,  2.13296786e-02,  7.75465667e-02,\n",
       "         6.08165041e-02,  4.36147787e-02, -6.29958808e-02,  1.04156288e-03,\n",
       "        -6.69273585e-02, -6.75134733e-02, -2.15747897e-02, -1.13889379e-02,\n",
       "         8.99301283e-03, -2.46403795e-02, -5.65038882e-02, -9.20314109e-04],\n",
       "       dtype=float32),\n",
       " array([-0.02396657, -0.0304724 , -0.02809864,  0.0062588 , -0.08023979,\n",
       "         0.03381634, -0.01732698,  0.00812963, -0.00655382, -0.09027319,\n",
       "         0.03967753, -0.00892512, -0.02279466,  0.0524318 , -0.10314573,\n",
       "         0.03551563,  0.01985607,  0.07897117, -0.04805849,  0.08071179,\n",
       "        -0.07138302,  0.03574136,  0.0640166 , -0.055383  ,  0.05773025,\n",
       "        -0.01018342,  0.02049375, -0.05800496, -0.01113297, -0.00777311,\n",
       "         0.0367434 , -0.00552168, -0.04528271,  0.05110142, -0.02790252,\n",
       "         0.01691648,  0.00727064,  0.01781784,  0.00291993, -0.0193924 ,\n",
       "        -0.02483213,  0.00073164,  0.01314779,  0.00915702, -0.01553979,\n",
       "         0.02451197, -0.01532871, -0.03907559,  0.05822568, -0.05712833,\n",
       "        -0.03619287,  0.02373329,  0.01147366,  0.03133105, -0.02570991,\n",
       "        -0.03486455,  0.06355189, -0.05656358,  0.03357761,  0.04744759,\n",
       "         0.01281036,  0.01372986,  0.03497714, -0.02475833, -0.07380664,\n",
       "         0.05117613, -0.03423082, -0.03066289, -0.07863732,  0.0017658 ,\n",
       "         0.05173636, -0.02134764, -0.00536481,  0.0439533 , -0.03192558,\n",
       "         0.0204983 ,  0.01619652, -0.04312971, -0.04286651,  0.01003989,\n",
       "         0.04606867, -0.09592789,  0.04370873,  0.02832943,  0.01557598,\n",
       "        -0.00483478, -0.01839672, -0.02824222,  0.0829836 , -0.01786404,\n",
       "        -0.09392109,  0.05617208,  0.06125478,  0.04479829, -0.04258309,\n",
       "         0.03611102,  0.0477401 ,  0.05454   ,  0.0182037 , -0.00148063,\n",
       "         0.00549245,  0.02791693, -0.0087699 ,  0.0019349 ,  0.05835095,\n",
       "         0.00040873, -0.00584007,  0.03418778,  0.04867984, -0.04719112,\n",
       "         0.00497419,  0.02477351,  0.01022075,  0.05010732,  0.02641358,\n",
       "        -0.01316219,  0.02917071,  0.08674579,  0.13671207, -0.03416575,\n",
       "        -0.03887868,  0.02339255, -0.01209051, -0.05260787,  0.04713201,\n",
       "         0.00787037,  0.00396887, -0.01539349,  0.02345902,  0.05738088,\n",
       "        -0.04885876, -0.07471131,  0.08712381, -0.02234629, -0.10200305,\n",
       "         0.01913715, -0.00784738,  0.0279833 , -0.1401063 ,  0.08143137,\n",
       "        -0.00884895, -0.01790095,  0.04603871, -0.01775769, -0.0044229 ,\n",
       "         0.00578641,  0.03058698,  0.02467988,  0.06948999,  0.01763176,\n",
       "         0.02606995, -0.0198355 , -0.0614339 , -0.00928461, -0.0344491 ,\n",
       "         0.02203602,  0.1000932 ,  0.01057001,  0.05299089,  0.03141659,\n",
       "         0.00076752, -0.02301759,  0.05235193,  0.05244266,  0.02146447,\n",
       "        -0.02189346, -0.01617472, -0.02282475, -0.02161093,  0.07237832,\n",
       "         0.10921846, -0.0577661 , -0.01135421, -0.00400025,  0.02586502,\n",
       "         0.04991205, -0.00145116,  0.00297956, -0.0081485 ,  0.06843551,\n",
       "         0.03059514,  0.01535083,  0.02027415, -0.03820584,  0.0673432 ,\n",
       "        -0.0210525 , -0.01861535,  0.04060858, -0.00495231, -0.00350255,\n",
       "         0.00231451,  0.03237231,  0.09354604, -0.01975329, -0.0413889 ,\n",
       "        -0.00064183,  0.09909218,  0.05207881,  0.05519851,  0.017413  ,\n",
       "         0.00537987,  0.1218615 ,  0.05111619,  0.12272832, -0.01128653,\n",
       "        -0.03378883,  0.05074805, -0.03987748, -0.0174152 ,  0.07958983,\n",
       "         0.02338718,  0.0109401 ,  0.06763674,  0.00395145, -0.01950083,\n",
       "         0.00858458,  0.02410968, -0.00270696,  0.03938321,  0.0053559 ,\n",
       "        -0.07575968,  0.00239018,  0.01754753, -0.0522616 , -0.00979042,\n",
       "        -0.04699209, -0.00273518,  0.01852607, -0.04481374, -0.00529175,\n",
       "        -0.00881556, -0.05238241, -0.07222822,  0.12574048, -0.00460923,\n",
       "         0.00224767,  0.01705253, -0.01545868, -0.04340921,  0.0821792 ,\n",
       "         0.00496609, -0.03714065,  0.04007422, -0.02925367, -0.05610837,\n",
       "        -0.03586761, -0.05675067, -0.01817488,  0.02997625, -0.06298257,\n",
       "         0.00363562, -0.03398935, -0.0526874 ,  0.04527287, -0.02140969,\n",
       "        -0.02130411,  0.01393495,  0.00228631, -0.00101984, -0.04192069,\n",
       "        -0.12101906,  0.00425069,  0.00939588, -0.02426297,  0.01650537,\n",
       "        -0.00672055, -0.0556443 ,  0.01099125, -0.01554176,  0.01638107,\n",
       "         0.01015838, -0.04911859,  0.001935  ,  0.04229596, -0.05987804,\n",
       "        -0.00257978, -0.0107565 , -0.01668609, -0.0296962 ,  0.03569481,\n",
       "         0.02747322, -0.00934017,  0.01441957,  0.0130517 , -0.02444735,\n",
       "         0.02120516, -0.00096865, -0.0188383 , -0.0238496 , -0.03301947,\n",
       "        -0.02739294, -0.03152817, -0.02850703,  0.02582952,  0.09393992,\n",
       "        -0.09520127,  0.01932798,  0.02512882,  0.00121815,  0.11308598,\n",
       "        -0.01800925, -0.01931212,  0.02532983, -0.0131299 , -0.02538257,\n",
       "        -0.05033612,  0.00945456,  0.04710452, -0.02733496,  0.05421009,\n",
       "        -0.01624739,  0.05414408, -0.01306557, -0.00859392, -0.03817004,\n",
       "        -0.01709202,  0.05096271,  0.02427631, -0.06469591, -0.02914883,\n",
       "         0.03143278,  0.01101429, -0.00056688,  0.02430528,  0.03461844,\n",
       "        -0.00487901, -0.01401653, -0.00888324,  0.03727284, -0.0052282 ,\n",
       "        -0.02619803,  0.02033424, -0.00052404, -0.05030107,  0.00790335,\n",
       "        -0.05297114, -0.04170848, -0.03760746,  0.00040069, -0.05385963,\n",
       "        -0.012214  , -0.04476003, -0.01210244,  0.01705632,  0.0119201 ,\n",
       "        -0.0669309 ,  0.02479957,  0.04259193, -0.00989597, -0.03574537,\n",
       "        -0.01056746,  0.02462216,  0.07957096, -0.03880927,  0.00325192,\n",
       "        -0.06922627,  0.0341259 ,  0.00188198, -0.04571265,  0.02686912,\n",
       "         0.02575212,  0.03683177, -0.00937888, -0.02248303, -0.00197235,\n",
       "        -0.02762727,  0.02909305,  0.05598405, -0.01284105, -0.00730027,\n",
       "        -0.0396778 , -0.04446909,  0.06034755, -0.04319024, -0.00328572,\n",
       "        -0.03765833, -0.00271383, -0.02311551,  0.04458722,  0.00828807,\n",
       "         0.01182754, -0.03250156, -0.01906974,  0.01095968, -0.01579941,\n",
       "        -0.00100651,  0.00609957,  0.02488822,  0.01794237, -0.00544566,\n",
       "         0.02853087,  0.06334066,  0.00414188, -0.04881943,  0.0490023 ,\n",
       "        -0.052573  , -0.0130457 , -0.0236969 , -0.00921347,  0.00240289,\n",
       "        -0.00932327,  0.01127187, -0.01553872,  0.02036162, -0.06939026,\n",
       "         0.023855  , -0.03721552, -0.03574692,  0.01736331,  0.00203044,\n",
       "        -0.04086181,  0.00962551, -0.03624694, -0.01341386,  0.05167821,\n",
       "        -0.04397283,  0.01512805,  0.01270887, -0.01344851, -0.02451784,\n",
       "        -0.04307097,  0.06425704, -0.03999979, -0.05178422, -0.02647089,\n",
       "         0.03275027, -0.01061827, -0.01587346,  0.00297671, -0.0114794 ,\n",
       "         0.01059756, -0.01799727, -0.00996336, -0.00972557,  0.00769295,\n",
       "         0.03461165,  0.0592533 ,  0.02459439, -0.05177871,  0.03087072,\n",
       "        -0.01340893,  0.06566101, -0.05253085, -0.00805167, -0.02295016,\n",
       "         0.05107899, -0.03913955,  0.02642461, -0.06621344,  0.04141396,\n",
       "        -0.05624914, -0.01575116, -0.01760018,  0.01598946,  0.01026416,\n",
       "        -0.00496567,  0.01722017, -0.07039612,  0.02087161, -0.0218856 ,\n",
       "         0.02369428,  0.01194959, -0.07582057,  0.04757751,  0.04924338,\n",
       "        -0.0534488 , -0.00079523,  0.04203226,  0.01245082,  0.05224109,\n",
       "        -0.01489381,  0.00662205, -0.01509583,  0.01874447,  0.02009102,\n",
       "         0.01102692,  0.02687154, -0.02710199,  0.07360237,  0.00564046,\n",
       "         0.01302164,  0.05647759, -0.01110753, -0.11500562,  0.02181168,\n",
       "        -0.03006093,  0.00315177,  0.03797377, -0.03321625, -0.05968628,\n",
       "         0.01130201,  0.00476093, -0.04282795,  0.01339795, -0.01602601,\n",
       "         0.04316282, -0.07801243, -0.01241173,  0.02863514,  0.09091263,\n",
       "         0.01738081, -0.00096606, -0.03737975,  0.03845173,  0.03220988,\n",
       "        -0.09461024,  0.02991191, -0.03769523, -0.05716411,  0.07556581,\n",
       "        -0.11189438, -0.00823139], dtype=float32),\n",
       " array([-3.43324170e-02, -6.35007247e-02,  6.08881116e-02,  2.02020444e-03,\n",
       "        -7.57977962e-02,  3.39487307e-02, -2.14911699e-02, -6.27765134e-02,\n",
       "         1.32032931e-02, -9.62431729e-02,  2.45035253e-02,  5.72513277e-03,\n",
       "        -8.46710522e-03, -2.00369153e-02, -2.86420602e-02,  5.11230864e-02,\n",
       "         5.08266389e-02,  7.28271008e-02, -5.26297688e-02,  5.51547781e-02,\n",
       "        -5.25432937e-02, -1.35495160e-02,  2.03460809e-02, -3.16798240e-02,\n",
       "        -3.69414408e-03,  1.24964612e-02, -5.52084204e-03,  4.23490554e-02,\n",
       "         5.15012667e-02,  7.10099638e-02,  3.28180455e-02, -3.31824459e-03,\n",
       "        -2.48296931e-02, -9.60669655e-04, -1.03879170e-02, -6.51037414e-03,\n",
       "         1.50107266e-02,  9.97737050e-03, -3.18518328e-03, -3.00038345e-02,\n",
       "         2.28645429e-02, -1.64451299e-03, -2.68933773e-02,  1.55354943e-02,\n",
       "        -8.36085354e-04,  5.36900945e-02, -4.06699888e-02,  7.29263853e-03,\n",
       "         2.31347000e-03, -7.99183547e-02, -3.41168270e-02, -2.09792238e-02,\n",
       "        -3.17345932e-02,  7.34131932e-02, -4.28706147e-02,  1.38447089e-02,\n",
       "         6.51589856e-02,  1.62917487e-02,  8.47946927e-02, -8.96690227e-03,\n",
       "        -2.47673169e-02,  5.37373088e-02,  5.89180626e-02,  3.08563598e-02,\n",
       "        -8.82826187e-03,  7.02404827e-02, -3.97080481e-02, -2.65811328e-02,\n",
       "        -4.80102524e-02, -4.74964865e-02, -4.22798842e-02,  3.51194926e-02,\n",
       "        -2.79174503e-02,  8.28528330e-02, -3.43442224e-02,  3.96444649e-02,\n",
       "         1.56519748e-02,  3.65644554e-03, -3.64478901e-02, -4.73928973e-02,\n",
       "         1.74517557e-02, -9.89605859e-02,  6.91872016e-02,  7.72450343e-02,\n",
       "        -4.15863916e-02,  1.31233661e-02, -1.57201961e-02,  2.97387550e-03,\n",
       "         6.69187978e-02, -1.21668642e-02, -1.56728609e-03,  9.56950858e-02,\n",
       "         3.07752695e-02,  2.60915398e-03, -7.53360093e-02, -2.21896507e-02,\n",
       "         3.17734405e-02,  3.28245424e-02, -7.08258059e-03, -4.16240543e-02,\n",
       "        -1.94156393e-02,  6.12766594e-02, -2.73053870e-02, -5.09746233e-03,\n",
       "         1.80949327e-02, -2.51472238e-02,  1.90130109e-03, -2.21584775e-02,\n",
       "         4.59601060e-02,  1.30586629e-03, -6.24966584e-02,  2.96819285e-02,\n",
       "         1.30948834e-02,  4.07495536e-02, -5.25402464e-02, -8.60035196e-02,\n",
       "         8.72020349e-02,  4.40603681e-02,  1.08041562e-01, -2.08513942e-02,\n",
       "         7.80296698e-03, -2.71862075e-02, -2.92113982e-02, -4.91970554e-02,\n",
       "        -2.06943899e-02,  3.81263979e-02, -3.93901393e-02, -3.75944823e-02,\n",
       "         1.73377444e-03, -7.88334105e-03,  1.40962005e-02, -1.05623240e-02,\n",
       "         1.14532188e-04,  2.34056506e-02, -1.40204867e-02, -4.53572394e-03,\n",
       "        -5.21765724e-02, -1.00406818e-02, -3.83489244e-02,  7.66714662e-02,\n",
       "        -5.32835070e-03,  1.29020596e-02,  4.04638015e-02,  7.40449759e-04,\n",
       "        -9.42339748e-03,  6.22769026e-03,  3.78447324e-02,  1.19310077e-02,\n",
       "         3.69294323e-02,  8.19299184e-03, -6.08947575e-02,  8.17116722e-03,\n",
       "         1.44430026e-02, -2.65365727e-02,  3.30291875e-02,  2.28614709e-03,\n",
       "         3.25878374e-02,  2.09774636e-02, -3.01966956e-03, -5.10249063e-02,\n",
       "         2.15283770e-04, -2.59367563e-02,  4.50241081e-02,  2.53743026e-02,\n",
       "         2.41884142e-02, -2.14082953e-02, -1.00928023e-02, -1.17592830e-02,\n",
       "        -6.12672344e-02,  9.19577200e-03,  9.90100428e-02, -7.32460767e-02,\n",
       "        -3.60341072e-02, -4.59099980e-03,  8.37696269e-02, -5.38503693e-04,\n",
       "         2.41128765e-02, -3.46449502e-02,  2.80654915e-02,  5.22457659e-02,\n",
       "        -1.43349105e-02, -9.51438397e-03,  9.05803442e-02,  1.67027563e-02,\n",
       "         9.52928439e-02, -4.66730772e-03,  5.85812554e-02,  4.93779220e-03,\n",
       "         3.71440686e-02,  1.76808368e-02,  2.04762891e-02,  3.28853191e-03,\n",
       "         2.39841007e-02, -7.14834481e-02, -7.41912052e-03, -1.57325827e-02,\n",
       "         7.64033645e-02,  7.03342557e-02,  3.72468904e-02, -2.01711487e-02,\n",
       "        -1.48175424e-02,  6.98855519e-02,  2.99758837e-02,  1.13785051e-01,\n",
       "         1.00597795e-02, -1.30760148e-02, -8.37729499e-03, -7.05746263e-02,\n",
       "         7.99528603e-03,  1.78089365e-03, -6.81056525e-04, -5.60067855e-02,\n",
       "        -1.83509309e-02, -5.33193387e-02, -8.54955800e-03,  1.95526667e-02,\n",
       "         9.16916318e-03,  1.39159597e-02,  6.96743950e-02,  3.61430496e-02,\n",
       "        -4.85222563e-02,  5.83080538e-02,  7.02877790e-02, -2.70712506e-02,\n",
       "         2.13332549e-02, -3.86955328e-02, -1.85315050e-02,  1.30187552e-02,\n",
       "        -6.58250600e-03,  1.37835788e-02,  3.42267007e-02, -2.73175463e-02,\n",
       "        -3.73826660e-02,  7.66965523e-02,  6.50864914e-02,  5.14754420e-03,\n",
       "         1.73237640e-04, -6.05209507e-02, -7.74524314e-03,  3.87481228e-02,\n",
       "        -4.84115221e-02, -2.19389927e-02, -7.68836413e-04, -5.48177138e-02,\n",
       "         1.64610017e-02, -4.25126217e-02, -2.04778071e-02,  1.26199415e-02,\n",
       "         1.09310560e-02, -5.04122786e-02,  4.22774162e-03, -3.59725580e-02,\n",
       "        -4.84941117e-02,  2.21749842e-02, -4.55260184e-03, -9.34507698e-02,\n",
       "        -2.81526260e-02,  3.36006321e-02,  3.32578197e-02, -3.92618217e-02,\n",
       "        -6.91182073e-03,  5.67918532e-02,  5.22453003e-02, -7.50153065e-02,\n",
       "        -5.44338450e-02, -1.84582472e-02,  1.49197904e-02, -3.37423780e-03,\n",
       "        -5.37754456e-03, -1.42549369e-02,  4.83616181e-02,  3.57773975e-02,\n",
       "        -2.74237059e-02,  7.19503015e-02, -4.87472154e-02, -2.15698369e-02,\n",
       "        -3.55131477e-02,  6.44396059e-03, -2.10518241e-02, -2.05774680e-02,\n",
       "        -8.83887289e-04, -7.82233551e-02,  4.21341248e-02,  1.64591745e-02,\n",
       "         3.09617240e-02,  1.79398421e-03,  1.01003321e-02, -5.78103922e-02,\n",
       "         7.93487299e-03,  6.33152295e-03, -2.60801204e-02, -5.16312122e-02,\n",
       "         5.58350177e-04,  1.60816461e-02,  7.66834840e-02, -1.18494689e-01,\n",
       "         2.39382125e-02, -1.09774591e-02, -4.88377661e-02,  7.95419887e-02,\n",
       "        -2.02889666e-02,  7.55437091e-03,  7.66183902e-03, -1.30934678e-02,\n",
       "        -3.33381519e-02, -1.30842952e-02, -9.69051197e-03,  3.30489576e-02,\n",
       "        -4.55965213e-02,  1.11410223e-01, -5.22493422e-02, -2.24543083e-02,\n",
       "         3.92048098e-02, -7.70062283e-02,  1.50390938e-02,  1.24627501e-02,\n",
       "         6.73293546e-02, -2.22301800e-02,  7.33344723e-03, -1.34412302e-02,\n",
       "         1.12302424e-02,  9.10154916e-03, -1.44760190e-02,  2.66999565e-02,\n",
       "         3.94095443e-02,  2.13565864e-02, -1.36858281e-02,  5.05288951e-02,\n",
       "         3.79413217e-02, -2.15307474e-02,  3.00966892e-02,  1.98781639e-02,\n",
       "        -3.61275300e-02, -1.43936218e-03,  1.94701180e-02, -3.06096561e-02,\n",
       "        -3.63704264e-02, -3.51926051e-02, -1.99150648e-02,  5.79057867e-03,\n",
       "        -2.64171250e-02,  6.80834875e-02,  1.23402355e-02,  3.84723069e-03,\n",
       "         5.46858422e-02, -5.53418025e-02,  2.01484635e-02,  5.01514897e-02,\n",
       "        -6.28805999e-03, -5.96460402e-02,  1.44866190e-03,  4.65078168e-02,\n",
       "         5.86833013e-03,  7.53692016e-02, -2.21866742e-03, -3.45628150e-02,\n",
       "         4.99273501e-02, -2.45165415e-02, -5.66148646e-02, -2.59176604e-02,\n",
       "        -2.41142903e-02, -4.04752567e-02, -7.95294903e-03,  1.83253898e-03,\n",
       "        -1.19305253e-02, -1.09998304e-02, -6.83921129e-02,  3.15939859e-02,\n",
       "        -2.70658582e-02, -1.12653114e-01, -9.12134536e-03,  2.27402803e-02,\n",
       "         2.19268631e-02,  2.01687757e-02,  6.15401864e-02, -2.07913164e-02,\n",
       "        -4.28455062e-02,  5.61426347e-03,  4.15911749e-02,  1.00764039e-04,\n",
       "         3.82041233e-03,  4.71442305e-02, -1.22268908e-02,  6.32474571e-02,\n",
       "        -1.43496208e-02,  5.77850221e-03,  1.44900829e-02,  1.73999567e-03,\n",
       "        -5.58568314e-02,  7.32195890e-03, -2.50182692e-02,  3.25054340e-02,\n",
       "         5.60344532e-02, -4.97005470e-02,  4.84270975e-02, -1.73106715e-02,\n",
       "         4.22275439e-02, -6.24775626e-02,  2.11714115e-02,  3.59360278e-02,\n",
       "         4.64965403e-02,  5.70808798e-02, -1.98556809e-04, -8.78505483e-02,\n",
       "        -2.10216884e-02,  4.42641228e-02,  3.75344455e-02, -7.10585043e-02,\n",
       "         3.30675840e-02, -2.35535055e-02, -7.97765851e-02,  1.18928542e-02,\n",
       "        -3.59208845e-02, -1.97578799e-02, -5.65711856e-02, -2.83477525e-03,\n",
       "        -4.89177555e-03,  3.49282734e-02, -5.35836034e-02, -1.98429730e-02,\n",
       "        -3.35292891e-04,  5.05812243e-02, -8.66716430e-02,  7.18422458e-02,\n",
       "        -2.41188295e-02,  2.75467485e-02,  6.09626472e-02, -1.17763889e-03,\n",
       "         2.44608689e-02,  1.08492719e-02, -5.68594690e-03, -2.32214923e-03,\n",
       "         4.40339409e-02,  4.22934256e-02, -7.00917887e-03, -1.93229932e-02,\n",
       "         4.25178260e-02,  2.91704573e-02, -4.69935592e-03,  2.47260481e-02,\n",
       "        -6.36024252e-02,  5.74841052e-02,  1.17064985e-02, -6.80331737e-02,\n",
       "        -4.87194993e-02,  5.53267216e-03, -5.23223123e-03, -5.12108840e-02,\n",
       "        -4.24428694e-02,  7.85190910e-02, -6.37966022e-02,  2.28585545e-02,\n",
       "         1.42952465e-02,  3.28857005e-02,  1.76684204e-02,  1.82251632e-02,\n",
       "         5.11809029e-02, -7.58401677e-03, -2.22050734e-02, -7.00341584e-03,\n",
       "         1.66830455e-03,  4.61878860e-03, -2.80623194e-02,  5.30902818e-02,\n",
       "         2.53960155e-02, -4.84178774e-02, -3.15313190e-02,  7.72946849e-02,\n",
       "         2.13540588e-02, -6.71013258e-05, -4.17446223e-04,  9.75648779e-03,\n",
       "         6.06326647e-02,  2.96563562e-02,  3.02460417e-02, -1.00479620e-02,\n",
       "         2.26054690e-03,  3.80827747e-02,  6.82479218e-02, -1.21815258e-03,\n",
       "        -3.80547494e-02,  1.03627458e-01, -4.39641587e-02, -3.23175751e-02,\n",
       "         2.78132055e-02,  7.17602810e-03, -3.74935791e-02,  2.84125321e-02,\n",
       "         1.10441586e-02, -1.69201829e-02,  6.88420534e-02, -1.16057154e-02,\n",
       "        -3.50988097e-02, -2.47542486e-02, -2.88021713e-02,  2.18094271e-02,\n",
       "         4.60471399e-02, -7.25998729e-02,  6.86722174e-02,  6.88316301e-02,\n",
       "        -1.71595886e-02,  2.94248499e-02,  7.82135502e-02, -4.57428256e-03,\n",
       "         6.80950731e-02, -1.95558649e-02,  5.12361638e-02, -2.43839119e-02,\n",
       "        -5.30731343e-02, -1.03642384e-03, -4.88891155e-02, -2.38314811e-02],\n",
       "       dtype=float32),\n",
       " array([-5.96098267e-02, -3.29881683e-02,  4.03629318e-02, -3.05071138e-02,\n",
       "        -7.98328742e-02,  5.77915907e-02, -2.86950488e-02, -3.40585858e-02,\n",
       "        -1.99750848e-02, -1.00650199e-01,  6.08303808e-02, -1.59937702e-02,\n",
       "         2.21022740e-02, -2.31312066e-02, -4.23767976e-02,  5.28504141e-02,\n",
       "         2.23680623e-02,  8.08461607e-02, -9.38160568e-02, -3.07150427e-02,\n",
       "        -4.22593057e-02, -6.30985480e-03, -1.15151638e-02, -3.76484804e-02,\n",
       "         5.67445951e-03,  2.28867196e-02,  6.71988213e-03,  6.45750063e-03,\n",
       "         2.15618014e-02,  1.66083537e-02,  3.39904241e-02,  2.05789432e-02,\n",
       "        -5.83928078e-02,  1.07753389e-02, -1.97625533e-02, -1.32950544e-02,\n",
       "        -1.93695240e-02, -2.04961207e-02, -2.81118006e-02, -5.98472096e-02,\n",
       "        -4.55607586e-02, -2.14748504e-03, -4.38519418e-02,  3.17837186e-02,\n",
       "         4.36018258e-02, -3.43350656e-02, -6.31698668e-02, -1.11144083e-02,\n",
       "         4.79601212e-02, -1.93529169e-03,  2.04795040e-03, -9.18928534e-03,\n",
       "        -5.07625639e-02,  1.14113297e-02, -5.05779572e-02, -2.08229176e-03,\n",
       "         8.44926462e-02, -1.85166020e-02,  5.52123897e-02,  1.30964518e-02,\n",
       "        -9.11301821e-02, -1.88848525e-02, -9.26546566e-03,  5.22876792e-02,\n",
       "        -5.39710075e-02,  2.68302597e-02,  1.14856353e-02, -4.79331911e-02,\n",
       "        -7.33722895e-02, -7.55326077e-02,  3.92091572e-02, -2.87410039e-02,\n",
       "         1.86159159e-03,  6.03513941e-02,  1.37733901e-02,  5.92536293e-02,\n",
       "         4.46923114e-02, -2.07909513e-02, -3.06182485e-02, -3.79909612e-02,\n",
       "         1.07338605e-02, -1.06305718e-01,  8.48229900e-02, -1.89804956e-02,\n",
       "        -5.37969284e-02, -2.68929768e-02, -6.47061989e-02, -1.70806260e-03,\n",
       "         3.87306139e-02, -1.52134271e-02, -7.86103010e-02,  7.31841624e-02,\n",
       "         1.98405460e-02, -3.00210365e-03, -3.99897769e-02,  2.55323425e-02,\n",
       "         7.07849022e-03,  3.41184512e-02,  8.06000840e-04, -2.90809874e-03,\n",
       "        -4.29305471e-02,  1.55880963e-02, -7.03448132e-02,  2.98301270e-03,\n",
       "         1.99915413e-02, -4.89260070e-02,  4.39269133e-02,  5.04796254e-03,\n",
       "         7.28001669e-02, -3.34750349e-03, -6.18753098e-02,  4.77238782e-02,\n",
       "         4.64724675e-02,  2.73075476e-02,  3.88476178e-02, -5.62047884e-02,\n",
       "         6.94120079e-02, -1.11845285e-02,  1.00686394e-01, -9.66764893e-03,\n",
       "         2.12911312e-02,  6.11090995e-02, -1.08699780e-02, -3.37103382e-02,\n",
       "         7.15682167e-04,  7.59146689e-03,  1.97042730e-02, -3.09180245e-02,\n",
       "        -8.10556021e-03,  3.83378305e-02,  8.42421055e-02, -1.23933367e-02,\n",
       "        -2.10079434e-03, -4.18224651e-03, -1.69930551e-02, -2.42051296e-03,\n",
       "         2.71742349e-03,  1.10702023e-01, -1.16915479e-02,  3.39032374e-02,\n",
       "        -4.01464365e-02, -8.53367522e-03, -3.21094808e-03, -5.14536276e-02,\n",
       "        -2.57919021e-02,  2.25695632e-02,  3.54811028e-02,  2.19625253e-02,\n",
       "         1.18355807e-02, -3.59340720e-02, -3.16305794e-02,  1.07898243e-01,\n",
       "         1.74887162e-02, -1.83146894e-02,  1.84276775e-02,  2.44338228e-03,\n",
       "         6.22917525e-02,  1.06736610e-03,  1.58547983e-02,  5.85793704e-03,\n",
       "         2.41142511e-02, -3.80736776e-02,  4.71523553e-02,  8.20399597e-02,\n",
       "         4.22730260e-02, -2.22513191e-02, -5.02540320e-02, -2.69215275e-03,\n",
       "        -2.28729807e-02,  6.48736209e-02,  1.11745104e-01, -8.63340870e-03,\n",
       "        -1.64257567e-02,  3.29044387e-02,  1.33464653e-02,  7.89987743e-02,\n",
       "         1.32038211e-02,  3.39719392e-02, -3.37503874e-03,  2.20262054e-02,\n",
       "         2.63057947e-02, -2.34678183e-02, -2.86504459e-02, -1.14673153e-02,\n",
       "         1.68336481e-02,  1.12998812e-02,  2.88521536e-02,  3.60859954e-03,\n",
       "        -3.90009992e-02,  1.55739896e-02, -1.35943154e-02,  2.49214899e-02,\n",
       "         3.41284387e-02, -4.22420539e-02, -6.05620891e-02,  1.98388044e-02,\n",
       "         7.51237571e-02,  8.84516165e-02,  4.30532098e-02,  4.95478250e-02,\n",
       "         2.23026723e-02,  2.03049686e-02,  8.50688480e-03,  1.15457051e-01,\n",
       "        -2.10284479e-02,  2.92550568e-02, -2.44594105e-02, -2.07300037e-02,\n",
       "        -3.18282358e-02,  7.34971017e-02, -4.41277437e-02,  8.55078362e-03,\n",
       "         4.35255580e-02, -1.89796416e-03,  8.52292310e-03, -1.08203925e-02,\n",
       "         4.22933623e-02, -4.38644178e-02,  3.77691276e-02, -3.03262025e-02,\n",
       "        -2.47351564e-02,  2.74172612e-02,  7.66724050e-02,  2.06944849e-02,\n",
       "        -7.21923215e-03, -3.10358908e-02,  1.75291784e-02, -2.90265307e-02,\n",
       "        -9.48906839e-02, -4.15174328e-02, -1.06342295e-02, -6.90770373e-02,\n",
       "        -8.31217468e-02,  9.78718624e-02,  2.28601731e-02, -2.01970451e-02,\n",
       "        -8.93504126e-04, -8.05314705e-02,  1.46505572e-02, -4.03266437e-02,\n",
       "        -5.92482463e-02, -5.11743650e-02, -3.95339951e-02, -1.52511187e-02,\n",
       "        -1.15431082e-02, -5.32506406e-02, -2.97563635e-02, -1.91893037e-02,\n",
       "         5.50155975e-02, -6.18938841e-02,  2.97995508e-02, -3.00562140e-02,\n",
       "         1.69857428e-03,  3.88770513e-02, -3.66643071e-02, -1.37837895e-03,\n",
       "        -2.71558221e-02,  1.57951023e-02, -1.35467900e-02, -5.72842993e-02,\n",
       "         5.54978438e-02,  4.51946724e-03, -4.69398685e-02, -6.68889359e-02,\n",
       "         3.48432809e-02, -8.42909142e-03, -5.53977452e-02,  2.07788646e-02,\n",
       "        -4.99520674e-02,  4.25901860e-02, -7.83522427e-03, -5.53654274e-03,\n",
       "        -3.40981944e-03,  9.46191885e-03, -6.87371790e-02, -3.42034176e-02,\n",
       "        -2.79217642e-02,  3.48166116e-02, -5.28028309e-02, -2.50050854e-02,\n",
       "         4.72931284e-03, -2.80713253e-02, -1.15174064e-02,  2.52248477e-02,\n",
       "        -4.03326526e-02,  3.70036042e-03,  1.90237202e-02, -4.23558988e-02,\n",
       "         7.05261668e-03,  2.79274546e-02, -7.59146512e-02, -3.86919677e-02,\n",
       "        -3.11493017e-02,  2.64456728e-03,  3.23099084e-02, -8.49671811e-02,\n",
       "         1.32230874e-02, -2.28783302e-02,  8.90528504e-03,  3.48214880e-02,\n",
       "        -1.19659984e-02,  6.11043423e-02,  1.67687908e-02, -1.39801474e-02,\n",
       "        -2.90350430e-02,  1.09444400e-02,  2.18930957e-03,  3.76933143e-02,\n",
       "         2.00238768e-02,  2.83348784e-02,  4.88143638e-02,  1.33821769e-02,\n",
       "        -1.88548751e-02,  1.75234172e-02,  3.45606357e-02,  7.33018592e-02,\n",
       "         5.12379669e-02, -6.27303170e-03, -3.56165953e-02, -5.22134937e-02,\n",
       "         4.95014712e-02, -6.38971711e-03,  7.99674019e-02, -3.20508443e-02,\n",
       "         4.23331298e-02, -4.92427088e-02, -3.55366245e-03, -1.56964287e-02,\n",
       "         1.57674644e-02, -4.28607315e-02, -2.09786687e-02,  3.05119604e-02,\n",
       "        -3.41223218e-02, -8.19656476e-02,  3.35656712e-03,  1.75095759e-02,\n",
       "         4.99322952e-04, -8.26868191e-02,  4.64393310e-02,  3.84725928e-02,\n",
       "        -3.61433960e-02, -3.17889899e-02, -2.77106725e-02, -1.37071759e-02,\n",
       "        -2.55248416e-03, -1.94002502e-02,  3.65782008e-02,  2.88920961e-02,\n",
       "        -9.79161635e-02, -4.11886536e-03, -3.00348476e-02,  2.65520867e-02,\n",
       "         2.08443943e-02, -1.01593053e-02,  4.29594703e-02, -3.13154384e-02,\n",
       "        -1.11883413e-02, -1.26097654e-03,  1.70226605e-03, -5.14022633e-02,\n",
       "         1.42257633e-02,  2.88429521e-02,  4.94339131e-02,  3.15272212e-02,\n",
       "        -6.42024493e-03, -2.34092735e-02, -3.85030210e-02,  1.36348177e-02,\n",
       "        -2.54010409e-02, -4.56108339e-02, -5.11348322e-02, -3.99511606e-02,\n",
       "        -1.11047886e-02, -4.15485399e-03,  2.94000190e-03, -6.77770674e-02,\n",
       "        -1.91255882e-02, -2.79077832e-02,  5.58310039e-02,  2.50114128e-04,\n",
       "        -1.64691135e-02, -8.27033829e-04, -6.40955269e-02,  2.64803469e-02,\n",
       "        -3.49307954e-02, -2.39961129e-02,  5.61964624e-02, -6.27710670e-02,\n",
       "         4.47716974e-02,  1.96406227e-02,  3.87296416e-02,  4.84531038e-02,\n",
       "         3.93611863e-02, -3.11952718e-02,  2.68469490e-02,  2.01372765e-02,\n",
       "        -2.52256286e-03,  5.13457730e-02, -1.93280838e-02,  1.08696055e-02,\n",
       "        -5.01408204e-02,  3.62452772e-03, -5.60107864e-02, -3.92494127e-02,\n",
       "        -7.01566711e-02, -1.78964753e-02,  7.18223453e-02,  3.68010276e-03,\n",
       "         2.51078513e-02,  4.02165465e-02,  2.06434932e-02,  5.87573200e-02,\n",
       "        -4.51690294e-02, -5.19081056e-02,  2.77199131e-03, -3.52726355e-02,\n",
       "         4.22611013e-02,  3.09590269e-02, -1.34034343e-02, -3.08549292e-02,\n",
       "        -2.35016178e-02, -4.90920199e-03, -5.31073697e-02,  3.62048745e-02,\n",
       "        -1.00157189e-03,  2.15352699e-02, -6.36162162e-02, -6.44574687e-02,\n",
       "         1.05999447e-01, -1.16164731e-02,  5.68903312e-02,  1.80235244e-02,\n",
       "        -9.84918606e-03, -2.44259257e-02, -5.82786910e-02, -1.87536348e-02,\n",
       "         9.87630114e-02,  2.32287366e-02, -7.06832809e-03,  5.77593036e-03,\n",
       "        -3.14720012e-02,  6.94738254e-02, -4.63076867e-05, -5.59041649e-02,\n",
       "        -4.99211140e-02,  2.20084470e-02, -5.03329970e-02,  3.95721756e-02,\n",
       "        -5.05465567e-02,  2.40635276e-02,  1.57141890e-02, -8.86973552e-03,\n",
       "        -2.18277834e-02,  9.58833843e-03,  2.50186361e-02, -4.24534827e-03,\n",
       "        -1.19057735e-02, -4.09491099e-02, -2.07374357e-02, -3.44494395e-02,\n",
       "         6.32532910e-02,  2.85950899e-02, -9.47434455e-03,  4.03361693e-02,\n",
       "         1.97762121e-02, -2.43718475e-02,  7.53926411e-02,  5.80686517e-03,\n",
       "         4.28460315e-02, -2.50261836e-02,  6.57583773e-02, -3.56445322e-03,\n",
       "         8.29880834e-02,  5.73722422e-02, -6.98312838e-03, -1.66468546e-02,\n",
       "         4.84796613e-02,  1.10954242e-02,  5.29048406e-02,  9.79793817e-03,\n",
       "         3.02536041e-02,  9.26289856e-02, -3.87511700e-02, -1.70715861e-02,\n",
       "         1.04817702e-02, -7.65607413e-03,  3.62125263e-02,  2.97376681e-02,\n",
       "        -2.24935878e-02, -3.34768444e-02,  3.81682105e-02,  1.09631047e-02,\n",
       "        -8.63498356e-03,  3.47396638e-03, -1.43226273e-02,  1.45860687e-02,\n",
       "        -9.45887994e-03, -6.50880039e-02,  1.43139204e-03,  9.01750699e-02,\n",
       "         2.77501512e-02,  4.03320603e-02, -3.69184390e-02,  3.32127772e-02,\n",
       "         5.23317941e-02, -3.34908292e-02,  1.16270864e-02, -6.78648353e-02,\n",
       "        -8.21510628e-02,  4.33108732e-02, -6.78249523e-02,  6.17416715e-03],\n",
       "       dtype=float32),\n",
       " array([-2.81731468e-02,  1.11732325e-02,  3.80784296e-03, -1.35208787e-02,\n",
       "        -3.97116728e-02,  3.28345448e-02, -5.06808348e-02, -6.08917465e-03,\n",
       "         2.11816914e-02, -5.76883815e-02,  5.01388498e-02,  2.93339286e-02,\n",
       "         3.31318341e-02,  5.52103110e-03,  4.01251018e-05,  7.92510137e-02,\n",
       "         4.43977341e-02,  8.10889527e-02, -4.21028435e-02,  6.13266565e-02,\n",
       "        -5.44696636e-02,  1.80778652e-02, -4.12387326e-02, -5.78846894e-02,\n",
       "        -4.77246046e-02,  4.75252718e-02, -1.55214325e-03,  2.69681606e-02,\n",
       "         2.28645466e-02,  7.67759755e-02,  9.19938311e-02,  1.64783746e-02,\n",
       "        -1.25662913e-03,  4.48605865e-02, -4.13186811e-02,  1.30102029e-02,\n",
       "         3.56144272e-02, -1.14493994e-02, -4.22749016e-03, -5.63656464e-02,\n",
       "         3.30702215e-02,  1.39138456e-02,  9.39373299e-03,  3.77860814e-02,\n",
       "         4.42898311e-02,  4.53821868e-02, -2.78503820e-02, -4.13969159e-02,\n",
       "        -2.17415467e-02, -7.22384751e-02, -4.03056517e-02,  6.01063343e-03,\n",
       "        -4.08817753e-02,  9.57854837e-02,  2.86063040e-03,  1.69824082e-02,\n",
       "         7.58320019e-02,  3.40354927e-02,  6.69559240e-02, -1.42235532e-02,\n",
       "        -2.59096660e-02,  1.88510085e-03,  3.53458971e-02,  3.03720292e-02,\n",
       "        -3.33228447e-02,  4.43357974e-02, -1.73605513e-02,  2.18690857e-02,\n",
       "        -9.10171308e-03, -1.53085431e-02, -6.56195544e-03,  1.04378555e-02,\n",
       "        -3.33911628e-02,  9.35481638e-02, -5.06305695e-02,  1.86063703e-02,\n",
       "         6.03761561e-02,  9.79199726e-03, -9.04010609e-03, -2.99624801e-02,\n",
       "        -5.91495447e-02, -7.75397196e-02,  4.99403328e-02,  4.52168882e-02,\n",
       "        -4.19622958e-02, -2.84663052e-03, -1.25506725e-02,  8.22469592e-05,\n",
       "         6.99842870e-02,  2.37701200e-02, -4.99021225e-02,  6.15918897e-02,\n",
       "         1.99037381e-02, -1.51078147e-03, -5.55925295e-02, -7.40375230e-03,\n",
       "         5.79882003e-02,  4.10975739e-02,  4.04993072e-02, -1.95504315e-02,\n",
       "         4.13436862e-03,  3.86705436e-02, -3.43265310e-02, -2.13710088e-02,\n",
       "         1.20129418e-02,  2.83868015e-02,  8.72300658e-03,  1.73906069e-02,\n",
       "         6.57460168e-02, -4.52353247e-02, -9.19750780e-02,  4.89427820e-02,\n",
       "         2.72136386e-02,  3.69848125e-02,  2.39096489e-02, -1.30755417e-02,\n",
       "         5.14806993e-02,  3.30379605e-02,  9.62723717e-02, -1.44303348e-02,\n",
       "        -3.20011750e-02, -1.48265483e-02, -1.38439238e-02, -8.41805860e-02,\n",
       "        -4.00791038e-03, -5.05662337e-03, -1.68500673e-02, -6.78094700e-02,\n",
       "        -2.42945622e-03,  3.04178353e-02,  2.76554655e-02, -7.39031890e-03,\n",
       "         8.89941491e-03, -2.14691702e-02, -2.26928331e-02, -1.17496448e-02,\n",
       "        -8.90935361e-02,  3.46488170e-02, -3.92422676e-02,  7.78456628e-02,\n",
       "        -5.84899597e-02,  7.42449379e-03,  4.68625464e-02, -1.89907989e-03,\n",
       "         1.80231389e-02, -1.91687290e-02,  5.80302365e-02, -2.79921722e-02,\n",
       "         3.01977098e-02,  3.57653685e-02, -4.30665128e-02, -6.16095401e-02,\n",
       "         4.13808860e-02, -7.90835824e-03,  1.74614973e-02, -1.88023562e-03,\n",
       "         3.74997524e-03,  4.98318262e-02, -1.30693079e-03, -9.45008174e-03,\n",
       "         1.57604776e-02, -3.12789045e-02,  3.90767902e-02,  7.31396005e-02,\n",
       "         2.54882984e-02, -3.85782793e-02,  3.31293829e-02, -5.30707017e-02,\n",
       "         9.77034494e-03, -1.65396910e-02,  1.50098830e-01, -7.09173828e-02,\n",
       "        -1.48168243e-02,  6.25895569e-03,  5.56462519e-02,  1.08684003e-02,\n",
       "        -1.63814181e-03, -5.32397942e-04,  3.94094624e-02,  7.91590512e-02,\n",
       "         1.70171373e-02,  1.56172691e-02,  3.84841859e-02,  3.26092131e-02,\n",
       "         9.39357653e-02, -2.16437392e-02,  3.96183282e-02, -2.29146355e-03,\n",
       "        -1.24362595e-02,  2.36967602e-03,  1.60851758e-02, -7.28080655e-03,\n",
       "         1.15660094e-02, -2.22506225e-02, -6.98792888e-03,  8.62765126e-03,\n",
       "         8.13347008e-03,  3.81331295e-02,  7.34213144e-02, -3.07251960e-02,\n",
       "         7.37299444e-03,  7.37981945e-02,  6.05267622e-02,  1.18651621e-01,\n",
       "        -3.85037810e-02,  5.67830494e-03, -1.55553557e-02, -6.34261966e-02,\n",
       "        -1.77354254e-02,  1.22524770e-02,  3.02955136e-03, -2.38533095e-02,\n",
       "        -2.08485443e-02, -4.67859469e-02, -1.73740238e-02,  1.08391559e-03,\n",
       "         4.36236672e-02, -2.73058075e-03,  4.06672135e-02,  2.06786301e-02,\n",
       "         1.16476545e-03,  3.71798836e-02,  5.60330413e-02,  2.11919788e-02,\n",
       "         9.33703326e-04,  5.59684075e-03, -3.28153521e-02,  1.06673632e-02,\n",
       "        -2.37826183e-02,  3.60685103e-02,  2.27698982e-02,  4.26512305e-03,\n",
       "        -7.70602599e-02,  4.36812490e-02,  7.76526928e-02,  2.32301913e-02,\n",
       "         5.57831675e-03, -3.87992524e-02, -6.13261713e-03,  4.62997593e-02,\n",
       "         1.29326424e-02, -1.54901026e-02, -1.33397141e-02, -5.57061993e-02,\n",
       "        -4.23786268e-02, -3.44168171e-02, -2.03248356e-02,  4.51406538e-02,\n",
       "         1.69775225e-02, -4.10902537e-02,  6.07306138e-02, -3.50719057e-02,\n",
       "        -4.67551686e-03,  4.30504866e-02,  1.83789060e-02, -8.72414038e-02,\n",
       "        -4.70584445e-02, -4.31565307e-02,  3.44431624e-02, -6.18136302e-02,\n",
       "        -4.26638573e-02,  2.53401566e-02,  4.02314439e-02, -6.51490018e-02,\n",
       "        -3.63482349e-02,  1.10572521e-02, -3.85183655e-02,  5.34869023e-02,\n",
       "        -1.88317746e-02,  1.70588195e-02,  1.01375803e-02, -4.22308818e-02,\n",
       "        -3.02268472e-02,  2.14514732e-02, -6.82785884e-02, -4.25349511e-02,\n",
       "        -5.20115644e-02,  8.24321061e-02, -2.11520717e-02, -3.99081111e-02,\n",
       "         2.86356965e-03, -1.85851324e-02, -2.38330779e-03,  3.71922851e-02,\n",
       "        -2.81305891e-02, -2.95151733e-02,  1.49866594e-02, -5.55492677e-02,\n",
       "        -1.39560336e-02, -2.13658903e-02, -9.59669799e-03, -8.44039917e-02,\n",
       "         1.99387353e-02, -1.64584089e-02,  5.40430993e-02, -9.14007425e-02,\n",
       "        -7.23158149e-03, -7.07002962e-03, -7.22215995e-02,  7.28158802e-02,\n",
       "        -1.61779020e-02,  5.47529571e-02,  4.67179753e-02, -1.23887369e-02,\n",
       "        -5.66162616e-02,  1.36675527e-02, -4.68108095e-02,  1.85190607e-02,\n",
       "        -7.87101034e-03,  7.30985403e-02, -2.37190514e-03, -2.76836585e-02,\n",
       "         1.57665461e-04, -3.87954433e-03, -4.87627871e-02,  5.31710312e-02,\n",
       "         4.73080650e-02, -7.12597789e-03, -4.77740914e-02, -3.50670516e-02,\n",
       "         4.20817034e-03, -4.14688848e-02, -5.13869850e-03,  1.29886605e-02,\n",
       "         5.05553484e-02, -4.21079778e-04,  2.23426763e-02,  7.02576637e-02,\n",
       "         3.72844599e-02, -3.79374474e-02, -1.08728055e-02, -9.41357296e-03,\n",
       "        -5.09381704e-02, -4.03655432e-02,  1.01983454e-02, -7.97641836e-03,\n",
       "        -4.61421162e-02, -6.51785284e-02, -1.68133639e-02,  2.98969988e-02,\n",
       "         4.64707874e-02,  6.47621974e-02, -3.98600698e-02,  1.03820646e-02,\n",
       "         7.33006280e-03, -3.55987623e-02, -3.71747045e-03,  3.83235775e-02,\n",
       "        -3.70440334e-02,  1.75669529e-02, -3.52625400e-02,  3.33638228e-02,\n",
       "        -5.29227126e-03,  8.56138673e-03,  4.69798930e-02,  8.50196555e-03,\n",
       "         3.19927745e-02, -6.94121271e-02, -5.94002567e-02, -3.96531820e-02,\n",
       "        -4.94201928e-02,  3.17555182e-02,  1.06934477e-02, -3.59971337e-02,\n",
       "         2.39188951e-02,  2.42700148e-02, -5.14732189e-02,  9.63134319e-03,\n",
       "        -3.57547924e-02, -1.04170494e-01, -2.50913482e-02, -3.00828111e-03,\n",
       "         3.71952690e-02,  2.30940292e-03,  2.68813455e-03, -6.38261288e-02,\n",
       "        -4.29317579e-02,  1.68167409e-02, -5.30463783e-03,  8.98542069e-03,\n",
       "        -1.09849349e-02, -4.82891547e-03,  8.82974453e-03,  3.90917473e-02,\n",
       "        -5.67661114e-02, -1.58746503e-02,  3.90748605e-02, -5.48920818e-02,\n",
       "        -2.97129508e-02,  7.70211546e-03, -1.29857287e-02,  8.71886760e-02,\n",
       "         8.47450197e-02,  2.85598096e-02,  2.08427552e-02,  5.40682711e-02,\n",
       "         6.60296753e-02, -7.39229247e-02,  4.00621779e-02, -9.46818292e-03,\n",
       "        -3.67791131e-02,  3.46533097e-02,  1.45561583e-02, -8.27224851e-02,\n",
       "        -6.25158399e-02,  6.91181347e-02,  6.07866310e-02, -5.34840971e-02,\n",
       "         3.85534614e-02, -6.02152245e-03, -3.83388661e-02, -9.23357438e-03,\n",
       "         2.21975427e-03, -5.94727919e-02, -4.32607718e-02, -2.80142315e-02,\n",
       "         2.13424210e-02, -1.65218376e-02, -2.96874624e-02, -3.30090970e-02,\n",
       "        -1.69270243e-02,  4.46261093e-02, -3.87355871e-02,  5.17278910e-02,\n",
       "        -2.48629283e-02,  2.66024955e-02,  2.12456714e-02,  1.56398735e-03,\n",
       "         6.58079162e-02,  4.29588966e-02,  1.83269512e-02, -1.38135115e-02,\n",
       "         2.39961408e-02,  6.51550293e-02, -9.81796067e-03, -7.55565688e-02,\n",
       "         6.89241067e-02, -1.62113309e-02, -7.00472854e-03, -1.03084010e-03,\n",
       "        -7.90253282e-02,  3.91774997e-02, -1.12089841e-03,  1.18149084e-03,\n",
       "        -7.41040260e-02,  3.31994072e-02, -3.92515585e-02, -9.91468728e-02,\n",
       "        -6.18540980e-02,  7.90755004e-02, -2.39575375e-02,  4.09991778e-02,\n",
       "         3.54756825e-02, -6.98325597e-03, -1.69187621e-03, -2.56451871e-02,\n",
       "         7.10399598e-02,  3.82255986e-02,  1.21111376e-02, -2.16493011e-02,\n",
       "         2.59374250e-02,  5.38467839e-02, -6.22810051e-02, -2.91230921e-02,\n",
       "        -1.51636200e-02, -1.08697489e-02, -1.26102921e-02,  1.42625943e-02,\n",
       "         4.16549891e-02,  2.05996353e-02, -1.13566406e-04,  6.80906251e-02,\n",
       "         8.17761272e-02,  4.83582392e-02,  2.48437328e-03, -8.35381169e-03,\n",
       "         3.14639360e-02,  2.91451644e-02,  2.65362449e-02,  3.76848243e-02,\n",
       "        -2.16940343e-02,  9.29740444e-02, -7.95159265e-02, -4.15026285e-02,\n",
       "         3.91560933e-03,  2.73758639e-02, -2.41568591e-03,  4.49529961e-02,\n",
       "         1.60925426e-02, -3.98731008e-02,  2.82042008e-02, -1.61370039e-02,\n",
       "         2.70159096e-02, -1.45520745e-02, -5.41207641e-02,  2.64004176e-03,\n",
       "        -4.12501395e-03, -9.38104168e-02,  1.49734356e-02,  6.15183413e-02,\n",
       "        -2.28136908e-02,  8.12807307e-02, -2.25080457e-02,  3.41122113e-02,\n",
       "         2.47299531e-03, -2.02571042e-02,  1.08303940e-02,  1.14663485e-02,\n",
       "        -5.45240380e-02, -3.62690277e-02, -2.79767439e-02,  2.92992964e-02],\n",
       "       dtype=float32),\n",
       " array([-0.04985965,  0.02535035, -0.04257712, -0.02035963, -0.08996893,\n",
       "        -0.02367264, -0.02549619,  0.05042994,  0.00674308, -0.08133875,\n",
       "        -0.02939876,  0.02806908,  0.01739005,  0.04497735, -0.02220268,\n",
       "         0.06041905, -0.00812628,  0.03787138, -0.04295476,  0.06305394,\n",
       "         0.0198594 , -0.03629041, -0.09884589,  0.02861942, -0.12069777,\n",
       "         0.00784324,  0.02861314,  0.03766111,  0.02752169,  0.00197729,\n",
       "         0.06446518,  0.02028176,  0.00434975, -0.00487418, -0.02268329,\n",
       "        -0.00849916,  0.01379866, -0.00970589, -0.04429499, -0.02484123,\n",
       "        -0.03882395,  0.02249985,  0.02278677, -0.02104041,  0.03316608,\n",
       "        -0.04202605, -0.00372244, -0.02171929,  0.005573  , -0.07353181,\n",
       "        -0.00273897,  0.01862122,  0.02452828,  0.03992719, -0.0787522 ,\n",
       "        -0.00813723,  0.04919132, -0.00664487,  0.03242597, -0.02474718,\n",
       "        -0.05487589, -0.04943527, -0.00808718, -0.00652921, -0.02331576,\n",
       "         0.00149197,  0.02053856,  0.01786837,  0.00491512,  0.01319702,\n",
       "        -0.04525907, -0.03592613, -0.01079427,  0.01578863, -0.00795935,\n",
       "         0.07268262, -0.01724934, -0.0274423 , -0.02835866, -0.01977518,\n",
       "        -0.01842631, -0.11100638, -0.01265685, -0.02318985,  0.01972596,\n",
       "         0.063799  ,  0.0316202 , -0.05420861,  0.03092654, -0.038365  ,\n",
       "        -0.02596113,  0.04057167,  0.08824039,  0.0059791 , -0.04383905,\n",
       "         0.0808921 , -0.03080648,  0.03711003, -0.01060394, -0.01145596,\n",
       "        -0.00206054, -0.00140493, -0.03792026, -0.02024078, -0.03198515,\n",
       "         0.01859955, -0.01667049,  0.0201453 ,  0.05943416,  0.02461879,\n",
       "         0.00941884,  0.003954  , -0.02425584,  0.03358404,  0.06260869,\n",
       "        -0.00581417,  0.00509443,  0.03749545,  0.14005302, -0.00995332,\n",
       "         0.02131273,  0.01883974,  0.07294046, -0.00127359, -0.02308535,\n",
       "         0.01695476, -0.04082372, -0.03815348, -0.04526815,  0.00312385,\n",
       "         0.00398463,  0.01154699,  0.0163009 , -0.0252957 ,  0.03909226,\n",
       "         0.0143701 , -0.01996842, -0.01779963, -0.01210951,  0.06587879,\n",
       "        -0.02709293, -0.04788768,  0.00508832, -0.08014772, -0.05718739,\n",
       "         0.01801506,  0.01651114,  0.001397  ,  0.02729374,  0.05732764,\n",
       "         0.02223489, -0.00529962,  0.02884481,  0.01241532,  0.00456872,\n",
       "        -0.00050957, -0.03352414,  0.00903962,  0.00614262,  0.05765692,\n",
       "         0.06112776, -0.03762814,  0.05577364,  0.02854207, -0.03400905,\n",
       "        -0.08054809,  0.04624819,  0.01365839,  0.03236523, -0.0053971 ,\n",
       "         0.12603274,  0.07277238,  0.02212886,  0.01402306, -0.02786828,\n",
       "         0.06536394,  0.0098672 , -0.0141274 , -0.00208647,  0.04409713,\n",
       "         0.06324933,  0.00966644,  0.0835009 ,  0.01381817, -0.07677285,\n",
       "        -0.03944762, -0.03209805,  0.02209455,  0.02267542, -0.03366128,\n",
       "         0.01279675, -0.02992627,  0.04260021,  0.00668824, -0.01639237,\n",
       "         0.02499159,  0.14304379,  0.00626036,  0.00480355, -0.0008722 ,\n",
       "         0.04870458,  0.03822955,  0.0171892 ,  0.13617222, -0.01764366,\n",
       "         0.00454549,  0.02319919, -0.02836495,  0.06093622, -0.02658939,\n",
       "        -0.01391556, -0.03904626, -0.01412502,  0.00160725,  0.04517632,\n",
       "         0.00035242,  0.00257287,  0.01971768,  0.04030474, -0.03177607,\n",
       "         0.03079785,  0.00229764, -0.02467703, -0.0162559 , -0.04017705,\n",
       "         0.02170571, -0.03373684, -0.00143963,  0.01694638, -0.01969261,\n",
       "        -0.00842274, -0.06162627,  0.00702605,  0.0606546 ,  0.07334197,\n",
       "        -0.02752822,  0.04221452,  0.0186072 ,  0.00316714,  0.07803594,\n",
       "        -0.03593497, -0.01338613, -0.06348263, -0.0646917 ,  0.01234412,\n",
       "        -0.03519449, -0.06066426,  0.07521709, -0.0209013 , -0.01642392,\n",
       "         0.1400619 ,  0.001516  ,  0.09314369,  0.03032519, -0.01409321,\n",
       "        -0.0502982 ,  0.02319422,  0.00965943,  0.05830945,  0.02285318,\n",
       "        -0.04270281, -0.05747639,  0.0436376 , -0.05595792,  0.00837598,\n",
       "         0.02897792, -0.03766696,  0.03773205,  0.01182451,  0.03067981,\n",
       "        -0.07279748,  0.0276548 , -0.00478926,  0.03700095, -0.00929527,\n",
       "         0.02151177, -0.02925721,  0.01745038, -0.00765644, -0.00530327,\n",
       "        -0.03860544,  0.04130982,  0.03394129, -0.0003312 , -0.06480052,\n",
       "         0.00185452,  0.02163985, -0.02187508, -0.0359148 , -0.02226987,\n",
       "         0.02639957,  0.03434419,  0.003009  , -0.0023627 ,  0.0862361 ,\n",
       "        -0.14680904, -0.02719338, -0.02459383, -0.03404369,  0.05666387,\n",
       "        -0.00796457,  0.03392515,  0.04408287,  0.00539542, -0.01918437,\n",
       "        -0.01672625, -0.01729263,  0.01921457,  0.03585678,  0.03825897,\n",
       "        -0.04869385,  0.04108293, -0.00295105, -0.00405092, -0.06496606,\n",
       "         0.00624715,  0.04983002,  0.02136111,  0.00598318, -0.00722007,\n",
       "         0.06533992, -0.01173237, -0.08904368, -0.0414777 ,  0.04302629,\n",
       "         0.0694801 , -0.03671693, -0.01016023,  0.01058035,  0.01095701,\n",
       "        -0.03091339,  0.03227432, -0.00783764, -0.01922251, -0.00834837,\n",
       "         0.03575382, -0.05563973, -0.00170725,  0.0683974 ,  0.01310962,\n",
       "         0.0213121 ,  0.05895093, -0.02462705, -0.02151528,  0.01887593,\n",
       "         0.0022147 , -0.04604549, -0.04546003,  0.04490328, -0.06314027,\n",
       "        -0.03761186,  0.01401337, -0.05235742, -0.02025482, -0.00711799,\n",
       "        -0.01319309,  0.02228543, -0.0391773 ,  0.03198089,  0.01095178,\n",
       "         0.06311471,  0.04403004, -0.07126813, -0.06296168, -0.00866941,\n",
       "         0.03761834,  0.05346807,  0.01272295, -0.02788293, -0.03377994,\n",
       "        -0.07697459, -0.02331997, -0.04954772, -0.01101115,  0.01751563,\n",
       "        -0.03583099, -0.05578077,  0.01568084,  0.00985137,  0.0181659 ,\n",
       "         0.00985329, -0.01353361,  0.01255156, -0.03100167,  0.03846271,\n",
       "        -0.01478344,  0.02004488,  0.01876493, -0.04354056, -0.0363787 ,\n",
       "        -0.04433687,  0.01663259, -0.03025648, -0.05890701,  0.01731271,\n",
       "        -0.03683427,  0.009251  , -0.05142517,  0.01613663,  0.01180724,\n",
       "        -0.05207004, -0.01074258, -0.02382883,  0.05845034, -0.02275954,\n",
       "         0.00698273,  0.03493432, -0.03743825, -0.01217106, -0.02731291,\n",
       "        -0.0221247 , -0.00816931, -0.0220847 ,  0.00902073,  0.0083025 ,\n",
       "         0.02194887, -0.00239693, -0.00269023, -0.06628808, -0.00318506,\n",
       "         0.01038797, -0.07859004, -0.00324599, -0.05013058,  0.02317423,\n",
       "         0.03720785, -0.00048566, -0.00661054,  0.0528344 ,  0.01561761,\n",
       "         0.01054036, -0.03533182, -0.01196728,  0.04244484,  0.03001895,\n",
       "        -0.01680171,  0.03443116, -0.01125992,  0.01533173, -0.00270249,\n",
       "         0.03034358,  0.01286934,  0.04545934, -0.02186015, -0.00183816,\n",
       "         0.06703646, -0.06956712, -0.03555345, -0.01181994, -0.04000713,\n",
       "        -0.0251047 , -0.00331574,  0.02392531, -0.01292205,  0.04109027,\n",
       "        -0.06559818,  0.06506481,  0.04363979,  0.05853825, -0.03753598,\n",
       "         0.02002093,  0.01225265,  0.04778721, -0.02738042, -0.00354736,\n",
       "         0.01354001, -0.0359518 , -0.02151308, -0.03659121,  0.00145243,\n",
       "        -0.05017433,  0.05066029,  0.01427915, -0.01509756, -0.0310247 ,\n",
       "         0.0143482 , -0.02176563,  0.03662308,  0.01337067,  0.03551332,\n",
       "        -0.02732195,  0.04122389,  0.02700777, -0.03037618, -0.00703262,\n",
       "        -0.00999672, -0.02245259,  0.01878313, -0.00760196,  0.04525891,\n",
       "         0.06125709, -0.04603834,  0.02124834,  0.0056929 , -0.03057668,\n",
       "        -0.01881867,  0.02990554, -0.06848369, -0.00883426,  0.07487769,\n",
       "         0.0050128 ,  0.05739051,  0.00360765,  0.01165492, -0.03048569,\n",
       "        -0.0321703 ,  0.00231744, -0.05149291,  0.00192005,  0.06699488,\n",
       "        -0.01105613,  0.01850668], dtype=float32)]"
      ]
     },
     "execution_count": 31,
     "metadata": {},
     "output_type": "execute_result"
    }
   ],
   "source": [
    "sentence_embeddings[:10]"
   ]
  },
  {
   "cell_type": "code",
   "execution_count": 32,
   "metadata": {},
   "outputs": [
    {
     "data": {
      "text/plain": [
       "14"
      ]
     },
     "execution_count": 32,
     "metadata": {},
     "output_type": "execute_result"
    }
   ],
   "source": [
    "len(sentence_embeddings)"
   ]
  },
  {
   "cell_type": "code",
   "execution_count": 33,
   "metadata": {},
   "outputs": [],
   "source": [
    "id_list = df['id'].values"
   ]
  },
  {
   "cell_type": "code",
   "execution_count": 34,
   "metadata": {},
   "outputs": [
    {
     "data": {
      "text/plain": [
       "14"
      ]
     },
     "execution_count": 34,
     "metadata": {},
     "output_type": "execute_result"
    }
   ],
   "source": [
    "len(id_list)"
   ]
  },
  {
   "cell_type": "code",
   "execution_count": 35,
   "metadata": {},
   "outputs": [],
   "source": [
    "index_to_question_id_mapping = dict(enumerate(id_list))\n",
    "question_id_to_index_mapping = {j: i for i,j in index_to_question_id_mapping.items()} "
   ]
  },
  {
   "cell_type": "markdown",
   "metadata": {},
   "source": [
    "### Save objects in Storage"
   ]
  },
  {
   "cell_type": "code",
   "execution_count": 36,
   "metadata": {},
   "outputs": [],
   "source": [
    "stg = Storage(target)"
   ]
  },
  {
   "cell_type": "code",
   "execution_count": 37,
   "metadata": {},
   "outputs": [],
   "source": [
    "def save_object_to_storage(obj, filename):\n",
    "    with open(filename, \"bw\") as f:\n",
    "        pickle.dump(obj, f)\n",
    "    stg.save(filename, obj, format='pickle')"
   ]
  },
  {
   "cell_type": "code",
   "execution_count": 38,
   "metadata": {},
   "outputs": [],
   "source": [
    "save_object_to_storage(sentence_embeddings, 'sentence_embeddings')"
   ]
  },
  {
   "cell_type": "code",
   "execution_count": 39,
   "metadata": {},
   "outputs": [],
   "source": [
    "save_object_to_storage(index_to_question_id_mapping, 'index_to_question_id_mapping')"
   ]
  },
  {
   "cell_type": "code",
   "execution_count": 40,
   "metadata": {},
   "outputs": [],
   "source": [
    "save_object_to_storage(question_id_to_index_mapping, 'question_id_to_index_mapping')"
   ]
  },
  {
   "cell_type": "code",
   "execution_count": 1,
   "metadata": {},
   "outputs": [
    {
     "name": "stdout",
     "output_type": "stream",
     "text": [
      "Python 3.8.2\n"
     ]
    }
   ],
   "source": [
    "!python --version"
   ]
  },
  {
   "cell_type": "code",
   "execution_count": 1,
   "metadata": {
    "colab": {},
    "colab_type": "code",
    "id": "_z9RFgyqHAek"
   },
   "outputs": [],
   "source": [
    "from sentence_transformers import SentenceTransformer, LoggingHandler"
   ]
  },
  {
   "cell_type": "code",
   "execution_count": 2,
   "metadata": {},
   "outputs": [],
   "source": [
    "# Load Sentence model (based on BERT) from URL\n",
    "model = SentenceTransformer('distiluse-base-multilingual-cased')"
   ]
  },
  {
   "cell_type": "code",
   "execution_count": 21,
   "metadata": {},
   "outputs": [],
   "source": [
    "import pickle"
   ]
  },
  {
   "cell_type": "code",
   "execution_count": 5,
   "metadata": {},
   "outputs": [
    {
     "name": "stderr",
     "output_type": "stream",
     "text": [
      "/Users/felipe/opt/miniconda3/envs/recommendation/lib/python3.8/site-packages/torch/storage.py:34: FutureWarning: pickle support for Storage will be removed in 1.5. Use `torch.save` instead\n",
      "  warnings.warn(\"pickle support for Storage will be removed in 1.5. Use `torch.save` instead\", FutureWarning)\n"
     ]
    }
   ],
   "source": [
    "with open('encoder', \"bw\") as f:\n",
    "    pickle.dump(model, f)"
   ]
  },
  {
   "cell_type": "raw",
   "metadata": {
    "colab": {
     "base_uri": "https://localhost:8080/",
     "height": 1000
    },
    "colab_type": "code",
    "id": "KADDlQLjGpmj",
    "outputId": "df5d8794-4574-4995-a2f8-e52855bc7be1"
   },
   "source": [
    "# Embed a list of sentences\n",
    "sentence_embeddings = model.encode(questions)\n",
    "\n",
    "# The result is a list of sentence embeddings as numpy arrays\n",
    "for sentence, embedding in zip(questions[:1], sentence_embeddings[:1]):\n",
    "    print(\"Sentence:\", sentence)\n",
    "    print(\"Embedding:\", embedding)\n",
    "    print(\"\")"
   ]
  },
  {
   "cell_type": "code",
   "execution_count": 22,
   "metadata": {},
   "outputs": [
    {
     "ename": "FileNotFoundError",
     "evalue": "[Errno 2] No such file or directory: 'sentence_embeddings'",
     "output_type": "error",
     "traceback": [
      "\u001b[0;31m---------------------------------------------------------------------------\u001b[0m",
      "\u001b[0;31mFileNotFoundError\u001b[0m                         Traceback (most recent call last)",
      "\u001b[0;32m<ipython-input-22-e075ecec752f>\u001b[0m in \u001b[0;36m<module>\u001b[0;34m\u001b[0m\n\u001b[0;32m----> 1\u001b[0;31m \u001b[0msentence_embeddings\u001b[0m \u001b[0;34m=\u001b[0m \u001b[0mpickle\u001b[0m\u001b[0;34m.\u001b[0m\u001b[0mload\u001b[0m\u001b[0;34m(\u001b[0m\u001b[0mopen\u001b[0m\u001b[0;34m(\u001b[0m\u001b[0;34m\"sentence_embeddings\"\u001b[0m\u001b[0;34m,\u001b[0m \u001b[0;34m\"rb\"\u001b[0m\u001b[0;34m)\u001b[0m\u001b[0;34m)\u001b[0m\u001b[0;34m\u001b[0m\u001b[0;34m\u001b[0m\u001b[0m\n\u001b[0m",
      "\u001b[0;31mFileNotFoundError\u001b[0m: [Errno 2] No such file or directory: 'sentence_embeddings'"
     ]
    }
   ],
   "source": [
    "sentence_embeddings = pickle.load(open(\"sentence_embeddings\", \"rb\"))"
   ]
  },
  {
   "cell_type": "code",
   "execution_count": 23,
   "metadata": {},
   "outputs": [
    {
     "ename": "NameError",
     "evalue": "name 'sentence_embeddings' is not defined",
     "output_type": "error",
     "traceback": [
      "\u001b[0;31m---------------------------------------------------------------------------\u001b[0m",
      "\u001b[0;31mNameError\u001b[0m                                 Traceback (most recent call last)",
      "\u001b[0;32m<ipython-input-23-ba31ee6c517b>\u001b[0m in \u001b[0;36m<module>\u001b[0;34m\u001b[0m\n\u001b[0;32m----> 1\u001b[0;31m \u001b[0msentence_embeddings\u001b[0m\u001b[0;34m[\u001b[0m\u001b[0;34m:\u001b[0m\u001b[0;36m10\u001b[0m\u001b[0;34m]\u001b[0m\u001b[0;34m\u001b[0m\u001b[0;34m\u001b[0m\u001b[0m\n\u001b[0m",
      "\u001b[0;31mNameError\u001b[0m: name 'sentence_embeddings' is not defined"
     ]
    }
   ],
   "source": [
    "sentence_embeddings[:10]"
   ]
  },
  {
   "cell_type": "code",
   "execution_count": null,
   "metadata": {},
   "outputs": [],
   "source": [
    "df.index"
   ]
  },
  {
   "cell_type": "code",
   "execution_count": 28,
   "metadata": {},
   "outputs": [
    {
     "data": {
      "text/plain": [
       "\"Após configurar HTTPS no fluig, ao acessá-lo pelo aplicativo fluig Mobile e informar servidor de conexão é apresentado o erro 'Falha na comunicação'.\""
      ]
     },
     "execution_count": 28,
     "metadata": {},
     "output_type": "execute_result"
    }
   ],
   "source": [
    "df.iloc[12].question"
   ]
  },
  {
   "cell_type": "raw",
   "metadata": {
    "colab": {},
    "colab_type": "code",
    "id": "18qUpSfGXoIg"
   },
   "source": [
    "query = 'erro de falha de comunicação ao acessar o aplicativo fluig mobile'"
   ]
  },
  {
   "cell_type": "raw",
   "metadata": {},
   "source": [
    "query_vec = model.encode([query])"
   ]
  },
  {
   "cell_type": "raw",
   "metadata": {
    "colab": {},
    "colab_type": "code",
    "id": "5aTNaRWeG69x"
   },
   "source": [
    "# compute normalized dot product as score\n",
    "score = np.sum(query_vec[0] * sentence_embeddings, axis=1) / np.linalg.norm(sentence_embeddings, axis=1)\n",
    "topk_idx = np.argsort(score)[::-1]"
   ]
  },
  {
   "cell_type": "code",
   "execution_count": 144,
   "metadata": {
    "colab": {},
    "colab_type": "code",
    "id": "5aTNaRWeG69x"
   },
   "outputs": [],
   "source": [
    "def get_most_similar_question(query):\n",
    "\n",
    "    query_vec = model.encode([query])\n",
    "    k = 5\n",
    "\n",
    "    # compute normalized dot product as score\n",
    "    score = np.sum(query_vec[0] * sentence_embeddings, axis=1) / np.linalg.norm(sentence_embeddings, axis=1)\n",
    "    topk_scores = np.sort(score)[::-1]\n",
    "    topk_idx = np.argsort(score)[::-1]\n",
    "    return topk_idx[:k], topk_scores[:k]"
   ]
  },
  {
   "cell_type": "code",
   "execution_count": 119,
   "metadata": {},
   "outputs": [],
   "source": [
    "#size = np.int32(np.floor(0.2 * questions.shape[0]))\n",
    "size = 100\n",
    "\n",
    "indices = np.random.choice(\n",
    "    df.question.index, \n",
    "    replace=False,\n",
    "    size=size\n",
    ").tolist()"
   ]
  },
  {
   "cell_type": "code",
   "execution_count": 71,
   "metadata": {},
   "outputs": [],
   "source": [
    "questions = []"
   ]
  },
  {
   "cell_type": "code",
   "execution_count": 93,
   "metadata": {},
   "outputs": [
    {
     "data": {
      "text/plain": [
       "'Solicito uma função para conversão de um arquivo .doc para .PDF'"
      ]
     },
     "execution_count": 93,
     "metadata": {},
     "output_type": "execute_result"
    }
   ],
   "source": [
    "df.iloc[indices[9]].question"
   ]
  },
  {
   "cell_type": "code",
   "execution_count": 94,
   "metadata": {},
   "outputs": [],
   "source": [
    "questions.append('função para converter arquivo doc para pdf')"
   ]
  },
  {
   "cell_type": "code",
   "execution_count": 97,
   "metadata": {},
   "outputs": [
    {
     "data": {
      "text/plain": [
       "10"
      ]
     },
     "execution_count": 97,
     "metadata": {},
     "output_type": "execute_result"
    }
   ],
   "source": [
    "len(questions)"
   ]
  },
  {
   "cell_type": "raw",
   "metadata": {},
   "source": [
    "with open('questions', \"bw\") as f:\n",
    "        pickle.dump(questions, f)"
   ]
  },
  {
   "cell_type": "code",
   "execution_count": 145,
   "metadata": {},
   "outputs": [
    {
     "data": {
      "text/plain": [
       "(array([ 4270, 23653, 14174, 26242, 27618]),\n",
       " array([0.64584833, 0.60263   , 0.5729962 , 0.54728776, 0.54643303],\n",
       "       dtype=float32))"
      ]
     },
     "execution_count": 145,
     "metadata": {},
     "output_type": "execute_result"
    }
   ],
   "source": [
    "get_most_similar_question('adicionar transportadora nas notas fiscais geradas na rotina 1322')"
   ]
  },
  {
   "cell_type": "code",
   "execution_count": 150,
   "metadata": {},
   "outputs": [
    {
     "data": {
      "text/plain": [
       "'Como inserir transportadora em notas fiscais geradas pela rotina 1322 - Simples Remessa Baixando Estoque.'"
      ]
     },
     "execution_count": 150,
     "metadata": {},
     "output_type": "execute_result"
    }
   ],
   "source": [
    "df.iloc[4270].question"
   ]
  },
  {
   "cell_type": "code",
   "execution_count": 126,
   "metadata": {
    "colab": {
     "base_uri": "https://localhost:8080/",
     "height": 51
    },
    "colab_type": "code",
    "id": "ar5LKi8BX52w",
    "outputId": "94f86a9e-5b1f-4913-8d49-f323da4964a2"
   },
   "outputs": [
    {
     "name": "stdout",
     "output_type": "stream",
     "text": [
      "0.645848274230957 - 0.645848274230957\n",
      "0.6026300191879272 - 0.6026300191879272\n",
      "0.5729961395263672 - 0.5729961395263672\n",
      "0.5472877025604248 - 0.5472877025604248\n",
      "0.5464330315589905 - 0.5464330315589905\n",
      "0.5448733568191528 - 0.5448733568191528\n",
      "0.5358591079711914 - 0.5358591079711914\n",
      "0.531542956829071 - 0.531542956829071\n",
      "0.5271217823028564 - 0.5271217823028564\n",
      "0.5169530510902405 - 0.5169530510902405\n",
      "adicionar transportadora nas notas fiscais geradas na rotina 1322\n",
      "17835 - Por que um determinado lançamento não é apresentado na rotina 723?\n",
      "4270 - Como inserir transportadora em notas fiscais geradas pela rotina 1322 - Simples Remessa Baixando Estoque.\n",
      "0.5572085976600647 - 0.5572085976600647\n",
      "0.5351568460464478 - 0.5351568460464478\n",
      "0.5280529856681824 - 0.5280529856681824\n",
      "0.5269234776496887 - 0.5269234776496887\n",
      "0.5140586495399475 - 0.5140586495399475\n",
      "0.5049834847450256 - 0.5049834847450256\n",
      "0.49780139327049255 - 0.49780139327049255\n",
      "0.4954758882522583 - 0.4954758882522583\n",
      "0.49390849471092224 - 0.49390849471092224\n",
      "0.48328182101249695 - 0.48328182101249695\n",
      "preciso do meu relatório de clientes\n",
      "3300 - Como realizar uma copia de Sindicato entre coligadas?\n",
      "3884 - Como gerar um relatório que faça a listagem dos clientes cadastrados?\n",
      "0.7459278702735901 - 0.7459278702735901\n",
      "0.4588412046432495 - 0.4588412046432495\n",
      "0.4499703347682953 - 0.4499703347682953\n",
      "0.4455932676792145 - 0.4455932676792145\n",
      "0.4353722333908081 - 0.4353722333908081\n",
      "0.4294399321079254 - 0.4294399321079254\n",
      "0.42894628643989563 - 0.42894628643989563\n",
      "0.42738378047943115 - 0.42738378047943115\n",
      "0.42620596289634705 - 0.42620596289634705\n",
      "0.4254598021507263 - 0.4254598021507263\n",
      "preciso deletar a data de fechamento do inventário no software LF0201\n",
      "16271 - Como Cadastar/Excluir uma Categoria?\n",
      "26436 - Como apagar a data de fechamento do Inventário no programa LF0201?\n",
      "0.5240232348442078 - 0.5240232348442078\n",
      "0.49790653586387634 - 0.49790653586387634\n",
      "0.49504104256629944 - 0.49504104256629944\n",
      "0.4725293219089508 - 0.4725293219089508\n",
      "0.4682658910751343 - 0.4682658910751343\n",
      "0.4564697742462158 - 0.4564697742462158\n",
      "0.456234872341156 - 0.456234872341156\n",
      "0.45521220564842224 - 0.45521220564842224\n",
      "0.4498310089111328 - 0.4498310089111328\n",
      "0.44310253858566284 - 0.44310253858566284\n",
      "explicação sobre a rotina 2039\n",
      "10075 - Durante a inclusão de movimentos no sistema, ocorre o erro \"Nao existe nenhuma Glosa vinculada a classe de erro:\" juntamente com o código da classe de erro que gerou esta situação. Conforme o exemplo mencionado abaixo, onde o código 153 representa a classe de erro e o código 10101012 o código do procedimento:\"Nao existe nenhuma Glosa vinculada a classe de erro: 153 API/rcapi021 10101012\"\n",
      "17518 - Como utilizar a rotina 2024?\n",
      "0.5963812470436096 - 0.5963812470436096\n",
      "0.5896818041801453 - 0.5896818041801453\n",
      "0.5710474252700806 - 0.5710474252700806\n",
      "0.5683428645133972 - 0.5683428645133972\n",
      "0.5636336803436279 - 0.5636336803436279\n",
      "0.5483050346374512 - 0.5483050346374512\n",
      "0.5437726378440857 - 0.5437726378440857\n",
      "0.5405083894729614 - 0.5405083894729614\n",
      "0.5369815230369568 - 0.5369815230369568\n",
      "0.535049319267273 - 0.535049319267273\n",
      "erro ao imprimir nota fiscal danfe na rotina 1452\n",
      "10148 - eSocial - Simplificação: eSocial substitui informações para RAIS e CAGED - o que muda no Protheus?\n",
      "31953 - O que fazer quando a rotina 1452 não imprimir as notas e não apresentar mensagem de erro?\n",
      "0.7325006723403931 - 0.7325006723403931\n",
      "0.5225950479507446 - 0.5225950479507446\n",
      "0.5141765475273132 - 0.5141765475273132\n",
      "0.4801000654697418 - 0.4801000654697418\n",
      "0.4477766752243042 - 0.4477766752243042\n",
      "0.44772058725357056 - 0.44772058725357056\n",
      "0.4392022490501404 - 0.4392022490501404\n",
      "0.43122681975364685 - 0.43122681975364685\n",
      "0.42909207940101624 - 0.42909207940101624\n",
      "0.4216732084751129 - 0.4216732084751129\n",
      "erro de indica na tabela sn3\n",
      "24389 - Como permitir o desdobramento/agrupamento de títulos de clientes diferentes?\n",
      "10759 - Ocorre erro referente ao índice na tabela SN3, o que fazer?\n",
      "0.6059661507606506 - 0.6059661507606506\n",
      "0.5131093263626099 - 0.5131093263626099\n",
      "0.5028874278068542 - 0.5028874278068542\n",
      "0.48428472876548767 - 0.48428472876548767\n",
      "0.46297475695610046 - 0.46297475695610046\n",
      "0.46197637915611267 - 0.46197637915611267\n",
      "0.4592832922935486 - 0.4592832922935486\n",
      "0.4443565607070923 - 0.4443565607070923\n",
      "0.43510228395462036 - 0.43510228395462036\n",
      "0.433514267206192 - 0.433514267206192\n",
      "transferencia de bens na mesma empresa\n",
      "31190 - Como é realizada a contabilização de uma Nota Fiscal de Devolução a Fornecedor?\n",
      "17132 - Como efetuar a transferência de bens entre empresas?\n",
      "0.6349358558654785 - 0.6349358558654785\n",
      "0.6232276558876038 - 0.6232276558876038\n",
      "0.5543155670166016 - 0.5543155670166016\n",
      "0.5448984503746033 - 0.5448984503746033\n",
      "0.5292785167694092 - 0.5292785167694092\n",
      "0.5072128772735596 - 0.5072128772735596\n",
      "0.5046584606170654 - 0.5046584606170654\n",
      "0.49342983961105347 - 0.49342983961105347\n",
      "0.48716461658477783 - 0.48716461658477783\n",
      "0.4842483401298523 - 0.4842483401298523\n",
      "pedir frete no pedido de vendida da rotina 4116\n",
      "14416 - Como realizar entrada Tipo N na rotina 3010?\n",
      "26802 - Como solicitar frete na digitação do pedido de venda na rotina 4116?\n",
      "0.869260311126709 - 0.869260311126709\n",
      "0.4508129060268402 - 0.4508129060268402\n",
      "0.4208657145500183 - 0.4208657145500183\n",
      "0.41203629970550537 - 0.41203629970550537\n",
      "0.39657139778137207 - 0.39657139778137207\n",
      "0.39282217621803284 - 0.39282217621803284\n",
      "0.3922751247882843 - 0.3922751247882843\n",
      "0.38762524724006653 - 0.38762524724006653\n",
      "0.38596463203430176 - 0.38596463203430176\n",
      "0.3761090040206909 - 0.3761090040206909\n",
      "preencher automaticamente o endereço na FNRH\n",
      "28683 - Como corrigir o erro \"Parameter buffer for p- table in externos/ems5/triggers/twemprdz.p not matched by caller.\" exibido ao realizar alguma alteração no programa Exercício Contábil (bas_exerc_ctbl)?\n",
      "15121 - Preenchimento automático do endereço na FNRH\n",
      "0.8911898732185364 - 0.8911898732185364\n",
      "0.7036350965499878 - 0.7036350965499878\n",
      "0.6305792331695557 - 0.6305792331695557\n",
      "0.5921000242233276 - 0.5921000242233276\n",
      "0.5817390084266663 - 0.5817390084266663\n",
      "0.5606629848480225 - 0.5606629848480225\n",
      "0.5563789010047913 - 0.5563789010047913\n",
      "0.5478231906890869 - 0.5478231906890869\n",
      "0.5377299189567566 - 0.5377299189567566\n",
      "0.5292876958847046 - 0.5292876958847046\n",
      "função para converter arquivo doc para pdf\n",
      "19514 - Ao gerar o SPEDFISCAL com a opção BLOCO K = SIM ocorre o erro:array out of bounds ( 1 of 0 ) on BLOCOK(SPEDXFUN.PRW)\n",
      "17717 - Solicito uma função para conversão de um arquivo .doc para .PDF\n"
     ]
    }
   ],
   "source": [
    "for i, query in enumerate(questions):\n",
    "    raw_query = df.iloc[indices[i]].question\n",
    "    most_similar = get_most_similar_question(query)\n",
    "    if most_similar != i:\n",
    "        print(f'{query}')\n",
    "        print(f'{indices[i]} - {raw_query}')\n",
    "        print(f'{most_similar} - {df.iloc[most_similar].question}')"
   ]
  },
  {
   "cell_type": "code",
   "execution_count": 115,
   "metadata": {},
   "outputs": [
    {
     "data": {
      "text/plain": [
       "'https://centraldeatendimento.totvs.com/hc/pt-br/articles/360035902474-LG-PAT-Formas-de-transfer%C3%AAncia-de-um-bem-para-outro-na-mesma-empresa'"
      ]
     },
     "execution_count": 115,
     "metadata": {},
     "output_type": "execute_result"
    }
   ],
   "source": [
    "df.iloc[23587].html_url"
   ]
  },
  {
   "cell_type": "code",
   "execution_count": 114,
   "metadata": {},
   "outputs": [
    {
     "data": {
      "text/plain": [
       "'https://centraldeatendimento.totvs.com/hc/pt-br/articles/360025943751-LG-PAT-Como-efetuar-a-transfer%C3%AAncia-de-bens-entre-empresas'"
      ]
     },
     "execution_count": 114,
     "metadata": {},
     "output_type": "execute_result"
    }
   ],
   "source": [
    "df.iloc[17132].html_url"
   ]
  },
  {
   "cell_type": "code",
   "execution_count": 112,
   "metadata": {},
   "outputs": [
    {
     "data": {
      "text/plain": [
       "'https://centraldeatendimento.totvs.com/hc/pt-br/articles/360045420414-WINT-Como-utilizar-a-rotina-2039-Cadastro-de-Finalizadora'"
      ]
     },
     "execution_count": 112,
     "metadata": {},
     "output_type": "execute_result"
    }
   ],
   "source": [
    "df.iloc[1527].html_url"
   ]
  },
  {
   "cell_type": "code",
   "execution_count": 32,
   "metadata": {},
   "outputs": [],
   "source": [
    "from pycarol import Query"
   ]
  },
  {
   "cell_type": "code",
   "execution_count": 33,
   "metadata": {},
   "outputs": [],
   "source": [
    "from pycarol.filter import Filter, TYPE_FILTER, TERMS_FILTER"
   ]
  },
  {
   "cell_type": "code",
   "execution_count": 30,
   "metadata": {},
   "outputs": [],
   "source": [
    "def get_similar_questions(model, sentence_embeddings, query, k):\n",
    "    query_vec = model.encode([query])\n",
    "    score = np.sum(query_vec[0] * sentence_embeddings, axis=1) / np.linalg.norm(sentence_embeddings, axis=1)\n",
    "    print(score[:100])\n",
    "    topk_scores = np.sort(score)[::-1]\n",
    "    topk_idx = np.argsort(score)[::-1]\n",
    "    print(topk_idx[:k], topk_scores[:k])\n",
    "    return list(topk_idx[:k]), list(topk_scores[:k])"
   ]
  },
  {
   "cell_type": "code",
   "execution_count": 31,
   "metadata": {},
   "outputs": [],
   "source": [
    "def get_questions_by_ids(question_ids):\n",
    "    dm_name = 'articles'\n",
    "    query_filter = Filter.Builder().must(TYPE_FILTER(value=f'{dm_name}Golden')) \\\n",
    "        .must(TERMS_FILTER(key='mdmGoldenFieldAndValues.id.raw', value=question_ids)).build().to_json()\n",
    "    page_size=1000\n",
    "    return Query(target, page_size=page_size).query(query_filter).go().results"
   ]
  },
  {
   "cell_type": "code",
   "execution_count": 34,
   "metadata": {},
   "outputs": [],
   "source": [
    "def query(query):\n",
    "    k = 5\n",
    "    topk_idx, topk_scores = get_similar_questions(model, sentence_embeddings, query, k)\n",
    "    question_ids = [index_to_question_id_mapping[idx] for idx in topk_idx]\n",
    "    results = get_questions_by_ids(question_ids)\n",
    "    response = ''\n",
    "    for i, question_id in enumerate(question_ids):\n",
    "        result = [result for result in results if result['id'] == question_id][0]\n",
    "        response = response + 'Pergunta similar: ' + result['question'] + '\\n'\n",
    "        response = response + 'Resposta: ' + result['solution'] + '\\n'\n",
    "        response = response + 'Score: ' + str(topk_scores[topk_idx.index(question_id_to_index_mapping[question_id])])\n",
    "        if i != 4:\n",
    "            response = response +  '\\n\\n'\n",
    "    # for i, idx in enumerate(topk_idx):\n",
    "    #     question_id = index_to_question_id_mapping[idx]\n",
    "    #     question = get_question_by_id(question_id)[0]\n",
    "    #     response = response + 'Pergunta similar: ' + question.question + '\\n'\n",
    "    #     response = response + 'Resposta: ' + question.solution + '\\n'\n",
    "    #     response = response + 'Score: ' + topk_scores[i]\n",
    "    #     if i != 4:\n",
    "    #         response = response +  '\\n\\n'\n",
    "    return {'response': response}"
   ]
  },
  {
   "cell_type": "code",
   "execution_count": 35,
   "metadata": {},
   "outputs": [
    {
     "name": "stdout",
     "output_type": "stream",
     "text": [
      "[ 0.02887835 -0.00526772 -0.02707283 -0.03857228  0.03806132  0.04284458\n",
      "  0.0201705   0.06050855  0.05173742  0.03805823  0.02416999  0.04116369\n",
      " -0.06460869  0.09727325  0.08634991  0.01915933  0.08498693 -0.05493666\n",
      "  0.02492339 -0.00886754  0.10098135  0.06362017  0.0776341  -0.02791644\n",
      "  0.01163275  0.0192889  -0.01115312 -0.02294862 -0.00829241 -0.03112706\n",
      "  0.0017001  -0.04119982 -0.01010577 -0.00929159  0.05805634  0.00259353\n",
      " -0.02442231 -0.040168    0.00310044 -0.05039007 -0.00759398 -0.03024388\n",
      " -0.05424359  0.11716861  0.05606491  0.02613153  0.07075207 -0.02040705\n",
      "  0.00579199  0.05455872 -0.05031964  0.01694646  0.04972199  0.01136606\n",
      "  0.01005764 -0.02961715  0.05143109  0.02394645 -0.05122325 -0.06841542\n",
      " -0.0735998  -0.02130548  0.04605877 -0.08823569 -0.0147755   0.09354758\n",
      "  0.02888806 -0.02228448  0.09114084  0.04604091  0.07873157 -0.05889153\n",
      "  0.09564672  0.12373262 -0.00022965 -0.04361885  0.00578425 -0.03231039\n",
      "  0.00238829  0.0007079   0.11109977 -0.00406435  0.06321399  0.00227856\n",
      "  0.06531525 -0.02090733  0.02192954 -0.00389169 -0.01301247  0.01293307\n",
      "  0.16006744  0.05068972  0.06261808  0.03625499 -0.00513152  0.1324801\n",
      "  0.00259368  0.08164401 -0.00678477 -0.02514509]\n",
      "[ 4208 23173 32963 13854 25704] [0.64584833 0.60263    0.6007777  0.5729962  0.54728776]\n"
     ]
    },
    {
     "ename": "NameError",
     "evalue": "name 'index_to_question_id_mapping' is not defined",
     "output_type": "error",
     "traceback": [
      "\u001b[0;31m---------------------------------------------------------------------------\u001b[0m",
      "\u001b[0;31mNameError\u001b[0m                                 Traceback (most recent call last)",
      "\u001b[0;32m<ipython-input-35-e0dcf09d1731>\u001b[0m in \u001b[0;36m<module>\u001b[0;34m\u001b[0m\n\u001b[0;32m----> 1\u001b[0;31m \u001b[0mquery\u001b[0m\u001b[0;34m(\u001b[0m\u001b[0;34m'adicionar transportadora nas notas fiscais geradas na rotina 1322'\u001b[0m\u001b[0;34m)\u001b[0m\u001b[0;34m\u001b[0m\u001b[0;34m\u001b[0m\u001b[0m\n\u001b[0m",
      "\u001b[0;32m<ipython-input-34-b1d82c4daabd>\u001b[0m in \u001b[0;36mquery\u001b[0;34m(query)\u001b[0m\n\u001b[1;32m      2\u001b[0m     \u001b[0mk\u001b[0m \u001b[0;34m=\u001b[0m \u001b[0;36m5\u001b[0m\u001b[0;34m\u001b[0m\u001b[0;34m\u001b[0m\u001b[0m\n\u001b[1;32m      3\u001b[0m     \u001b[0mtopk_idx\u001b[0m\u001b[0;34m,\u001b[0m \u001b[0mtopk_scores\u001b[0m \u001b[0;34m=\u001b[0m \u001b[0mget_similar_questions\u001b[0m\u001b[0;34m(\u001b[0m\u001b[0mmodel\u001b[0m\u001b[0;34m,\u001b[0m \u001b[0msentence_embeddings\u001b[0m\u001b[0;34m,\u001b[0m \u001b[0mquery\u001b[0m\u001b[0;34m,\u001b[0m \u001b[0mk\u001b[0m\u001b[0;34m)\u001b[0m\u001b[0;34m\u001b[0m\u001b[0;34m\u001b[0m\u001b[0m\n\u001b[0;32m----> 4\u001b[0;31m     \u001b[0mquestion_ids\u001b[0m \u001b[0;34m=\u001b[0m \u001b[0;34m[\u001b[0m\u001b[0mindex_to_question_id_mapping\u001b[0m\u001b[0;34m[\u001b[0m\u001b[0midx\u001b[0m\u001b[0;34m]\u001b[0m \u001b[0;32mfor\u001b[0m \u001b[0midx\u001b[0m \u001b[0;32min\u001b[0m \u001b[0mtopk_idx\u001b[0m\u001b[0;34m]\u001b[0m\u001b[0;34m\u001b[0m\u001b[0;34m\u001b[0m\u001b[0m\n\u001b[0m\u001b[1;32m      5\u001b[0m     \u001b[0mresults\u001b[0m \u001b[0;34m=\u001b[0m \u001b[0mget_questions_by_ids\u001b[0m\u001b[0;34m(\u001b[0m\u001b[0mquestion_ids\u001b[0m\u001b[0;34m)\u001b[0m\u001b[0;34m\u001b[0m\u001b[0;34m\u001b[0m\u001b[0m\n\u001b[1;32m      6\u001b[0m     \u001b[0mresponse\u001b[0m \u001b[0;34m=\u001b[0m \u001b[0;34m''\u001b[0m\u001b[0;34m\u001b[0m\u001b[0;34m\u001b[0m\u001b[0m\n",
      "\u001b[0;32m<ipython-input-34-b1d82c4daabd>\u001b[0m in \u001b[0;36m<listcomp>\u001b[0;34m(.0)\u001b[0m\n\u001b[1;32m      2\u001b[0m     \u001b[0mk\u001b[0m \u001b[0;34m=\u001b[0m \u001b[0;36m5\u001b[0m\u001b[0;34m\u001b[0m\u001b[0;34m\u001b[0m\u001b[0m\n\u001b[1;32m      3\u001b[0m     \u001b[0mtopk_idx\u001b[0m\u001b[0;34m,\u001b[0m \u001b[0mtopk_scores\u001b[0m \u001b[0;34m=\u001b[0m \u001b[0mget_similar_questions\u001b[0m\u001b[0;34m(\u001b[0m\u001b[0mmodel\u001b[0m\u001b[0;34m,\u001b[0m \u001b[0msentence_embeddings\u001b[0m\u001b[0;34m,\u001b[0m \u001b[0mquery\u001b[0m\u001b[0;34m,\u001b[0m \u001b[0mk\u001b[0m\u001b[0;34m)\u001b[0m\u001b[0;34m\u001b[0m\u001b[0;34m\u001b[0m\u001b[0m\n\u001b[0;32m----> 4\u001b[0;31m     \u001b[0mquestion_ids\u001b[0m \u001b[0;34m=\u001b[0m \u001b[0;34m[\u001b[0m\u001b[0mindex_to_question_id_mapping\u001b[0m\u001b[0;34m[\u001b[0m\u001b[0midx\u001b[0m\u001b[0;34m]\u001b[0m \u001b[0;32mfor\u001b[0m \u001b[0midx\u001b[0m \u001b[0;32min\u001b[0m \u001b[0mtopk_idx\u001b[0m\u001b[0;34m]\u001b[0m\u001b[0;34m\u001b[0m\u001b[0;34m\u001b[0m\u001b[0m\n\u001b[0m\u001b[1;32m      5\u001b[0m     \u001b[0mresults\u001b[0m \u001b[0;34m=\u001b[0m \u001b[0mget_questions_by_ids\u001b[0m\u001b[0;34m(\u001b[0m\u001b[0mquestion_ids\u001b[0m\u001b[0;34m)\u001b[0m\u001b[0;34m\u001b[0m\u001b[0;34m\u001b[0m\u001b[0m\n\u001b[1;32m      6\u001b[0m     \u001b[0mresponse\u001b[0m \u001b[0;34m=\u001b[0m \u001b[0;34m''\u001b[0m\u001b[0;34m\u001b[0m\u001b[0;34m\u001b[0m\u001b[0m\n",
      "\u001b[0;31mNameError\u001b[0m: name 'index_to_question_id_mapping' is not defined"
     ]
    }
   ],
   "source": [
    "query('adicionar transportadora nas notas fiscais geradas na rotina 1322')"
   ]
  },
  {
   "cell_type": "code",
   "execution_count": 1,
   "metadata": {},
   "outputs": [],
   "source": [
    "import requests"
   ]
  },
  {
   "cell_type": "code",
   "execution_count": 19,
   "metadata": {},
   "outputs": [],
   "source": [
    "query = 'adicionar transportadora nas notas fiscais geradas na rotina 1322'"
   ]
  },
  {
   "cell_type": "code",
   "execution_count": 119,
   "metadata": {},
   "outputs": [],
   "source": [
    "query = 'Quais são os direitos dos trabalhadores?'"
   ]
  },
  {
   "cell_type": "code",
   "execution_count": 111,
   "metadata": {},
   "outputs": [
    {
     "name": "stdout",
     "output_type": "stream",
     "text": [
      "Python 3.6.10\n"
     ]
    }
   ],
   "source": [
    "!python --version"
   ]
  },
  {
   "cell_type": "code",
   "execution_count": 120,
   "metadata": {},
   "outputs": [
    {
     "name": "stdout",
     "output_type": "stream",
     "text": [
      "<Response [200]>\n",
      "{\"response\":[],\"session_id\":1}\n",
      "\n"
     ]
    },
    {
     "data": {
      "text/plain": [
       "{'response': [], 'session_id': 1}"
      ]
     },
     "execution_count": 120,
     "metadata": {},
     "output_type": "execute_result"
    }
   ],
   "source": [
    "data = {\n",
    "    'query': query,\n",
    "    'k': '3',\n",
    "    'threshold': '65'\n",
    "}\n",
    "\n",
    "response = requests.post(url='http://localhost:5000/query',\n",
    "                                 json=data)\n",
    "print(response)\n",
    "print(response.text)\n",
    "response.json()"
   ]
  },
  {
   "cell_type": "code",
   "execution_count": null,
   "metadata": {},
   "outputs": [],
   "source": []
  }
 ],
 "metadata": {
  "colab": {
   "collapsed_sections": [],
   "name": "Sentence Transformers.ipynb",
   "provenance": []
  },
  "kernelspec": {
   "display_name": "bert",
   "language": "python",
   "name": "bert"
  },
  "language_info": {
   "codemirror_mode": {
    "name": "ipython",
    "version": 3
   },
   "file_extension": ".py",
   "mimetype": "text/x-python",
   "name": "python",
   "nbconvert_exporter": "python",
   "pygments_lexer": "ipython3",
   "version": "3.6.10"
  }
 },
 "nbformat": 4,
 "nbformat_minor": 4
}
